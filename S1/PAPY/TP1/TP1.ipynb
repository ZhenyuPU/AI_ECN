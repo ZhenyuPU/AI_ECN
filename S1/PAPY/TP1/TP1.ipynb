{
 "cells": [
  {
   "cell_type": "code",
   "execution_count": 1,
   "id": "2eb8b1cf",
   "metadata": {},
   "outputs": [
    {
     "name": "stdout",
     "output_type": "stream",
     "text": [
      "<class 'str'>\n",
      "LA CIGALE ET LA FOURMI\n",
      "La Cigale, ayant chanté\n",
      "Tout L'Été,\n",
      "Se trouva fort dépourvue\n",
      "Quand la Bise fut venue.\n",
      "Pas un seul petit morceau\n",
      "De mouche ou de vermisseau.\n",
      "Elle alla crier famine\n",
      "Chez la Fourmi sa voisine,\n",
      "La priant de lui prêter\n",
      "Quelque grain pour subsister\n",
      "Jusqu'à la saison nouvelle.\n",
      "« Je vous paierai, lui dit-elle,\n",
      "Avant l'Août, foi d'animal,\n",
      "Intérêt et principal. »\n",
      "La Fourmi n'est pas prêteuse :\n",
      "C'est là son moindre défaut.\n",
      "« Que faisiez-vous au temps chaud ?\n",
      "Dit-elle à cette emprunteuse.\n",
      "- Nuit et jour à tout venant\n",
      "Je chantais, ne vous déplaise.\n",
      "- Vous chantiez ? j'en suis fort aise :\n",
      "Eh bien ! dansez maintenant. »\n"
     ]
    }
   ],
   "source": [
    "f = open(\"fable.txt\",'r')\n",
    "fable = f.read()\n",
    "print(type(fable))\n",
    "print(fable)\n",
    "f.close()"
   ]
  },
  {
   "cell_type": "code",
   "execution_count": 5,
   "id": "42f473c6",
   "metadata": {},
   "outputs": [],
   "source": [
    "input_filename = 'fable.txt'\n",
    "with open(input_filename, 'r') as file:\n",
    "    content = file.read()\n",
    "content_without_e = content.replace('e', '')\n",
    "output_filename = 'fabl.txt'\n",
    "with open(output_filename, 'w') as file:\n",
    "    file.write(content_without_e)"
   ]
  },
  {
   "cell_type": "markdown",
   "id": "3896ddf0",
   "metadata": {},
   "source": []
  },
  {
   "cell_type": "code",
   "execution_count": 17,
   "id": "b58e4f2d",
   "metadata": {},
   "outputs": [
    {
     "name": "stdout",
     "output_type": "stream",
     "text": [
      "Character1 的对话数量：3\n",
      "Character2 的对话数量：1\n"
     ]
    }
   ],
   "source": [
    "# 打开包含对话的文本文件\n",
    "with open('fable.txt', 'r', encoding='utf-8') as file:\n",
    "    lines = file.readlines()\n",
    "\n",
    "# 初始化变量来跟踪每个角色的对话数量\n",
    "character1_dialogues = 0\n",
    "character2_dialogues = 0\n",
    "\n",
    "# 初始化变量来跟踪当前说话的角色\n",
    "current_speaker = None\n",
    "\n",
    "# 遍历文本文件的每一行\n",
    "for line in lines:\n",
    "    # 去除行两端的空白字符\n",
    "    line = line.strip()\n",
    "    \n",
    "    # 如果行以 \"«\" 开始，表示发言者1\n",
    "    if line.startswith('«'):\n",
    "        current_speaker = 'Character1'\n",
    "        character1_dialogues += 1\n",
    "    # 如果行以 \"-\" 开始，表示发言者切换\n",
    "    if line.startswith('-'):\n",
    "        # current_speaker = line[1:].strip()  # 去除 \"-\" 并去除首尾空格\n",
    "        # 根据当前说话的角色增加相应的对话数量\n",
    "        if current_speaker == 'Character1':\n",
    "            current_speaker = 'Character2'\n",
    "            character2_dialogues += 1\n",
    "        elif current_speaker == 'Character2':\n",
    "            current_speaker = 'Character1'\n",
    "            character1_dialogues += 1\n",
    "        \n",
    "\n",
    "# 打印每个角色的对话数量\n",
    "print(f'Character1 的对话数量：{character1_dialogues}')\n",
    "print(f'Character2 的对话数量：{character2_dialogues}')\n"
   ]
  },
  {
   "cell_type": "markdown",
   "id": "1707999e",
   "metadata": {},
   "source": [
    "A l'image du référencement Google, on souhaite extraire les titres d'une page web : https://fr.wikipedia.org/wiki/Python_(langage).\n",
    "\n",
    "Comme la plupart des sites, celui-ci est basé sur un code html que l'on va importer directement avec python et la bibliothèque native `urllib` (cf doc.) et sa fonction `urlopen`. "
   ]
  },
  {
   "cell_type": "code",
   "execution_count": null,
   "id": "a1a94086",
   "metadata": {},
   "outputs": [],
   "source": []
  },
  {
   "cell_type": "code",
   "execution_count": 19,
   "id": "d487fe4c",
   "metadata": {},
   "outputs": [
    {
     "name": "stdout",
     "output_type": "stream",
     "text": [
      "Reussir de enreigestrer website_wiki_python.html\n"
     ]
    }
   ],
   "source": [
    "import urllib.request\n",
    "\n",
    "# 指定要获取的网站的URL\n",
    "url = \"https://fr.wikipedia.org/wiki/Python_(langage)\"  \n",
    "\n",
    "try:\n",
    "    # 使用urlopen函数打开URL\n",
    "    response = urllib.request.urlopen(url)\n",
    "    \n",
    "    # 读取URL的内容\n",
    "    web_content = response.read()\n",
    "    \n",
    "    # 指定保存到本地的文件名\n",
    "    filename = \"website_wiki_python.html\"  # 将此文件名替换为你想要的文件名\n",
    "    \n",
    "    # 将网站内容保存到本地文件\n",
    "    with open(filename, \"wb\") as file:\n",
    "        file.write(web_content)\n",
    "    \n",
    "    print(f\"Reussir de enreigestrer {filename}\")\n",
    "    \n",
    "except Exception as e:\n",
    "    print(f\"erreur:{e}\")\n"
   ]
  },
  {
   "cell_type": "code",
   "execution_count": 31,
   "id": "2ce5695f",
   "metadata": {},
   "outputs": [
    {
     "name": "stdout",
     "output_type": "stream",
     "text": [
      "Line 1: <!DOCTYPE html>\n",
      "Line 2: <html class=\"client-nojs vector-feature-language-in-header-enabled vector-feature-language-in-main-page-header-disabled vector-feature-sticky-header-disabled vector-feature-page-tools-pinned-disabled vector-feature-toc-pinned-enabled vector-feature-main-menu-pinned-disabled vector-feature-limited-width-clientpref-1 vector-feature-limited-width-content-enabled vector-feature-zebra-design-disabled vector-feature-custom-font-size-clientpref-disabled\" lang=\"fr\" dir=\"ltr\">\n",
      "Line 3: <head>\n",
      "Line 4: <meta charset=\"UTF-8\">\n",
      "Line 5: <title>Python (langage) — Wikipédia</title>\n"
     ]
    }
   ],
   "source": [
    "# 打开HTML文件\n",
    "with open('website_wiki_python.html', 'r', encoding='utf-8') as file:\n",
    "    # 使用readlines方法读取文件的前几行\n",
    "    lines = file.readlines()\n",
    "    \n",
    "# 显示文件的前几行内容\n",
    "num_lines_to_display = 5  # 指定要显示的行数\n",
    "for i, line in enumerate(lines[:num_lines_to_display]):\n",
    "    print(f'Line {i + 1}: {line.strip()}')\n",
    "    doc[i] = line.strip()"
   ]
  },
  {
   "cell_type": "code",
   "execution_count": 36,
   "id": "35ffcd23",
   "metadata": {},
   "outputs": [],
   "source": [
    "import re\n",
    "\n",
    "# 示例HTML文档\n",
    "file_name = 'website_wiki_python.html'\n",
    "with open(file_name, 'r', encoding = 'utf-8') as file:\n",
    "    num_line = 3\n",
    "    html_doc = ''.join(file.readline() for _ in range(num_line))\n",
    "\n",
    "# 打印存储在doc中的内容\n",
    "# print(html_doc)\n",
    "\n",
    "# 定义一个正则表达式模式，用于匹配<h1>到<h3>标题\n",
    "pattern = r'<h([1-3])>(.*?)<\\/h\\1>'\n",
    "\n",
    "# 使用正则表达式查找匹配的标题\n",
    "matches = re.findall(pattern, html_doc, re.DOTALL)  # 使用re.DOTALL以匹配多行标题\n",
    "\n",
    "# 创建一个字典来存储标题，键是标题级别，值是标题文本\n",
    "titles_by_level = {}\n",
    "\n",
    "# 遍历匹配的结果并将标题按级别存储到字典中\n",
    "for match in matches:\n",
    "    level = int(match[0])  # 获取标题级别\n",
    "    title_text = match[1]  # 获取标题文本\n",
    "    if level not in titles_by_level:\n",
    "        titles_by_level[level] = []\n",
    "    titles_by_level[level].append(title_text)\n",
    "\n",
    "# 打印按级别排序的标题\n",
    "for level in sorted(titles_by_level.keys()):\n",
    "    for title in titles_by_level[level]:\n",
    "        print(f\"{'#' * level} {title}\")\n"
   ]
  },
  {
   "cell_type": "code",
   "execution_count": 38,
   "id": "0231ea2c",
   "metadata": {},
   "outputs": [
    {
     "name": "stdout",
     "output_type": "stream",
     "text": [
      "Python (langage)\n",
      "Sommaire\n",
      "Utilisation[modifier | modifier le code]\n",
      "Historique[modifier | modifier le code]\n",
      "Caractéristiques[modifier | modifier le code]\n",
      "Bibliothèque standard[modifier | modifier le code]\n",
      "Conventions de style[modifier | modifier le code]\n",
      "Interfaces graphiques[modifier | modifier le code]\n",
      "La communauté Python[modifier | modifier le code]\n",
      "Implémentations du langage[modifier | modifier le code]\n",
      "Distributions de Python[modifier | modifier le code]\n",
      "Historique des versions[modifier | modifier le code]\n",
      "Développement[modifier | modifier le code]\n",
      "Notes et références[modifier | modifier le code]\n",
      "Voir aussi[modifier | modifier le code]\n",
      "Au CWI[modifier | modifier le code]\n",
      "Au CNRI[modifier | modifier le code]\n",
      "À BeOpen[modifier | modifier le code]\n",
      "La Python Software Foundation[modifier | modifier le code]\n",
      "Syntaxe[modifier | modifier le code]\n",
      "Réflexivité[modifier | modifier le code]\n",
      "Typage[modifier | modifier le code]\n",
      "Modèle objet[modifier | modifier le code]\n",
      "Adoption de Python[modifier | modifier le code]\n",
      "Les PEP[modifier | modifier le code]\n",
      "Python 3[modifier | modifier le code]\n",
      "Python pour smartphones[modifier | modifier le code]\n",
      "Bibliographie[modifier | modifier le code]\n",
      "Liste des principaux frameworks[modifier | modifier le code]\n",
      "Articles connexes[modifier | modifier le code]\n"
     ]
    }
   ],
   "source": [
    "import requests\n",
    "from bs4 import BeautifulSoup\n",
    "\n",
    "# 指定要下载的网页URL\n",
    "url = \"https://fr.wikipedia.org/wiki/Python_(langage)\"  # 替换为你要下载的网页URL\n",
    "\n",
    "try:\n",
    "    # 发送HTTP GET请求以获取网页内容\n",
    "    response = requests.get(url)\n",
    "    \n",
    "    # 使用Beautiful Soup解析HTML\n",
    "    soup = BeautifulSoup(response.text, 'html.parser')\n",
    "    \n",
    "    # 提取标题标签并打印标题文本\n",
    "    for level in range(1, 4):\n",
    "        headers = soup.find_all(f'h{level}')\n",
    "        for header in headers:\n",
    "            print(header.text.strip())\n",
    "    \n",
    "except Exception as e:\n",
    "    print(f\"erreur:{e}\")\n"
   ]
  },
  {
   "cell_type": "code",
   "execution_count": null,
   "id": "5686e6e2",
   "metadata": {},
   "outputs": [],
   "source": [
    "import random\n",
    "\n",
    "def detect(a: int, b: int)-> bool:\n",
    "    res = False\n",
    "    if a != 0 and b != 0:\n",
    "        if abs(a-b) < 2:\n",
    "            res = True\n",
    "        else:\n",
    "            res = False\n",
    "    return res\n",
    "\n",
    "#在1-100中判断\n",
    "print(\"The player input:\")\n",
    "num = input()\n",
    "# 生成一个在指定范围内的随机整数（包括范围的边界）\n",
    "random_int = random.randint(1, 100)\n",
    "# 玩家给出大或者小的指令\n",
    "decision = None\n",
    "# 记录前后两次数据\n",
    "rec = [0, 0]\n",
    "print(detect(rec[0], rec[1]))\n",
    "while decision != '=' and detect(rec[0], rec[1]) == False:\n",
    "    print('l\"ordinateur donne:', random_int)\n",
    "    print(\"Please give the response:\")\n",
    "    decision = input()\n",
    "    rec[0] = random_int\n",
    "    if decision == '+':\n",
    "        if rec[1] == 0:\n",
    "            random_int = random.randint(rec[0], 100)\n",
    "        else:\n",
    "            print(\"增加\")\n",
    "            random_int = random.randint(rec[0], rec[0])\n",
    "    elif decision == '-':\n",
    "        if rec[1] == 0:\n",
    "            random_int = random.randint(1, rec[0])\n",
    "        else:\n",
    "            print(\"减小\")\n",
    "            random_int = random.randint(rec[1], rec[0])\n",
    "    rec[1] = random_int\n",
    "\n",
    "if detect(rec[0], rec[1]):\n",
    "    print('l\"ordinateur donne:', random_int)\n",
    "    print(\"Détecter la tricherie\")\n",
    "else:\n",
    "    print('l\"ordinateur donne:', random_int)\n",
    "    print(\"Succeed!\")"
   ]
  }
 ],
 "metadata": {
  "kernelspec": {
   "display_name": "Python 3 (ipykernel)",
   "language": "python",
   "name": "python3"
  },
  "language_info": {
   "codemirror_mode": {
    "name": "ipython",
    "version": 3
   },
   "file_extension": ".py",
   "mimetype": "text/x-python",
   "name": "python",
   "nbconvert_exporter": "python",
   "pygments_lexer": "ipython3",
   "version": "3.9.13"
  }
 },
 "nbformat": 4,
 "nbformat_minor": 5
}
