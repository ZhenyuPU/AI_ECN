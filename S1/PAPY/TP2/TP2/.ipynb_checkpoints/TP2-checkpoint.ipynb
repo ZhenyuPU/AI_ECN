{
 "cells": [
  {
   "cell_type": "code",
   "execution_count": 10,
   "id": "696a6e37",
   "metadata": {},
   "outputs": [
    {
     "name": "stdout",
     "output_type": "stream",
     "text": [
      "{'Lea': ['java', 'php', 'cloud'], 'Bobby': ['python', 'java', 'big-data']}\n"
     ]
    }
   ],
   "source": [
    "data =  [{'Lea': 'java', 'Bobby': 'python'},\n",
    "        {'Lea': 'php', 'Bobby': 'java'},\n",
    "        {'Lea': 'cloud', 'Bobby': 'big-data'}]\n",
    "dic = {}\n",
    "for i in range(len(data)):\n",
    "    res = data[i]\n",
    "    keys = res.keys()\n",
    "    for key in keys:\n",
    "        if key not in dic:\n",
    "            dic[key] = []\n",
    "        dic[key].append(res.get(key))\n",
    "print(dic)\n",
    "\n",
    "\n",
    "# res_ = {key:[item[key] for item in data] for key in data[0]}\n",
    "# print(res_)\n"
   ]
  },
  {
   "cell_type": "code",
   "execution_count": 11,
   "id": "a75d8411",
   "metadata": {},
   "outputs": [
    {
     "ename": "FileNotFoundError",
     "evalue": "[Errno 2] No such file or directory: 'zen.txt'",
     "output_type": "error",
     "traceback": [
      "\u001b[1;31m---------------------------------------------------------------------------\u001b[0m",
      "\u001b[1;31mFileNotFoundError\u001b[0m                         Traceback (most recent call last)",
      "\u001b[1;32me:\\Centrale Nantes\\AI\\A2\\PAPY\\TP2\\TP2\\TP2.ipynb Cell 2\u001b[0m line \u001b[0;36m1\n\u001b[1;32m----> <a href='vscode-notebook-cell:/e%3A/Centrale%20Nantes/AI/A2/PAPY/TP2/TP2/TP2.ipynb#W1sZmlsZQ%3D%3D?line=0'>1</a>\u001b[0m z \u001b[39m=\u001b[39m \u001b[39mopen\u001b[39;49m(\u001b[39m\"\u001b[39;49m\u001b[39mzen.txt\u001b[39;49m\u001b[39m\"\u001b[39;49m,\u001b[39m'\u001b[39;49m\u001b[39mr\u001b[39;49m\u001b[39m'\u001b[39;49m)\n\u001b[0;32m      <a href='vscode-notebook-cell:/e%3A/Centrale%20Nantes/AI/A2/PAPY/TP2/TP2/TP2.ipynb#W1sZmlsZQ%3D%3D?line=1'>2</a>\u001b[0m zen \u001b[39m=\u001b[39m z\u001b[39m.\u001b[39mread()\n\u001b[0;32m      <a href='vscode-notebook-cell:/e%3A/Centrale%20Nantes/AI/A2/PAPY/TP2/TP2/TP2.ipynb#W1sZmlsZQ%3D%3D?line=2'>3</a>\u001b[0m \u001b[39mwith\u001b[39;00m \u001b[39mopen\u001b[39m(\u001b[39m'\u001b[39m\u001b[39mzen.txt\u001b[39m\u001b[39m'\u001b[39m, \u001b[39m'\u001b[39m\u001b[39mr\u001b[39m\u001b[39m'\u001b[39m, encoding\u001b[39m=\u001b[39m\u001b[39m'\u001b[39m\u001b[39mutf-8\u001b[39m\u001b[39m'\u001b[39m) \u001b[39mas\u001b[39;00m file:\n",
      "File \u001b[1;32md:\\Anaconda_exe\\lib\\site-packages\\IPython\\core\\interactiveshell.py:286\u001b[0m, in \u001b[0;36m_modified_open\u001b[1;34m(file, *args, **kwargs)\u001b[0m\n\u001b[0;32m    279\u001b[0m \u001b[39mif\u001b[39;00m file \u001b[39min\u001b[39;00m {\u001b[39m0\u001b[39m, \u001b[39m1\u001b[39m, \u001b[39m2\u001b[39m}:\n\u001b[0;32m    280\u001b[0m     \u001b[39mraise\u001b[39;00m \u001b[39mValueError\u001b[39;00m(\n\u001b[0;32m    281\u001b[0m         \u001b[39mf\u001b[39m\u001b[39m\"\u001b[39m\u001b[39mIPython won\u001b[39m\u001b[39m'\u001b[39m\u001b[39mt let you open fd=\u001b[39m\u001b[39m{\u001b[39;00mfile\u001b[39m}\u001b[39;00m\u001b[39m by default \u001b[39m\u001b[39m\"\u001b[39m\n\u001b[0;32m    282\u001b[0m         \u001b[39m\"\u001b[39m\u001b[39mas it is likely to crash IPython. If you know what you are doing, \u001b[39m\u001b[39m\"\u001b[39m\n\u001b[0;32m    283\u001b[0m         \u001b[39m\"\u001b[39m\u001b[39myou can use builtins\u001b[39m\u001b[39m'\u001b[39m\u001b[39m open.\u001b[39m\u001b[39m\"\u001b[39m\n\u001b[0;32m    284\u001b[0m     )\n\u001b[1;32m--> 286\u001b[0m \u001b[39mreturn\u001b[39;00m io_open(file, \u001b[39m*\u001b[39margs, \u001b[39m*\u001b[39m\u001b[39m*\u001b[39mkwargs)\n",
      "\u001b[1;31mFileNotFoundError\u001b[0m: [Errno 2] No such file or directory: 'zen.txt'"
     ]
    }
   ],
   "source": [
    "z = open(\"zen.txt\",'r')\n",
    "zen = z.read()\n",
    "with open('zen.txt', 'r', encoding='utf-8') as file:\n",
    "    lines = file.readlines()\n",
    "words = zen.split()\n",
    "print(len(words))\n",
    "dic = {}\n",
    "for i in range(len(words)):\n",
    "    num = 1\n",
    "    for j in range(i+1,len(words)):\n",
    "        if words[i] == words[j] and words[j] != 0:\n",
    "            num += 1\n",
    "            words[j] = 0\n",
    "    dic[words[i]] = num\n",
    "\n",
    "max_items = sorted(dic.items(), key=lambda x: x[1], reverse=True)[:10]\n",
    "\n",
    "max_keys = [item[0] for item in max_items]\n",
    "\n",
    "print(f\"plus 10 est {max_keys}\")"
   ]
  },
  {
   "cell_type": "code",
   "execution_count": null,
   "id": "045f9da6",
   "metadata": {},
   "outputs": [
    {
     "name": "stdout",
     "output_type": "stream",
     "text": [
      "2.0\n"
     ]
    }
   ],
   "source": [
    "# Ecrire une fonction qui calcule la moyenne d'un nombre inconnu d'arguments.\n",
    "def avgfun(*args, **kwarg):\n",
    "    my_sum, num= 0, 0\n",
    "    for arg in args:\n",
    "        my_sum += arg\n",
    "        num += 1\n",
    "    return my_sum / num\n",
    "\n",
    "print(avgfun(1, 2, 3))\n"
   ]
  },
  {
   "cell_type": "markdown",
   "id": "65f6883e",
   "metadata": {},
   "source": [
    "Ecrire une fonction <code>crier</code> qui transforme un str en majuscules, une seconde <code>chuchoter</code> qui transforme le str en minuscules et enfin une troisième <code>salutations</code> (d'ordre supérieur) qui prend en argument une fonction et l'applique à un texte pré-défini."
   ]
  },
  {
   "cell_type": "code",
   "execution_count": null,
   "id": "1a38fe8f",
   "metadata": {},
   "outputs": [
    {
     "name": "stdout",
     "output_type": "stream",
     "text": [
      " ASDKJFN AFSL\n",
      "sadf adfdd\n"
     ]
    }
   ],
   "source": [
    "# transforme un str en majuscules \n",
    "def crier(strs: str) -> str:\n",
    "    strs = strs.upper()\n",
    "    print(strs)\n",
    "    return\n",
    "\n",
    "def chuchoter(strs: str) -> str:\n",
    "    strs = strs.lower()\n",
    "    print(strs)\n",
    "    return\n",
    "\n",
    "def salutations(fuc, strs):\n",
    "    fuc(strs)\n",
    "    return\n",
    "\n",
    "strs = \" asdkjfn afsl\"\n",
    "strs_2 = \"SADF adfdd\"\n",
    "salutations(crier, strs)\n",
    "salutations(chuchoter, strs_2)"
   ]
  },
  {
   "cell_type": "markdown",
   "id": "07e41cdf",
   "metadata": {},
   "source": [
    "<div class=\"alert alert-info\" role=\"alert\">\n",
    "    <b> Exercice : </b> Ecrire une fonction décorateur <code>log</code> qui prend en argument une fonction et en extrait le nom, les arguments (positionnels et par mot-clé) ainsi que le résultat pour les afficher. \n",
    "</div>"
   ]
  },
  {
   "cell_type": "code",
   "execution_count": null,
   "id": "ce4eff71",
   "metadata": {},
   "outputs": [
    {
     "name": "stdout",
     "output_type": "stream",
     "text": [
      "Fonction add appelée avec les arguments positionnels (3.5, 7) et les arguments par mot clé{}. Résultat: 10.5\n"
     ]
    },
    {
     "data": {
      "text/plain": [
       "10.5"
      ]
     },
     "execution_count": 10,
     "metadata": {},
     "output_type": "execute_result"
    }
   ],
   "source": [
    "\n",
    "def log(func):\n",
    "    def wrapper(*args, **kwargs):\n",
    "        print(f\"Fonction {func.__name__} appelée avec les arguments positionnels {args} et les arguments par mot clé{kwargs}. Résultat: {func(*args, **kwargs)}\")\n",
    "        return func(*args, **kwargs)\n",
    "    return wrapper\n",
    "\n",
    "# @log just a short way to say \"add = log(add)\"\n",
    "@log\n",
    "def add(x, y):\n",
    "    return x + y\n",
    "\n",
    "add(3.5, 7)"
   ]
  },
  {
   "cell_type": "code",
   "execution_count": 1,
   "id": "7030a74e",
   "metadata": {},
   "outputs": [],
   "source": [
    "from vecteur import Vecteur"
   ]
  },
  {
   "cell_type": "code",
   "execution_count": 2,
   "id": "997c3580",
   "metadata": {},
   "outputs": [
    {
     "name": "stdout",
     "output_type": "stream",
     "text": [
      "3 4\n",
      "3 4\n",
      "(3.0, 4.0)\n",
      "(3, 4)\n",
      "5.0\n"
     ]
    },
    {
     "data": {
      "text/plain": [
       "Vecteur(3, 4)"
      ]
     },
     "execution_count": 2,
     "metadata": {},
     "output_type": "execute_result"
    }
   ],
   "source": [
    "\n",
    "v1 = Vecteur(3, 4)\n",
    "print(v1.x, v1.y)  #3.0, 4.0 \n",
    "x, y = v1 \n",
    "print(x,y)\n",
    "print(Vecteur(3.0, 4.0)) # (3.0, 4.0)\n",
    "v1_clone = eval(repr(v1))  # la bonne façon de cloner c'est avec copy. Ici on montre l'utilité d'avoir un __repr__ qui écrit l'appel au constructeur de classe combiné avec eval qui evalue un str en python.\n",
    "v1 == v1_clone #True\n",
    "print(v1)   #(3.0, 4.0)\n",
    "print(abs(v1)) #5.0\n",
    "v1 #(3.0, 4.0)"
   ]
  },
  {
   "cell_type": "code",
   "execution_count": 3,
   "id": "141e1bb5",
   "metadata": {},
   "outputs": [
    {
     "name": "stdout",
     "output_type": "stream",
     "text": [
      "(1, 5)\n",
      "(0.7071067811865476, 0.7071067811865476)\n"
     ]
    },
    {
     "data": {
      "text/plain": [
       "Vecteur(0.7071067811865476, 0.7071067811865476)"
      ]
     },
     "execution_count": 3,
     "metadata": {},
     "output_type": "execute_result"
    }
   ],
   "source": [
    "\n",
    "from math import pi\n",
    "v2=Vecteur.from_iterable([1,5])\n",
    "print(v2)\n",
    "v2=Vecteur.from_polar(1,pi/4)\n",
    "print(v2)\n",
    "v2"
   ]
  },
  {
   "cell_type": "code",
   "execution_count": 4,
   "id": "4f0ce455",
   "metadata": {},
   "outputs": [
    {
     "name": "stdout",
     "output_type": "stream",
     "text": [
      "2\n",
      "catching exception: val='1' must be a real\n"
     ]
    }
   ],
   "source": [
    "v3=Vecteur(1,2)\n",
    "print(v3.y)\n",
    "v3.y=1\n",
    "try:\n",
    "    v3.y=\"1\"\n",
    "except Exception as e:\n",
    "    print(\"catching exception:\", e)"
   ]
  },
  {
   "cell_type": "code",
   "execution_count": 5,
   "id": "85be1293",
   "metadata": {},
   "outputs": [
    {
     "name": "stdout",
     "output_type": "stream",
     "text": [
      "(v1==v2)=False\n",
      "(v1==[3,4])=False\n",
      "(v1==Vecteur(3,4))=True\n",
      "\n",
      "Test de l'addition de vecteurs:\n",
      "----------------------\n",
      "Attendu: (3.0, 4.0)+(1.0, 1)=(4.0, 5.0) \n",
      "Calculé: (3, 4)+(1, 1) = (4, 5)\n",
      "\n"
     ]
    },
    {
     "ename": "TypeError",
     "evalue": "can only concatenate list (not \"Vecteur\") to list",
     "output_type": "error",
     "traceback": [
      "\u001b[1;31m---------------------------------------------------------------------------\u001b[0m",
      "\u001b[1;31mTypeError\u001b[0m                                 Traceback (most recent call last)",
      "Cell \u001b[1;32mIn[5], line 9\u001b[0m\n\u001b[0;32m      7\u001b[0m \u001b[38;5;28mprint\u001b[39m(\u001b[38;5;124m\"\u001b[39m\u001b[38;5;130;01m\\n\u001b[39;00m\u001b[38;5;124mTest de l\u001b[39m\u001b[38;5;124m'\u001b[39m\u001b[38;5;124maddition de vecteurs:\u001b[39m\u001b[38;5;130;01m\\n\u001b[39;00m\u001b[38;5;124m----------------------\u001b[39m\u001b[38;5;124m\"\u001b[39m)\n\u001b[0;32m      8\u001b[0m \u001b[38;5;28mprint\u001b[39m(\u001b[38;5;124mf\u001b[39m\u001b[38;5;124m\"\u001b[39m\u001b[38;5;124mAttendu: (3.0, 4.0)+(1.0, 1)=(4.0, 5.0) \u001b[39m\u001b[38;5;130;01m\\n\u001b[39;00m\u001b[38;5;124mCalculé: \u001b[39m\u001b[38;5;132;01m{\u001b[39;00mv1\u001b[38;5;132;01m}\u001b[39;00m\u001b[38;5;124m+\u001b[39m\u001b[38;5;132;01m{\u001b[39;00mv3\u001b[38;5;132;01m}\u001b[39;00m\u001b[38;5;124m = \u001b[39m\u001b[38;5;132;01m{\u001b[39;00mv1\u001b[38;5;241m+\u001b[39mv3\u001b[38;5;132;01m}\u001b[39;00m\u001b[38;5;130;01m\\n\u001b[39;00m\u001b[38;5;124m\"\u001b[39m)\n\u001b[1;32m----> 9\u001b[0m \u001b[38;5;28mprint\u001b[39m(\u001b[43m[\u001b[49m\u001b[38;5;241;43m1\u001b[39;49m\u001b[43m,\u001b[49m\u001b[38;5;241;43m3\u001b[39;49m\u001b[43m]\u001b[49m\u001b[38;5;241;43m+\u001b[39;49m\u001b[43mv1\u001b[49m)\n\u001b[0;32m     10\u001b[0m \u001b[38;5;28;01mtry\u001b[39;00m: \n\u001b[0;32m     11\u001b[0m     \u001b[38;5;124m\"\u001b[39m\u001b[38;5;124mv1\u001b[39m\u001b[38;5;124m\"\u001b[39m\u001b[38;5;241m+\u001b[39mv1 \n",
      "\u001b[1;31mTypeError\u001b[0m: can only concatenate list (not \"Vecteur\") to list"
     ]
    }
   ],
   "source": [
    "import math\n",
    "v1 = Vecteur(3, 4)\n",
    "print(f\"{(v1==v2)=}\")\n",
    "print(f\"{(v1==[3,4])=}\")\n",
    "print(f\"{(v1==Vecteur(3,4))=}\")\n",
    "\n",
    "print(\"\\nTest de l'addition de vecteurs:\\n----------------------\")\n",
    "print(f\"Attendu: (3.0, 4.0)+(1.0, 1)=(4.0, 5.0) \\nCalculé: {v1}+{v3} = {v1+v3}\\n\")\n",
    "print([1,3]+v1)\n",
    "try: \n",
    "    \"v1\"+v1 \n",
    "except Exception as e:\n",
    "    print(e)\n",
    "    \n",
    "v1+=v2\n",
    "print(v1)\n",
    "print(-v1)\n",
    "print(v2.norme)\n",
    "\n",
    "## produit (scalaire)\n",
    "print(f\"{-v1=} (-3.7071067811865475, -4.707106781186548)\")\n",
    "print(f\"{Vecteur(1,-1)*v2=} (0)\")\n",
    "print(f\"{math.sqrt(2)*v2=} (1,1)\")"
   ]
  },
  {
   "cell_type": "code",
   "execution_count": null,
   "id": "d9491ca3",
   "metadata": {},
   "outputs": [],
   "source": []
  }
 ],
 "metadata": {
  "kernelspec": {
   "display_name": "Python 3 (ipykernel)",
   "language": "python",
   "name": "python3"
  },
  "language_info": {
   "codemirror_mode": {
    "name": "ipython",
    "version": 3
   },
   "file_extension": ".py",
   "mimetype": "text/x-python",
   "name": "python",
   "nbconvert_exporter": "python",
   "pygments_lexer": "ipython3",
   "version": "3.9.18"
  }
 },
 "nbformat": 4,
 "nbformat_minor": 5
}
