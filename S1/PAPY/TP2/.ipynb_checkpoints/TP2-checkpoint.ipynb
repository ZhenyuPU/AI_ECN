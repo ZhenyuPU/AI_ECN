{
 "cells": [
  {
   "cell_type": "code",
   "execution_count": 11,
   "id": "696a6e37",
   "metadata": {},
   "outputs": [
    {
     "name": "stdout",
     "output_type": "stream",
     "text": [
      "{'Lea': ['java', 'php', 'cloud'], 'Bobby': ['python', 'java', 'big-data']}\n"
     ]
    }
   ],
   "source": [
    "data =  [{'Lea': 'java', 'Bobby': 'python'},\n",
    "        {'Lea': 'php', 'Bobby': 'java'},\n",
    "        {'Lea': 'cloud', 'Bobby': 'big-data'}]\n",
    "dic = {}\n",
    "for i in range(len(data)):\n",
    "    res = data[i]\n",
    "    keys = res.keys()\n",
    "    for key in keys:\n",
    "        if key not in dic:\n",
    "            dic[key] = []\n",
    "        dic[key].append(res.get(key))\n",
    "print(dic)\n",
    "\n",
    "\n",
    "# res_ = {key:[item[key] for item in data] for key in data[0]}\n",
    "# print(res_)\n"
   ]
  },
  {
   "cell_type": "code",
   "execution_count": 44,
   "id": "a75d8411",
   "metadata": {},
   "outputs": [
    {
     "name": "stdout",
     "output_type": "stream",
     "text": [
      "137\n",
      "plus 10 est ['is', 'better', 'than', 'to', 'the', 'Although', 'be', 'should', 'never', 'of']\n"
     ]
    }
   ],
   "source": [
    "z = open(\"zen.txt\",'r')\n",
    "zen = z.read()\n",
    "with open('zen.txt', 'r', encoding='utf-8') as file:\n",
    "    lines = file.readlines()\n",
    "words = zen.split()\n",
    "print(len(words))\n",
    "dic = {}\n",
    "for i in range(len(words)):\n",
    "    num = 1\n",
    "    for j in range(i+1,len(words)):\n",
    "        if words[i] == words[j] and words[j] != 0:\n",
    "            num += 1\n",
    "            words[j] = 0\n",
    "    dic[words[i]] = num\n",
    "\n",
    "max_items = sorted(dic.items(), key=lambda x: x[1], reverse=True)[:10]\n",
    "\n",
    "max_keys = [item[0] for item in max_items]\n",
    "\n",
    "print(f\"plus 10 est {max_keys}\")"
   ]
  },
  {
   "cell_type": "code",
   "execution_count": 51,
   "id": "045f9da6",
   "metadata": {},
   "outputs": [
    {
     "name": "stdout",
     "output_type": "stream",
     "text": [
      "2.0\n"
     ]
    }
   ],
   "source": [
    "# Ecrire une fonction qui calcule la moyenne d'un nombre inconnu d'arguments.\n",
    "def avgfun(*args, **kwarg):\n",
    "    my_sum, num= 0, 0\n",
    "    for arg in args:\n",
    "        my_sum += arg\n",
    "        num += 1\n",
    "    return my_sum / num\n",
    "\n",
    "print(avgfun(1, 2, 3))\n"
   ]
  },
  {
   "cell_type": "markdown",
   "id": "65f6883e",
   "metadata": {},
   "source": [
    "Ecrire une fonction <code>crier</code> qui transforme un str en majuscules, une seconde <code>chuchoter</code> qui transforme le str en minuscules et enfin une troisième <code>salutations</code> (d'ordre supérieur) qui prend en argument une fonction et l'applique à un texte pré-défini."
   ]
  },
  {
   "cell_type": "code",
   "execution_count": 63,
   "id": "1a38fe8f",
   "metadata": {},
   "outputs": [
    {
     "name": "stdout",
     "output_type": "stream",
     "text": [
      " ASDKJFN AFSL\n",
      "sadf adfdd\n"
     ]
    }
   ],
   "source": [
    "# transforme un str en majuscules \n",
    "def crier(strs: str) -> str:\n",
    "    strs = strs.upper()\n",
    "    print(strs)\n",
    "    return\n",
    "\n",
    "def chuchoter(strs: str) -> str:\n",
    "    strs = strs.lower()\n",
    "    print(strs)\n",
    "    return\n",
    "\n",
    "def salutations(fuc, strs):\n",
    "    fuc(strs)\n",
    "    return\n",
    "\n",
    "strs = \" asdkjfn afsl\"\n",
    "strs_2 = \"SADF adfdd\"\n",
    "salutations(crier, strs)\n",
    "salutations(chuchoter, strs_2)"
   ]
  },
  {
   "cell_type": "markdown",
   "id": "07e41cdf",
   "metadata": {},
   "source": [
    "<div class=\"alert alert-info\" role=\"alert\">\n",
    "    <b> Exercice : </b> Ecrire une fonction décorateur <code>log</code> qui prend en argument une fonction et en extrait le nom, les arguments (positionnels et par mot-clé) ainsi que le résultat pour les afficher. \n",
    "</div>"
   ]
  },
  {
   "cell_type": "code",
   "execution_count": null,
   "id": "ce4eff71",
   "metadata": {},
   "outputs": [],
   "source": [
    "def add(x, y):\n",
    "    return x + y\n",
    "\n",
    "def log(fuc):\n",
    "    \n",
    "    print(f\"Fonction {fuc = } appelée avec les arguments positionnels {positionnels = } et les arguments par mot clé {mot_cle = }. Résultat:{res = }\")\n",
    "    "
   ]
  }
 ],
 "metadata": {
  "kernelspec": {
   "display_name": "Python 3 (ipykernel)",
   "language": "python",
   "name": "python3"
  },
  "language_info": {
   "codemirror_mode": {
    "name": "ipython",
    "version": 3
   },
   "file_extension": ".py",
   "mimetype": "text/x-python",
   "name": "python",
   "nbconvert_exporter": "python",
   "pygments_lexer": "ipython3",
   "version": "3.9.18"
  }
 },
 "nbformat": 4,
 "nbformat_minor": 5
}
