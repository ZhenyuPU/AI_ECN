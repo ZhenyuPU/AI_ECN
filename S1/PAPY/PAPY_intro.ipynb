{
 "cells": [
  {
   "cell_type": "markdown",
   "id": "b074107e",
   "metadata": {
    "slideshow": {
     "slide_type": "skip"
    }
   },
   "source": [
    "```Ecole Centrale Nantes\n",
    "Option InfoIA\n",
    "PAPY: Programmation avancée python\n",
    "CM_0\n",
    "Année 2023-2024\n",
    "Auteur: Lucas Lestandi\n",
    "lucas.lestandi@ec-nantes.fr\n",
    "V1.1\n",
    "```"
   ]
  },
  {
   "cell_type": "markdown",
   "id": "c0004001",
   "metadata": {
    "slideshow": {
     "slide_type": "slide"
    }
   },
   "source": [
    "# Programmation avancée en python\n",
    "Responsable : Lucas Lestandi (lucas.lestandi@ec-nantes.fr)\n",
    "\n",
    "Intervenant: A déterminer"
   ]
  },
  {
   "cell_type": "markdown",
   "id": "38d6a920",
   "metadata": {
    "slideshow": {
     "slide_type": "slide"
    }
   },
   "source": [
    "## Introduction\n",
    "[//]: # ( Un peu de blabla sur l'histoire de python et son intégration dans le monde de l'IA)"
   ]
  },
  {
   "cell_type": "markdown",
   "id": "19e21afa",
   "metadata": {
    "cell_style": "center",
    "slideshow": {
     "slide_type": "fragment"
    }
   },
   "source": [
    "- Python est créé en 1991 par Guido van Rossum\n",
    "- Environ 1 version par an\n",
    "- Dernière version 3.10.5\n",
    "- libre & maintenu par *python softaware foundary* (https://www.python.org/psf/)"
   ]
  },
  {
   "cell_type": "markdown",
   "id": "8a1f564b",
   "metadata": {
    "slideshow": {
     "slide_type": "subslide"
    }
   },
   "source": [
    "### Tour d'horizon\n",
    "- multiplateforme\n",
    "- langage interprété et interractif\n",
    "- haut niveau\n",
    "- Orienté objet\n",
    "- extremement répandu, combo C++/python (https://fr.wikipedia.org/wiki/Liste_de_logiciels_Python) "
   ]
  },
  {
   "cell_type": "markdown",
   "id": "50aeb018",
   "metadata": {
    "slideshow": {
     "slide_type": "slide"
    }
   },
   "source": [
    "## Objectifs du cours\n",
    "> Cours de base pour bien progresser dans l'option InfoIA."
   ]
  },
  {
   "cell_type": "markdown",
   "id": "b11bec2c",
   "metadata": {
    "slideshow": {
     "slide_type": "subslide"
    }
   },
   "source": [
    "A la fin de ce cours, vous devrez savoir : \n",
    "- Mettre en place un environnement python robuste ainsi qu'un environnement de développement adapté.\n",
    "- Écrire des programmes python efficaces utilisant les bibliothèques et abstractions modernes.\n",
    "- Assurer la lisibilité et la maintenance en suivant les principes de structuration modulaire et de style cohérents avec celles de la communauté.\n",
    "- Créer un paquet pour la distribution sur d'autres machines y compris des dépendances."
   ]
  },
  {
   "cell_type": "markdown",
   "id": "9eec7297",
   "metadata": {
    "cell_style": "split",
    "slideshow": {
     "slide_type": "subslide"
    }
   },
   "source": [
    "### Avant\n",
    "```python\n",
    "from math import cos\n",
    "vec=[1,2,3,4]\n",
    "for i in vec:\n",
    "    j=4*i+cos(i)\n",
    "    print(\"valeur=\",j)\n",
    "```\n",
    "```\n",
    "...\n",
    "valeur= 4.54030230586814\n",
    "valeur= 7.583853163452858\n",
    "valeur= 11.010007503399555\n",
    "valeur= 15.346356379136388\n",
    "```"
   ]
  },
  {
   "cell_type": "markdown",
   "id": "a5e87bc8",
   "metadata": {
    "cell_style": "split",
    "slideshow": {
     "slide_type": "fragment"
    }
   },
   "source": [
    "### Après\n",
    "```python\n",
    "import numpy as np\n",
    "vec=np.arange(1,5)\n",
    "np.set_printoptions(precision=2)\n",
    "print(4*vec+np.cos(vec))\n",
    "```\n",
    "```\n",
    "\n",
    "...\n",
    "[ 4.54  7.58 11.01 15.35]\n",
    "```"
   ]
  },
  {
   "cell_type": "markdown",
   "id": "e78e228d",
   "metadata": {
    "slideshow": {
     "slide_type": "slide"
    }
   },
   "source": [
    "## Plan du cours\n",
    "Sous réserve de modifications\n",
    "1. **Bien travailler avec python** (2h CM, 4h TP)\n",
    "    - choisir un environnement de travail: IDE, notebooks jupyter, environnement python (conda,...)\n",
    "    - philosophie et syntaxe de python\n",
    "    - l'interpréteur python\n",
    "    - bonnes pratiques en programmation python (PEP8,...)\n",
    "1. **Structuration et types de données** (2h CM, 6h TP)\n",
    "    - Variables, références et gestion de la mémoire\n",
    "    - Types de données et structures\n",
    "    - Programmation orientée objet (OOP) : les classes\n",
    "    - Écrire du code robuste : architecture, introspection, exceptions, etc.\n",
    "1. **Programmer avec des modules** (2h CM, 6h TP)\n",
    "    - les modules natifs : os, sys, subprocess,...\n",
    "    - les bibliothèques externes : avec pip ou conda\n",
    "    - quelques exemples communs : numpy, scipy, matplotlib\n",
    "    - créer ses propres modules\n",
    "1. **Pour aller plus loin** (2h CM, 6h TP)\n",
    "    - les décorateurs\n",
    "    - communication avec d'autres langages (C++,...)\n",
    "    - tester et debugger\n",
    "    - distribution and portabilité des paquets"
   ]
  },
  {
   "cell_type": "markdown",
   "id": "98476810",
   "metadata": {
    "slideshow": {
     "slide_type": "slide"
    }
   },
   "source": [
    "## Prérequis\n",
    "### Matériel \n",
    "Avoir accés à un shell : \n",
    "\n",
    "> **Windows**\n",
    "> - powershell (débrouillez vous)\n",
    "> - __Windows Sub Linux  (WSL)__ à installer, il vous donne accés à un système et terminal linux depuis windows (~VM)\n",
    ">> https://docs.microsoft.com/fr-fr/windows/wsl/\n",
    "> - Soft : WindowsTerminal, que l'on trouve aussi sous le nom Aperçu du terminal\n",
    "\n",
    "> **Linux**\n",
    "> `CTRL + Alt + T` sur la plupart des systèmes (Ubuntu, etc.)\n",
    "\n",
    "> **Mac**\n",
    ">> https://fr.wikihow.com/ouvrir-le-Terminal-sur-un-Mac\n"
   ]
  },
  {
   "cell_type": "markdown",
   "id": "69776fd2",
   "metadata": {
    "slideshow": {
     "slide_type": "subslide"
    }
   },
   "source": [
    "### Technique\n",
    "Compétences de base en python, à titre indicatif extrait de https://courspython.com/bases-python.html:\n",
    "\n",
    "1.    Introduction à Python\n",
    "       - Utilisation en mode interactif\n",
    "       - Premiers calculs\n",
    "       - L’opérateur /\n",
    "       - L’opérateur %\n",
    "       - Affectation\n",
    "       - Affichage - la fonction print()\n",
    "       - La fonction range()\n",
    "       - Accès aux éléments d’une liste\n",
    "       - La fonction len()\n",
    "       - Règles générales d’écriture\n",
    "1.    Tests\n",
    "       - Bloc d’instructions - Indentation\n",
    "       - Instruction if … else\n",
    "1.    Boucles\n",
    "       - Boucles bornées et non bornées\n",
    "       - Boucle for\n",
    "       - Boucle while\n",
    "       - Les instructions break et continue, et la clause else dans les boucles\n",
    "\n",
    "1.    Principaux types de données\n",
    "       - La fonction type()\n",
    "       - Le type int (entier)\n",
    "       - Le type float (flottant)\n",
    "       - Le type str (chaîne de caractères)\n",
    "       - Le type bool (booléen)\n",
    "       - Le type list (liste)\n",
    "1.    Tuples en Python\n",
    "1.    Dictionnaires en Python\n",
    "1.    Fonctions en Python\n",
    "       - Définition d’une fonction - def\n",
    "       - Variables locales, variables globales\n",
    "       - Valeurs par défaut pour les paramètres"
   ]
  },
  {
   "cell_type": "markdown",
   "id": "ca159357",
   "metadata": {
    "slideshow": {
     "slide_type": "slide"
    }
   },
   "source": [
    "### Pour se (re)-mettre à Niveau:\n",
    "#### Livres\n",
    "1. Python 3 - 2e édition *Apprendre à programmer dans l'écosystème Python*, **Bob Cordeau, Laurent Pointal** ([PDF](https://perso.limsi.fr/pointal/_media/python:cours:courspython3.pdf))\n",
    "1. Programmer en python, **L. Ramalho**\n",
    "1. Apprenez à programmer en Python, **Vincent Le Goff**\n",
    "\n",
    "#### Cours en ligne\n",
    "1. https://courspython.com/bases-python.html\n",
    "1. https://www.pierre-giraud.com/python-apprendre-programmer-cours/introduction/\n",
    "1. https://www.google.com\n",
    "\n",
    "#### Cheat sheets\n",
    "1. PDF: https://perso.limsi.fr/pointal/_media/python:cours:mementopython3-english.pdf\n",
    "2. Dynamique https://www.pythoncheatsheet.org\n"
   ]
  },
  {
   "cell_type": "markdown",
   "id": "3ca2ddd1",
   "metadata": {
    "slideshow": {
     "slide_type": "slide"
    }
   },
   "source": [
    "## Modalités d'évaluation\n",
    "- 1 DS de 2h\n",
    "- 1/2 TPs noté"
   ]
  }
 ],
 "metadata": {
  "celltoolbar": "Diaporama",
  "kernelspec": {
   "display_name": "Python 3 (ipykernel)",
   "language": "python",
   "name": "python3"
  },
  "language_info": {
   "codemirror_mode": {
    "name": "ipython",
    "version": 3
   },
   "file_extension": ".py",
   "mimetype": "text/x-python",
   "name": "python",
   "nbconvert_exporter": "python",
   "pygments_lexer": "ipython3",
   "version": "3.11.5"
  },
  "rise": {
   "overlay": "<div class='myheader'><p style='text-align:center;'>Lucas Lestandi, PAPY C1, Option Info IA, ECN, 2022-2023</p><img src='logoCN.png' width='200' height='118' align='right'></div></div>",
   "theme": "solarized"
  },
  "toc": {
   "base_numbering": 1,
   "nav_menu": {
    "height": "236px",
    "width": "231px"
   },
   "number_sections": true,
   "sideBar": true,
   "skip_h1_title": true,
   "title_cell": "Table des matières",
   "title_sidebar": "Plan",
   "toc_cell": false,
   "toc_position": {
    "height": "333.717px",
    "left": "1327.8px",
    "top": "110.533px",
    "width": "174.4px"
   },
   "toc_section_display": true,
   "toc_window_display": true
  },
  "varInspector": {
   "cols": {
    "lenName": 16,
    "lenType": 16,
    "lenVar": 40
   },
   "kernels_config": {
    "python": {
     "delete_cmd_postfix": "",
     "delete_cmd_prefix": "del ",
     "library": "var_list.py",
     "varRefreshCmd": "print(var_dic_list())"
    },
    "r": {
     "delete_cmd_postfix": ") ",
     "delete_cmd_prefix": "rm(",
     "library": "var_list.r",
     "varRefreshCmd": "cat(var_dic_list()) "
    }
   },
   "types_to_exclude": [
    "module",
    "function",
    "builtin_function_or_method",
    "instance",
    "_Feature"
   ],
   "window_display": false
  }
 },
 "nbformat": 4,
 "nbformat_minor": 5
}
