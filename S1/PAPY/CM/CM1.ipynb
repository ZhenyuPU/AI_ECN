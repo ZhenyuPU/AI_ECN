{
 "cells": [
  {
   "cell_type": "markdown",
   "metadata": {},
   "source": [
    "# PYTHON_CM1 \n",
    "\n",
    "Lucas Lestandi\n",
    "\n",
    "## Introdution\n"
   ]
  },
  {
   "cell_type": "code",
   "execution_count": null,
   "metadata": {},
   "outputs": [],
   "source": []
  },
  {
   "cell_type": "code",
   "execution_count": null,
   "metadata": {},
   "outputs": [],
   "source": [
    "import sys\n",
    "\n",
    "all_paths = sys.path\n",
    "for path in all_paths:\n",
    "    print(path)\n",
    "def a(string):\n",
    "\tlongueur=()\n",
    "\ttry:\n",
    "\t\tassert(type(string) is str)\n",
    "\t\tlongueur=len(string)\n",
    "\texcept Exception as err:\n",
    "\t\tprint(f\"Unexpected {err=},{type(err)=}\")\n",
    "\treturn longueur\n",
    "print(a(all_paths[0]))"
   ]
  },
  {
   "cell_type": "markdown",
   "metadata": {},
   "source": [
    "assert: 断言, 用于判断一个表达式，在表达式条件为false 的时候触发异常。 断言可以在条件不满足程序运行的情况下直接返回错误，而不必等待程序运行后出现崩溃的情况，例如我们的代码只能在Linux 系统下运行，可以先判断当前系统是否符合条件。\n",
    "\n",
    "try...except结构：捕捉异常，更一般加else\n",
    "\n",
    "![try_except](https://cdn.staticaly.com/gh/ZhenyuPU/picx-images-hosting@master/20230904/image.2dvzeemlicis.webp)\n",
    "\n",
    "函数\n",
    "\n",
    "```python\n",
    "def 函数名(参数):#这里的参数*arg就是表示随意取几个\n",
    "\t函数体#不写的话加上pass占位\n",
    "```"
   ]
  }
 ],
 "metadata": {
  "kernelspec": {
   "display_name": "base",
   "language": "python",
   "name": "python3"
  },
  "language_info": {
   "name": "python",
   "version": "3.9.13"
  },
  "orig_nbformat": 4
 },
 "nbformat": 4,
 "nbformat_minor": 2
}
