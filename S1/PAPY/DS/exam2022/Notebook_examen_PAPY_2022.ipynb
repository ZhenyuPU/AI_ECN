{
 "cells": [
  {
   "cell_type": "markdown",
   "id": "57890553",
   "metadata": {},
   "source": [
    "# Notebook Examen PAPY 2022"
   ]
  },
  {
   "cell_type": "markdown",
   "id": "f4db7ae8",
   "metadata": {},
   "source": [
    "# Partie 2: Programmation sur machine\n",
    "Vous avez terminé la partie connaissance du python de cet examen. Maintenant, vous devez proposer un programme qui réalise le chiffrement suivant.\n",
    "\n",
    "## Présentation du problème: Chiffrment par dictionnaire\n",
    "\n",
    "### Chiffrement de César\n",
    "En cryptographie, le chiffrement par décalage, aussi connu comme le chiffre de César, est une méthode de chiffrement très simple utilisée par Jules César dans ses correspondances secrètes.\n",
    "\n",
    "![](img/Caesar3.svg)\n",
    "\n",
    "Le texte chiffré s'obtient en remplaçant chaque lettre du texte clair original par une lettre à distance fixe, toujours du même côté, dans l'ordre de l'alphabet. Pour les dernières lettres (dans le cas d'un décalage à droite), on reprend au début. Par exemple avec un décalage de 3 vers la droite, A est remplacé par D, B devient E, et ainsi jusqu'à W qui devient Z, puis X devient A etc. Il s'agit d'une permutation circulaire de l'alphabet. La longueur du décalage, 3 dans l'exemple évoqué, constitue la clé du chiffrement qu'il suffit de transmettre au destinataire pour que celui-ci puisse déchiffrer le message. \n",
    "\n",
    "#### Example\n",
    "Le chiffrement peut être représenté par la superposition de deux alphabets, l'alphabet clair présenté dans l'ordre normal et l'alphabet chiffré décalé, à gauche ou à droite, du nombre de lettres voulu. Nous avons ci-dessous l'exemple d'un encodage de 3 lettres vers la droite. Le paramètre de décalage (ici 3) est la clé de chiffrement :\n",
    "\n",
    "\n",
    "| clair  |  ABCDEFGHIJKLMNOPQRSTUVWXYZ\n",
    "|---    |:-:    |\n",
    "|   chiffré       |DEFGHIJKLMNOPQRSTUVWXYZABC|\n",
    "\n",
    "Pour encoder un message, il suffit de regarder chaque lettre du message clair, et d'écrire la lettre encodée correspondante. Pour déchiffrer, on fait tout simplement l'inverse.\n",
    "\n",
    "| clair  | WIKIPEDIA L'ENCYCLOPEDIE LIBRE    \n",
    "|---    |:-:    |\n",
    "| chiffré |ZLNLSHGLD O'HQFBFORSHGLH OLEUH\n",
    "\n",
    "*Source: Wikipedia*\n",
    "\n",
    "### Chiffre de Vigenère\n",
    "Le chiffrage ci-dessus est très faible, même pour une longue table de caractères, par exemple ASCII.\n",
    "\n",
    "Pour améliorer la sécurité de notre chiffrement, on introduit un chiffrage plus complexe (aussi connue sous le nom de chiffre de Vigenère). Cette fois-ci, au lieu d'utiliser le même décalage pour tous les caractères, on va faire varier le décalage (shift) à chaque caractère. On utilisera pour cela une clé de chiffrage sous la forme d'une chaine de caractères (un mot ou une phrase) pour laquelle chaque lettre détermine le décalage (place dans la table de caractères). Lorsque la clé est épuisée, on reprend au premier élément de celle-ci.\n",
    "\n",
    "Pour un indice donné `i`, on chiffrera le i-eme caractère du texte  `texte[i]` en applicant le décalage donné par la position de la `clé[i]`  dans le dictionnaire i.e. `shift[i]=position(clé[i],dic)`.\n",
    "\n",
    "\n",
    "```\n",
    "alpha=\"ABCDEFGHIJKLMNOPQRSTUVWXYZ\"\n",
    "\n",
    "Texte en clair :   j'adore ecouter la radio toute la journee\n",
    "Clé répétée    :   M USIQU EMUSIQU EM USIQU EMUSI QU EMUSIQU\n",
    "                   ^ ^^^\n",
    "                   | ||Texte O, clé I : shift=16, on obtient le chiffré H\n",
    "                   | |Texte D, clé S : shift=18, on obtient le chiffré W\n",
    "                   | Texte A, clé U : shift=20, on obtient le chiffré U\n",
    "                   Texte J, clé M : shift=12, on obtient le chiffré V\n",
    "```\n",
    "\n",
    "<div class=\"alert alert-danger\" role=\"alert\">\n",
    "   <b> Attention : </b> vous devez documenter vos codes en utilisant a bon escient les commentaires et docstrings. Cela fait partie intégrante de l'évaluation de vos compétences.\n",
    "</div>\n",
    "\n",
    "## Implémentation du Code César\n",
    "1. Écrire une fonction `caesar(message, alpha, shift)-> str` du codage César. Elle prend pour argument le texte (`message`), la clé (`shift`) et l'alphabet `alpha` et renvoie le texte chiffré. Vous testerez de façon adéquate avec l'alphabet standard `\"ABCDEFGHIJKLMNOPQRSTUVWXYZ\"`.\n",
    "1. Encoder le message suivant : \"Tu quoque mi fili\" avec un décalage de 8.\n",
    "1. Décoder ce message (en anglais): \"ROVVY GYBVN\" et en donner la clé.\n"
   ]
  },
  {
   "cell_type": "code",
   "execution_count": 22,
   "metadata": {},
   "outputs": [],
   "source": [
    "alpha = 'ABCDEFGHIJKLMNOPQRSTUVWXYZ'"
   ]
  },
  {
   "cell_type": "code",
   "execution_count": 24,
   "id": "4d5fb2cd",
   "metadata": {},
   "outputs": [
    {
     "data": {
      "text/plain": [
       "'M'"
      ]
     },
     "execution_count": 24,
     "metadata": {},
     "output_type": "execute_result"
    }
   ],
   "source": [
    "# 2.2.1 Fonction caesar\n",
    "def caesar(message, alpha, shift) -> str:\n",
    "    \"\"\"\n",
    "        args: message le texte\n",
    "              alpha -- alphabet\n",
    "              shift -- decalage\n",
    "        return: le texte chiffre\n",
    "\n",
    "    \"\"\"\n",
    "    res = ''\n",
    "    message = message.upper()\n",
    "    for item in message:\n",
    "        if item != ' ':\n",
    "            index = alpha.index(item)\n",
    "            new_index = (index + shift) % len(alpha)\n",
    "            new_item = alpha[new_index]\n",
    "            res += new_item\n",
    "        else:\n",
    "            res += ' '\n",
    "    return res\n"
   ]
  },
  {
   "cell_type": "code",
   "execution_count": 8,
   "id": "34a548a6",
   "metadata": {},
   "outputs": [
    {
     "name": "stdout",
     "output_type": "stream",
     "text": [
      "BC YCWYCM UQ NQTQ\n"
     ]
    }
   ],
   "source": [
    "#2.2.2 Encodage \n",
    "message = 'Tu quoque mi fili'\n",
    "alpha = 'ABCDEFGHIJKLMNOPQRSTUVWXYZ'\n",
    "res = caesar(message, alpha, shift = 8)\n",
    "print(res)"
   ]
  },
  {
   "cell_type": "code",
   "execution_count": 20,
   "id": "2fe3a4a9",
   "metadata": {},
   "outputs": [
    {
     "name": "stdout",
     "output_type": "stream",
     "text": [
      "qnuux fxaum\n",
      "pmttw ewztl\n",
      "olssv dvysk\n",
      "nkrru cuxrj\n",
      "mjqqt btwqi\n",
      "lipps asvph\n",
      "khoor zruog\n",
      "jgnnq yqtnf\n",
      "ifmmp xpsme\n",
      "hello world\n",
      "gdkkn vnqkc\n",
      "fcjjm umpjb\n",
      "ebiil tloia\n",
      "dahhk sknhz\n",
      "czggj rjmgy\n",
      "byffi qilfx\n",
      "axeeh phkew\n",
      "zwddg ogjdv\n",
      "yvccf nficu\n",
      "xubbe mehbt\n",
      "wtaad ldgas\n",
      "vszzc kcfzr\n",
      "uryyb jbeyq\n",
      "tqxxa iadxp\n",
      "spwwz hzcwo\n"
     ]
    }
   ],
   "source": [
    "# Décodage force brute\n",
    "def decodage_caesar(chiffre, alpha, cle):\n",
    "    a = len(alpha)\n",
    "    res = ''\n",
    "    for item in chiffre:\n",
    "        if item != ' ':\n",
    "            index = alpha.index(item)\n",
    "            index_origin =  (index - cle + a) % a\n",
    "            item_origin = alpha[index_origin]\n",
    "            res += item_origin\n",
    "        else:\n",
    "            res += ' '\n",
    "    return res.lower()\n",
    "\n",
    "chiffre = 'ROVVY GYBVN'\n",
    "alpha = 'ABCDEFGHIJKLMNOPQRSTUVWXYZ'\n",
    "for i in range(1, len(alpha)):\n",
    "    print(decodage_caesar(chiffre, alpha, cle = i))\n",
    "\n",
    "# la cle est 10"
   ]
  },
  {
   "cell_type": "markdown",
   "id": "ac3cde9b",
   "metadata": {},
   "source": [
    "On va maintenant utiliser les caractères de la table ASCII imprimable qui va assurer le bon fonctionnement sur un texte en anglais (sans accent). On peut obtenir avec la commande suivante: \n",
    "```python\n",
    ">>> [chr(i) for i in range(32,127)]\n",
    "[' ', '!', '\"', '#', '$', '%', '&', \"'\", '(', ')', '*', '+', ',', \n",
    "'-', '.', '/', '0', '1', '2', '3', '4', '5', '6', '7', '8', '9', ':', \n",
    "';', '<', '=', '>', '?', '@', 'A', 'B', 'C', 'D', 'E', 'F', 'G', 'H',\n",
    " 'I', 'J', 'K', 'L', 'M', 'N', 'O', 'P', 'Q', 'R', 'S', 'T', 'U', \n",
    " 'V', 'W', 'X', 'Y', 'Z', '[', '\\\\', ']', '^', '_', '`', 'a', 'b', \n",
    " 'c', 'd', 'e', 'f', 'g', 'h', 'i', 'j', 'k', 'l', 'm', 'n', 'o', \n",
    " 'p', 'q', 'r', 's', 't', 'u', 'v', 'w', 'x', 'y', 'z', '{', '|', '}\n",
    " ', '~']\n",
    "```\n",
    "\n",
    "## Chiffre de Vigenère avec une classe\n",
    "1. Créer une classe de chiffrement `Vigenere` qui stocke la clé `key` et le tableau de chiffrement `alpha` et qui possède la méthode `code` et `decode`. On s'assurera que l'exemple d'implémentation suivant fonctionne bien:\n",
    "```python\n",
    ">>> ASCII=[chr(i) for i in range(32,127)]\n",
    ">>> enigma=Vigenere(alpha=ASCII,key=\"my fancy key!\")\n",
    ">>> print(enigma)\n",
    "Vigenere encoder-decoder with\n",
    "key=\"my fancy key!\"\n",
    "alpha=[' ', '!', '\"', '#', '$', '%', '&', \"'\", '(', ')', '*', '+', ',\n",
    "', '-', '.', '/', '0', '1', '2', '3', '4', '5', '6', '7', '8', '9', \n",
    "':', ';', '<', '=', '>', '?', '@', 'A', 'B', 'C', 'D', 'E', 'F', 'G', \n",
    "'H', 'I', 'J', 'K', 'L', 'M', 'N', 'O', 'P', 'Q', 'R', 'S', 'T', 'U', \n",
    "'V', 'W', 'X', 'Y', 'Z', '[', '\\\\', ']', '^', '_', '`', 'a', 'b', \n",
    "'c', 'd', 'e', 'f', 'g', 'h', 'i', 'j', 'k', 'l', 'm', 'n', 'o', 'p', \n",
    "'q', 'r', 's', 't', 'u', 'v', 'w', 'x', 'y', 'z', '{', '|', '}', '~']\n",
    ">>> coded_farm=enigma.code(animal_farm)\n",
    ">>> enigma.decode(coded_farm)\n",
    "Mr. Jones, of the Manor Farm, had locked the hen-houses for the \n",
    "night, but was too drunk to remember to shut the pop-holes...\n",
    "```\n",
    "2. Exécuter l'algorithme sur l'exemple de texte ci-dessous avec la clé `\"George Orwell wrote more than 1984\"` et stocker le résultat dans la variable `code_farm`. \n",
    "\n",
    "**Exemple de texte suffisamment long pour obtenir de bonnes statistiques. Animal Farm, George Orwell (1945) en version originale:**\n",
    "\n",
    "Mr. Jones, of the Manor Farm, had locked the hen-houses for the night, but was too drunk to remember to shut the pop-holes. With the ring of light from his lantern dancing from side to side, he lurched across the yard, kicked off his boots at the back door, drew himself a last glass of beer from the barrel in the scullery, and made his way up to bed, where Mrs. Jones was already snoring.\n",
    "\n",
    "As soon as the light in the bedroom went out there was a stirring and a fluttering all through the farm buildings. Word had gone round during the day that old Major, the prize Middle White boar, had had a strange dream on the previous night and wished to communicate it to the other animals. It had been agreed that they should all meet in the big barn as soon as Mr. Jones was safely out of the way. Old Major (so he was always called, though the name under which he had been exhibited was Willingdon Beauty) was so highly regarded on the farm that everyone was quite ready to lose an hour's sleep in order to hear what he had to say.\n",
    "\n",
    "At one end of the big barn, on a sort of raised platform, Major was already ensconced on his bed of straw, under a lantern which hung from a beam. He was twelve years old and had lately grown rather stout, but he was still a majestic-looking pig, with a wise and benevolent appearance in spite of the fact that his tushes had never been cut. Before long the other animals began to arrive and make themselves comfortable after their different fashions. First came the three dogs, Bluebell, Jessie, and Pincher, and then the pigs, who settled down in the straw immediately in front of the platform. The hens perched themselves on the window-sills, the pigeons fluttered up to the rafters, the sheep and cows lay down behind the pigs and began to chew the cud. The two cart-horses, Boxer and Clover, came in together, walking very slowly and setting down their vast hairy hoofs with great care lest there should be some small animal concealed in the straw. Clover was a stout motherly mare approaching middle life, who had never quite got her figure back after her fourth foal. Boxer was an enormous beast, nearly eighteen hands high, and as strong as any two ordinary horses put together. A white stripe down his nose gave him a somewhat stupid appearance, and in fact he was not of first-rate intelligence, but he was universally respected for his steadiness of character and tremendous powers of work. After the horses came Muriel, the white goat, and Benjamin, the donkey. Benjamin was the oldest animal on the farm, and the worst tempered. He seldom talked, and when he did, it was usually to make some cynical remark—for instance, he would say that God had given him a tail to keep the flies off, but that he would sooner have had no tail and no flies. Alone among the animals on the farm he never laughed. If asked why, he would say that he saw nothing to laugh at. Nevertheless, without openly admitting it, he was devoted to Boxer; the two of them usually spent their Sundays together in the small paddock beyond the orchard, grazing side by side and never speaking."
   ]
  },
  {
   "cell_type": "code",
   "execution_count": 11,
   "id": "23a7a7cf",
   "metadata": {},
   "outputs": [],
   "source": [
    "### 2.3.1 Classe Vignemere\n",
    "class Vigenere:\n",
    "    def __init__ (self, alpha, key):\n",
    "        self.alpha = alpha\n",
    "        self.key = key\n",
    "\n",
    "    def __str__ (self):\n",
    "        return f\"Vigenere encoder-decoder with\\nkey={self.key}\\nalpha={self.alpha}\"\n",
    "\n",
    "    def code(self, message):\n",
    "        a = len(self.key)\n",
    "        b = len(self.alpha)\n",
    "        res = ''\n",
    "        message = message.strip().replace('\\r', ' ')\n",
    "        message = message.replace('\\n', ' ')\n",
    "        message = message.replace('—', '--')\n",
    "        for i, item in enumerate(message):\n",
    "            # print(i, item)\n",
    "            shift = self.alpha.index(self.key[i % a])\n",
    "            index = self.alpha.index(item)\n",
    "            new_index = (index + shift) % b\n",
    "            res += self.alpha[new_index]\n",
    "        return res\n",
    "\n",
    "    def decode(self, code):\n",
    "        a = len(self.key)\n",
    "        b = len(self.alpha)\n",
    "        res = ''\n",
    "        for i, item in enumerate(code):\n",
    "            if item == ' ' and code[i+1] == ' ':\n",
    "                res += '\\n\\r'\n",
    "            else:\n",
    "                shift = self.alpha.index(self.key[i % a])\n",
    "                index = self.alpha.index(item)\n",
    "                new_index = (index - shift + b) % b\n",
    "                res += self.alpha[new_index]\n",
    "        return res"
   ]
  },
  {
   "cell_type": "code",
   "execution_count": 12,
   "metadata": {},
   "outputs": [],
   "source": [
    "animal_farm = '''\n",
    "Mr. Jones, of the Manor Farm, had locked the hen-houses for the night, but was too drunk to remember to shut the pop-holes. With the ring of light from his lantern dancing from side to side, he lurched across the yard, kicked off his boots at the back door, drew himself a last glass of beer from the barrel in the scullery, and made his way up to bed, where Mrs. Jones was already snoring.\n",
    "\n",
    "As soon as the light in the bedroom went out there was a stirring and a fluttering all through the farm buildings. Word had gone round during the day that old Major, the prize Middle White boar, had had a strange dream on the previous night and wished to communicate it to the other animals. It had been agreed that they should all meet in the big barn as soon as Mr. Jones was safely out of the way. Old Major (so he was always called, though the name under which he had been exhibited was Willingdon Beauty) was so highly regarded on the farm that everyone was quite ready to lose an hour's sleep in order to hear what he had to say.\n",
    "\n",
    "At one end of the big barn, on a sort of raised platform, Major was already ensconced on his bed of straw, under a lantern which hung from a beam. He was twelve years old and had lately grown rather stout, but he was still a majestic-looking pig, with a wise and benevolent appearance in spite of the fact that his tushes had never been cut. Before long the other animals began to arrive and make themselves comfortable after their different fashions. First came the three dogs, Bluebell, Jessie, and Pincher, and then the pigs, who settled down in the straw immediately in front of the platform. The hens perched themselves on the window-sills, the pigeons fluttered up to the rafters, the sheep and cows lay down behind the pigs and began to chew the cud. The two cart-horses, Boxer and Clover, came in together, walking very slowly and setting down their vast hairy hoofs with great care lest there should be some small animal concealed in the straw. Clover was a stout motherly mare approaching middle life, who had never quite got her figure back after her fourth foal. Boxer was an enormous beast, nearly eighteen hands high, and as strong as any two ordinary horses put together. A white stripe down his nose gave him a somewhat stupid appearance, and in fact he was not of first-rate intelligence, but he was universally respected for his steadiness of character and tremendous powers of work. After the horses came Muriel, the white goat, and Benjamin, the donkey. Benjamin was the oldest animal on the farm, and the worst tempered. He seldom talked, and when he did, it was usually to make some cynical remark—for instance, he would say that God had given him a tail to keep the flies off, but that he would sooner have had no tail and no flies. Alone among the animals on the farm he never laughed. If asked why, he would say that he saw nothing to laugh at. Nevertheless, without openly admitting it, he was devoted to Boxer; the two of them usually spent their Sundays together in the small paddock beyond the orchard, grazing side by side and never speaking.\n",
    "'''\n",
    "# message = animal_farm\n",
    "# message = message.strip().replace('\\r', ' ')\n",
    "# message = message.replace('\\n', ' ')\n",
    "# print(message[3095: 3120])"
   ]
  },
  {
   "cell_type": "code",
   "execution_count": 13,
   "id": "2c37b089",
   "metadata": {},
   "outputs": [
    {
     "name": "stdout",
     "output_type": "stream",
     "text": [
      "Vigenere encoder-decoder with\n",
      "key=my fancy key!\n",
      "alpha=[' ', '!', '\"', '#', '$', '%', '&', \"'\", '(', ')', '*', '+', ',', '-', '.', '/', '0', '1', '2', '3', '4', '5', '6', '7', '8', '9', ':', ';', '<', '=', '>', '?', '@', 'A', 'B', 'C', 'D', 'E', 'F', 'G', 'H', 'I', 'J', 'K', 'L', 'M', 'N', 'O', 'P', 'Q', 'R', 'S', 'T', 'U', 'V', 'W', 'X', 'Y', 'Z', '[', '\\\\', ']', '^', '_', '`', 'a', 'b', 'c', 'd', 'e', 'f', 'g', 'h', 'i', 'j', 'k', 'l', 'm', 'n', 'o', 'p', 'q', 'r', 's', 't', 'u', 'v', 'w', 'x', 'y', 'z', '{', '|', '}', '~']\n"
     ]
    }
   ],
   "source": [
    "### 2.3.2 Encodage d'animal farm\n",
    "ASCII=[chr(i) for i in range(32,127)]\n",
    "enigma=Vigenere(alpha=ASCII,key=\"my fancy key!\")\n",
    "print(enigma)\n"
   ]
  },
  {
   "cell_type": "code",
   "execution_count": 14,
   "metadata": {},
   "outputs": [
    {
     "data": {
      "text/plain": [
       "\"Mr. Jones, of the Manor Farm, had locked the hen-houses for the night, but was too drunk to remember to shut the pop-holes. With the ring of light from his lantern dancing from side to side, he lurched across the yard, kicked off his boots at the back door, drew himself a last glass of beer from the barrel in the scullery, and made his way up to bed, where Mrs. Jones was already snoring.  As soon as the light in the bedroom went out there was a stirring and a fluttering all through the farm buildings. Word had gone round during the day that old Major, the prize Middle White boar, had had a strange dream on the previous night and wished to communicate it to the other animals. It had been agreed that they should all meet in the big barn as soon as Mr. Jones was safely out of the way. Old Major (so he was always called, though the name under which he had been exhibited was Willingdon Beauty) was so highly regarded on the farm that everyone was quite ready to lose an hour's sleep in order to hear what he had to say.  At one end of the big barn, on a sort of raised platform, Major was already ensconced on his bed of straw, under a lantern which hung from a beam. He was twelve years old and had lately grown rather stout, but he was still a majestic-looking pig, with a wise and benevolent appearance in spite of the fact that his tushes had never been cut. Before long the other animals began to arrive and make themselves comfortable after their different fashions. First came the three dogs, Bluebell, Jessie, and Pincher, and then the pigs, who settled down in the straw immediately in front of the platform. The hens perched themselves on the window-sills, the pigeons fluttered up to the rafters, the sheep and cows lay down behind the pigs and began to chew the cud. The two cart-horses, Boxer and Clover, came in together, walking very slowly and setting down their vast hairy hoofs with great care lest there should be some small animal concealed in the straw. Clover was a stout motherly mare approaching middle life, who had never quite got her figure back after her fourth foal. Boxer was an enormous beast, nearly eighteen hands high, and as strong as any two ordinary horses put together. A white stripe down his nose gave him a somewhat stupid appearance, and in fact he was not of first-rate intelligence, but he was universally respected for his steadiness of character and tremendous powers of work. After the horses came Muriel, the white goat, and Benjamin, the donkey. Benjamin was the oldest animal on the farm, and the worst tempered. He seldom talked, and when he did, it was usually to make some cynical remark--for instance, he would say that God had given him a tail to keep the flies off, but that he would sooner have had no tail and no flies. Alone among the animals on the farm he never laughed. If asked why, he would say that he saw nothing to laugh at. Nevertheless, without openly admitting it, he was devoted to Boxer; the two of them usually spent their Sundays together in the small paddock beyond the orchard, grazing side by side and never speaking.\""
      ]
     },
     "execution_count": 14,
     "metadata": {},
     "output_type": "execute_result"
    }
   ],
   "source": [
    "coded_farm=enigma.code(animal_farm)\n",
    "enigma.decode(coded_farm)"
   ]
  },
  {
   "cell_type": "markdown",
   "id": "d27c019f",
   "metadata": {},
   "source": [
    "## Codage et décodage d'un vrai texte\n",
    "*On va maintenant démontrer la faiblesse du code César et la relative force du code de Vigenère.*\n",
    "\n",
    "### Casser César\n",
    "Dans cet exercice, on va attaquer le texte chiffré (avec la table `ASCII`) par la méthode César suivant:"
   ]
  },
  {
   "cell_type": "code",
   "execution_count": 16,
   "id": "bd011688",
   "metadata": {},
   "outputs": [],
   "source": [
    "message_secret=\"\"\"Lok ~sp v*s}*lo~~o|*~rkx* qv$8\n",
    "O#zvsms~*s}*lo~~o|*~rkx*swzvsms~8\n",
    "]swzvo*s}*lo~~o|*~rkx*mywzvo#8\n",
    "Mywzvo#*s}*lo~~o|*~rkx*mywzvsmk~on8\n",
    "Pvk~*s}*lo~~o|*~rkx*xo}~on8\n",
    "]zk|}o*s}*lo~~o|*~rkx*nox}o8\n",
    "\\oknklsvs~$*my x~}8\n",
    "]zomskv*mk}o}*k|ox1~*}zomskv*oxy qr*~y*l|oku*~ro*| vo}8\n",
    "Kv~ry qr*z|km~smkvs~$*lok~}*z |s~$8\n",
    "O||y|}*}ry vn*xo!o|*zk}}*}svox~v$8\n",
    "_xvo}}*o#zvsms~v$*}svoxmon8\n",
    "Sx*~ro*pkmo*yp*kwlsq s~$6*|op }o*~ro*~owz~k~syx*~y*q o}}8\n",
    "^ro|o*}ry vn*lo*yxo77*kxn*z|opo|klv$*yxv$*yxo*77yl!sy }*\"k$*~y*ny*s~8\n",
    "Kv~ry qr*~rk~*\"k$*wk$*xy~*lo*yl!sy }*k~*ps|}~* xvo}}*$y 1|o*N ~mr8\n",
    "Xy\"*s}*lo~~o|*~rkx*xo!o|8\n",
    "Kv~ry qr*xo!o|*s}*yp~ox*lo~~o|*~rkx*4|sqr~4*xy\"8\n",
    "Sp*~ro*swzvowox~k~syx*s}*rk|n*~y*o#zvksx6*s~1}*k*lkn*snok8\n",
    "Sp*~ro*swzvowox~k~syx*s}*ok}$*~y*o#zvksx6*s~*wk$*lo*k*qyyn*snok8\n",
    "Xkwo}zkmo}*k|o*yxo*ryxusxq*q|ok~*snok*77*vo~1}*ny*wy|o*yp*~ry}o+\"\"\""
   ]
  },
  {
   "cell_type": "markdown",
   "id": "3244f059",
   "metadata": {},
   "source": [
    "Puisqu'il est mono-dictionnaire, on propose de l'attaquer par une analyse fréquentielle. En effet, la fréquence des lettres dans une langue donnée tend vers une valeur connue si le texte est suffisamment long et varié. Par exemple, on retrouve les 5 lettres les plus utilisées dans les textes en anglais.\n",
    "\n",
    "| Lettre  |  Fréquence |\n",
    "|---    |:-:    |\n",
    "|E \t|13%  |\t \n",
    "|T \t|9.1% |  \t\n",
    "|A \t|8.2% | \t\n",
    "|O \t|7.5% | \t\n",
    "|I \t|7%   | \t\n",
    "\n",
    "On aura par exemple la répartition suivante sur le texte clair de notre `message_secret`.\n",
    "\n",
    "![](img/freq_en.png)\n",
    "\n",
    "1. Écrire une fonction `compute_frequency` qui calcule la fréquence des caractères dans un texte donné.\n",
    "```python\n",
    ">>> compute_frequency(message)\n",
    "'*': 0.14355231143552297,\n",
    " 'o': 0.10462287104622861,\n",
    " '~': 0.09002433090024323,\n",
    " 'k': 0.06082725060827245,\n",
    " 's': 0.059610705596107004\n",
    "```\n",
    "2. Grâce à `matplotlib` et en particulier `plt.bar(coord,height, label=...)`, proposer un graphe similaire à celui présenté au-dessus.\n",
    "3. À partir de `compute_frequency`, décoder le `message_secret` sans utiliser la force brute. "
   ]
  },
  {
   "cell_type": "code",
   "execution_count": 21,
   "id": "90c7a699",
   "metadata": {},
   "outputs": [],
   "source": [
    "### 2.4.1.1 fonction compute_frequency +  test\n",
    "def compute_frequency(message):\n",
    "    count = {}\n",
    "    for item in message:\n",
    "        if item not in count:\n",
    "            count[item] = 1\n",
    "        else:\n",
    "            count[item] += 1\n",
    "    freq = {}\n",
    "    for item in count:\n",
    "        freq[item] = count[item] / len(message)\n",
    "    return freq\n"
   ]
  },
  {
   "cell_type": "code",
   "execution_count": 33,
   "metadata": {},
   "outputs": [
    {
     "name": "stdout",
     "output_type": "stream",
     "text": [
      "{'L': 0.0012165450121654502, 'o': 0.10462287104622871, 'k': 0.06082725060827251, ' ': 0.024330900243309004, '~': 0.09002433090024331, 's': 0.05961070559610705, 'p': 0.012165450121654502, 'v': 0.040145985401459854, '*': 0.1435523114355231, '}': 0.051094890510948905, 'l': 0.023114355231143552, '|': 0.037712895377128956, 'r': 0.03527980535279805, 'x': 0.046228710462287104, 'q': 0.01338199513381995, '$': 0.01824817518248175, '8': 0.021897810218978103, '\\n': 0.021897810218978103, 'O': 0.0024330900243309003, '#': 0.0072992700729927005, 'z': 0.024330900243309004, 'm': 0.019464720194647202, 'w': 0.01824817518248175, ']': 0.0036496350364963502, 'y': 0.049878345498783457, 'M': 0.0012165450121654502, 'n': 0.019464720194647202, 'P': 0.0012165450121654502, '\\\\': 0.0012165450121654502, '1': 0.004866180048661801, 'u': 0.0024330900243309003, 'K': 0.0036496350364963502, '!': 0.006082725060827251, '_': 0.0012165450121654502, 'S': 0.0036496350364963502, '6': 0.0036496350364963502, '^': 0.0012165450121654502, '7': 0.0072992700729927005, '\"': 0.004866180048661801, 'N': 0.0012165450121654502, 'X': 0.0024330900243309003, '4': 0.0024330900243309003, '+': 0.0012165450121654502}\n"
     ]
    }
   ],
   "source": [
    "# __test__\n",
    "freq = compute_frequency(message_secret)\n",
    "print(freq)"
   ]
  },
  {
   "cell_type": "code",
   "execution_count": 39,
   "id": "d7e291ba",
   "metadata": {},
   "outputs": [
    {
     "name": "stdout",
     "output_type": "stream",
     "text": [
      "[('*', 0.1435523114355231), ('o', 0.10462287104622871), ('~', 0.09002433090024331), ('k', 0.06082725060827251), ('s', 0.05961070559610705), ('}', 0.051094890510948905), ('y', 0.049878345498783457), ('x', 0.046228710462287104), ('v', 0.040145985401459854), ('|', 0.037712895377128956), ('r', 0.03527980535279805), (' ', 0.024330900243309004), ('z', 0.024330900243309004), ('l', 0.023114355231143552), ('8', 0.021897810218978103), ('\\n', 0.021897810218978103), ('m', 0.019464720194647202), ('n', 0.019464720194647202), ('$', 0.01824817518248175), ('w', 0.01824817518248175), ('q', 0.01338199513381995), ('p', 0.012165450121654502), ('#', 0.0072992700729927005), ('7', 0.0072992700729927005), ('!', 0.006082725060827251), ('1', 0.004866180048661801), ('\"', 0.004866180048661801), (']', 0.0036496350364963502), ('K', 0.0036496350364963502), ('S', 0.0036496350364963502), ('6', 0.0036496350364963502), ('O', 0.0024330900243309003), ('u', 0.0024330900243309003), ('X', 0.0024330900243309003), ('4', 0.0024330900243309003), ('L', 0.0012165450121654502), ('M', 0.0012165450121654502), ('P', 0.0012165450121654502), ('\\\\', 0.0012165450121654502), ('_', 0.0012165450121654502), ('^', 0.0012165450121654502), ('N', 0.0012165450121654502), ('+', 0.0012165450121654502)]\n"
     ]
    },
    {
     "data": {
      "image/png": "[encoded data removed]",
      "text/plain": [
       "<Figure size 640x480 with 1 Axes>"
      ]
     },
     "metadata": {},
     "output_type": "display_data"
    }
   ],
   "source": [
    "### 2.4.1.2 Plot\n",
    "import matplotlib.pyplot as plt\n",
    "freq_sort = sorted(freq.items(), key = lambda x: x[1], reverse = True)\n",
    "print(freq_sort)\n",
    "keys = [item[0] for item in freq_sort]\n",
    "values = [item[1] for item in freq_sort]\n",
    "plt.bar(keys, values)\n",
    "plt.show()"
   ]
  },
  {
   "cell_type": "code",
   "execution_count": 42,
   "id": "c0d6ab8f",
   "metadata": {},
   "outputs": [
    {
     "data": {
      "text/plain": [
       "10"
      ]
     },
     "execution_count": 42,
     "metadata": {},
     "output_type": "execute_result"
    }
   ],
   "source": [
    "### Décodage de message_secret\n",
    "ASCII.index('*') - ASCII.index(' ')"
   ]
  },
  {
   "cell_type": "markdown",
   "id": "c5addd77",
   "metadata": {},
   "source": [
    "### Se casser les dents sur Vigenère\n",
    "*À l'inverse, le code de Vigenère ne peut pas être attaqué directement par recherche fréquentielle.*\n",
    "\n",
    "1. Utiliser `compute_frequency` sur le résultat de codage Vigenère `code_farm`. Expliquer le résultat.\n",
    "2. À la lumière de cette analyse, proposer une méthode ou un critère qui assure une bonne robustesse pour le code de Vigenère.\n",
    "3. Proposer un algorithme d'attaque par force brute.\n",
    "   1. Quel est le nombre d'évaluations en fonction de la longueur de la clé? \n",
    "   2. Le tester sur le texte chiffré suivant (clé à deux caractères). \n",
    "   \n",
    "```\n",
    "'!)9-Jy4(4C!-.-'\n",
    "```"
   ]
  },
  {
   "cell_type": "code",
   "execution_count": null,
   "id": "c548bff4",
   "metadata": {},
   "outputs": [],
   "source": [
    "### 2.4.2.1 application sur du Vigenère"
   ]
  },
  {
   "cell_type": "markdown",
   "id": "fc07ae2c",
   "metadata": {},
   "source": [
    "Réponse textuelle 2.4.2.2"
   ]
  },
  {
   "cell_type": "markdown",
   "id": "2545c293",
   "metadata": {},
   "source": [
    "Réponse textuelle 2.4.2.3.1"
   ]
  },
  {
   "cell_type": "code",
   "execution_count": null,
   "id": "40e43019",
   "metadata": {},
   "outputs": [],
   "source": [
    "#### Attaque par force brute"
   ]
  }
 ],
 "metadata": {
  "kernelspec": {
   "display_name": "Python 3 (ipykernel)",
   "language": "python",
   "name": "python3"
  },
  "language_info": {
   "codemirror_mode": {
    "name": "ipython",
    "version": 3
   },
   "file_extension": ".py",
   "mimetype": "text/x-python",
   "name": "python",
   "nbconvert_exporter": "python",
   "pygments_lexer": "ipython3",
   "version": "3.11.5"
  },
  "toc": {
   "base_numbering": 1,
   "nav_menu": {},
   "number_sections": true,
   "sideBar": true,
   "skip_h1_title": false,
   "title_cell": "Table of Contents",
   "title_sidebar": "Contents",
   "toc_cell": false,
   "toc_position": {},
   "toc_section_display": true,
   "toc_window_display": false
  },
  "varInspector": {
   "cols": {
    "lenName": 16,
    "lenType": 16,
    "lenVar": 40
   },
   "kernels_config": {
    "python": {
     "delete_cmd_postfix": "",
     "delete_cmd_prefix": "del ",
     "library": "var_list.py",
     "varRefreshCmd": "print(var_dic_list())"
    },
    "r": {
     "delete_cmd_postfix": ") ",
     "delete_cmd_prefix": "rm(",
     "library": "var_list.r",
     "varRefreshCmd": "cat(var_dic_list()) "
    }
   },
   "types_to_exclude": [
    "module",
    "function",
    "builtin_function_or_method",
    "instance",
    "_Feature"
   ],
   "window_display": false
  }
 },
 "nbformat": 4,
 "nbformat_minor": 5
}
