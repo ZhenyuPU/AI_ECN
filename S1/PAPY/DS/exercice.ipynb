{
 "cells": [
  {
   "cell_type": "markdown",
   "metadata": {},
   "source": [
    "读取文件并注意字符串的操作，url爬取"
   ]
  },
  {
   "cell_type": "code",
   "execution_count": 12,
   "metadata": {},
   "outputs": [
    {
     "name": "stdout",
     "output_type": "stream",
     "text": [
      "LA CIGALE ET LA FOURMI\n",
      "La Cigale, ayant chanté\n",
      "Tout L'Été,\n",
      "Se trouva fort dépourvue\n",
      "Quand la Bise fut venue.\n",
      "Pas un seul petit morceau\n",
      "De mouche ou de vermisseau.\n",
      "Elle alla crier famine\n",
      "Chez la Fourmi sa voisine,\n",
      "La priant de lui prêter\n",
      "Quelque grain pour subsister\n",
      "Jusqu'à la saison nouvelle.\n",
      "« Je vous paierai, lui dit-elle,\n",
      "Avant l'Août, foi d'animal,\n",
      "Intérêt et principal. »\n",
      "La Fourmi n'est pas prêteuse :\n",
      "C'est là son moindre défaut.\n",
      "« Que faisiez-vous au temps chaud ?\n",
      "Dit-elle à cette emprunteuse.\n",
      "- Nuit et jour à tout venant\n",
      "Je chantais, ne vous déplaise.\n",
      "- Vous chantiez ? j'en suis fort aise :\n",
      "Eh bien ! dansez maintenant. »\n"
     ]
    }
   ],
   "source": [
    "filename = \"fable.txt\"\n",
    "with open(filename, 'r') as fable:\n",
    "    fable_content  =fable.read()\n",
    "    # fable_lines = fable.readlines()\n",
    "# for line in fable_lines:\n",
    "#     print(line)\n",
    "for item in fable_content.split(\"\\n\"):\n",
    "    print(item)"
   ]
  },
  {
   "cell_type": "code",
   "execution_count": 13,
   "metadata": {},
   "outputs": [
    {
     "name": "stdout",
     "output_type": "stream",
     "text": [
      "LA CIGALE ET LA FOURMI\n",
      "La Cigal, ayant chanté\n",
      "Tout L'Été,\n",
      "S trouva fort dépourvu\n",
      "Quand la Bis fut vnu.\n",
      "Pas un sul ptit morcau\n",
      "D mouch ou d vrmissau.\n",
      "Ell alla crir famin\n",
      "Chz la Fourmi sa voisin,\n",
      "La priant d lui prêtr\n",
      "Qulqu grain pour subsistr\n",
      "Jusqu'à la saison nouvll.\n",
      "« J vous pairai, lui dit-ll,\n",
      "Avant l'Août, foi d'animal,\n",
      "Intérêt t principal. »\n",
      "La Fourmi n'st pas prêtus :\n",
      "C'st là son moindr défaut.\n",
      "« Qu faisiz-vous au tmps chaud ?\n",
      "Dit-ll à ctt mpruntus.\n",
      "- Nuit t jour à tout vnant\n",
      "J chantais, n vous déplais.\n",
      "- Vous chantiz ? j'n suis fort ais :\n",
      "Eh bin ! dansz maintnant. »\n"
     ]
    }
   ],
   "source": [
    "fable_e = fable_content.replace('e', '')  # 没有e 有E\n",
    "for item in fable_e.split(\"\\n\"):\n",
    "    print(item)"
   ]
  },
  {
   "cell_type": "code",
   "execution_count": 14,
   "metadata": {},
   "outputs": [
    {
     "name": "stdout",
     "output_type": "stream",
     "text": [
      "Reussir de enreigestrer website_wiki_python.html\n"
     ]
    }
   ],
   "source": [
    "import urllib.request\n",
    "\n",
    "# 指定要获取的网站的URL\n",
    "url = \"https://fr.wikipedia.org/wiki/Python_(langage)\"  \n",
    "\n",
    "try:\n",
    "    # 使用urlopen函数打开URL\n",
    "    response = urllib.request.urlopen(url)\n",
    "    \n",
    "    # 读取URL的内容\n",
    "    web_content = response.read()\n",
    "    \n",
    "    # 指定保存到本地的文件名\n",
    "    filename = \"website_wiki_python.html\"  # 将此文件名替换为你想要的文件名\n",
    "    \n",
    "    # 将网站内容保存到本地文件\n",
    "    with open(filename, \"wb\") as file:\n",
    "        file.write(web_content)\n",
    "    if file is None:\n",
    "        raise TypeError('保存错误')\n",
    "\n",
    "    print(f\"Reussir de enreigestrer {filename}\")\n",
    "    \n",
    "except Exception as e:\n",
    "    print(f\"erreur:{e}\")\n"
   ]
  },
  {
   "cell_type": "code",
   "execution_count": 20,
   "metadata": {},
   "outputs": [
    {
     "name": "stdout",
     "output_type": "stream",
     "text": [
      "<!DOCTYPE html>\n",
      "<html class=\"client-nojs vector-feature-language-in-header-enabled vector-feature-language-in-main-page-header-disabled vector-feature-sticky-header-disabled vector-feature-page-tools-pinned-disabled vector-feature-toc-pinned-clientpref-1 vector-feature-main-menu-pinned-disabled vector-feature-limited-width-clientpref-1 vector-feature-limited-width-content-enabled vector-feature-zebra-design-disabled vector-feature-custom-font-size-clientpref-0 vector-feature-client-preferences-disabled vector-feature-typography-survey-disabled vector-toc-available\" lang=\"fr\" dir=\"ltr\">\n",
      "<head>\n",
      "<meta charset=\"UTF-8\">\n",
      "<title>Python (langage) — Wikipédia</title>\n"
     ]
    }
   ],
   "source": [
    "with open(filename, 'r') as file:\n",
    "    lines = file.readlines()\n",
    "num = 5\n",
    "for i in range(num):\n",
    "    print(lines[i].strip())"
   ]
  },
  {
   "cell_type": "code",
   "execution_count": 14,
   "metadata": {},
   "outputs": [
    {
     "data": {
      "text/plain": [
       "False"
      ]
     },
     "execution_count": 14,
     "metadata": {},
     "output_type": "execute_result"
    }
   ],
   "source": [
    "a = [2, 3, 5]\n",
    "b = [2, 3, 5]\n",
    "# id(a) != id(b) True\n",
    "a = 3\n",
    "b = 3\n",
    "# a is b True\n",
    "a = 4\n",
    "a is b  # False"
   ]
  },
  {
   "cell_type": "code",
   "execution_count": 1,
   "metadata": {},
   "outputs": [
    {
     "name": "stdout",
     "output_type": "stream",
     "text": [
      "0 0\n",
      "0 1\n",
      "1 0\n",
      "1 1\n",
      "2 0\n",
      "2 1\n",
      "3 0\n",
      "3 1\n"
     ]
    }
   ],
   "source": [
    "for i in range(4):\n",
    "    for j in range(4):\n",
    "        if j == 2:\n",
    "            break\n",
    "        print(i, j)"
   ]
  },
  {
   "cell_type": "markdown",
   "metadata": {},
   "source": [
    "<div class=\"alert alert-info\" role=\"alert\">\n",
    "    <b> Exercice : </b> Ecrire un script qui transforme une liste de dictionnaires en dictionnaire de liste. Propser 2 méthodes a) bloucle for et b) compréhension. \n",
    "</div>\n",
    "\n",
    "Exemple de comportement:\n",
    "```python\n",
    "data =  [{'Lea': 'java', 'Bobby': 'python'},\n",
    "        {'Lea': 'php', 'Bobby': 'java'},\n",
    "        {'Lea': 'cloud', 'Bobby': 'big-data'}]\n",
    "\n",
    "#résultat\n",
    "{'Lea': ['java', 'php', 'cloud'], 'Bobby': ['python', 'java', 'big-data']}\n",
    "```"
   ]
  },
  {
   "cell_type": "code",
   "execution_count": 22,
   "metadata": {},
   "outputs": [
    {
     "data": {
      "text/plain": [
       "{'Lea': ['java', 'php', 'cloud'], 'Bobby': ['python', 'java', 'big-data']}"
      ]
     },
     "execution_count": 22,
     "metadata": {},
     "output_type": "execute_result"
    }
   ],
   "source": [
    "def transform(l: list) -> dict:\n",
    "    res = {}\n",
    "    for item in l:\n",
    "        for i in item.items():\n",
    "            if i[0] not in res:\n",
    "                res[i[0]] = [i[1]]\n",
    "            else:\n",
    "                res[i[0]].append(i[1])\n",
    "    return res\n",
    "\n",
    "data =  [{'Lea': 'java', 'Bobby': 'python'},\n",
    "        {'Lea': 'php', 'Bobby': 'java'},\n",
    "        {'Lea': 'cloud', 'Bobby': 'big-data'}]\n",
    "transform(data) "
   ]
  },
  {
   "cell_type": "code",
   "execution_count": 23,
   "metadata": {},
   "outputs": [
    {
     "name": "stdout",
     "output_type": "stream",
     "text": [
      "{'Lea': ['java', 'php', 'cloud'], 'Bobby': ['python', 'java', 'big-data']}\n"
     ]
    }
   ],
   "source": [
    "# comprehension\n",
    "data =  [{'Lea': 'java', 'Bobby': 'python'},\n",
    "        {'Lea': 'php', 'Bobby': 'java'},\n",
    "        {'Lea': 'cloud', 'Bobby': 'big-data'}]\n",
    "\n",
    "result = {key: [d[key] for d in data] for key in data[0]}\n",
    "\n",
    "print(result)\n"
   ]
  },
  {
   "cell_type": "markdown",
   "metadata": {},
   "source": [
    "你明确指定空格字符 ' ' 作为分隔符，这将导致连续的空格字符被视为多个分隔符，并在结果列表中留下空字符串"
   ]
  },
  {
   "cell_type": "code",
   "execution_count": 45,
   "metadata": {},
   "outputs": [
    {
     "data": {
      "text/plain": [
       "{'is': 0.072992700729927,\n",
       " 'better': 0.0583941605839416,\n",
       " 'than': 0.0583941605839416,\n",
       " 'to': 0.0364963503649635,\n",
       " 'the': 0.0364963503649635,\n",
       " 'Although': 0.021897810218978103,\n",
       " 'be': 0.021897810218978103,\n",
       " 'should': 0.014598540145985401,\n",
       " 'never': 0.014598540145985401,\n",
       " 'of': 0.014598540145985401,\n",
       " 'one': 0.014598540145985401,\n",
       " 'way': 0.014598540145985401,\n",
       " 'do': 0.014598540145985401,\n",
       " 'may': 0.014598540145985401,\n",
       " 'If': 0.014598540145985401,\n",
       " 'implementation': 0.014598540145985401,\n",
       " 'explain,': 0.014598540145985401,\n",
       " 'a': 0.014598540145985401,\n",
       " 'idea.': 0.014598540145985401,\n",
       " 'Beautiful': 0.0072992700729927005,\n",
       " 'ugly.': 0.0072992700729927005,\n",
       " 'Explicit': 0.0072992700729927005,\n",
       " 'implicit.': 0.0072992700729927005,\n",
       " 'Simple': 0.0072992700729927005,\n",
       " 'complex.': 0.0072992700729927005,\n",
       " 'Complex': 0.0072992700729927005,\n",
       " 'complicated.': 0.0072992700729927005,\n",
       " 'Flat': 0.0072992700729927005,\n",
       " 'nested.': 0.0072992700729927005,\n",
       " 'Sparse': 0.0072992700729927005,\n",
       " 'dense.': 0.0072992700729927005,\n",
       " 'Readability': 0.0072992700729927005,\n",
       " 'counts.': 0.0072992700729927005,\n",
       " 'Special': 0.0072992700729927005,\n",
       " 'cases': 0.0072992700729927005,\n",
       " \"aren't\": 0.0072992700729927005,\n",
       " 'special': 0.0072992700729927005,\n",
       " 'enough': 0.0072992700729927005,\n",
       " 'break': 0.0072992700729927005,\n",
       " 'rules.': 0.0072992700729927005,\n",
       " 'practicality': 0.0072992700729927005,\n",
       " 'beats': 0.0072992700729927005,\n",
       " 'purity.': 0.0072992700729927005,\n",
       " 'Errors': 0.0072992700729927005,\n",
       " 'pass': 0.0072992700729927005,\n",
       " 'silently.': 0.0072992700729927005,\n",
       " 'Unless': 0.0072992700729927005,\n",
       " 'explicitly': 0.0072992700729927005,\n",
       " 'silenced.': 0.0072992700729927005,\n",
       " 'In': 0.0072992700729927005,\n",
       " 'face': 0.0072992700729927005,\n",
       " 'ambiguity,': 0.0072992700729927005,\n",
       " 'refuse': 0.0072992700729927005,\n",
       " 'temptation': 0.0072992700729927005,\n",
       " 'guess.': 0.0072992700729927005,\n",
       " 'There': 0.0072992700729927005,\n",
       " 'one--': 0.0072992700729927005,\n",
       " 'and': 0.0072992700729927005,\n",
       " 'preferably': 0.0072992700729927005,\n",
       " 'only': 0.0072992700729927005,\n",
       " '--obvious': 0.0072992700729927005,\n",
       " 'it.': 0.0072992700729927005,\n",
       " 'that': 0.0072992700729927005,\n",
       " 'not': 0.0072992700729927005,\n",
       " 'obvious': 0.0072992700729927005,\n",
       " 'at': 0.0072992700729927005,\n",
       " 'first': 0.0072992700729927005,\n",
       " 'unless': 0.0072992700729927005,\n",
       " \"you're\": 0.0072992700729927005,\n",
       " 'Dutch.': 0.0072992700729927005,\n",
       " 'Now': 0.0072992700729927005,\n",
       " 'never.': 0.0072992700729927005,\n",
       " 'often': 0.0072992700729927005,\n",
       " '*right*': 0.0072992700729927005,\n",
       " 'now.': 0.0072992700729927005,\n",
       " 'hard': 0.0072992700729927005,\n",
       " \"it's\": 0.0072992700729927005,\n",
       " 'bad': 0.0072992700729927005,\n",
       " 'easy': 0.0072992700729927005,\n",
       " 'it': 0.0072992700729927005,\n",
       " 'good': 0.0072992700729927005,\n",
       " 'Namespaces': 0.0072992700729927005,\n",
       " 'are': 0.0072992700729927005,\n",
       " 'honking': 0.0072992700729927005,\n",
       " 'great': 0.0072992700729927005,\n",
       " 'idea': 0.0072992700729927005,\n",
       " '--': 0.0072992700729927005,\n",
       " \"let's\": 0.0072992700729927005,\n",
       " 'more': 0.0072992700729927005,\n",
       " 'those!': 0.0072992700729927005}"
      ]
     },
     "execution_count": 45,
     "metadata": {},
     "output_type": "execute_result"
    }
   ],
   "source": [
    "def freq(filename):\n",
    "    with open(filename, 'r') as file:\n",
    "        content = file.read()\n",
    "    # for i in content.split(' '):\n",
    "    #     print(i)\n",
    "    #     pass\n",
    "    res = {}\n",
    "    p = 1 / len(content.split())\n",
    "    for item in content.split():\n",
    "        if item not in res:\n",
    "            res[item] = p\n",
    "        else:\n",
    "            res[item] += p\n",
    "    res = sorted(res.items(), key = lambda x: x[1], reverse = True)\n",
    "    res = dict(res)\n",
    "    return res\n",
    "\n",
    "filename = 'zen.txt'\n",
    "freq(filename)"
   ]
  },
  {
   "cell_type": "code",
   "execution_count": 46,
   "metadata": {},
   "outputs": [],
   "source": [
    "%load_ext autoreload\n",
    "%autoreload 2"
   ]
  },
  {
   "cell_type": "markdown",
   "metadata": {},
   "source": [
    "%load_ext autoreload：cette cmd charge l'extension autoreload automatique.\n",
    "\n",
    "%autoreload 2：indique que le module sera rechargé avant l'exécution de tout code pour garantir que vos modifications prennent effet immédiatement."
   ]
  },
  {
   "cell_type": "code",
   "execution_count": 234,
   "metadata": {},
   "outputs": [],
   "source": [
    "import math\n",
    "from numbers import Real\n",
    "class Vector:\n",
    "    def __init__ (self, x, y):\n",
    "        self._x = x\n",
    "        self._y = y\n",
    "    \n",
    "    def __repr__ (self):\n",
    "        return f\"Vector({self._x}, {self._y})\"\n",
    "    \n",
    "    def __str__ (self):\n",
    "        return f\"({self._x}, {self._y})\"\n",
    "    \n",
    "    def __iter__ (self):\n",
    "        yield self._x\n",
    "        yield self._y\n",
    "    \n",
    "    def __eq__ (self, other):\n",
    "        if isinstance(other, Vector):\n",
    "            return self._x == other._x and self._y == other._y\n",
    "        return False\n",
    "    \n",
    "    def __abs__ (self):\n",
    "        return math.sqrt((self._x ** 2 + self._y ** 2))\\\n",
    "        \n",
    "    def __len__ (self):\n",
    "        return 2\n",
    "    \n",
    "\n",
    "    @classmethod\n",
    "    def from_iterable(cls, it):\n",
    "        x, y = it[0], it[1]\n",
    "        return cls(x, y)\n",
    "\n",
    "    \n",
    "    \n",
    "    @classmethod\n",
    "    def from_polar(cls, r: float,theta: float):\n",
    "        x, y = r * math.cos(theta), r * math.sin(theta)\n",
    "        return cls(x, y)\n",
    "\n",
    "    @property\n",
    "    def x(self) :\n",
    "        return self._x\n",
    "    \n",
    "    @x.setter\n",
    "    def x(self, var):\n",
    "        if not isinstance(var, Real):\n",
    "            raise ValueError('value error')\n",
    "        else:\n",
    "            self._x = var\n",
    "\n",
    "    @property\n",
    "    def y(self) :\n",
    "        return self._y\n",
    "    \n",
    "    @y.setter\n",
    "    def y(self, var):\n",
    "        if not isinstance(var, Real):\n",
    "            raise ValueError('value error')\n",
    "        else:\n",
    "            self._y = var\n",
    "\n",
    "    @property\n",
    "    def norme(self):\n",
    "        return math.sqrt(self._x**2 + self._y**2)\n",
    "    \n",
    "    def __abs__(self):\n",
    "        \"\"\"surcharge du built-in abs()\"\"\"\n",
    "        return (self._x**2 + self._y**2)**0.5\n",
    "\n",
    "    def __neg__(self):\n",
    "        return (-self._x, -self._y)\n",
    "\n",
    "    def __add__(self, others):\n",
    "        if isinstance(others, Vector):\n",
    "            return Vector(x=self._x + others.x, y=self._y + others.y)\n",
    "        elif isinstance(others, list):\n",
    "            return [self.x + others[0], self.y + others[1]]\n",
    "        else:\n",
    "            raise TypeError(\n",
    "                \"Unsupported operand type for +: Vecteur and {}\".format(type(others)))\n",
    "\n",
    "    def __radd__(self, other):\n",
    "        if isinstance(other, list):\n",
    "            # 如果other是列表，则将向量的x和y分别加到列表中的元素\n",
    "            other_vec = Vector.from_iterable(other)\n",
    "            return other_vec + self\n",
    "        else:\n",
    "            raise TypeError(\n",
    "                \"Unsupported operand type for +: {} and Vecteur\".format(type(other)))\n",
    "    \n",
    "    def __mul__(self, other):\n",
    "        if isinstance(other, (int, float)):\n",
    "            return Vector(x=self.x * other, y=self.y * other)\n",
    "        elif isinstance(other, Vector):\n",
    "            if len(self) != len(other):\n",
    "                raise ValueError(\"Vectors must have same length\")\n",
    "            return sum(a * b for a, b in zip(self, other))\n",
    "        else:\n",
    "            raise TypeError(\"Unsupported operand type(s) for *: 'Vector' and '{}'\".format(type(other).__name__))\n",
    "    \n",
    "    def __rmul__(self, other):\n",
    "        return Vector(x=self.x * other, y=self.y * other)\n",
    "    \n",
    "\n",
    "    \"\"\"\n",
    "        v.x 和 v.y 分别通过 @property 装饰器定义的 getter 方法获取私有属性 _x 和 _y 的值\n",
    "        __radd__ 是 Python 中用于实现右加法运算符（+）的特殊方法。当对象出现在右侧，而左侧的对象不支持加法操作时，Python 解释器会尝试调用右侧对象的 __radd__ 方法\n",
    "    \"\"\"\n",
    "    \n",
    "    "
   ]
  },
  {
   "cell_type": "code",
   "execution_count": 235,
   "metadata": {},
   "outputs": [
    {
     "name": "stdout",
     "output_type": "stream",
     "text": [
      "3 4\n"
     ]
    }
   ],
   "source": [
    "v1 = Vector(3, 4)\n",
    "print(v1.x, v1.y)"
   ]
  },
  {
   "cell_type": "code",
   "execution_count": 236,
   "metadata": {},
   "outputs": [
    {
     "data": {
      "text/plain": [
       "(3, 4)"
      ]
     },
     "execution_count": 236,
     "metadata": {},
     "output_type": "execute_result"
    }
   ],
   "source": [
    "x, y = v1\n",
    "x, y"
   ]
  },
  {
   "cell_type": "code",
   "execution_count": 237,
   "metadata": {},
   "outputs": [
    {
     "data": {
      "text/plain": [
       "[3, 4]"
      ]
     },
     "execution_count": 237,
     "metadata": {},
     "output_type": "execute_result"
    }
   ],
   "source": [
    "list(v1)"
   ]
  },
  {
   "cell_type": "markdown",
   "metadata": {},
   "source": [
    "la bonne façon de cloner c'est avec copy. Ici on montre l'utilité d'avoir un __repr__ qui écrit l'appel au constructeur de classe combiné avec eval qui evalue un str en python."
   ]
  },
  {
   "cell_type": "code",
   "execution_count": 238,
   "metadata": {},
   "outputs": [],
   "source": [
    "v1_clone = eval(repr(v1))"
   ]
  },
  {
   "cell_type": "code",
   "execution_count": 239,
   "metadata": {},
   "outputs": [
    {
     "data": {
      "text/plain": [
       "True"
      ]
     },
     "execution_count": 239,
     "metadata": {},
     "output_type": "execute_result"
    }
   ],
   "source": [
    "v1 == v1_clone"
   ]
  },
  {
   "cell_type": "markdown",
   "metadata": {},
   "source": [
    "print(v1 == v1_clone)  # 应该输出 True，因为它们的值相同\n",
    "print(v1 is v1_clone)  # 应该输出 False，因为它们是不同的对象"
   ]
  },
  {
   "cell_type": "code",
   "execution_count": 240,
   "metadata": {},
   "outputs": [
    {
     "data": {
      "text/plain": [
       "5.0"
      ]
     },
     "execution_count": 240,
     "metadata": {},
     "output_type": "execute_result"
    }
   ],
   "source": [
    "abs(v1)"
   ]
  },
  {
   "cell_type": "code",
   "execution_count": 241,
   "metadata": {},
   "outputs": [
    {
     "name": "stdout",
     "output_type": "stream",
     "text": [
      "(1, 5)\n",
      "(0.7071067811865476, 0.7071067811865475)\n"
     ]
    }
   ],
   "source": [
    "from math import pi\n",
    "v2=Vector.from_iterable([1,5])\n",
    "print(v2)\n",
    "v2=Vector.from_polar(1,pi/4)\n",
    "print(v2)"
   ]
  },
  {
   "cell_type": "code",
   "execution_count": 242,
   "metadata": {},
   "outputs": [
    {
     "name": "stdout",
     "output_type": "stream",
     "text": [
      "2\n",
      "catching exception: value error\n"
     ]
    }
   ],
   "source": [
    "v3=Vector(1,2)\n",
    "print(v3.y)\n",
    "v3.y=1\n",
    "try:\n",
    "    v3.y = \"1\"\n",
    "except Exception as e:\n",
    "    print(\"catching exception:\", e)"
   ]
  },
  {
   "cell_type": "code",
   "execution_count": 243,
   "metadata": {},
   "outputs": [
    {
     "name": "stdout",
     "output_type": "stream",
     "text": [
      "(v1 == v2) = False\n",
      "(v1==[3,4])=False\n",
      "(v1==Vector(3,4))=True\n",
      "\n",
      "Test de l'addition de vecteurs:\n",
      "----------------------\n",
      "Attendu: (3.0, 4.0)+(1.0, 1)=(4.0, 5.0) \n",
      "Calculé: (3, 4)+(1, 1)=(4, 5)\n",
      "\n",
      "(4, 7)\n",
      "Unsupported operand type for +: <class 'str'> and Vecteur\n",
      "(3.7071067811865475, 4.707106781186548)\n",
      "(-3.7071067811865475, -4.707106781186548)\n",
      "1.0\n",
      "-v1=(-3.7071067811865475, -4.707106781186548) (-3.7071067811865475, -4.707106781186548)\n",
      "Vector(1,-1)*v2=1.1102230246251565e-16 (0)\n",
      "math.sqrt(2)*v2=Vector(1.0000000000000002, 1.0) (1,1)\n"
     ]
    }
   ],
   "source": [
    "import math\n",
    "v1 = Vector(3, 4)\n",
    "v2=Vector.from_polar(1,pi/4)\n",
    "print(f\"{(v1 == v2) = }\")\n",
    "print(f\"{(v1==[3,4])=}\")\n",
    "print(f\"{(v1==Vector(3,4))=}\")\n",
    "\n",
    "print(\"\\nTest de l'addition de vecteurs:\\n----------------------\")\n",
    "print(f\"Attendu: (3.0, 4.0)+(1.0, 1)=(4.0, 5.0) \\nCalculé: {v1}+{v3}={v1+v3}\\n\")\n",
    "print([1,3]+v1)\n",
    "try: \n",
    "    \"v1\"+v1 \n",
    "except Exception as e:\n",
    "    print(e)\n",
    "    \n",
    "v1+=v2\n",
    "print(v1)\n",
    "print(-v1)\n",
    "print(v2.norme)\n",
    "\n",
    "## produit (scalaire)\n",
    "print(f\"{-v1=} (-3.7071067811865475, -4.707106781186548)\")\n",
    "print(f\"{Vector(1,-1)*v2=} (0)\")\n",
    "print(f\"{math.sqrt(2)*v2=} (1,1)\")"
   ]
  },
  {
   "cell_type": "code",
   "execution_count": 247,
   "metadata": {},
   "outputs": [
    {
     "data": {
      "text/html": [
       "<div>\n",
       "<style scoped>\n",
       "    .dataframe tbody tr th:only-of-type {\n",
       "        vertical-align: middle;\n",
       "    }\n",
       "\n",
       "    .dataframe tbody tr th {\n",
       "        vertical-align: top;\n",
       "    }\n",
       "\n",
       "    .dataframe thead th {\n",
       "        text-align: right;\n",
       "    }\n",
       "</style>\n",
       "<table border=\"1\" class=\"dataframe\">\n",
       "  <thead>\n",
       "    <tr style=\"text-align: right;\">\n",
       "      <th></th>\n",
       "      <th>Name</th>\n",
       "      <th>Age</th>\n",
       "      <th>City</th>\n",
       "    </tr>\n",
       "  </thead>\n",
       "  <tbody>\n",
       "    <tr>\n",
       "      <th>a</th>\n",
       "      <td>Alice</td>\n",
       "      <td>25</td>\n",
       "      <td>New York</td>\n",
       "    </tr>\n",
       "    <tr>\n",
       "      <th>b</th>\n",
       "      <td>Bob</td>\n",
       "      <td>30</td>\n",
       "      <td>San Francisco</td>\n",
       "    </tr>\n",
       "    <tr>\n",
       "      <th>c</th>\n",
       "      <td>Charlie</td>\n",
       "      <td>35</td>\n",
       "      <td>Los Angeles</td>\n",
       "    </tr>\n",
       "  </tbody>\n",
       "</table>\n",
       "</div>"
      ],
      "text/plain": [
       "      Name  Age           City\n",
       "a    Alice   25       New York\n",
       "b      Bob   30  San Francisco\n",
       "c  Charlie   35    Los Angeles"
      ]
     },
     "metadata": {},
     "output_type": "display_data"
    },
    {
     "name": "stdout",
     "output_type": "stream",
     "text": [
      "   Age     Name\n",
      "a   25    Alice\n",
      "b   30      Bob\n",
      "c   35  Charlie\n"
     ]
    }
   ],
   "source": [
    "import pandas as pd\n",
    "\n",
    "data = {'Name': ['Alice', 'Bob', 'Charlie'],\n",
    "        'Age': [25, 30, 35],\n",
    "        'City': ['New York', 'San Francisco', 'Los Angeles']}\n",
    "\n",
    "df = pd.DataFrame(data, index=['a', 'b', 'c'])\n",
    "display(df)\n",
    "# 通过标签选择数据\n",
    "selected_data = df.loc[:, ['Age', 'Name']]\n",
    "print(selected_data)\n",
    "# 输出: 30\n",
    "\n",
    "\"\"\"\n",
    "AA_daily['time'] = pd.to_datetime(AA_daily['time'], unit='s')\n",
    "planes_per_hour = [(AA_daily_hour['time'] == hour).sum(axis=0) for hour in hours]\n",
    "\"\"\""
   ]
  },
  {
   "cell_type": "code",
   "execution_count": 259,
   "metadata": {},
   "outputs": [
    {
     "data": {
      "text/html": [
       "<div>\n",
       "<style scoped>\n",
       "    .dataframe tbody tr th:only-of-type {\n",
       "        vertical-align: middle;\n",
       "    }\n",
       "\n",
       "    .dataframe tbody tr th {\n",
       "        vertical-align: top;\n",
       "    }\n",
       "\n",
       "    .dataframe thead th {\n",
       "        text-align: right;\n",
       "    }\n",
       "</style>\n",
       "<table border=\"1\" class=\"dataframe\">\n",
       "  <thead>\n",
       "    <tr style=\"text-align: right;\">\n",
       "      <th></th>\n",
       "      <th>A</th>\n",
       "      <th>B</th>\n",
       "    </tr>\n",
       "  </thead>\n",
       "  <tbody>\n",
       "    <tr>\n",
       "      <th>0</th>\n",
       "      <td>1</td>\n",
       "      <td>4</td>\n",
       "    </tr>\n",
       "    <tr>\n",
       "      <th>1</th>\n",
       "      <td>2</td>\n",
       "      <td>5</td>\n",
       "    </tr>\n",
       "    <tr>\n",
       "      <th>2</th>\n",
       "      <td>3</td>\n",
       "      <td>6</td>\n",
       "    </tr>\n",
       "  </tbody>\n",
       "</table>\n",
       "</div>"
      ],
      "text/plain": [
       "   A  B\n",
       "0  1  4\n",
       "1  2  5\n",
       "2  3  6"
      ]
     },
     "metadata": {},
     "output_type": "display_data"
    },
    {
     "name": "stdout",
     "output_type": "stream",
     "text": [
      "A     6\n",
      "B    15\n",
      "dtype: int64\n",
      "   A  B\n",
      "1  2  5\n",
      "2  3  6\n",
      "   B\n",
      "0  4\n",
      "1  5\n",
      "2  6\n"
     ]
    }
   ],
   "source": [
    "import pandas as pd\n",
    "\n",
    "df = pd.DataFrame({'A': [1, 2, 3], 'B': [4, 5, 6]})\n",
    "display(df)\n",
    "# 对每列求和\n",
    "sum_along_columns = df.sum(axis=0)\n",
    "print(sum_along_columns)\n",
    "# 删除行\n",
    "df_dropped_rows = df.drop(axis=0, index=0)\n",
    "print(df_dropped_rows)\n",
    "df_dropped_columns = df.drop('A', axis=1)\n",
    "print(df_dropped_columns)"
   ]
  },
  {
   "cell_type": "markdown",
   "metadata": {},
   "source": [
    "value_counts() 是 Pandas 中的一个函数，用于计算一个 Series 中不同值的频数（出现次数）。这个函数返回一个包含唯一值及其对应出现次数的 Pandas Series。"
   ]
  },
  {
   "cell_type": "code",
   "execution_count": 264,
   "metadata": {},
   "outputs": [
    {
     "data": {
      "text/plain": [
       "4    4\n",
       "3    3\n",
       "7    2\n",
       "1    1\n",
       "5    1\n",
       "Name: count, dtype: int64"
      ]
     },
     "metadata": {},
     "output_type": "display_data"
    }
   ],
   "source": [
    "import pandas as pd\n",
    "\n",
    "# 创建一个包含重复值的 Series\n",
    "data = pd.Series([1, 7, 7, 3, 3, 3, 4, 4, 4, 4, 5])\n",
    "value_counts_result = data.value_counts()\n",
    "\n",
    "display(value_counts_result)\n"
   ]
  },
  {
   "cell_type": "markdown",
   "metadata": {},
   "source": [
    "merge 是 Pandas 中用于合并（连接）两个数据框的函数。它类似于 SQL 中的 JOIN 操作，允许你基于某个条件将两个数据框的行合并在一起。\n",
    "\n",
    "基本的语法如下\n",
    "\n",
    "```python\n",
    "pd.merge(left, right, how='inner', on=None, left_on=None, right_on=None, \n",
    "         left_index=False, right_index=False, suffixes=('_left', '_right'), sort=False)\n",
    "```\n",
    "\n",
    "其中：\n",
    "\n",
    "left 和 right 是要合并的两个数据框。\n",
    "\n",
    "how 指定了合并方式，可选值包括 'left'、'right'、'outer'、'inner' 等，默认为 'inner'。\n",
    "\n",
    "on 是用于合并的列（如果两个数据框的列名相同）。\n",
    "\n",
    "left_on 和 right_on 分别是左右数据框中用于合并的列，如果它们的列名不同。\n",
    "\n",
    "left_index 和 right_index 分别表示是否使用左右数据框的索引进行合并。\n",
    "\n",
    "suffixes 是用于解决列名冲突时的后缀。"
   ]
  },
  {
   "cell_type": "code",
   "execution_count": 265,
   "metadata": {},
   "outputs": [
    {
     "name": "stdout",
     "output_type": "stream",
     "text": [
      "  key  value_x  value_y\n",
      "0   B        2        5\n",
      "1   D        4        6\n"
     ]
    }
   ],
   "source": [
    "import pandas as pd\n",
    "\n",
    "# 创建两个数据框\n",
    "df1 = pd.DataFrame({'key': ['A', 'B', 'C', 'D'], 'value': [1, 2, 3, 4]})\n",
    "df2 = pd.DataFrame({'key': ['B', 'D', 'E', 'F'], 'value': [5, 6, 7, 8]})\n",
    "\n",
    "# 使用 'key' 列进行内连接\n",
    "merged_df = pd.merge(df1, df2, on='key', how='inner')\n",
    "\n",
    "print(merged_df)\n"
   ]
  },
  {
   "cell_type": "markdown",
   "metadata": {},
   "source": [
    "如果你想按行合并两个数据框，可以使用 `concat` 函数。`concat` 允许你在行方向上将两个数据框连接在一起。\n",
    "\n",
    "基本的语法如下：\n",
    "\n",
    "```python\n",
    "pd.concat([df1, df2], axis=0, ignore_index=True)\n",
    "```\n",
    "\n",
    "其中：\n",
    "\n",
    "- `df1` 和 `df2` 是要连接的两个数据框。\n",
    "- `axis=0` 表示在行方向上连接。\n",
    "- `ignore_index=True` 表示重新索引结果数据框的行。"
   ]
  },
  {
   "cell_type": "code",
   "execution_count": 266,
   "metadata": {},
   "outputs": [
    {
     "name": "stdout",
     "output_type": "stream",
     "text": [
      "   A  B\n",
      "0  1  3\n",
      "1  2  4\n",
      "2  5  7\n",
      "3  6  8\n"
     ]
    }
   ],
   "source": [
    "import pandas as pd\n",
    "\n",
    "# 创建两个数据框\n",
    "df1 = pd.DataFrame({'A': [1, 2], 'B': [3, 4]})\n",
    "df2 = pd.DataFrame({'A': [5, 6], 'B': [7, 8]})\n",
    "\n",
    "# 按行连接\n",
    "concatenated_df = pd.concat([df1, df2], axis=0, ignore_index=True)\n",
    "\n",
    "print(concatenated_df)\n"
   ]
  },
  {
   "cell_type": "markdown",
   "metadata": {},
   "source": [
    "\n",
    "reset_index(drop=True) 是 Pandas 中用于重置数据框索引的方法。具体来说，它将当前的索引列重置为默认的整数索引，并丢弃之前的索引列。\n",
    "\n",
    "reset_index()：默认情况下，会将当前的索引列变成新的一列，并使用默认的整数索引。\n",
    "\n",
    "reset_index(drop=True)：与默认相比，drop=True 会丢弃原来的索引列，只保留默认的整数索引。"
   ]
  },
  {
   "cell_type": "markdown",
   "metadata": {},
   "source": [
    "# <mark>**Test**</mark>"
   ]
  },
  {
   "cell_type": "code",
   "execution_count": null,
   "metadata": {},
   "outputs": [],
   "source": [
    "import random\n",
    "\n",
    "class MatCooPure:\n",
    "    def __init__(self, n, m, n_non_nul):\n",
    "        self.n = n\n",
    "        self.m = m\n",
    "        self.n_non_nul = n_non_nul\n",
    "        self.data = [(random.randint(1, 10), random.randint(0, n-1), random.randint(0, m-1)) for _ in range(n_non_nul)]\n",
    "\n",
    "    @classmethod\n",
    "    def identity(cls, size):\n",
    "        return cls(size, size, size)\n",
    "\n",
    "    def display(self):\n",
    "        print(f\"Dimensions: ({self.n}, {self.m})\")\n",
    "        print(\"Non-zero entries:\")\n",
    "        for val, row, col in self.data:\n",
    "            print(f\"({row}, {col}): {val}\")\n",
    "        print()\n",
    "\n",
    "    def naive_matrix_vector_product(self, vector):\n",
    "        result = [0] * self.n\n",
    "        for val, row, col in self.data:\n",
    "            result[row] += val * vector[col]\n",
    "        return result\n",
    "\n",
    "# Test de MatCooPure\n",
    "mat_coo_pure = MatCooPure(3, 3, 3)\n",
    "mat_coo_pure.display()\n",
    "\n",
    "identity_mat_coo_pure = MatCooPure.identity(3)\n",
    "identity_mat_coo_pure.display()\n"
   ]
  },
  {
   "cell_type": "code",
   "execution_count": null,
   "metadata": {},
   "outputs": [],
   "source": [
    "import numpy as np\n",
    "\n",
    "class MatCooNumpy:\n",
    "    def __init__(self, n, m, n_non_nul):\n",
    "        self.n = n\n",
    "        self.m = m\n",
    "        self.n_non_nul = n_non_nul\n",
    "        self.data = np.array([(random.randint(1, 10), random.randint(0, n-1), random.randint(0, m-1)) for _ in range(n_non_nul)])\n",
    "\n",
    "    @classmethod\n",
    "    def identity(cls, size):\n",
    "        data = np.array([(1, i, i) for i in range(size)])\n",
    "        return cls(size, size, size)\n",
    "\n",
    "    def display(self):\n",
    "        print(f\"Dimensions: ({self.n}, {self.m})\")\n",
    "        print(\"Non-zero entries:\")\n",
    "        for val, row, col in self.data:\n",
    "            print(f\"({row}, {col}): {val}\")\n",
    "        print()\n",
    "\n",
    "    def naive_matrix_vector_product(self, vector):\n",
    "        result = np.zeros(self.n)\n",
    "        for val, row, col in self.data:\n",
    "            result[row] += val * vector[col]\n",
    "        return result\n",
    "\n",
    "# Test de MatCooNumpy\n",
    "mat_coo_numpy = MatCooNumpy(3, 3, 3)\n",
    "mat_coo_numpy.display()\n",
    "\n",
    "identity_mat_coo_numpy = MatCooNumpy.identity(3)\n",
    "identity_mat_coo_numpy.display()\n"
   ]
  },
  {
   "cell_type": "code",
   "execution_count": null,
   "metadata": {},
   "outputs": [],
   "source": [
    "import pytest\n",
    "\n",
    "def test_identity_matrix():\n",
    "    mat = MatCooPure.identity(3)\n",
    "    assert mat.n == 3\n",
    "    assert mat.m == 3\n",
    "    assert mat.n_non_nul == 3\n",
    "    assert len(mat.data) == 3\n",
    "    assert mat.naive_matrix_vector_product([1, 2, 3]) == [1, 2, 3]\n",
    "\n",
    "def test_naive_matrix_vector_product():\n",
    "    mat = MatCooPure(2, 2, 2)\n",
    "    mat.data = [(2, 0, 0), (3, 1, 1)]\n",
    "    result = mat.naive_matrix_vector_product([1, 2])\n",
    "    assert result == [2, 6]\n",
    "\n",
    "# 运行测试：在终端中运行 pytest 脚本名称.py\n"
   ]
  },
  {
   "cell_type": "code",
   "execution_count": null,
   "metadata": {},
   "outputs": [],
   "source": [
    "import unittest\n",
    "\n",
    "class TestMatCooPure(unittest.TestCase):\n",
    "    def test_identity_matrix(self):\n",
    "        mat = MatCooPure.identity(3)\n",
    "        self.assertEqual(mat.n, 3)\n",
    "        self.assertEqual(mat.m, 3)\n",
    "        self.assertEqual(mat.n_non_nul, 3)\n",
    "        self.assertEqual(len(mat.data), 3)\n",
    "        self.assertEqual(mat.naive_matrix_vector_product([1, 2, 3]), [1, 2, 3])\n",
    "\n",
    "    def test_naive_matrix_vector_product(self):\n",
    "        mat = MatCooPure(2, 2, 2)\n",
    "        mat.data = [(2, 0, 0), (3, 1, 1)]\n",
    "        result = mat.naive_matrix_vector_product([1, 2])\n",
    "        self.assertEqual(result, [2, 6])\n",
    "\n",
    "# 在脚本的末尾添加以下代码运行测试\n",
    "if __name__ == '__main__':\n",
    "    unittest.main()\n"
   ]
  },
  {
   "cell_type": "code",
   "execution_count": null,
   "metadata": {},
   "outputs": [],
   "source": [
    "import doctest\n",
    "\n",
    "class MatCooPure:\n",
    "    \"\"\"\n",
    "    A simple class representing a sparse matrix in COO format.\n",
    "\n",
    "    >>> mat = MatCooPure(3, 3, 3)\n",
    "    >>> mat.display()\n",
    "    Dimensions: (3, 3)\n",
    "    Non-zero entries:\n",
    "    (1, 0): 4\n",
    "    (0, 2): 6\n",
    "    (2, 2): 7\n",
    "\n",
    "    >>> identity_mat = MatCooPure.identity(3)\n",
    "    >>> identity_mat.display()\n",
    "    Dimensions: (3, 3)\n",
    "    Non-zero entries:\n",
    "    (0, 0): 1\n",
    "    (1, 1): 1\n",
    "    (2, 2): 1\n",
    "\n",
    "    >>> vector = [1, 2, 3]\n",
    "    >>> mat.naive_matrix_vector_product(vector)\n",
    "    [8, 0, 21]\n",
    "    \"\"\"\n",
    "\n",
    "    # ... (previous implementation)\n",
    "\n",
    "if __name__ == '__main__':\n",
    "    doctest.testmod()\n"
   ]
  }
 ],
 "metadata": {
  "kernelspec": {
   "display_name": "base",
   "language": "python",
   "name": "python3"
  },
  "language_info": {
   "codemirror_mode": {
    "name": "ipython",
    "version": 3
   },
   "file_extension": ".py",
   "mimetype": "text/x-python",
   "name": "python",
   "nbconvert_exporter": "python",
   "pygments_lexer": "ipython3",
   "version": "3.11.5"
  }
 },
 "nbformat": 4,
 "nbformat_minor": 2
}
