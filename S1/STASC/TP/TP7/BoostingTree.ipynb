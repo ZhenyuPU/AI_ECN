{
 "cells": [
  {
   "cell_type": "markdown",
   "metadata": {},
   "source": [
    "# Boosting Trees"
   ]
  },
  {
   "cell_type": "code",
   "execution_count": 1,
   "metadata": {
    "scrolled": true
   },
   "outputs": [],
   "source": [
    "%matplotlib inline\n",
    "from pylab import *\n",
    "import pandas as pd\n",
    "from sklearn import preprocessing \n",
    "from sklearn.model_selection import train_test_split"
   ]
  },
  {
   "cell_type": "markdown",
   "metadata": {},
   "source": [
    "## Gradient Boosting "
   ]
  },
  {
   "cell_type": "markdown",
   "metadata": {},
   "source": [
    "Commencons ajuster un regresseur par gradient boosting sur des familles d'arbres."
   ]
  },
  {
   "cell_type": "code",
   "execution_count": 2,
   "metadata": {},
   "outputs": [],
   "source": [
    "from sklearn.tree import DecisionTreeRegressor\n",
    "from sklearn.datasets import fetch_california_housing\n",
    "california_housing = fetch_california_housing(as_frame=True)"
   ]
  },
  {
   "cell_type": "code",
   "execution_count": 3,
   "metadata": {},
   "outputs": [
    {
     "name": "stdout",
     "output_type": "stream",
     "text": [
      ".. _california_housing_dataset:\n",
      "\n",
      "California Housing dataset\n",
      "--------------------------\n",
      "\n",
      "**Data Set Characteristics:**\n",
      "\n",
      "    :Number of Instances: 20640\n",
      "\n",
      "    :Number of Attributes: 8 numeric, predictive attributes and the target\n",
      "\n",
      "    :Attribute Information:\n",
      "        - MedInc        median income in block group\n",
      "        - HouseAge      median house age in block group\n",
      "        - AveRooms      average number of rooms per household\n",
      "        - AveBedrms     average number of bedrooms per household\n",
      "        - Population    block group population\n",
      "        - AveOccup      average number of household members\n",
      "        - Latitude      block group latitude\n",
      "        - Longitude     block group longitude\n",
      "\n",
      "    :Missing Attribute Values: None\n",
      "\n",
      "This dataset was obtained from the StatLib repository.\n",
      "https://www.dcc.fc.up.pt/~ltorgo/Regression/cal_housing.html\n",
      "\n",
      "The target variable is the median house value for California districts,\n",
      "expressed in hundreds of thousands of dollars ($100,000).\n",
      "\n",
      "This dataset was derived from the 1990 U.S. census, using one row per census\n",
      "block group. A block group is the smallest geographical unit for which the U.S.\n",
      "Census Bureau publishes sample data (a block group typically has a population\n",
      "of 600 to 3,000 people).\n",
      "\n",
      "A household is a group of people residing within a home. Since the average\n",
      "number of rooms and bedrooms in this dataset are provided per household, these\n",
      "columns may take surprisingly large values for block groups with few households\n",
      "and many empty houses, such as vacation resorts.\n",
      "\n",
      "It can be downloaded/loaded using the\n",
      ":func:`sklearn.datasets.fetch_california_housing` function.\n",
      "\n",
      ".. topic:: References\n",
      "\n",
      "    - Pace, R. Kelley and Ronald Barry, Sparse Spatial Autoregressions,\n",
      "      Statistics and Probability Letters, 33 (1997) 291-297\n",
      "\n"
     ]
    }
   ],
   "source": [
    "print(california_housing.DESCR)"
   ]
  },
  {
   "cell_type": "code",
   "execution_count": 4,
   "metadata": {},
   "outputs": [
    {
     "data": {
      "text/html": [
       "<div>\n",
       "<style scoped>\n",
       "    .dataframe tbody tr th:only-of-type {\n",
       "        vertical-align: middle;\n",
       "    }\n",
       "\n",
       "    .dataframe tbody tr th {\n",
       "        vertical-align: top;\n",
       "    }\n",
       "\n",
       "    .dataframe thead th {\n",
       "        text-align: right;\n",
       "    }\n",
       "</style>\n",
       "<table border=\"1\" class=\"dataframe\">\n",
       "  <thead>\n",
       "    <tr style=\"text-align: right;\">\n",
       "      <th></th>\n",
       "      <th>MedInc</th>\n",
       "      <th>HouseAge</th>\n",
       "      <th>AveRooms</th>\n",
       "      <th>AveBedrms</th>\n",
       "      <th>Population</th>\n",
       "      <th>AveOccup</th>\n",
       "      <th>Latitude</th>\n",
       "      <th>Longitude</th>\n",
       "      <th>MedHouseVal</th>\n",
       "    </tr>\n",
       "  </thead>\n",
       "  <tbody>\n",
       "    <tr>\n",
       "      <th>0</th>\n",
       "      <td>8.3252</td>\n",
       "      <td>41.0</td>\n",
       "      <td>6.984127</td>\n",
       "      <td>1.023810</td>\n",
       "      <td>322.0</td>\n",
       "      <td>2.555556</td>\n",
       "      <td>37.88</td>\n",
       "      <td>-122.23</td>\n",
       "      <td>4.526</td>\n",
       "    </tr>\n",
       "    <tr>\n",
       "      <th>1</th>\n",
       "      <td>8.3014</td>\n",
       "      <td>21.0</td>\n",
       "      <td>6.238137</td>\n",
       "      <td>0.971880</td>\n",
       "      <td>2401.0</td>\n",
       "      <td>2.109842</td>\n",
       "      <td>37.86</td>\n",
       "      <td>-122.22</td>\n",
       "      <td>3.585</td>\n",
       "    </tr>\n",
       "    <tr>\n",
       "      <th>2</th>\n",
       "      <td>7.2574</td>\n",
       "      <td>52.0</td>\n",
       "      <td>8.288136</td>\n",
       "      <td>1.073446</td>\n",
       "      <td>496.0</td>\n",
       "      <td>2.802260</td>\n",
       "      <td>37.85</td>\n",
       "      <td>-122.24</td>\n",
       "      <td>3.521</td>\n",
       "    </tr>\n",
       "    <tr>\n",
       "      <th>3</th>\n",
       "      <td>5.6431</td>\n",
       "      <td>52.0</td>\n",
       "      <td>5.817352</td>\n",
       "      <td>1.073059</td>\n",
       "      <td>558.0</td>\n",
       "      <td>2.547945</td>\n",
       "      <td>37.85</td>\n",
       "      <td>-122.25</td>\n",
       "      <td>3.413</td>\n",
       "    </tr>\n",
       "    <tr>\n",
       "      <th>4</th>\n",
       "      <td>3.8462</td>\n",
       "      <td>52.0</td>\n",
       "      <td>6.281853</td>\n",
       "      <td>1.081081</td>\n",
       "      <td>565.0</td>\n",
       "      <td>2.181467</td>\n",
       "      <td>37.85</td>\n",
       "      <td>-122.25</td>\n",
       "      <td>3.422</td>\n",
       "    </tr>\n",
       "  </tbody>\n",
       "</table>\n",
       "</div>"
      ],
      "text/plain": [
       "   MedInc  HouseAge  AveRooms  AveBedrms  Population  AveOccup  Latitude  \\\n",
       "0  8.3252      41.0  6.984127   1.023810       322.0  2.555556     37.88   \n",
       "1  8.3014      21.0  6.238137   0.971880      2401.0  2.109842     37.86   \n",
       "2  7.2574      52.0  8.288136   1.073446       496.0  2.802260     37.85   \n",
       "3  5.6431      52.0  5.817352   1.073059       558.0  2.547945     37.85   \n",
       "4  3.8462      52.0  6.281853   1.081081       565.0  2.181467     37.85   \n",
       "\n",
       "   Longitude  MedHouseVal  \n",
       "0    -122.23        4.526  \n",
       "1    -122.22        3.585  \n",
       "2    -122.24        3.521  \n",
       "3    -122.25        3.413  \n",
       "4    -122.25        3.422  "
      ]
     },
     "execution_count": 4,
     "metadata": {},
     "output_type": "execute_result"
    }
   ],
   "source": [
    "california_housing.frame.head()"
   ]
  },
  {
   "cell_type": "markdown",
   "metadata": {},
   "source": [
    "####  Préparation des données Housing"
   ]
  },
  {
   "cell_type": "code",
   "execution_count": 7,
   "metadata": {
    "scrolled": true
   },
   "outputs": [
    {
     "name": "stdout",
     "output_type": "stream",
     "text": [
      "(20640, 8)\n"
     ]
    },
    {
     "data": {
      "text/html": [
       "<div>\n",
       "<style scoped>\n",
       "    .dataframe tbody tr th:only-of-type {\n",
       "        vertical-align: middle;\n",
       "    }\n",
       "\n",
       "    .dataframe tbody tr th {\n",
       "        vertical-align: top;\n",
       "    }\n",
       "\n",
       "    .dataframe thead th {\n",
       "        text-align: right;\n",
       "    }\n",
       "</style>\n",
       "<table border=\"1\" class=\"dataframe\">\n",
       "  <thead>\n",
       "    <tr style=\"text-align: right;\">\n",
       "      <th></th>\n",
       "      <th>MedInc</th>\n",
       "      <th>HouseAge</th>\n",
       "      <th>AveRooms</th>\n",
       "      <th>AveBedrms</th>\n",
       "      <th>Population</th>\n",
       "      <th>AveOccup</th>\n",
       "      <th>Latitude</th>\n",
       "      <th>Longitude</th>\n",
       "    </tr>\n",
       "  </thead>\n",
       "  <tbody>\n",
       "    <tr>\n",
       "      <th>0</th>\n",
       "      <td>8.3252</td>\n",
       "      <td>41.0</td>\n",
       "      <td>6.984127</td>\n",
       "      <td>1.023810</td>\n",
       "      <td>322.0</td>\n",
       "      <td>2.555556</td>\n",
       "      <td>37.88</td>\n",
       "      <td>-122.23</td>\n",
       "    </tr>\n",
       "    <tr>\n",
       "      <th>1</th>\n",
       "      <td>8.3014</td>\n",
       "      <td>21.0</td>\n",
       "      <td>6.238137</td>\n",
       "      <td>0.971880</td>\n",
       "      <td>2401.0</td>\n",
       "      <td>2.109842</td>\n",
       "      <td>37.86</td>\n",
       "      <td>-122.22</td>\n",
       "    </tr>\n",
       "    <tr>\n",
       "      <th>2</th>\n",
       "      <td>7.2574</td>\n",
       "      <td>52.0</td>\n",
       "      <td>8.288136</td>\n",
       "      <td>1.073446</td>\n",
       "      <td>496.0</td>\n",
       "      <td>2.802260</td>\n",
       "      <td>37.85</td>\n",
       "      <td>-122.24</td>\n",
       "    </tr>\n",
       "    <tr>\n",
       "      <th>3</th>\n",
       "      <td>5.6431</td>\n",
       "      <td>52.0</td>\n",
       "      <td>5.817352</td>\n",
       "      <td>1.073059</td>\n",
       "      <td>558.0</td>\n",
       "      <td>2.547945</td>\n",
       "      <td>37.85</td>\n",
       "      <td>-122.25</td>\n",
       "    </tr>\n",
       "    <tr>\n",
       "      <th>4</th>\n",
       "      <td>3.8462</td>\n",
       "      <td>52.0</td>\n",
       "      <td>6.281853</td>\n",
       "      <td>1.081081</td>\n",
       "      <td>565.0</td>\n",
       "      <td>2.181467</td>\n",
       "      <td>37.85</td>\n",
       "      <td>-122.25</td>\n",
       "    </tr>\n",
       "    <tr>\n",
       "      <th>...</th>\n",
       "      <td>...</td>\n",
       "      <td>...</td>\n",
       "      <td>...</td>\n",
       "      <td>...</td>\n",
       "      <td>...</td>\n",
       "      <td>...</td>\n",
       "      <td>...</td>\n",
       "      <td>...</td>\n",
       "    </tr>\n",
       "    <tr>\n",
       "      <th>20635</th>\n",
       "      <td>1.5603</td>\n",
       "      <td>25.0</td>\n",
       "      <td>5.045455</td>\n",
       "      <td>1.133333</td>\n",
       "      <td>845.0</td>\n",
       "      <td>2.560606</td>\n",
       "      <td>39.48</td>\n",
       "      <td>-121.09</td>\n",
       "    </tr>\n",
       "    <tr>\n",
       "      <th>20636</th>\n",
       "      <td>2.5568</td>\n",
       "      <td>18.0</td>\n",
       "      <td>6.114035</td>\n",
       "      <td>1.315789</td>\n",
       "      <td>356.0</td>\n",
       "      <td>3.122807</td>\n",
       "      <td>39.49</td>\n",
       "      <td>-121.21</td>\n",
       "    </tr>\n",
       "    <tr>\n",
       "      <th>20637</th>\n",
       "      <td>1.7000</td>\n",
       "      <td>17.0</td>\n",
       "      <td>5.205543</td>\n",
       "      <td>1.120092</td>\n",
       "      <td>1007.0</td>\n",
       "      <td>2.325635</td>\n",
       "      <td>39.43</td>\n",
       "      <td>-121.22</td>\n",
       "    </tr>\n",
       "    <tr>\n",
       "      <th>20638</th>\n",
       "      <td>1.8672</td>\n",
       "      <td>18.0</td>\n",
       "      <td>5.329513</td>\n",
       "      <td>1.171920</td>\n",
       "      <td>741.0</td>\n",
       "      <td>2.123209</td>\n",
       "      <td>39.43</td>\n",
       "      <td>-121.32</td>\n",
       "    </tr>\n",
       "    <tr>\n",
       "      <th>20639</th>\n",
       "      <td>2.3886</td>\n",
       "      <td>16.0</td>\n",
       "      <td>5.254717</td>\n",
       "      <td>1.162264</td>\n",
       "      <td>1387.0</td>\n",
       "      <td>2.616981</td>\n",
       "      <td>39.37</td>\n",
       "      <td>-121.24</td>\n",
       "    </tr>\n",
       "  </tbody>\n",
       "</table>\n",
       "<p>20640 rows × 8 columns</p>\n",
       "</div>"
      ],
      "text/plain": [
       "       MedInc  HouseAge  AveRooms  AveBedrms  Population  AveOccup  Latitude  \\\n",
       "0      8.3252      41.0  6.984127   1.023810       322.0  2.555556     37.88   \n",
       "1      8.3014      21.0  6.238137   0.971880      2401.0  2.109842     37.86   \n",
       "2      7.2574      52.0  8.288136   1.073446       496.0  2.802260     37.85   \n",
       "3      5.6431      52.0  5.817352   1.073059       558.0  2.547945     37.85   \n",
       "4      3.8462      52.0  6.281853   1.081081       565.0  2.181467     37.85   \n",
       "...       ...       ...       ...        ...         ...       ...       ...   \n",
       "20635  1.5603      25.0  5.045455   1.133333       845.0  2.560606     39.48   \n",
       "20636  2.5568      18.0  6.114035   1.315789       356.0  3.122807     39.49   \n",
       "20637  1.7000      17.0  5.205543   1.120092      1007.0  2.325635     39.43   \n",
       "20638  1.8672      18.0  5.329513   1.171920       741.0  2.123209     39.43   \n",
       "20639  2.3886      16.0  5.254717   1.162264      1387.0  2.616981     39.37   \n",
       "\n",
       "       Longitude  \n",
       "0        -122.23  \n",
       "1        -122.22  \n",
       "2        -122.24  \n",
       "3        -122.25  \n",
       "4        -122.25  \n",
       "...          ...  \n",
       "20635    -121.09  \n",
       "20636    -121.21  \n",
       "20637    -121.22  \n",
       "20638    -121.32  \n",
       "20639    -121.24  \n",
       "\n",
       "[20640 rows x 8 columns]"
      ]
     },
     "metadata": {},
     "output_type": "display_data"
    },
    {
     "data": {
      "text/plain": [
       "0        4.526\n",
       "1        3.585\n",
       "2        3.521\n",
       "3        3.413\n",
       "4        3.422\n",
       "         ...  \n",
       "20635    0.781\n",
       "20636    0.771\n",
       "20637    0.923\n",
       "20638    0.847\n",
       "20639    0.894\n",
       "Name: MedHouseVal, Length: 20640, dtype: float64"
      ]
     },
     "metadata": {},
     "output_type": "display_data"
    }
   ],
   "source": [
    "X_housing = california_housing.data\n",
    "Y_housing = california_housing.target\n",
    "print(shape(X_housing))\n",
    "display(X_housing)\n",
    "display(Y_housing)"
   ]
  },
  {
   "cell_type": "markdown",
   "metadata": {},
   "source": [
    "Pour éviter que les temps de calcul soient trop longs, nous allons travailler avec un sous échantillon:"
   ]
  },
  {
   "cell_type": "code",
   "execution_count": 6,
   "metadata": {},
   "outputs": [],
   "source": [
    "from sklearn.utils import resample\n",
    "X_housing, Y_housing  = resample(X_housing,Y_housing, n_samples = 2000, replace = False)"
   ]
  },
  {
   "cell_type": "markdown",
   "metadata": {},
   "source": [
    "Découpage train / test :"
   ]
  },
  {
   "cell_type": "code",
   "execution_count": 7,
   "metadata": {
    "scrolled": true
   },
   "outputs": [],
   "source": [
    "X_housing_train, X_housing_test, y_housing_train, y_housing_test = \\\n",
    "train_test_split(X_housing,Y_housing,test_size=0.5)"
   ]
  },
  {
   "cell_type": "markdown",
   "metadata": {},
   "source": [
    "Importation des fonctions Gradient Boosting de sckit-learn et de la fonction `mean_squared_error` pour le calcul des erreurs quadratique moyennes."
   ]
  },
  {
   "cell_type": "code",
   "execution_count": 8,
   "metadata": {},
   "outputs": [],
   "source": [
    "from sklearn.ensemble import GradientBoostingRegressor\n",
    "from sklearn.metrics import mean_squared_error"
   ]
  },
  {
   "cell_type": "markdown",
   "metadata": {},
   "source": [
    "Nous ajustons maintenant un modèle GBM avec les paramètres proposés ci-dessous.\n",
    "\n",
    "> Retrouver la signification de chacun des paramètres."
   ]
  },
  {
   "cell_type": "code",
   "execution_count": 9,
   "metadata": {},
   "outputs": [
    {
     "name": "stdout",
     "output_type": "stream",
     "text": [
      "GradientBoostingRegressor(max_depth=8, min_samples_split=4, n_estimators=500)\n"
     ]
    }
   ],
   "source": [
    "GBM = GradientBoostingRegressor(n_estimators=500,\n",
    "                                         max_depth=8,\n",
    "                                         min_samples_split= 4,\n",
    "                                         learning_rate=0.1,\n",
    "                                         loss='squared_error')\n",
    "print(GBM)"
   ]
  },
  {
   "cell_type": "markdown",
   "metadata": {},
   "source": []
  },
  {
   "cell_type": "markdown",
   "metadata": {},
   "source": [
    "Pour calculer l'erreur mse sur le test (aussi appelée deviance dans la doc) :"
   ]
  },
  {
   "cell_type": "code",
   "execution_count": 10,
   "metadata": {},
   "outputs": [
    {
     "name": "stdout",
     "output_type": "stream",
     "text": [
      "0.41265724843034224\n"
     ]
    }
   ],
   "source": [
    "GBM.fit(X_housing_train, y_housing_train)\n",
    "mse = mean_squared_error(y_housing_test,\n",
    "                         GBM.predict(X_housing_test))\n",
    "print(mse)"
   ]
  },
  {
   "cell_type": "markdown",
   "metadata": {},
   "source": [
    "Attention : le score renvoyé ci-dessous est un $R^2$ i.e. variance expliquée par le prédicteur / variance totale de $Y$, voir [ici](https://scikit-learn.org/stable/modules/model_evaluation.html#r2-score-the-coefficient-of-determination)."
   ]
  },
  {
   "cell_type": "code",
   "execution_count": 11,
   "metadata": {},
   "outputs": [
    {
     "name": "stdout",
     "output_type": "stream",
     "text": [
      "0.7029426860580472\n"
     ]
    }
   ],
   "source": [
    "print(GBM.score(X_housing_test, y_housing_test))"
   ]
  },
  {
   "cell_type": "markdown",
   "metadata": {},
   "source": [
    "Quelques principes à retenir:\n",
    "+ Plus on ajuste d'arbres, plus le cout computationnel est élevé.\n",
    "+ le nombre d'arbres correspond au nombre d'itérations.\n",
    "+ Un taux d'apprentissage petit nécessitera plus d'arbres.\n",
    "+ Un taux d'apprentissage trop élevé fera des sauts de gradients potentiellement trop grands, et au bout d'un certain nombre d'itérations il sera  difficile d'améliorer les scores.\n",
    "+ Une bonne pratique consiste à choisir d'abord un taux d'apprentissage pas trop faible (pour ne pas faire exploser le nombre d'arbres) et à le diminuer ensuite, une fois ajustés les autres paramètres (nb de noeuds, profondeur ...)."
   ]
  },
  {
   "cell_type": "markdown",
   "metadata": {},
   "source": [
    "#### Etude des erreurs le long des itérations -  learning rate"
   ]
  },
  {
   "cell_type": "markdown",
   "metadata": {},
   "source": [
    "Nous allons maintenant étudier l'évolution de la perte en fonction du nombre d'itérations.\n",
    "\n",
    "Noter que l'erreur d'apprentissage est accessible dans GBM:"
   ]
  },
  {
   "cell_type": "code",
   "execution_count": 12,
   "metadata": {},
   "outputs": [
    {
     "name": "stdout",
     "output_type": "stream",
     "text": [
      "[1.04357627e+00 8.73302943e-01 7.37059884e-01 6.21691036e-01\n",
      " 5.24950068e-01 4.41812990e-01 3.76829598e-01 3.19625698e-01\n",
      " 2.71658693e-01 2.33849405e-01 2.01417371e-01 1.76518884e-01\n",
      " 1.51719424e-01 1.32234175e-01 1.15370126e-01 1.01835882e-01\n",
      " 8.84022742e-02 7.81591410e-02 6.92308452e-02 6.11374189e-02\n",
      " 5.41530970e-02 4.86334976e-02 4.35608493e-02 3.90200488e-02\n",
      " 3.48362675e-02 3.15288606e-02 2.86110825e-02 2.64804072e-02\n",
      " 2.40699002e-02 2.20844780e-02 2.04642498e-02 1.88915826e-02\n",
      " 1.74505958e-02 1.62849629e-02 1.54039505e-02 1.45269593e-02\n",
      " 1.34940935e-02 1.25100807e-02 1.16197876e-02 1.09639713e-02\n",
      " 1.05412394e-02 9.86932601e-03 9.20627718e-03 8.79469582e-03\n",
      " 8.28401578e-03 7.99068828e-03 7.48681572e-03 7.11606720e-03\n",
      " 6.83653988e-03 6.36010089e-03 6.16461802e-03 5.91964940e-03\n",
      " 5.75951441e-03 5.31949236e-03 5.08559727e-03 4.76575710e-03\n",
      " 4.58250599e-03 4.40300530e-03 4.21021288e-03 4.08074510e-03\n",
      " 3.88392431e-03 3.60037190e-03 3.43108525e-03 3.21042109e-03\n",
      " 2.99725530e-03 2.86905210e-03 2.80570598e-03 2.72004750e-03\n",
      " 2.56952261e-03 2.41750587e-03 2.28738078e-03 2.26228264e-03\n",
      " 2.13244836e-03 2.00171775e-03 1.96170758e-03 1.89831272e-03\n",
      " 1.82154044e-03 1.74018783e-03 1.72117828e-03 1.63482699e-03\n",
      " 1.55888626e-03 1.50468346e-03 1.45783081e-03 1.44096120e-03\n",
      " 1.41862675e-03 1.38228033e-03 1.36734824e-03 1.32953381e-03\n",
      " 1.25964462e-03 1.19875977e-03 1.17534055e-03 1.13532229e-03\n",
      " 1.12277194e-03 1.07616542e-03 1.06840874e-03 1.04255747e-03\n",
      " 9.72295518e-04 9.09687269e-04 8.86793031e-04 8.45994766e-04\n",
      " 8.20119530e-04 7.87724948e-04 7.83315638e-04 7.33998498e-04\n",
      " 7.06880257e-04 6.82779139e-04 6.65902832e-04 6.39276817e-04\n",
      " 6.02715721e-04 5.79737861e-04 5.66972998e-04 5.48436077e-04\n",
      " 5.28835483e-04 5.08080432e-04 5.03370955e-04 4.86304398e-04\n",
      " 4.81015747e-04 4.70299751e-04 4.60852675e-04 4.53154005e-04\n",
      " 4.24913147e-04 4.18173469e-04 3.93706790e-04 3.90648058e-04\n",
      " 3.86302718e-04 3.78715395e-04 3.64948199e-04 3.58639067e-04\n",
      " 3.49542181e-04 3.41550557e-04 3.31960240e-04 3.27318892e-04\n",
      " 3.02838540e-04 2.91264660e-04 2.87593147e-04 2.76755233e-04\n",
      " 2.65318884e-04 2.52268504e-04 2.35155706e-04 2.32926028e-04\n",
      " 2.25004730e-04 2.10734667e-04 2.07619496e-04 1.99071961e-04\n",
      " 1.93778787e-04 1.90236428e-04 1.85382844e-04 1.80656115e-04\n",
      " 1.79557488e-04 1.73693585e-04 1.70626193e-04 1.64229705e-04\n",
      " 1.63861923e-04 1.61742763e-04 1.57842503e-04 1.52769016e-04\n",
      " 1.47355683e-04 1.43768706e-04 1.42923714e-04 1.39271882e-04\n",
      " 1.36333124e-04 1.34580773e-04 1.30151998e-04 1.28343426e-04\n",
      " 1.26496932e-04 1.20558780e-04 1.16823275e-04 1.13310386e-04\n",
      " 1.08680769e-04 1.06688229e-04 1.04047173e-04 1.02285950e-04\n",
      " 9.84410542e-05 9.37135742e-05 9.03549471e-05 8.68060577e-05\n",
      " 8.36973216e-05 8.02073176e-05 7.86935348e-05 7.50462484e-05\n",
      " 7.42331031e-05 7.01788381e-05 6.95256960e-05 6.79905446e-05\n",
      " 6.36701734e-05 6.10282817e-05 5.91024111e-05 5.85601943e-05\n",
      " 5.80207049e-05 5.62886005e-05 5.61339880e-05 5.39845092e-05\n",
      " 5.31133215e-05 5.06855993e-05 4.96843105e-05 4.93652652e-05\n",
      " 4.72893900e-05 4.56799741e-05 4.31398642e-05 4.24128049e-05\n",
      " 4.19489593e-05 4.12343727e-05 3.97166837e-05 3.87408685e-05\n",
      " 3.77506303e-05 3.70740456e-05 3.65580914e-05 3.62913591e-05\n",
      " 3.56961524e-05 3.45365201e-05 3.29148298e-05 3.13789189e-05\n",
      " 3.07027304e-05 2.93884679e-05 2.90551746e-05 2.80577213e-05\n",
      " 2.73917469e-05 2.67274945e-05 2.61310517e-05 2.51251239e-05\n",
      " 2.48898179e-05 2.38468136e-05 2.34532462e-05 2.30090843e-05\n",
      " 2.21166926e-05 2.15751554e-05 2.11462431e-05 2.04457558e-05\n",
      " 1.98747871e-05 1.93359218e-05 1.84978715e-05 1.79858752e-05\n",
      " 1.70318128e-05 1.62462564e-05 1.54808822e-05 1.51946821e-05\n",
      " 1.48149558e-05 1.45896992e-05 1.41045376e-05 1.38095351e-05\n",
      " 1.32475045e-05 1.30031259e-05 1.28902811e-05 1.25387907e-05\n",
      " 1.20130423e-05 1.17305132e-05 1.15089539e-05 1.12772774e-05\n",
      " 1.10848387e-05 1.06682646e-05 1.01492233e-05 9.45973702e-06\n",
      " 9.13222869e-06 8.83186602e-06 8.59281742e-06 8.26857069e-06\n",
      " 8.11760083e-06 7.82445063e-06 7.58242624e-06 7.39388135e-06\n",
      " 7.10256587e-06 6.77418392e-06 6.63060671e-06 6.31739010e-06\n",
      " 6.18402614e-06 5.83780764e-06 5.79243405e-06 5.72523329e-06\n",
      " 5.51461323e-06 5.39479447e-06 5.15059429e-06 4.99843207e-06\n",
      " 4.75820523e-06 4.67870261e-06 4.48546784e-06 4.33342606e-06\n",
      " 4.10133316e-06 4.04930137e-06 3.82253324e-06 3.69596636e-06\n",
      " 3.55306292e-06 3.39018019e-06 3.34387712e-06 3.32143518e-06\n",
      " 3.14132642e-06 3.00817271e-06 2.97852435e-06 2.88618039e-06\n",
      " 2.72215412e-06 2.69265056e-06 2.67668913e-06 2.58905845e-06\n",
      " 2.44068296e-06 2.38120489e-06 2.30037541e-06 2.20571969e-06\n",
      " 2.19229050e-06 2.14716257e-06 2.09734350e-06 2.05145861e-06\n",
      " 1.98607930e-06 1.96737686e-06 1.89778357e-06 1.82799438e-06\n",
      " 1.81894747e-06 1.75175725e-06 1.70135608e-06 1.63484275e-06\n",
      " 1.61234848e-06 1.53966967e-06 1.50916682e-06 1.46789300e-06\n",
      " 1.39450529e-06 1.36111910e-06 1.31280025e-06 1.26810908e-06\n",
      " 1.21088760e-06 1.17750746e-06 1.14421329e-06 1.13091232e-06\n",
      " 1.07457019e-06 1.03171330e-06 1.01715023e-06 9.95808145e-07\n",
      " 9.80546702e-07 9.58341237e-07 9.31733838e-07 9.12905880e-07\n",
      " 9.00269480e-07 8.83247599e-07 8.64082377e-07 8.38747729e-07\n",
      " 8.21669430e-07 8.09657289e-07 7.83476516e-07 7.70646372e-07\n",
      " 7.59435247e-07 7.51156357e-07 7.30196963e-07 7.10014114e-07\n",
      " 6.96447626e-07 6.76823755e-07 6.53001425e-07 6.18649945e-07\n",
      " 5.83713967e-07 5.68870156e-07 5.54651685e-07 5.28889702e-07\n",
      " 5.11574082e-07 4.99910625e-07 4.86163467e-07 4.68409877e-07\n",
      " 4.48325523e-07 4.37666887e-07 4.18487918e-07 4.12628063e-07\n",
      " 4.01595258e-07 3.89473989e-07 3.75178261e-07 3.63684914e-07\n",
      " 3.58521610e-07 3.48967610e-07 3.38055548e-07 3.30265885e-07\n",
      " 3.23908600e-07 3.18874109e-07 3.13210774e-07 3.01712286e-07\n",
      " 2.96188345e-07 2.87824307e-07 2.83618417e-07 2.61401742e-07\n",
      " 2.58750033e-07 2.54833274e-07 2.47401770e-07 2.40035553e-07\n",
      " 2.34414290e-07 2.27474881e-07 2.22735439e-07 2.13410258e-07\n",
      " 2.07923515e-07 2.00407877e-07 1.87755879e-07 1.84854950e-07\n",
      " 1.77222134e-07 1.73878276e-07 1.68899966e-07 1.68013078e-07\n",
      " 1.59152318e-07 1.57314219e-07 1.51457070e-07 1.47991830e-07\n",
      " 1.41701570e-07 1.32920551e-07 1.30808317e-07 1.29802300e-07\n",
      " 1.28806883e-07 1.23805126e-07 1.21774500e-07 1.18673671e-07\n",
      " 1.14896149e-07 1.12345283e-07 1.11563859e-07 1.10995684e-07\n",
      " 1.04357294e-07 1.03098519e-07 1.02259397e-07 1.00140785e-07\n",
      " 9.89113759e-08 9.58026768e-08 8.83785246e-08 8.24288199e-08\n",
      " 7.85046766e-08 7.77980025e-08 7.50653100e-08 7.17943257e-08\n",
      " 6.98895482e-08 6.92252970e-08 6.83511847e-08 6.72489560e-08\n",
      " 6.56678346e-08 6.38791908e-08 6.31010520e-08 6.14709266e-08\n",
      " 5.85947682e-08 5.78572620e-08 5.65647971e-08 5.49771005e-08\n",
      " 5.40313508e-08 5.34300520e-08 5.28539696e-08 5.14472041e-08\n",
      " 4.75869033e-08 4.69698409e-08 4.55996667e-08 4.45370735e-08\n",
      " 4.32112908e-08 4.20404529e-08 4.09935224e-08 3.93478923e-08\n",
      " 3.69501709e-08 3.62720270e-08 3.53864610e-08 3.44948516e-08\n",
      " 3.41506489e-08 3.26784628e-08 3.17493614e-08 3.10424408e-08\n",
      " 2.92880670e-08 2.85665269e-08 2.73815959e-08 2.65578182e-08\n",
      " 2.52044916e-08 2.49120775e-08 2.46385320e-08 2.35788082e-08\n",
      " 2.22072218e-08 2.14318779e-08 2.06965093e-08 2.04736008e-08\n",
      " 2.02547125e-08 1.97301534e-08 1.87490122e-08 1.84239843e-08\n",
      " 1.79075563e-08 1.74121406e-08 1.71006732e-08 1.65542916e-08\n",
      " 1.59890776e-08 1.53726766e-08 1.49657150e-08 1.48473343e-08\n",
      " 1.44726046e-08 1.42908638e-08 1.38895875e-08 1.29799317e-08\n",
      " 1.25795754e-08 1.17998209e-08 1.16874580e-08 1.14435485e-08\n",
      " 1.11653533e-08 1.09181313e-08 1.06090093e-08 1.04253459e-08\n",
      " 9.66467088e-09 9.33235918e-09 9.23104573e-09 9.13326434e-09\n",
      " 8.74647315e-09 8.32005131e-09 8.12678007e-09 7.70127552e-09\n",
      " 7.41198446e-09 7.36329751e-09 7.21865162e-09 6.77054208e-09\n",
      " 6.65469536e-09 6.60606382e-09 6.30145070e-09 6.05325741e-09]\n"
     ]
    }
   ],
   "source": [
    "print(GBM.train_score_)"
   ]
  },
  {
   "cell_type": "markdown",
   "metadata": {},
   "source": [
    "Nous pouvons aussi tracer l'évolution de l'erreur de test mse (ou bien le score $R^2$) le long des itérations. En effet, pour retrouver tous les estimateurs temporaires à chaque de l'étape de l'algo, il suffit de considérer la somme tronquée du prédicteur boosting final. \n",
    "> Utiliser les méthodes `staged_predict()` et `loss_()` de la classe `GradientBoostingRegressor` pour afficher l'erreur de test en fonction du nombre d'itérations. Comparer avec l'erreur sur le train. \n"
   ]
  },
  {
   "cell_type": "code",
   "execution_count": 26,
   "metadata": {},
   "outputs": [
    {
     "data": {
      "text/plain": [
       "500"
      ]
     },
     "execution_count": 26,
     "metadata": {},
     "output_type": "execute_result"
    }
   ],
   "source": []
  },
  {
   "cell_type": "code",
   "execution_count": 13,
   "metadata": {},
   "outputs": [
    {
     "ename": "ValueError",
     "evalue": "x and y must have same first dimension, but have shapes (500,) and (0,)",
     "output_type": "error",
     "traceback": [
      "\u001b[0;31m---------------------------------------------------------------------------\u001b[0m",
      "\u001b[0;31mValueError\u001b[0m                                Traceback (most recent call last)",
      "\u001b[1;32m/mnt/e/Centrale Nantes/AI/A2/STASC/TP/TP7/BoostingTree.ipynb Cell 29\u001b[0m line \u001b[0;36m8\n\u001b[1;32m      <a href='vscode-notebook-cell://wsl%2Bubuntu/mnt/e/Centrale%20Nantes/AI/A2/STASC/TP/TP7/BoostingTree.ipynb#X40sdnNjb2RlLXJlbW90ZQ%3D%3D?line=5'>6</a>\u001b[0m plt\u001b[39m.\u001b[39mfigure(figsize\u001b[39m=\u001b[39m(\u001b[39m4\u001b[39m,\u001b[39m4\u001b[39m))\n\u001b[1;32m      <a href='vscode-notebook-cell://wsl%2Bubuntu/mnt/e/Centrale%20Nantes/AI/A2/STASC/TP/TP7/BoostingTree.ipynb#X40sdnNjb2RlLXJlbW90ZQ%3D%3D?line=6'>7</a>\u001b[0m plt\u001b[39m.\u001b[39mplot(\u001b[39mrange\u001b[39m(GBM\u001b[39m.\u001b[39mn_estimators_), GBM\u001b[39m.\u001b[39mtrain_score_, \u001b[39m'\u001b[39m\u001b[39mb-\u001b[39m\u001b[39m'\u001b[39m, label \u001b[39m=\u001b[39m \u001b[39m'\u001b[39m\u001b[39mTraining score\u001b[39m\u001b[39m'\u001b[39m)\n\u001b[0;32m----> <a href='vscode-notebook-cell://wsl%2Bubuntu/mnt/e/Centrale%20Nantes/AI/A2/STASC/TP/TP7/BoostingTree.ipynb#X40sdnNjb2RlLXJlbW90ZQ%3D%3D?line=7'>8</a>\u001b[0m plt\u001b[39m.\u001b[39;49mplot(\u001b[39mrange\u001b[39;49m(GBM\u001b[39m.\u001b[39;49mn_estimators_), loss, \u001b[39m'\u001b[39;49m\u001b[39mr-\u001b[39;49m\u001b[39m'\u001b[39;49m, label \u001b[39m=\u001b[39;49m \u001b[39m'\u001b[39;49m\u001b[39mTest MSE\u001b[39;49m\u001b[39m'\u001b[39;49m)\n\u001b[1;32m      <a href='vscode-notebook-cell://wsl%2Bubuntu/mnt/e/Centrale%20Nantes/AI/A2/STASC/TP/TP7/BoostingTree.ipynb#X40sdnNjb2RlLXJlbW90ZQ%3D%3D?line=8'>9</a>\u001b[0m plt\u001b[39m.\u001b[39mlegend()\n\u001b[1;32m     <a href='vscode-notebook-cell://wsl%2Bubuntu/mnt/e/Centrale%20Nantes/AI/A2/STASC/TP/TP7/BoostingTree.ipynb#X40sdnNjb2RlLXJlbW90ZQ%3D%3D?line=9'>10</a>\u001b[0m plt\u001b[39m.\u001b[39mshow()\n",
      "File \u001b[0;32m~/anaconda3/lib/python3.11/site-packages/matplotlib/pyplot.py:2812\u001b[0m, in \u001b[0;36mplot\u001b[0;34m(scalex, scaley, data, *args, **kwargs)\u001b[0m\n\u001b[1;32m   2810\u001b[0m \u001b[39m@_copy_docstring_and_deprecators\u001b[39m(Axes\u001b[39m.\u001b[39mplot)\n\u001b[1;32m   2811\u001b[0m \u001b[39mdef\u001b[39;00m \u001b[39mplot\u001b[39m(\u001b[39m*\u001b[39margs, scalex\u001b[39m=\u001b[39m\u001b[39mTrue\u001b[39;00m, scaley\u001b[39m=\u001b[39m\u001b[39mTrue\u001b[39;00m, data\u001b[39m=\u001b[39m\u001b[39mNone\u001b[39;00m, \u001b[39m*\u001b[39m\u001b[39m*\u001b[39mkwargs):\n\u001b[0;32m-> 2812\u001b[0m     \u001b[39mreturn\u001b[39;00m gca()\u001b[39m.\u001b[39;49mplot(\n\u001b[1;32m   2813\u001b[0m         \u001b[39m*\u001b[39;49margs, scalex\u001b[39m=\u001b[39;49mscalex, scaley\u001b[39m=\u001b[39;49mscaley,\n\u001b[1;32m   2814\u001b[0m         \u001b[39m*\u001b[39;49m\u001b[39m*\u001b[39;49m({\u001b[39m\"\u001b[39;49m\u001b[39mdata\u001b[39;49m\u001b[39m\"\u001b[39;49m: data} \u001b[39mif\u001b[39;49;00m data \u001b[39mis\u001b[39;49;00m \u001b[39mnot\u001b[39;49;00m \u001b[39mNone\u001b[39;49;00m \u001b[39melse\u001b[39;49;00m {}), \u001b[39m*\u001b[39;49m\u001b[39m*\u001b[39;49mkwargs)\n",
      "File \u001b[0;32m~/anaconda3/lib/python3.11/site-packages/matplotlib/axes/_axes.py:1688\u001b[0m, in \u001b[0;36mAxes.plot\u001b[0;34m(self, scalex, scaley, data, *args, **kwargs)\u001b[0m\n\u001b[1;32m   1445\u001b[0m \u001b[39m\u001b[39m\u001b[39m\"\"\"\u001b[39;00m\n\u001b[1;32m   1446\u001b[0m \u001b[39mPlot y versus x as lines and/or markers.\u001b[39;00m\n\u001b[1;32m   1447\u001b[0m \n\u001b[0;32m   (...)\u001b[0m\n\u001b[1;32m   1685\u001b[0m \u001b[39m(``'green'``) or hex strings (``'#008000'``).\u001b[39;00m\n\u001b[1;32m   1686\u001b[0m \u001b[39m\"\"\"\u001b[39;00m\n\u001b[1;32m   1687\u001b[0m kwargs \u001b[39m=\u001b[39m cbook\u001b[39m.\u001b[39mnormalize_kwargs(kwargs, mlines\u001b[39m.\u001b[39mLine2D)\n\u001b[0;32m-> 1688\u001b[0m lines \u001b[39m=\u001b[39m [\u001b[39m*\u001b[39m\u001b[39mself\u001b[39m\u001b[39m.\u001b[39m_get_lines(\u001b[39m*\u001b[39margs, data\u001b[39m=\u001b[39mdata, \u001b[39m*\u001b[39m\u001b[39m*\u001b[39mkwargs)]\n\u001b[1;32m   1689\u001b[0m \u001b[39mfor\u001b[39;00m line \u001b[39min\u001b[39;00m lines:\n\u001b[1;32m   1690\u001b[0m     \u001b[39mself\u001b[39m\u001b[39m.\u001b[39madd_line(line)\n",
      "File \u001b[0;32m~/anaconda3/lib/python3.11/site-packages/matplotlib/axes/_base.py:311\u001b[0m, in \u001b[0;36m_process_plot_var_args.__call__\u001b[0;34m(self, data, *args, **kwargs)\u001b[0m\n\u001b[1;32m    309\u001b[0m     this \u001b[39m+\u001b[39m\u001b[39m=\u001b[39m args[\u001b[39m0\u001b[39m],\n\u001b[1;32m    310\u001b[0m     args \u001b[39m=\u001b[39m args[\u001b[39m1\u001b[39m:]\n\u001b[0;32m--> 311\u001b[0m \u001b[39myield from\u001b[39;00m \u001b[39mself\u001b[39;49m\u001b[39m.\u001b[39;49m_plot_args(\n\u001b[1;32m    312\u001b[0m     this, kwargs, ambiguous_fmt_datakey\u001b[39m=\u001b[39;49mambiguous_fmt_datakey)\n",
      "File \u001b[0;32m~/anaconda3/lib/python3.11/site-packages/matplotlib/axes/_base.py:504\u001b[0m, in \u001b[0;36m_process_plot_var_args._plot_args\u001b[0;34m(self, tup, kwargs, return_kwargs, ambiguous_fmt_datakey)\u001b[0m\n\u001b[1;32m    501\u001b[0m     \u001b[39mself\u001b[39m\u001b[39m.\u001b[39maxes\u001b[39m.\u001b[39myaxis\u001b[39m.\u001b[39mupdate_units(y)\n\u001b[1;32m    503\u001b[0m \u001b[39mif\u001b[39;00m x\u001b[39m.\u001b[39mshape[\u001b[39m0\u001b[39m] \u001b[39m!=\u001b[39m y\u001b[39m.\u001b[39mshape[\u001b[39m0\u001b[39m]:\n\u001b[0;32m--> 504\u001b[0m     \u001b[39mraise\u001b[39;00m \u001b[39mValueError\u001b[39;00m(\u001b[39mf\u001b[39m\u001b[39m\"\u001b[39m\u001b[39mx and y must have same first dimension, but \u001b[39m\u001b[39m\"\u001b[39m\n\u001b[1;32m    505\u001b[0m                      \u001b[39mf\u001b[39m\u001b[39m\"\u001b[39m\u001b[39mhave shapes \u001b[39m\u001b[39m{\u001b[39;00mx\u001b[39m.\u001b[39mshape\u001b[39m}\u001b[39;00m\u001b[39m and \u001b[39m\u001b[39m{\u001b[39;00my\u001b[39m.\u001b[39mshape\u001b[39m}\u001b[39;00m\u001b[39m\"\u001b[39m)\n\u001b[1;32m    506\u001b[0m \u001b[39mif\u001b[39;00m x\u001b[39m.\u001b[39mndim \u001b[39m>\u001b[39m \u001b[39m2\u001b[39m \u001b[39mor\u001b[39;00m y\u001b[39m.\u001b[39mndim \u001b[39m>\u001b[39m \u001b[39m2\u001b[39m:\n\u001b[1;32m    507\u001b[0m     \u001b[39mraise\u001b[39;00m \u001b[39mValueError\u001b[39;00m(\u001b[39mf\u001b[39m\u001b[39m\"\u001b[39m\u001b[39mx and y can be no greater than 2D, but have \u001b[39m\u001b[39m\"\u001b[39m\n\u001b[1;32m    508\u001b[0m                      \u001b[39mf\u001b[39m\u001b[39m\"\u001b[39m\u001b[39mshapes \u001b[39m\u001b[39m{\u001b[39;00mx\u001b[39m.\u001b[39mshape\u001b[39m}\u001b[39;00m\u001b[39m and \u001b[39m\u001b[39m{\u001b[39;00my\u001b[39m.\u001b[39mshape\u001b[39m}\u001b[39;00m\u001b[39m\"\u001b[39m)\n",
      "\u001b[0;31mValueError\u001b[0m: x and y must have same first dimension, but have shapes (500,) and (0,)"
     ]
    },
    {
     "data": {
      "image/png": "[encoded data removed]",
      "text/plain": [
       "<Figure size 400x400 with 1 Axes>"
      ]
     },
     "metadata": {},
     "output_type": "display_data"
    }
   ],
   "source": [
    "target_pred = GBM.staged_predict(X = X_housing_test)\n",
    "loss = []\n",
    "# for i in target_pred:\n",
    "#     loss.append(GBM.loss_(y = y_housing_test, raw_predictions = target_pred))\n",
    "\n",
    "plt.figure(figsize=(4,4))\n",
    "plt.plot(range(GBM.n_estimators_), GBM.train_score_, 'b-', label = 'Training score')\n",
    "plt.plot(range(GBM.n_estimators_), loss, 'r-', label = 'Test MSE')\n",
    "plt.legend()\n",
    "plt.show()"
   ]
  },
  {
   "cell_type": "markdown",
   "metadata": {},
   "source": [
    "> Est il nécessaire ici de faire du \"early stopping\" i.e. considérer une somme tronquée du prédicteur boosting pour contrôler le sur-apprentissage ?"
   ]
  },
  {
   "cell_type": "code",
   "execution_count": 14,
   "metadata": {},
   "outputs": [],
   "source": [
    "# Early stopping support in Gradient Boosting enables us to find the least number of iterations\n",
    "# which is sufficient to build a model that generalizes well to unseen data.\n",
    "\n",
    "# The concept of early stopping is simple. \n",
    "# We specify a validation_fraction which denotes the fraction of the whole dataset \n",
    "# that will be kept aside from training to assess the validation loss of the model. \n",
    "# The gradient boosting model is trained using the training set and evaluated using the validation set. \n",
    "# When each additional stage of regression tree is added, the validation set is used to score the model. \n",
    "# This is continued until the scores of the model in the last n_iter_no_change stages \n",
    "# do not improve by at least tol. After that the model is considered to have converged \n",
    "# and further addition of stages is “stopped early”."
   ]
  },
  {
   "cell_type": "markdown",
   "metadata": {},
   "source": [
    "> Superposer quelques trajectoires pour plusieurs valeurs du learning rate."
   ]
  },
  {
   "cell_type": "code",
   "execution_count": 15,
   "metadata": {},
   "outputs": [
    {
     "data": {
      "image/png": "[encoded data removed]",
      "text/plain": [
       "<Figure size 640x480 with 1 Axes>"
      ]
     },
     "metadata": {},
     "output_type": "display_data"
    }
   ],
   "source": [
    "learning_rate = [0.005, 0.01, 0.1, 0.7]\n",
    "mse_i = []\n",
    "for i in learning_rate:\n",
    "    GBM_i = GradientBoostingRegressor(n_estimators=500,\n",
    "                                      learning_rate=i,\n",
    "                                      max_depth=8,\n",
    "                                      min_samples_split=4,\n",
    "                                      loss='squared_error')\n",
    "    GBM_i.fit(X_housing_train, y_housing_train)\n",
    "    plt.plot(range(GBM_i.n_estimators_), GBM_i.train_score_, label = i)\n",
    "    # plt.plot(range(GBM_i.n_estimators_), GBM_i.staged_predict)\n",
    "plt.xlabel(\"Number of iterations\")\n",
    "plt.ylabel(\"errors\")\n",
    "plt.legend(learning_rate)\n",
    "plt.show()"
   ]
  },
  {
   "cell_type": "markdown",
   "metadata": {},
   "source": [
    "#### Choix des paramètres du GBM"
   ]
  },
  {
   "cell_type": "markdown",
   "metadata": {},
   "source": [
    "> Pour `n_estimators=300` et `learning_rate=0.1`, effectuer une recherche avec par `GridSearch()` pour choisir `max_depth` et  `min_samples_split`. Faire cette recherche en \"cross validant\" uniquement l'échantillon d'apprentissage de façon à garder des données pour évaluer les performances du modèle finalement sélectionné."
   ]
  },
  {
   "cell_type": "code",
   "execution_count": 16,
   "metadata": {},
   "outputs": [],
   "source": [
    "from sklearn.model_selection import GridSearchCV\n",
    "GBM_300 = GradientBoostingRegressor(n_estimators=300,\n",
    "                                    learning_rate=0.1,\n",
    "                                    loss = 'squared_error')\n",
    "param = {'max_depth': [2, 4, 6, 8], 'min_samples_split': [2, 3, 4]}\n",
    "gridcv = GridSearchCV(estimator=GBM_300,\n",
    "                  param_grid=param,\n",
    "                  cv = 5)\n",
    "gridcv.fit(X_housing_train, y_housing_train)\n",
    "\n",
    "max_depth = gridcv.best_params_['max_depth']\n",
    "min_samples_split = gridcv.best_params_['min_samples_split']"
   ]
  },
  {
   "cell_type": "markdown",
   "metadata": {},
   "source": [
    "> Une fois ces valeurs choisies, diminuer le learning rate et augmenter le nombre d'itérations pour essayer d'améliorer encore les performances."
   ]
  },
  {
   "cell_type": "code",
   "execution_count": 41,
   "metadata": {},
   "outputs": [
    {
     "name": "stdout",
     "output_type": "stream",
     "text": [
      "4\n",
      "3\n"
     ]
    }
   ],
   "source": [
    "print(max_depth)\n",
    "\n",
    "print(min_samples_split)\n"
   ]
  },
  {
   "cell_type": "markdown",
   "metadata": {},
   "source": [
    "> Calculer le $R^2$ et l'erreur de test pour le modèle final"
   ]
  },
  {
   "cell_type": "code",
   "execution_count": 42,
   "metadata": {},
   "outputs": [],
   "source": [
    "from sklearn.metrics import r2_score\n",
    "GBM_new = GradientBoostingRegressor(n_estimators=500,\n",
    "                                    max_depth=max_depth,\n",
    "                                    min_samples_split=min_samples_split,\n",
    "                                    learning_rate=0.05,\n",
    "                                    loss = 'squared_error')\n",
    "\n",
    "GBM_new.fit(X_housing_train, y_housing_train)\n",
    "mse = mean_squared_error(y_housing_test, GBM_new.predict(X_housing_test))\n",
    "r2 = 1 - mse /np.var(y_housing_test)\n",
    "r2_ = r2_score(y_housing_test, GBM_new.predict(X_housing_test))\n"
   ]
  },
  {
   "cell_type": "markdown",
   "metadata": {},
   "source": [
    "#### Indices d'importance"
   ]
  },
  {
   "cell_type": "markdown",
   "metadata": {},
   "source": [
    "> Il est aussi possible de calculer des indices d'importances pour les GMB avec la méthode `feature_importances_`.  "
   ]
  },
  {
   "cell_type": "code",
   "execution_count": 44,
   "metadata": {},
   "outputs": [
    {
     "data": {
      "text/plain": [
       "array([0.53447541, 0.0558966 , 0.0629135 , 0.02169894, 0.0343678 ,\n",
       "       0.14137264, 0.07291823, 0.07635688])"
      ]
     },
     "execution_count": 44,
     "metadata": {},
     "output_type": "execute_result"
    }
   ],
   "source": [
    "GBM_new.feature_importances_"
   ]
  },
  {
   "cell_type": "markdown",
   "metadata": {},
   "source": [
    "##  XGboost"
   ]
  },
  {
   "cell_type": "markdown",
   "metadata": {},
   "source": [
    "Si nécessaire, installer la librairie `xgboost`. Importer cette librairie."
   ]
  },
  {
   "cell_type": "code",
   "execution_count": 45,
   "metadata": {},
   "outputs": [],
   "source": [
    "from xgboost import XGBRegressor"
   ]
  },
  {
   "cell_type": "markdown",
   "metadata": {},
   "source": [
    "Nous allons utilser Xgboost avec pour classifieurs faibles des arbres (on pourait aussi utiliser aussi des modèles linéaires basés sur peu de variabes)."
   ]
  },
  {
   "cell_type": "markdown",
   "metadata": {},
   "source": [
    "Les paramètres de Xgboost, notamment pour les fonctions `XGBRegressor()` et `XGBClassifier()`, sont décrits dans [cette page](http://xgboost.readthedocs.io/en/latest/python/python_api.html#module-xgboost.sklearn). Elles sont similaires aux commdandes des fonctions de sckit-learn."
   ]
  },
  {
   "cell_type": "code",
   "execution_count": 46,
   "metadata": {},
   "outputs": [
    {
     "data": {
      "text/html": [
       "<style>#sk-container-id-1 {color: black;}#sk-container-id-1 pre{padding: 0;}#sk-container-id-1 div.sk-toggleable {background-color: white;}#sk-container-id-1 label.sk-toggleable__label {cursor: pointer;display: block;width: 100%;margin-bottom: 0;padding: 0.3em;box-sizing: border-box;text-align: center;}#sk-container-id-1 label.sk-toggleable__label-arrow:before {content: \"▸\";float: left;margin-right: 0.25em;color: #696969;}#sk-container-id-1 label.sk-toggleable__label-arrow:hover:before {color: black;}#sk-container-id-1 div.sk-estimator:hover label.sk-toggleable__label-arrow:before {color: black;}#sk-container-id-1 div.sk-toggleable__content {max-height: 0;max-width: 0;overflow: hidden;text-align: left;background-color: #f0f8ff;}#sk-container-id-1 div.sk-toggleable__content pre {margin: 0.2em;color: black;border-radius: 0.25em;background-color: #f0f8ff;}#sk-container-id-1 input.sk-toggleable__control:checked~div.sk-toggleable__content {max-height: 200px;max-width: 100%;overflow: auto;}#sk-container-id-1 input.sk-toggleable__control:checked~label.sk-toggleable__label-arrow:before {content: \"▾\";}#sk-container-id-1 div.sk-estimator input.sk-toggleable__control:checked~label.sk-toggleable__label {background-color: #d4ebff;}#sk-container-id-1 div.sk-label input.sk-toggleable__control:checked~label.sk-toggleable__label {background-color: #d4ebff;}#sk-container-id-1 input.sk-hidden--visually {border: 0;clip: rect(1px 1px 1px 1px);clip: rect(1px, 1px, 1px, 1px);height: 1px;margin: -1px;overflow: hidden;padding: 0;position: absolute;width: 1px;}#sk-container-id-1 div.sk-estimator {font-family: monospace;background-color: #f0f8ff;border: 1px dotted black;border-radius: 0.25em;box-sizing: border-box;margin-bottom: 0.5em;}#sk-container-id-1 div.sk-estimator:hover {background-color: #d4ebff;}#sk-container-id-1 div.sk-parallel-item::after {content: \"\";width: 100%;border-bottom: 1px solid gray;flex-grow: 1;}#sk-container-id-1 div.sk-label:hover label.sk-toggleable__label {background-color: #d4ebff;}#sk-container-id-1 div.sk-serial::before {content: \"\";position: absolute;border-left: 1px solid gray;box-sizing: border-box;top: 0;bottom: 0;left: 50%;z-index: 0;}#sk-container-id-1 div.sk-serial {display: flex;flex-direction: column;align-items: center;background-color: white;padding-right: 0.2em;padding-left: 0.2em;position: relative;}#sk-container-id-1 div.sk-item {position: relative;z-index: 1;}#sk-container-id-1 div.sk-parallel {display: flex;align-items: stretch;justify-content: center;background-color: white;position: relative;}#sk-container-id-1 div.sk-item::before, #sk-container-id-1 div.sk-parallel-item::before {content: \"\";position: absolute;border-left: 1px solid gray;box-sizing: border-box;top: 0;bottom: 0;left: 50%;z-index: -1;}#sk-container-id-1 div.sk-parallel-item {display: flex;flex-direction: column;z-index: 1;position: relative;background-color: white;}#sk-container-id-1 div.sk-parallel-item:first-child::after {align-self: flex-end;width: 50%;}#sk-container-id-1 div.sk-parallel-item:last-child::after {align-self: flex-start;width: 50%;}#sk-container-id-1 div.sk-parallel-item:only-child::after {width: 0;}#sk-container-id-1 div.sk-dashed-wrapped {border: 1px dashed gray;margin: 0 0.4em 0.5em 0.4em;box-sizing: border-box;padding-bottom: 0.4em;background-color: white;}#sk-container-id-1 div.sk-label label {font-family: monospace;font-weight: bold;display: inline-block;line-height: 1.2em;}#sk-container-id-1 div.sk-label-container {text-align: center;}#sk-container-id-1 div.sk-container {/* jupyter's `normalize.less` sets `[hidden] { display: none; }` but bootstrap.min.css set `[hidden] { display: none !important; }` so we also need the `!important` here to be able to override the default hidden behavior on the sphinx rendered scikit-learn.org. See: https://github.com/scikit-learn/scikit-learn/issues/21755 */display: inline-block !important;position: relative;}#sk-container-id-1 div.sk-text-repr-fallback {display: none;}</style><div id=\"sk-container-id-1\" class=\"sk-top-container\"><div class=\"sk-text-repr-fallback\"><pre>XGBRegressor(base_score=None, booster=None, callbacks=None,\n",
       "             colsample_bylevel=None, colsample_bynode=None,\n",
       "             colsample_bytree=None, device=None, early_stopping_rounds=None,\n",
       "             enable_categorical=False, eval_metric=None, feature_types=None,\n",
       "             gamma=None, grow_policy=None, importance_type=None,\n",
       "             interaction_constraints=None, learning_rate=None, max_bin=None,\n",
       "             max_cat_threshold=None, max_cat_to_onehot=None,\n",
       "             max_delta_step=None, max_depth=None, max_leaves=None,\n",
       "             min_child_weight=None, missing=nan, monotone_constraints=None,\n",
       "             multi_strategy=None, n_estimators=None, n_jobs=None,\n",
       "             num_parallel_tree=None, random_state=None, ...)</pre><b>In a Jupyter environment, please rerun this cell to show the HTML representation or trust the notebook. <br />On GitHub, the HTML representation is unable to render, please try loading this page with nbviewer.org.</b></div><div class=\"sk-container\" hidden><div class=\"sk-item\"><div class=\"sk-estimator sk-toggleable\"><input class=\"sk-toggleable__control sk-hidden--visually\" id=\"sk-estimator-id-1\" type=\"checkbox\" checked><label for=\"sk-estimator-id-1\" class=\"sk-toggleable__label sk-toggleable__label-arrow\">XGBRegressor</label><div class=\"sk-toggleable__content\"><pre>XGBRegressor(base_score=None, booster=None, callbacks=None,\n",
       "             colsample_bylevel=None, colsample_bynode=None,\n",
       "             colsample_bytree=None, device=None, early_stopping_rounds=None,\n",
       "             enable_categorical=False, eval_metric=None, feature_types=None,\n",
       "             gamma=None, grow_policy=None, importance_type=None,\n",
       "             interaction_constraints=None, learning_rate=None, max_bin=None,\n",
       "             max_cat_threshold=None, max_cat_to_onehot=None,\n",
       "             max_delta_step=None, max_depth=None, max_leaves=None,\n",
       "             min_child_weight=None, missing=nan, monotone_constraints=None,\n",
       "             multi_strategy=None, n_estimators=None, n_jobs=None,\n",
       "             num_parallel_tree=None, random_state=None, ...)</pre></div></div></div></div></div>"
      ],
      "text/plain": [
       "XGBRegressor(base_score=None, booster=None, callbacks=None,\n",
       "             colsample_bylevel=None, colsample_bynode=None,\n",
       "             colsample_bytree=None, device=None, early_stopping_rounds=None,\n",
       "             enable_categorical=False, eval_metric=None, feature_types=None,\n",
       "             gamma=None, grow_policy=None, importance_type=None,\n",
       "             interaction_constraints=None, learning_rate=None, max_bin=None,\n",
       "             max_cat_threshold=None, max_cat_to_onehot=None,\n",
       "             max_delta_step=None, max_depth=None, max_leaves=None,\n",
       "             min_child_weight=None, missing=nan, monotone_constraints=None,\n",
       "             multi_strategy=None, n_estimators=None, n_jobs=None,\n",
       "             num_parallel_tree=None, random_state=None, ...)"
      ]
     },
     "execution_count": 46,
     "metadata": {},
     "output_type": "execute_result"
    }
   ],
   "source": [
    "XGBR = XGBRegressor()\n",
    "XGBR.fit(X_housing_train, y_housing_train)\n",
    "y_pred = XGBR.predict(X_housing_test)\n",
    "XGBR"
   ]
  },
  {
   "cell_type": "markdown",
   "metadata": {},
   "source": [
    "> Donner le score $R^2$ et l'erreur mse. Comparer avec GBM."
   ]
  },
  {
   "cell_type": "code",
   "execution_count": 56,
   "metadata": {},
   "outputs": [],
   "source": [
    "r2_xgb = r2_score(y_housing_test, y_pred)\n",
    "mse = mean_squared_error(y_housing_test, y_pred)\n"
   ]
  },
  {
   "cell_type": "markdown",
   "metadata": {},
   "source": [
    "Les remarques précedentes sur les reglages des paramètres de GBM sont encore vraies pour Xgboost. Il faut en plus ajuster les paramètres `alpha`  et `lambda` des termes de régularisation."
   ]
  },
  {
   "cell_type": "markdown",
   "metadata": {},
   "source": [
    "> Choisir les paramètres de Xgboost."
   ]
  },
  {
   "cell_type": "code",
   "execution_count": 58,
   "metadata": {},
   "outputs": [
    {
     "name": "stdout",
     "output_type": "stream",
     "text": [
      "reg_alpha_best = 1\n",
      "reg_lambda_best = 1\n",
      "max_depth_best = 4\n",
      "\n"
     ]
    }
   ],
   "source": [
    "params = {'reg_alpha': [0, 0.01, 0.1, 1],\n",
    "          'reg_lambda': [0, 0.01, 0.1, 1],\n",
    "          'max_depth': [2, 4, 6, 8]}\n",
    "\n",
    "gridcv_XGB = GridSearchCV(estimator=XGBR,\n",
    "                          param_grid=params,\n",
    "                          cv = 5)\n",
    "gridcv_XGB.fit(X_housing_train, y_housing_train)\n",
    "\n",
    "reg_alpha_best = gridcv_XGB.best_params_['reg_alpha']\n",
    "reg_lambda_best = gridcv_XGB.best_params_['reg_lambda']\n",
    "max_depth_best = gridcv_XGB.best_params_['max_depth']\n",
    "\n",
    "print(f\"reg_alpha_best = {reg_alpha_best}\\n\"\n",
    "      f\"reg_lambda_best = {reg_lambda_best}\\n\"\n",
    "      f\"max_depth_best = {max_depth_best}\\n\")"
   ]
  },
  {
   "cell_type": "markdown",
   "metadata": {},
   "source": [
    "## Comparaison des algorithmes (Bonus)"
   ]
  },
  {
   "cell_type": "markdown",
   "metadata": {},
   "source": [
    "Adaboost est implémenté en sklearn par la fonction [`AdaBoostClassifier()`](http://scikit-learn.org/stable/modules/generated/sklearn.ensemble.AdaBoostClassifier.html).\n",
    "\n",
    "> Comparer les performances des algos AdaBoost, GBM et XGBoost sur les données Spam pour un nombre d'arbres variant entre 10 et 1000 (ne pas considérer tous les entiers). Vous pourrez notamment comparer vos résultats avec les résultats anoncées dans [EOSL p.589]"
   ]
  },
  {
   "cell_type": "code",
   "execution_count": null,
   "metadata": {},
   "outputs": [],
   "source": []
  },
  {
   "cell_type": "markdown",
   "metadata": {},
   "source": [
    "## Implémentation du Boosting Regressor  (Bonus) \n",
    "\n",
    "> Implémenter votre propore fonction Tree Boosting Regressor, on considérant la perte $\\ell_2$. On pourra pour cela, à chaque itération, \n",
    "ajuster un arbre de régression (de faible prodondeur) sur les résidus courants, à l'aide de la fonction `tree.DecisionTreeRegressor()` . L'étape 5 de l'Algorithme 6 \"Gradient Tree Boosting Regressor Algorithm\" donné en cours est-elle nécessaire dans ce contexte ? \n"
   ]
  },
  {
   "cell_type": "code",
   "execution_count": null,
   "metadata": {},
   "outputs": [],
   "source": [
    "### TO DO ###"
   ]
  }
 ],
 "metadata": {
  "kernelspec": {
   "display_name": "Python 3 (ipykernel)",
   "language": "python",
   "name": "python3"
  },
  "language_info": {
   "codemirror_mode": {
    "name": "ipython",
    "version": 3
   },
   "file_extension": ".py",
   "mimetype": "text/x-python",
   "name": "python",
   "nbconvert_exporter": "python",
   "pygments_lexer": "ipython3",
   "version": "3.11.5"
  }
 },
 "nbformat": 4,
 "nbformat_minor": 4
}
