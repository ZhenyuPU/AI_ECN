{
 "cells": [
  {
   "cell_type": "markdown",
   "metadata": {
    "pycharm": {
     "name": "#%% md\n"
    }
   },
   "source": [
    "# Descriptive statistics, statistical models, data visualization"
   ]
  },
  {
   "cell_type": "markdown",
   "metadata": {},
   "source": [
    "In this lab, we  study the [United States Renewable Energy Technical Potential dataset](https://data.world/doe/united-states-renewable-energy). \n",
    "\n",
    "Create an account on data.world to download the [usretechnicalpotential.csv\n",
    "](https://data.world/doe/united-states-renewable-energy/workspace/file?filename=usretechnicalpotential.csv) file. \n",
    " \n",
    "This dataset provides the technical potential of renewable energie for the states of USA.\n",
    " \n",
    "The technical potential of a renewable energy represents the achievable energy generation of a particular technology given system performance, topographic limitations, environmental, and land-use constraints.\n",
    " \n",
    "List of renewable energies considered in the dataset:\n",
    "- Urban utility-scale photovoltaics  \n",
    "- Rural utility-scale photovoltaics \n",
    "- Rooftop photovoltaics  \n",
    "- Concentrating solar power  \n",
    "- Onshore wind power  \n",
    "- Offshore wind power  \n",
    "- Biopower  \n",
    "- Hydrothermal power systems\n",
    "- Enhanced geothermal\n",
    "- Hydropower \n",
    " \n",
    "Precise definitions of the variables (columns) in the dataset are given in the [technical report](https://data.world/doe/united-states-renewable-energy/workspace/file?filename=usretechpotential.pdf). Take the time to read these definitions to understand the exact meaning of the available variables."
   ]
  },
  {
   "cell_type": "markdown",
   "metadata": {},
   "source": [
    "We use several Python modules dedicated to statistical data processing. "
   ]
  },
  {
   "cell_type": "code",
   "execution_count": null,
   "metadata": {},
   "outputs": [],
   "source": [
    "import matplotlib.pyplot as plt\n",
    "import pandas as pd\n",
    "import numpy as np\n",
    "import scipy.stats \n",
    "import numpy\n",
    "import seaborn as sns"
   ]
  },
  {
   "cell_type": "markdown",
   "metadata": {},
   "source": [
    "Python comes with a package for handling data as a table : the [Pandas](http://pandas.pydata.org/) package provides a container for tables, called **dataframe**.\n",
    "\n",
    "We recommend that you have a look at the [\"10 minutes to pandas\" doc](https://pandas.pydata.org/docs/user_guide/10min.html#min).\n",
    "\n",
    "A dataframe is a two-dimensional table, in which each column contains measurements on one variable, and each row contains one individual.\n",
    "\n",
    "The main features of Pandas and its dataframe are:\n",
    "- reading data from csv and Excel files;\n",
    "- giving names to variables;\n",
    "- storing in a clever manner a large amound of data;\n",
    "- providing methods for descriptive statistics."
   ]
  },
  {
   "cell_type": "markdown",
   "metadata": {
    "jp-MarkdownHeadingCollapsed": true,
    "tags": []
   },
   "source": [
    "## Creating and reading a dataframe <a id=\"part2sec1\"></a>"
   ]
  },
  {
   "cell_type": "markdown",
   "metadata": {},
   "source": [
    "A dataframe may be either read from a file or created from raw data."
   ]
  },
  {
   "cell_type": "code",
   "execution_count": null,
   "metadata": {},
   "outputs": [],
   "source": [
    "!cat usretechnicalpotential.csv"
   ]
  },
  {
   "cell_type": "code",
   "execution_count": null,
   "metadata": {},
   "outputs": [],
   "source": [
    "usretechnical = pd.read_csv('usretechnicalpotential.csv', sep=',', index_col=0)\n",
    "usretechnical"
   ]
  },
  {
   "cell_type": "markdown",
   "metadata": {
    "jp-MarkdownHeadingCollapsed": true,
    "tags": []
   },
   "source": [
    "Since it is unrealistic to view a table in whole, Pandas provides different methods to give a sneak look at the aforesaid table."
   ]
  },
  {
   "cell_type": "code",
   "execution_count": null,
   "metadata": {},
   "outputs": [],
   "source": [
    "usretechnical.index  # Index of the table"
   ]
  },
  {
   "cell_type": "code",
   "execution_count": null,
   "metadata": {},
   "outputs": [],
   "source": [
    "usretechnical.columns  # Columns of the table"
   ]
  },
  {
   "cell_type": "code",
   "execution_count": null,
   "metadata": {},
   "outputs": [],
   "source": [
    "usretechnical.head(n=3)"
   ]
  },
  {
   "cell_type": "code",
   "execution_count": null,
   "metadata": {},
   "outputs": [],
   "source": [
    "usretechnical.tail(n=3)"
   ]
  },
  {
   "cell_type": "code",
   "execution_count": null,
   "metadata": {},
   "outputs": [],
   "source": [
    "usretechnical.values  # Values are in a Numpy array"
   ]
  },
  {
   "cell_type": "markdown",
   "metadata": {},
   "source": [
    "The methods `info` and `describe` give respectively general and quantitative information concerning the dataframe.\n",
    "In particular, `info` indicates the categorical variables (which are not treated by `describe`)."
   ]
  },
  {
   "cell_type": "code",
   "execution_count": null,
   "metadata": {},
   "outputs": [],
   "source": [
    "usretechnical.describe()"
   ]
  },
  {
   "cell_type": "code",
   "execution_count": null,
   "metadata": {},
   "outputs": [],
   "source": [
    "usretechnical.info()"
   ]
  },
  {
   "cell_type": "markdown",
   "metadata": {},
   "source": [
    "In the dataframe, the `biopowerGaseous_GW` variable should be a categorical variable."
   ]
  },
  {
   "cell_type": "code",
   "execution_count": null,
   "metadata": {},
   "outputs": [],
   "source": [
    "usretechnical['biopowerGaseous_GW']"
   ]
  },
  {
   "cell_type": "code",
   "execution_count": null,
   "metadata": {},
   "outputs": [],
   "source": [
    "usretechnical['biopowerGaseous_GW'] = usretechnical['biopowerGaseous_GW'].astype('category')"
   ]
  },
  {
   "cell_type": "code",
   "execution_count": null,
   "metadata": {},
   "outputs": [],
   "source": [
    "usretechnical.info()"
   ]
  },
  {
   "cell_type": "markdown",
   "metadata": {
    "jp-MarkdownHeadingCollapsed": true,
    "tags": []
   },
   "source": [
    "## Indexing a table <a id=\"part1sec2\"></a>"
   ]
  },
  {
   "cell_type": "markdown",
   "metadata": {
    "tags": []
   },
   "source": [
    "#### Natural indexing"
   ]
  },
  {
   "cell_type": "markdown",
   "metadata": {},
   "source": [
    "Explanations are provided with the `usretechnical` dataframe."
   ]
  },
  {
   "cell_type": "code",
   "execution_count": null,
   "metadata": {},
   "outputs": [],
   "source": [
    "usretechnical['urbanUtilityScalePV_GWh']"
   ]
  },
  {
   "cell_type": "markdown",
   "metadata": {},
   "source": [
    "This object is a serie. It can be equivalently obtained using `MyDataFram.MyVariable` : "
   ]
  },
  {
   "cell_type": "code",
   "execution_count": null,
   "metadata": {},
   "outputs": [],
   "source": [
    "s = usretechnical.urbanUtilityScalePV_GWh # a Serie\n",
    "s['Nevada']"
   ]
  },
  {
   "cell_type": "markdown",
   "metadata": {},
   "source": [
    "You may want to extract several columns or several rows."
   ]
  },
  {
   "cell_type": "code",
   "execution_count": null,
   "metadata": {},
   "outputs": [],
   "source": [
    "usretechnical[['urbanUtilityScalePV_GWh','offshoreWind_GWh']].head()"
   ]
  },
  {
   "cell_type": "code",
   "execution_count": null,
   "metadata": {},
   "outputs": [],
   "source": [
    "s[['Nevada', 'Wisconsin']]"
   ]
  },
  {
   "cell_type": "markdown",
   "metadata": {},
   "source": [
    "**Remark:** selecting with `[[]]` always return a dataframe."
   ]
  },
  {
   "cell_type": "code",
   "execution_count": null,
   "metadata": {},
   "outputs": [],
   "source": [
    "usretechnical[['urbanUtilityScalePV_GWh']].head()"
   ]
  },
  {
   "cell_type": "markdown",
   "metadata": {
    "tags": []
   },
   "source": [
    "#### Label based indexing"
   ]
  },
  {
   "cell_type": "markdown",
   "metadata": {
    "jp-MarkdownHeadingCollapsed": true,
    "tags": []
   },
   "source": [
    "Label based indexing is an enhancement of natural indexing, accessible with `.loc[]`.\n",
    "\n",
    "Indexing has to be thought *as a matrix but with labels instead of positions*.\n",
    "\n",
    "Hence, the **rows** are indexed first (instead of the columns with `[]`)."
   ]
  },
  {
   "cell_type": "code",
   "execution_count": null,
   "metadata": {},
   "outputs": [],
   "source": [
    "usretechnical.loc['Nevada']  # Single row"
   ]
  },
  {
   "cell_type": "code",
   "execution_count": null,
   "metadata": {},
   "outputs": [],
   "source": [
    "usretechnical.loc[:, 'urbanUtilityScalePV_GWh'].head()  # Single column"
   ]
  },
  {
   "cell_type": "code",
   "execution_count": null,
   "metadata": {},
   "outputs": [],
   "source": [
    "usretechnical.loc[['Nevada', 'Wisconsin']]  # Multiple rows"
   ]
  },
  {
   "cell_type": "markdown",
   "metadata": {},
   "source": [
    "Slicing on rows and columns is possible but **endpoints are included**."
   ]
  },
  {
   "cell_type": "code",
   "execution_count": null,
   "metadata": {},
   "outputs": [],
   "source": [
    "usretechnical.loc['Nevada':'New York']  # Row slicing"
   ]
  },
  {
   "cell_type": "markdown",
   "metadata": {
    "tags": []
   },
   "source": [
    "#### Integer position based indexing"
   ]
  },
  {
   "cell_type": "markdown",
   "metadata": {
    "jp-MarkdownHeadingCollapsed": true,
    "tags": []
   },
   "source": [
    "Interger location (or position) based indexing is done with `.iloc[]`.\n",
    "It is similar to `.loc[]` but considers only integer positions instead of labels.\n",
    "\n",
    "**Remark:** endpoints are not included (similarly to Numpy)."
   ]
  },
  {
   "cell_type": "code",
   "execution_count": null,
   "metadata": {},
   "outputs": [],
   "source": [
    "usretechnical.iloc[:2]"
   ]
  },
  {
   "cell_type": "code",
   "execution_count": null,
   "metadata": {},
   "outputs": [],
   "source": [
    "usretechnical.iloc[10::4, ::2]"
   ]
  },
  {
   "cell_type": "markdown",
   "metadata": {
    "tags": []
   },
   "source": [
    "#### Boolean indexing"
   ]
  },
  {
   "cell_type": "markdown",
   "metadata": {},
   "source": [
    "Similarly to Numpy arrays, dataframes can be indexed with Boolean variables thanks to `.loc[]`."
   ]
  },
  {
   "cell_type": "code",
   "execution_count": null,
   "metadata": {
    "scrolled": true
   },
   "outputs": [],
   "source": [
    "usretechnical.loc[usretechnical['urbanUtilityScalePV_GWh'] > 50000]  # Row selection"
   ]
  },
  {
   "cell_type": "markdown",
   "metadata": {},
   "source": [
    "#### Selection random samples\n",
    "\n",
    "The `sample` method makes it possible to randomly select rows (individuals) from a dataframe (without replacement)."
   ]
  },
  {
   "cell_type": "code",
   "execution_count": null,
   "metadata": {},
   "outputs": [],
   "source": [
    "usretechnical.sample(n=3)"
   ]
  },
  {
   "cell_type": "markdown",
   "metadata": {
    "jp-MarkdownHeadingCollapsed": true,
    "tags": []
   },
   "source": [
    "## Adding and deleting items <a id=\"part2sec4\"></a>"
   ]
  },
  {
   "cell_type": "markdown",
   "metadata": {
    "jp-MarkdownHeadingCollapsed": true,
    "tags": []
   },
   "source": [
    "Let us consider a copy of the first 5 rows of `consumption`."
   ]
  },
  {
   "cell_type": "code",
   "execution_count": null,
   "metadata": {},
   "outputs": [],
   "source": [
    "usbis= usretechnical.iloc[:5,[1,4]].copy()\n",
    "usbis"
   ]
  },
  {
   "cell_type": "markdown",
   "metadata": {},
   "source": [
    "We successively add a column and a row to `usbis`."
   ]
  },
  {
   "cell_type": "code",
   "execution_count": null,
   "metadata": {},
   "outputs": [],
   "source": [
    "usbis['sum'] = usbis.sum(axis=1)\n",
    "usbis.loc['PaysDeLaLoire'] = [10000, 100, 10100]\n",
    "usbis"
   ]
  },
  {
   "cell_type": "markdown",
   "metadata": {},
   "source": [
    "that we can now drop"
   ]
  },
  {
   "cell_type": "code",
   "execution_count": null,
   "metadata": {},
   "outputs": [],
   "source": [
    "usbis = usbis.drop('PaysDeLaLoire')\n",
    "usbis = usbis.drop('sum', axis=1)\n",
    "usbis"
   ]
  },
  {
   "cell_type": "markdown",
   "metadata": {
    "jp-MarkdownHeadingCollapsed": true,
    "tags": []
   },
   "source": [
    "## Managing missing data <a id=\"part2sec5\"></a>"
   ]
  },
  {
   "cell_type": "markdown",
   "metadata": {},
   "source": [
    "Missing data are generally replaced by a `NaN` in the table.\n",
    "Pandas offers several possibilities to manage them."
   ]
  },
  {
   "cell_type": "code",
   "execution_count": null,
   "metadata": {},
   "outputs": [],
   "source": [
    "#offshorewind_gwh\n",
    "#offshorewind_gw\n",
    "uster= usretechnical.iloc[:15,6:8].copy()\n",
    "uster.head()  # A table with missing data"
   ]
  },
  {
   "cell_type": "code",
   "execution_count": null,
   "metadata": {},
   "outputs": [],
   "source": [
    "uster.dropna()  # Drop any row with missing data"
   ]
  },
  {
   "cell_type": "code",
   "execution_count": null,
   "metadata": {},
   "outputs": [],
   "source": [
    "uster.isnull().any()  # Test for missing data"
   ]
  },
  {
   "cell_type": "markdown",
   "metadata": {},
   "source": [
    "> **Question**\n",
    "> \n",
    "> By changing the `axis` parameter of `dropna`, drop the columns with missing values of `usretechnical`."
   ]
  },
  {
   "cell_type": "code",
   "execution_count": null,
   "metadata": {},
   "outputs": [],
   "source": [
    "# Answer\n",
    "\n",
    "\n"
   ]
  },
  {
   "cell_type": "markdown",
   "metadata": {
    "jp-MarkdownHeadingCollapsed": true,
    "tags": []
   },
   "source": [
    "## Analyzing and Visualizing a Quantitative Variable"
   ]
  },
  {
   "cell_type": "markdown",
   "metadata": {
    "tags": []
   },
   "source": [
    "#### Descriptive statistics <a id=\"part1sec6\"></a>\n",
    "\n",
    "\n",
    "A dataframe comes with many methods for descriptive statistics:\n",
    "- `count`: \tNumber of non-null observations;\n",
    "- `sum`: \tSum of values;\n",
    "- `mean`: \tMean of values;\n",
    "- `mad`: \tMean absolute deviation;\n",
    "- `median`: \tArithmetic median of values;\n",
    "- `min`: \tMinimum;\n",
    "- `max`: \tMaximum;\n",
    "- `mode`: \tMode;\n",
    "- `abs`: \tAbsolute Value;\n",
    "- `prod`: \tProduct of values;\n",
    "- `std`: \tBessel-corrected sample standard deviation;\n",
    "- `var`: \tUnbiased variance;\n",
    "- `sem`: \tStandard error of the mean;\n",
    "- `skew`: \tSample skewness (3rd moment);\n",
    "- `kurt`: \tSample kurtosis (4th moment);\n",
    "- `quantile`: \tSample quantile (value at %);\n",
    "- `cumsum`: \tCumulative sum;\n",
    "- `cumprod`: \tCumulative product;\n",
    "- `cummax`: \tCumulative maximum;\n",
    "- `cummin`: \tCumulative minimum."
   ]
  },
  {
   "cell_type": "code",
   "execution_count": null,
   "metadata": {},
   "outputs": [],
   "source": [
    "usretechnical.median()  # Median of numeric columns"
   ]
  },
  {
   "cell_type": "code",
   "execution_count": null,
   "metadata": {},
   "outputs": [],
   "source": [
    "usretechnical['urbanUtilityScalePV_GWh'].mean()"
   ]
  },
  {
   "cell_type": "markdown",
   "metadata": {},
   "source": [
    "> **Question**\n",
    "> \n",
    "> Compute the median m of the `urbanUtilityScalePV_GWh` variable. Compute the mean of the `ruralUtilityScalePV_GWh`variable   \n",
    "> - on the subset of states for which with `urbanUtilityScalePV_GWh` is larger than m   \n",
    "> - on the subset of the states for which `urbanUtilityScalePV_GWh` is smaller than m"
   ]
  },
  {
   "cell_type": "code",
   "execution_count": null,
   "metadata": {},
   "outputs": [],
   "source": [
    "# Answer \n",
    "\n"
   ]
  },
  {
   "cell_type": "markdown",
   "metadata": {},
   "source": [
    "> **Question**\n",
    "> \n",
    "> What is the offshore Wind Power of all US ?"
   ]
  },
  {
   "cell_type": "code",
   "execution_count": null,
   "metadata": {},
   "outputs": [],
   "source": [
    "# Answer \n",
    "\n"
   ]
  },
  {
   "cell_type": "markdown",
   "metadata": {},
   "source": [
    "> **Question**\n",
    "> Check that the quantile 20% of the [CSP variable](https://en.wikipedia.org/wiki/Concentrated_solar_power) is equal to 0. How > do you explain this ?"
   ]
  },
  {
   "cell_type": "code",
   "execution_count": null,
   "metadata": {},
   "outputs": [],
   "source": [
    "# Answer\n",
    "\n"
   ]
  },
  {
   "cell_type": "markdown",
   "metadata": {},
   "source": [
    "#### Histograms\n",
    "A common task in statisics is to estimate a distribution from a data sample.\n",
    "In a first approach, this task can be achieved by computing a histogram."
   ]
  },
  {
   "cell_type": "code",
   "execution_count": null,
   "metadata": {},
   "outputs": [],
   "source": [
    "import matplotlib.pyplot as plt\n",
    "\n",
    "x = usretechnical['urbanUtilityScalePV_GWh']\n",
    "\n",
    "plt.figure(figsize=(7, 5))\n",
    "plt.hist(x, bins=20, density=True)\n",
    "plt.xlabel('urbanUtilityScalePV_GWh')\n",
    "plt.ylabel('Frequency')\n",
    "plt.title('Histogram of urbanUtilityScalePV_GWh')\n",
    "plt.show()"
   ]
  },
  {
   "cell_type": "markdown",
   "metadata": {},
   "source": [
    "#### Kernel density estimation\n",
    "Kernel density estimation is a tool more efficient than a histogram for density estimation.\n",
    "In Python, kernel density estimation can be performed with the `gaussian_kde` function."
   ]
  },
  {
   "cell_type": "code",
   "execution_count": null,
   "metadata": {},
   "outputs": [],
   "source": [
    "grid = np.linspace(1,300000,10000)"
   ]
  },
  {
   "cell_type": "code",
   "execution_count": null,
   "metadata": {},
   "outputs": [],
   "source": [
    "from scipy.stats import gaussian_kde\n",
    "\n",
    "kde = gaussian_kde(x)\n",
    "\n",
    "fig, ax = plt.subplots()\n",
    "(hist_plt, bins_plt, patches) = ax.hist(x, bins=20, density=True)\n",
    "ax.plot(grid, kde(grid), color=\"magenta\", linewidth=2, label=\"kde\")\n",
    "ax.legend();"
   ]
  },
  {
   "cell_type": "markdown",
   "metadata": {},
   "source": [
    "Under the assumption that the distribution belongs to a given parametric family, you can estimate the paramter of the distribution with the maximum likelihood method (see next lab)."
   ]
  },
  {
   "cell_type": "markdown",
   "metadata": {},
   "source": [
    "#### Boxplots"
   ]
  },
  {
   "cell_type": "markdown",
   "metadata": {},
   "source": [
    "You can draw boxplots using:\n",
    "- the [boxplot](https://matplotlib.org/3.1.1/api/_as_gen/matplotlib.pyplot.boxplot.html) function of matplotlib,\n",
    "- the [boxplot(column)](https://pandas.pydata.org/pandas-docs/stable/reference/api/pandas.DataFrame.boxplot.html) method on a pandas DataFrame\n",
    "- [.plot.box()](https://pandas.pydata.org/pandas-docs/stable/reference/api/pandas.Series.plot.box.html) on a Series pandas\n",
    "- the [boxplot](https://seaborn.pydata.org/generated/seaborn.boxplot.html?highlight=boxplot#seaborn.boxplot) function of seaborn."
   ]
  },
  {
   "cell_type": "markdown",
   "metadata": {},
   "source": [
    "Below is a boxplot for the `urbanUtilityScalePV_GWh` variable using seaborn."
   ]
  },
  {
   "cell_type": "code",
   "execution_count": null,
   "metadata": {},
   "outputs": [],
   "source": [
    "sns.boxplot(data = usretechnical.urbanUtilityScalePV_GWh )"
   ]
  },
  {
   "cell_type": "markdown",
   "metadata": {},
   "source": [
    "> **Question**\n",
    "> \n",
    "> Display on the same graph the boxplots of the `onshoreWind_GW` and the `offshoreWind_GW` variables using the boxplot function of pandas."
   ]
  },
  {
   "cell_type": "code",
   "execution_count": null,
   "metadata": {},
   "outputs": [],
   "source": [
    "# Answer\n",
    "\n"
   ]
  },
  {
   "cell_type": "markdown",
   "metadata": {},
   "source": [
    "#### Violon plots"
   ]
  },
  {
   "cell_type": "markdown",
   "metadata": {},
   "source": [
    "Violin plots are boxplots that also estimate and represent densities. The graphical representation is more advanced but beware of borderline cases, because the density estimate is not always appropriate (sample size too small, the estimate may \"exceed\" the min/max of the data).\n",
    "\n",
    "- [violinplot](https://seaborn.pydata.org/generated/seaborn.violinplot.html) function from seaborn\n",
    "- [violinplot](https://matplotlib.org/stable/api/_as_gen/matplotlib.pyplot.violinplot.html) function from matplotlib\n",
    "- No method on DataFrame"
   ]
  },
  {
   "cell_type": "markdown",
   "metadata": {},
   "source": [
    "> **Question**\n",
    "> \n",
    "> Display on the same graph the violon plots of the `urbanUtilityScalePV_GWh` and `ruralUtilityScalePV_GWh` variables using seaborn"
   ]
  },
  {
   "cell_type": "code",
   "execution_count": null,
   "metadata": {},
   "outputs": [],
   "source": [
    "# Answer\n",
    "\n"
   ]
  },
  {
   "cell_type": "markdown",
   "metadata": {
    "jp-MarkdownHeadingCollapsed": true,
    "pycharm": {
     "name": "#%% md\n"
    },
    "tags": []
   },
   "source": [
    "## Analyzing and Visualizing a Categorical Variable"
   ]
  },
  {
   "cell_type": "markdown",
   "metadata": {},
   "source": [
    "We first create a Categorical variable that corresponds to a discretization of the continuous variable \n",
    "`urbanUtilityScalePV_GWh`."
   ]
  },
  {
   "cell_type": "code",
   "execution_count": null,
   "metadata": {},
   "outputs": [],
   "source": [
    "q1 = usretechnical.urbanUtilityScalePV_GWh.quantile(0.33) \n",
    "q2 = usretechnical.urbanUtilityScalePV_GWh.quantile(0.66) \n",
    "\n",
    "usretechnical['UrbanPV_Class'] = pd.cut(usretechnical['urbanUtilityScalePV_GWh'],\n",
    "                            bins=[0, q1, q2, float('Inf')],\n",
    "                            labels=['low', 'middle', 'high'])\n",
    "\n",
    "usretechnical.head()"
   ]
  },
  {
   "cell_type": "markdown",
   "metadata": {},
   "source": [
    "> **Question**\n",
    "> \n",
    "> Create in the same way a new variable `RuralPV_Class` corresponding to a discretization of the continuous variable  `ruralUtilityScalePV_GWh`."
   ]
  },
  {
   "cell_type": "code",
   "execution_count": null,
   "metadata": {},
   "outputs": [],
   "source": [
    "# Answer\n",
    "\n"
   ]
  },
  {
   "cell_type": "markdown",
   "metadata": {},
   "source": [
    "> **Question**\n",
    "> \n",
    "> Create a new variable `SCP0` taking the value 1 if CSP_GW = 0 and 0 otherwise."
   ]
  },
  {
   "cell_type": "code",
   "execution_count": null,
   "metadata": {},
   "outputs": [],
   "source": [
    "# Answer\n",
    "\n"
   ]
  },
  {
   "cell_type": "code",
   "execution_count": null,
   "metadata": {},
   "outputs": [],
   "source": [
    "usretechnical.head()"
   ]
  },
  {
   "cell_type": "markdown",
   "metadata": {
    "tags": []
   },
   "source": [
    "#### Statistiques descriptives"
   ]
  },
  {
   "cell_type": "markdown",
   "metadata": {},
   "source": [
    "The `describe` method also display statistics for categorical variables.\n",
    "\n",
    "In the case a variable has not the `category` type, you can change it using the `astype('category')` method (see [doc](https://pandas.pydata.org/pandas-docs/stable/reference/api/pandas.DataFrame.astype.html))."
   ]
  },
  {
   "cell_type": "code",
   "execution_count": null,
   "metadata": {},
   "outputs": [],
   "source": [
    "usretechnical.describe(include='category')"
   ]
  },
  {
   "cell_type": "markdown",
   "metadata": {},
   "source": [
    "> **Question**\n",
    "> \n",
    "> For each categorical variable, display the values it can take using the function [unique](https://pandas.pydata.org/pandas-docs/stable/reference/api/pandas.unique.html). Then display the number of observations for each of these categories using [value_counts](https://pandas.pydata.org/docs/reference/api/pandas.Series.value_counts.html). Sort the results in **descending** order with [sort_values](https://pandas.pydata.org/docs/reference/api/pandas.DataFrame.sort_values.html)."
   ]
  },
  {
   "cell_type": "code",
   "execution_count": null,
   "metadata": {},
   "outputs": [],
   "source": [
    "# Answer \n",
    "\n"
   ]
  },
  {
   "cell_type": "code",
   "execution_count": null,
   "metadata": {},
   "outputs": [],
   "source": [
    "# Answer\n",
    "\n"
   ]
  },
  {
   "cell_type": "code",
   "execution_count": null,
   "metadata": {},
   "outputs": [],
   "source": [
    "usretechnical['RuralPV_Class'].value_counts().sort_values(ascending=False)"
   ]
  },
  {
   "cell_type": "code",
   "execution_count": null,
   "metadata": {},
   "outputs": [],
   "source": [
    "usretechnical['SCP0'].value_counts().sort_values(ascending=False)"
   ]
  },
  {
   "cell_type": "markdown",
   "metadata": {
    "tags": []
   },
   "source": [
    "#### Bar plot"
   ]
  },
  {
   "cell_type": "markdown",
   "metadata": {},
   "source": [
    "We compute the table of frequencies of the variable `SCP0` with the function [crosstab](https://pandas.pydata.org/pandas-docs/stable/reference/api/pandas.crosstab.html). Make the sum of the frequencies equal to 1 and store the result in a variable."
   ]
  },
  {
   "cell_type": "code",
   "execution_count": null,
   "metadata": {},
   "outputs": [],
   "source": [
    "cross = pd.crosstab(usretechnical['SCP0'], \"freq\", normalize=True)\n",
    "cross"
   ]
  },
  {
   "cell_type": "markdown",
   "metadata": {},
   "source": [
    "Display a barplot of `SCP0` (not to be confused with a histogram!), using the `.plot.bar` method on the frequency table."
   ]
  },
  {
   "cell_type": "code",
   "execution_count": null,
   "metadata": {},
   "outputs": [],
   "source": [
    "cross.plot.bar()\n",
    "plt.show()"
   ]
  },
  {
   "cell_type": "markdown",
   "metadata": {
    "jp-MarkdownHeadingCollapsed": true,
    "pycharm": {
     "name": "#%% md\n"
    },
    "tags": []
   },
   "source": [
    "## Bivariate descriptive statistics"
   ]
  },
  {
   "cell_type": "markdown",
   "metadata": {},
   "source": [
    "In this section, we study the correlations between pairs of variables. Of course, a non-null correlation does not mean causality (see for example this popular page on this subject).\n",
    "\n",
    "In the following, we compute correlations and we propose graphical representations to study and illustrate these correlations. Note, however, that to rigorously establish the existence of a correlation, a simple graph is not sufficient. This would require the use of statistical tests (not studied in this course)."
   ]
  },
  {
   "cell_type": "markdown",
   "metadata": {
    "pycharm": {
     "name": "#%% md\n"
    },
    "tags": []
   },
   "source": [
    "### Two numerical variables (quantitative - quantitative)"
   ]
  },
  {
   "cell_type": "markdown",
   "metadata": {},
   "source": [
    "For convenience, for this lab we first extract a sub Dataframe with only a few variables \n",
    "\n",
    "We also pay attention to keep only one variable per energy type.\n",
    "\n",
    "> **Question**\n",
    "> \n",
    "> Extract a sub dataframe `sub_US_re` containing only the columns:\n",
    "> - urbanUtilityScalePV_GWh\n",
    "> - ruralUtilityScalePV_GWh\n",
    "> - rooftopPV_GWh\n",
    "> - CSP_GWh\n",
    "> - onshoreWind_GWh\n",
    "> - offshoreWind_GWh"
   ]
  },
  {
   "cell_type": "code",
   "execution_count": null,
   "metadata": {},
   "outputs": [],
   "source": [
    "# Answer \n",
    "\n"
   ]
  },
  {
   "cell_type": "markdown",
   "metadata": {},
   "source": [
    "#### Correlation Matrix"
   ]
  },
  {
   "cell_type": "markdown",
   "metadata": {
    "pycharm": {
     "name": "#%% md\n"
    }
   },
   "source": [
    "Using the [corr](https://pandas.pydata.org/docs/reference/api/pandas.DataFrame.corr.html) method, compute the [correlation matrix](https://en.wikipedia.org/wiki/Correlation#Correlation_matrices)  of the **numeric** data from the dataset `usretechnical`."
   ]
  },
  {
   "cell_type": "code",
   "execution_count": null,
   "metadata": {},
   "outputs": [],
   "source": [
    "sub_US_re.corr()"
   ]
  },
  {
   "cell_type": "markdown",
   "metadata": {},
   "source": [
    "Does it makes sense that `urbanUtilityScalePV_GWh` and `rooftopPV_GWh` are strongly corrolated ? \n",
    "\n",
    "\n",
    "Hypothesis : it can be expected that these two variables are both correlated with the state's level of urbanization."
   ]
  },
  {
   "cell_type": "markdown",
   "metadata": {},
   "source": [
    "> **Question**\n",
    "> \n",
    "> Display the seaborn heatmap of this correlation matrix using the [heatmap](https://seaborn.pydata.org/generated/seaborn.heatmap.html) function. Choose a colormap using [this link](https://matplotlib.org/stable/tutorials/colors/colormaps.html), and make the scale of values go from 0 to 1."
   ]
  },
  {
   "cell_type": "code",
   "execution_count": null,
   "metadata": {
    "pycharm": {
     "name": "#%%\n"
    }
   },
   "outputs": [],
   "source": [
    "# Answer\n",
    "\n"
   ]
  },
  {
   "cell_type": "markdown",
   "metadata": {},
   "source": [
    "#### Scatter points"
   ]
  },
  {
   "cell_type": "markdown",
   "metadata": {},
   "source": [
    "Scatter points probide crossed vizualizations of two numerical variables\n",
    "\n",
    "\n",
    "> **Question**\n",
    "> Using the [scatter](https://matplotlib.org/stable/api/_as_gen/matplotlib.pyplot.scatter.html) function from matplotlib, display a scatter plot with `urbanUtilityScalePV_GWh` on the y-axis and and `rooftopPV_GWh` on the x-axis. Add names to the axes and to the figure."
   ]
  },
  {
   "cell_type": "code",
   "execution_count": null,
   "metadata": {},
   "outputs": [],
   "source": [
    "# Answer\n",
    "\n"
   ]
  },
  {
   "cell_type": "markdown",
   "metadata": {},
   "source": [
    "> **Question**\n",
    "> \n",
    "> Same question using the  [scatterplot](https://seaborn.pydata.org/generated/seaborn.scatterplot.html) function of Seaborn."
   ]
  },
  {
   "cell_type": "code",
   "execution_count": null,
   "metadata": {},
   "outputs": [],
   "source": [
    "# Answer\n",
    "\n",
    "\n"
   ]
  },
  {
   "cell_type": "markdown",
   "metadata": {},
   "source": [
    "Seaborn also provides the [jointplot](https://seaborn.pydata.org/generated/seaborn.jointplot.html#seaborn.jointplot) function to combine univariate and bivariate representations."
   ]
  },
  {
   "cell_type": "code",
   "execution_count": null,
   "metadata": {},
   "outputs": [],
   "source": [
    "sns.jointplot(data = usretechnical,  x='urbanUtilityScalePV_GWh', y='rooftopPV_GWh')"
   ]
  },
  {
   "cell_type": "markdown",
   "metadata": {},
   "source": [
    "Pandas also provide the function [scatter_matrix](https://pandas.pydata.org/docs/reference/api/pandas.plotting.scatter_matrix.html) (`plotting` module) to display all pairs of clouds of points with the numeric variables of the dataset. \n",
    "\n",
    "> **Question**\n",
    "> \n",
    "> Apply this function the `sub_US_re` Dataframe.\n",
    "> Don't forget to change the size of the figure."
   ]
  },
  {
   "cell_type": "code",
   "execution_count": null,
   "metadata": {},
   "outputs": [],
   "source": [
    "# Answer\n",
    "\n"
   ]
  },
  {
   "cell_type": "markdown",
   "metadata": {
    "pycharm": {
     "name": "#%% md\n"
    },
    "tags": []
   },
   "source": [
    "### A numerical variable and a categorical variable (quantitative - qualitative)"
   ]
  },
  {
   "cell_type": "markdown",
   "metadata": {},
   "source": [
    "We study a potential correlation between `ruralUtilityScalePV_GWh` and `SCP0`."
   ]
  },
  {
   "cell_type": "code",
   "execution_count": null,
   "metadata": {},
   "outputs": [],
   "source": [
    "usretechnical.groupby('SCP0')[['ruralUtilityScalePV_GWh']].describe()"
   ]
  },
  {
   "cell_type": "markdown",
   "metadata": {},
   "source": [
    "It seems that ruralUtilityScalePV_GWh tends to be lower when SCP0 = 1."
   ]
  },
  {
   "cell_type": "markdown",
   "metadata": {},
   "source": [
    "#### Violon plots and boxplots"
   ]
  },
  {
   "cell_type": "markdown",
   "metadata": {},
   "source": [
    "We can compare the two distributions of `ruralUtilityScalePV_GWh` conditionnaly to SCP0 = 0 or 1, using violon plots and boxplots."
   ]
  },
  {
   "cell_type": "code",
   "execution_count": null,
   "metadata": {},
   "outputs": [],
   "source": [
    "sns.violinplot(data = usretechnical, x='SCP0', y='ruralUtilityScalePV_GWh')"
   ]
  },
  {
   "cell_type": "markdown",
   "metadata": {},
   "source": [
    "The distribution of `ruralUtilityScalePV` is more concentrated when SCP=0 than when SCP=0. Higher values of `ruralUtilityScalePV` are observed when SCP >0, indeed a few extremal points are observed for SCP >0."
   ]
  },
  {
   "cell_type": "markdown",
   "metadata": {},
   "source": [
    "> **Question**\n",
    "> \n",
    "> Display a similar representation using boxplots"
   ]
  },
  {
   "cell_type": "code",
   "execution_count": null,
   "metadata": {},
   "outputs": [],
   "source": [
    "# Answer\n",
    "\n"
   ]
  },
  {
   "cell_type": "markdown",
   "metadata": {},
   "source": [
    "Box plots clearly provide a more efficient representation for analyzing extreme points (sometimes called \"outliers\")."
   ]
  },
  {
   "cell_type": "markdown",
   "metadata": {
    "pycharm": {
     "name": "#%% md\n"
    },
    "tags": []
   },
   "source": [
    "### Two categorical (qualitative - qualitative)"
   ]
  },
  {
   "cell_type": "markdown",
   "metadata": {},
   "source": [
    "#### Contengency table"
   ]
  },
  {
   "cell_type": "markdown",
   "metadata": {},
   "source": [
    "The contingency table between two categorical variables is calculated with the pandas [crosstab](https://pandas.pydata.org/pandas-docs/stable/reference/api/pandas.crosstab.html) function. Compute the contingency table of the `SCP0` and `RuralPV_Class` variables."
   ]
  },
  {
   "cell_type": "code",
   "execution_count": null,
   "metadata": {},
   "outputs": [],
   "source": [
    "pd.crosstab(usretechnical['SCP0'], usretechnical['RuralPV_Class'])"
   ]
  },
  {
   "cell_type": "markdown",
   "metadata": {},
   "source": [
    "The `margins` parameter can be used to also compute subtotals by row and column:"
   ]
  },
  {
   "cell_type": "code",
   "execution_count": null,
   "metadata": {},
   "outputs": [],
   "source": [
    "pd.crosstab(usretechnical['SCP0'], usretechnical['RuralPV_Class'], margins=True)"
   ]
  },
  {
   "cell_type": "markdown",
   "metadata": {},
   "source": [
    "You can also use `normalize` to normalize the counts in various ways:"
   ]
  },
  {
   "cell_type": "code",
   "execution_count": null,
   "metadata": {},
   "outputs": [],
   "source": [
    "pd.crosstab(usretechnical['SCP0'], usretechnical['RuralPV_Class'],  normalize=True)"
   ]
  },
  {
   "cell_type": "code",
   "execution_count": null,
   "metadata": {},
   "outputs": [],
   "source": [
    "pd.crosstab(usretechnical['SCP0'], usretechnical['RuralPV_Class'],  normalize='index', margins=True)"
   ]
  },
  {
   "cell_type": "code",
   "execution_count": null,
   "metadata": {},
   "outputs": [],
   "source": [
    "pd.crosstab(usretechnical['SCP0'], usretechnical['RuralPV_Class'],   normalize='columns', margins=True)"
   ]
  },
  {
   "cell_type": "markdown",
   "metadata": {},
   "source": [
    "#### Diagramme en barres"
   ]
  },
  {
   "cell_type": "markdown",
   "metadata": {},
   "source": [
    "> **Question**\n",
    "> \n",
    "> Check that the contingency table is a data frame. Use the `plot.bar` method to draw a bar graph for the values of the contingency table of `SCP0` and `RuralPV_Class`. Put\n",
    "`SCP0` on the x-axis sex, the number of observations in each group on the y-axis, distinguishing `RuralPV_Class` = low, middle or high, with colors."
   ]
  },
  {
   "cell_type": "code",
   "execution_count": null,
   "metadata": {},
   "outputs": [],
   "source": [
    "# Answer\n",
    "\n"
   ]
  },
  {
   "cell_type": "markdown",
   "metadata": {},
   "source": [
    "> **Question** \n",
    "> \n",
    "> You can also change the order of the variables in the contingency table and display the corresponding barplot. "
   ]
  },
  {
   "cell_type": "code",
   "execution_count": null,
   "metadata": {},
   "outputs": [],
   "source": [
    "# Answer\n",
    "\n"
   ]
  }
 ],
 "metadata": {
  "kernelspec": {
   "display_name": "Python 3 (ipykernel)",
   "language": "python",
   "name": "python3"
  },
  "language_info": {
   "codemirror_mode": {
    "name": "ipython",
    "version": 3
   },
   "file_extension": ".py",
   "mimetype": "text/x-python",
   "name": "python",
   "nbconvert_exporter": "python",
   "pygments_lexer": "ipython3",
   "version": "3.8.13"
  },
  "vscode": {
   "interpreter": {
    "hash": "7e1998ff7f8aa20ada591c520b972326324e5ea05489af9e422744c7c09f6dad"
   }
  }
 },
 "nbformat": 4,
 "nbformat_minor": 4
}
