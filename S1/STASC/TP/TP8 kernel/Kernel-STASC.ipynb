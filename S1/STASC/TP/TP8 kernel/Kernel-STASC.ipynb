{
 "cells": [
  {
   "cell_type": "markdown",
   "metadata": {},
   "source": [
    "# Kernel regression : molecule activity prediction\n",
    "\n",
    "Nous nous intéressons dans ce TP aux méthodes à noyau pour la régression : voir [ici](https://en.wikipedia.org/wiki/Support-vector_machine#Regression).\n",
    "\n",
    "Nous étudions ici un problème de biochimie. Il s'agit de prédire une quantité numérique $y$ appelée activité moléculaire, en fonction de la structure de la molécule. Cette activité permet d'évaluer la capacité d'une molécule à facilité l'appareillement avec d'autres élements moléculaire. Cette question est très importante par exemple pour la conception de médicaments efficaces. \n",
    "\n",
    "De façon très schématique, une molécule peut être décrite sous la forme d'un graphe dont les sommets sont les atomes et dont les arêtes représentent les liens entre ces derniers. Pour définir un noyau (intuitivement une similarité) sur l'espace des molécules, on considère l'ensemble $\\mathcal C_l$ de tous les chemins d'atomes de longueur inférieure à $l$, au sein de l'espace des graphes de molécules. Pour un chemin d'atomes $c$ et une molécule $x$, on pose $I(x,c) = 1$ si le chemin $c$ est possible dans le graphe représentant la molécule $x$, et $0$ sinon.\n",
    "\n",
    "Pour deux molécules $x$ and $x'$, on définit la similarité entre $x$ et $x'$ par le nombre de chemin possibles communs à $x$ et $x'$:\n",
    "$$ u(x,x')= \\sum_{c \\in \\mathcal C _l}  I(x,p) I(x',p). $$\n",
    "Le noyau de Tanimoto est alors défini par la renormalisation suivante de la densité:\n",
    "$$ k(x,x')= \\frac{u(x,x′)}{u(x,x)+u(x',x')−u(x,x')} $$"
   ]
  },
  {
   "cell_type": "markdown",
   "metadata": {},
   "source": [
    "Les données sont disponibles à [cette adresse](http://bertrand.michel.perso.math.cnrs.fr/Enseignements/Data/data_ncicancer.zip). Vous disposez de la matrice de Gram ainsi que du vecteur des activités."
   ]
  },
  {
   "cell_type": "code",
   "execution_count": 1,
   "metadata": {},
   "outputs": [],
   "source": [
    "import numpy as np"
   ]
  },
  {
   "cell_type": "code",
   "execution_count": 3,
   "metadata": {},
   "outputs": [],
   "source": [
    "path =  \"/mnt/e/centrale nantes/ai/a2/stasc/tp/tp8 kernel/data_ncicancer/data_ncicancer\"\n",
    "\n",
    "K = np.loadtxt(path + \"/ncicancer_kernel_hf_ex0.txt\") # Matrice de Gram\n",
    "y = np.loadtxt(path + \"/ncicancer_targets_ex0.txt\")[:, 0] # activités\n",
    "y = (y-np.min(y)) / (np.max(y)-np.min(y)) # normalisation des activités"
   ]
  },
  {
   "cell_type": "markdown",
   "metadata": {},
   "source": [
    "> Découper aléatoirement l'échantillon en 3/4 des données pour le train et 1/4 pour le test: extraire un vecteur d'indices pour le train et pour le test."
   ]
  },
  {
   "cell_type": "code",
   "execution_count": null,
   "metadata": {},
   "outputs": [],
   "source": [
    " ## TO DO ##\n",
    "K_train, y_train, K_test, y_test = "
   ]
  },
  {
   "cell_type": "markdown",
   "metadata": {},
   "source": [
    "> Extraire la matrice de Gram de l'échantillon d'apprentissage.\n",
    "Extraire aussi le vecteur des activités moléculaires mesuré sur les données d'apprentissage."
   ]
  },
  {
   "cell_type": "code",
   "execution_count": null,
   "metadata": {},
   "outputs": [],
   "source": [
    " ## TO DO ##"
   ]
  },
  {
   "cell_type": "markdown",
   "metadata": {},
   "source": [
    "> Ajuster un régresseur SVR sur les données de train en choisissant les constantes $C$ et $\\varepsilon$ par validation croisée avec la fonction `GridSearchCV`. On précisera en argument \"SVR(kernel='precomputed')\" pour indiquer que l'on utiliser ici un noyau spécifique  pour la méthode SVR."
   ]
  },
  {
   "cell_type": "code",
   "execution_count": null,
   "metadata": {},
   "outputs": [],
   "source": [
    " ## TO DO ##"
   ]
  },
  {
   "cell_type": "markdown",
   "metadata": {},
   "source": [
    "Le predicteur de la méthode SVR ajusté sur les données d'apprentissage est de la forme \n",
    "$$ \\hat f (x) =  \\sum_{i \\in train} \\hat \\alpha_i Y_i K(X_i,x) $$ \n",
    "Pour faire une prédiction, que faut-il donner à la fonction SVC dans ce contexte où l'on ne connait que la fonction noyau (et pas des features décrivant les observations) ? Evaluer  sur les données de test l'erreur de prédiction du noyau ajusté."
   ]
  },
  {
   "cell_type": "code",
   "execution_count": null,
   "metadata": {},
   "outputs": [],
   "source": [
    " ## TO DO ##"
   ]
  },
  {
   "cell_type": "markdown",
   "metadata": {},
   "source": [
    "> La méthode [kernel ridge](https://scikit-learn.org/stable/modules/kernel_ridge.html#kernel-ridge) permet-elle ici d'améliorer les performances de prédiction ? "
   ]
  },
  {
   "cell_type": "code",
   "execution_count": null,
   "metadata": {},
   "outputs": [],
   "source": [
    " ## TO DO ##"
   ]
  },
  {
   "cell_type": "markdown",
   "metadata": {},
   "source": [
    "> Visualiser les données à l'aide de la méthode [Kernel PCA](https://scikit-learn.org/stable/modules/generated/sklearn.decomposition.KernelPCA.html#sklearn.decomposition.KernelPCA) pour le noyau $K$."
   ]
  },
  {
   "cell_type": "code",
   "execution_count": null,
   "metadata": {},
   "outputs": [],
   "source": [
    " ## TO DO ##"
   ]
  }
 ],
 "metadata": {
  "kernelspec": {
   "display_name": "Python 3 (ipykernel)",
   "language": "python",
   "name": "python3"
  },
  "language_info": {
   "codemirror_mode": {
    "name": "ipython",
    "version": 3
   },
   "file_extension": ".py",
   "mimetype": "text/x-python",
   "name": "python",
   "nbconvert_exporter": "python",
   "pygments_lexer": "ipython3",
   "version": "3.11.5"
  }
 },
 "nbformat": 4,
 "nbformat_minor": 4
}
