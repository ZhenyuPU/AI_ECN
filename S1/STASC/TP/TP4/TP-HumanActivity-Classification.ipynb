{
 "cells": [
  {
   "cell_type": "markdown",
   "metadata": {},
   "source": [
    "# Human Activities - Classification"
   ]
  },
  {
   "cell_type": "markdown",
   "metadata": {},
   "source": [
    "Pour ce TP nous allons mettre en pratique plusieurs méthodes de classification supervisée sur des données d'enregistrement d'acceleromètres (de smart-phones).\n",
    "\n",
    "Les données sources sont disponibles sur [ici](http://bertrand.michel.perso.math.cnrs.fr/Enseignements/Data/UCI-HAR-Dataset.zip), voir aussi la description sur le site de [la plateforme de données UCI](https://archive.ics.uci.edu/ml/datasets/human+activity+recognition+using+smartphones).\n",
    "\n",
    "\"The experiments have been carried out with a group of 30 volunteers within an age bracket of 19-48 years. Each person performed six activities (WALKING, WALKING_UPSTAIRS, WALKING_DOWNSTAIRS, SITTING, STANDING, LAYING) wearing a smartphone (Samsung Galaxy S II) on the waist. Using its embedded accelerometer and gyroscope, we captured 3-axial linear acceleration and 3-axial angular velocity at a constant rate of 50Hz. The experiments have been video-recorded to label the data manually.\n",
    "\n",
    "The sensor signals (accelerometer and gyroscope) were pre-processed by applying noise filters and then sampled in fixed-width sliding windows of 2.56 sec and 50% overlap (128 readings/window). The sensor acceleration signal, which has gravitational and body motion components, was separated using a Butterworth low-pass filter into body acceleration and gravity. The gravitational force is assumed to have only low frequency components, therefore a filter with 0.3 Hz cutoff frequency was used. From each window, a vector of features was obtained by calculating variables from the time and frequency domain. See 'features_info.txt' for more details.\"\n",
    "\n",
    "L'objectif de ce TP est de retrouver l'activité à partir de toutes ces descripteurs (features). Notez que dans un contexte plus réaliste il vous faudrait créer par vosu même tous ces features qui décrivent les séries temporelles des accelerations enregistrées.\n"
   ]
  },
  {
   "cell_type": "code",
   "execution_count": 1,
   "metadata": {},
   "outputs": [],
   "source": [
    "%matplotlib inline\n",
    "from pylab import *\n",
    "import pandas as pd\n",
    "from sklearn.decomposition import PCA\n",
    "from sklearn import preprocessing "
   ]
  },
  {
   "cell_type": "markdown",
   "metadata": {},
   "source": [
    "# Importation des données\n",
    "\n",
    "\n",
    "Les commandes suivantes permettent de récupérer les données.\n",
    "Pour simplifier on n'utilise pour le TP que les données du dossier \"train\".\n",
    "\n",
    "> Vérifiez que vous comprenez l'ensemble des commandes ci-dessous."
   ]
  },
  {
   "cell_type": "code",
   "execution_count": 2,
   "metadata": {},
   "outputs": [],
   "source": [
    "votre_path= \"/mnt/e/centrale nantes/ai/a2/stasc/tp/tp4/uci-har-dataset/\""
   ]
  },
  {
   "cell_type": "markdown",
   "metadata": {},
   "source": [
    "#### Importation des features"
   ]
  },
  {
   "cell_type": "code",
   "execution_count": 3,
   "metadata": {},
   "outputs": [],
   "source": [
    "data_path = votre_path + \"train/X_train.txt\"\n",
    "activity_features = pd.read_csv(data_path,delim_whitespace=True,\n",
    "                                header=None)"
   ]
  },
  {
   "cell_type": "markdown",
   "metadata": {},
   "source": [
    "#### Importation des activités :"
   ]
  },
  {
   "cell_type": "code",
   "execution_count": 4,
   "metadata": {},
   "outputs": [],
   "source": [
    "data_path = votre_path + \"train/y_train.txt\"\n",
    "activity  =    pd.read_csv(data_path,delim_whitespace=True,header=None)\n",
    "\n",
    "activity  =  activity.values[:,0] -  1 \n",
    "# la première activité sera 0 (plus pratique en python)\n",
    "activity_names = ['WALKING','WALKING_UPSTAIRS','WALKING_DOWNSTAIRS','SITTING','STANDING','LAYING']\n",
    "# activity label = 0 1 2 3 4 5 and these are the values of activity"
   ]
  },
  {
   "cell_type": "markdown",
   "metadata": {},
   "source": [
    "La variable à prédire  est la variable d'activité. Il s'agit donc d'un problème de classification (à 6 classes).\n",
    "Pour cela on dispose des variables du tableau `activity_features`. \n",
    "> Combien de variables sont disponibles pour construire le prédicteur de l'activité ?  De combien d'observations dispose-t-on ?"
   ]
  },
  {
   "cell_type": "code",
   "execution_count": 5,
   "metadata": {},
   "outputs": [
    {
     "name": "stdout",
     "output_type": "stream",
     "text": [
      "           0         1         2         3         4         5         6    \\\n",
      "0     0.288585 -0.020294 -0.132905 -0.995279 -0.983111 -0.913526 -0.995112   \n",
      "1     0.278419 -0.016411 -0.123520 -0.998245 -0.975300 -0.960322 -0.998807   \n",
      "2     0.279653 -0.019467 -0.113462 -0.995380 -0.967187 -0.978944 -0.996520   \n",
      "3     0.279174 -0.026201 -0.123283 -0.996091 -0.983403 -0.990675 -0.997099   \n",
      "4     0.276629 -0.016570 -0.115362 -0.998139 -0.980817 -0.990482 -0.998321   \n",
      "...        ...       ...       ...       ...       ...       ...       ...   \n",
      "7347  0.299665 -0.057193 -0.181233 -0.195387  0.039905  0.077078 -0.282301   \n",
      "7348  0.273853 -0.007749 -0.147468 -0.235309  0.004816  0.059280 -0.322552   \n",
      "7349  0.273387 -0.017011 -0.045022 -0.218218 -0.103822  0.274533 -0.304515   \n",
      "7350  0.289654 -0.018843 -0.158281 -0.219139 -0.111412  0.268893 -0.310487   \n",
      "7351  0.351503 -0.012423 -0.203867 -0.269270 -0.087212  0.177404 -0.377404   \n",
      "\n",
      "           7         8         9    ...       551       552       553  \\\n",
      "0    -0.983185 -0.923527 -0.934724  ... -0.074323 -0.298676 -0.710304   \n",
      "1    -0.974914 -0.957686 -0.943068  ...  0.158075 -0.595051 -0.861499   \n",
      "2    -0.963668 -0.977469 -0.938692  ...  0.414503 -0.390748 -0.760104   \n",
      "3    -0.982750 -0.989302 -0.938692  ...  0.404573 -0.117290 -0.482845   \n",
      "4    -0.979672 -0.990441 -0.942469  ...  0.087753 -0.351471 -0.699205   \n",
      "...        ...       ...       ...  ...       ...       ...       ...   \n",
      "7347  0.043616  0.060410  0.210795  ... -0.070157 -0.588433 -0.880324   \n",
      "7348 -0.029456  0.080585  0.117440  ...  0.165259 -0.390738 -0.680744   \n",
      "7349 -0.098913  0.332584  0.043999  ...  0.195034  0.025145 -0.304029   \n",
      "7350 -0.068200  0.319473  0.101702  ...  0.013865  0.063907 -0.344314   \n",
      "7351 -0.038678  0.229430  0.269013  ... -0.058402 -0.387052 -0.740738   \n",
      "\n",
      "           554       555       556       557       558       559       560  \n",
      "0    -0.112754  0.030400 -0.464761 -0.018446 -0.841247  0.179941 -0.058627  \n",
      "1     0.053477 -0.007435 -0.732626  0.703511 -0.844788  0.180289 -0.054317  \n",
      "2    -0.118559  0.177899  0.100699  0.808529 -0.848933  0.180637 -0.049118  \n",
      "3    -0.036788 -0.012892  0.640011 -0.485366 -0.848649  0.181935 -0.047663  \n",
      "4     0.123320  0.122542  0.693578 -0.615971 -0.847865  0.185151 -0.043892  \n",
      "...        ...       ...       ...       ...       ...       ...       ...  \n",
      "7347 -0.190437  0.829718  0.206972 -0.425619 -0.791883  0.238604  0.049819  \n",
      "7348  0.064907  0.875679 -0.879033  0.400219 -0.771840  0.252676  0.050053  \n",
      "7349  0.052806 -0.266724  0.864404  0.701169 -0.779133  0.249145  0.040811  \n",
      "7350 -0.101360  0.700740  0.936674 -0.589479 -0.785181  0.246432  0.025339  \n",
      "7351 -0.280088 -0.007739 -0.056088 -0.616956 -0.783267  0.246809  0.036695  \n",
      "\n",
      "[7352 rows x 561 columns]\n"
     ]
    }
   ],
   "source": [
    "print(activity_features)"
   ]
  },
  {
   "cell_type": "markdown",
   "metadata": {},
   "source": [
    "Pour beaucoup de méthodes d'appprentissage statistique, il est conseiller de préalablement standardiser les données."
   ]
  },
  {
   "cell_type": "markdown",
   "metadata": {},
   "source": [
    "> Effectuer une standardisation des features (activity_features) avec la fonction  [scale()](https://scikit-learn.org/stable/modules/generated/sklearn.preprocessing.scale.html) de scikit-learn."
   ]
  },
  {
   "cell_type": "code",
   "execution_count": 6,
   "metadata": {},
   "outputs": [],
   "source": [
    "# données standardisées\n",
    "features_nor = preprocessing.scale(activity_features, axis=0, with_mean=True, with_std=True, copy=True)   \n"
   ]
  },
  {
   "cell_type": "code",
   "execution_count": null,
   "metadata": {},
   "outputs": [],
   "source": []
  },
  {
   "cell_type": "markdown",
   "metadata": {},
   "source": [
    "#### Importation des sujets :"
   ]
  },
  {
   "cell_type": "code",
   "execution_count": 7,
   "metadata": {},
   "outputs": [],
   "source": [
    "data_path = votre_path + \"train/subject_train.txt\"\n",
    "sujet =  pd.read_csv(data_path,delim_whitespace=True,header=None)\n",
    "sujet =sujet.values[:,0]"
   ]
  },
  {
   "cell_type": "markdown",
   "metadata": {},
   "source": [
    "A chaque sujet correspond plusieurs observations.\n",
    "> Indiquer le nombre d'observations de chaque sujet"
   ]
  },
  {
   "cell_type": "code",
   "execution_count": 8,
   "metadata": {},
   "outputs": [
    {
     "name": "stdout",
     "output_type": "stream",
     "text": [
      "[[1, 347], [3, 342], [5, 303], [6, 326], [7, 309], [8, 282], [11, 317], [14, 324], [15, 329], [16, 367], [17, 369], [19, 361], [21, 409], [22, 322], [23, 373], [25, 410], [26, 393], [27, 377], [28, 383], [29, 345], [30, 384]]\n"
     ]
    }
   ],
   "source": [
    "import numpy as np\n",
    "\n",
    "# 假设 sujet 是一个 NumPy 数组，其中包含主题标识符\n",
    "unique_subjects, observation_counts = np.unique(sujet, return_counts=True)\n",
    "\n",
    "# 创建一个包含每个主题及其对应的观测数量的新数组\n",
    "subjects_and_counts = np.column_stack((unique_subjects, observation_counts))\n",
    "\n",
    "# 打印每个主题的观测数量\n",
    "# print(subjects_and_counts)\n",
    "\n",
    "observations_per_subject = []\n",
    "for i in range(len(sujet)):\n",
    "    count = 1\n",
    "    if sujet[i] == sujet[i-1] and i > 0:\n",
    "        continue\n",
    "    for j in range(1, len(sujet)):\n",
    "        if sujet[i] == sujet[j]:\n",
    "            count += 1\n",
    "    observations_per_subject.append([sujet[i], count])\n",
    "\n",
    "print(observations_per_subject)\n",
    "\n"
   ]
  },
  {
   "cell_type": "markdown",
   "metadata": {},
   "source": [
    "# Problème de classification à deux classes\n",
    "\n",
    "Dans toute la première partie du TP, on considère un problème de classification à deux classes. \n",
    "\n",
    "> Extraire les donnnés pour les activités  'WALKING_DOWNSTAIRS' (activity = 3)  et 'SITTING' (activity =4) uniquement. On appele `features34` et `activity34` les données correspondantes."
   ]
  },
  {
   "cell_type": "code",
   "execution_count": 9,
   "metadata": {},
   "outputs": [
    {
     "name": "stdout",
     "output_type": "stream",
     "text": [
      "(2660, 561)\n"
     ]
    }
   ],
   "source": [
    "# n: rows\n",
    "# p: colomns\n",
    "n,p = shape(features_nor)\n",
    "\n",
    "index_act34 = [i for i in range(n) if activity[i] == 3 or activity[i] == 4 ] \n",
    "\n",
    "activity34 = [activity[i] for i in index_act34]\n",
    "features34 = [features_nor[i] for i in index_act34]\n",
    "print(shape(features34))"
   ]
  },
  {
   "cell_type": "markdown",
   "metadata": {},
   "source": [
    "# Présélection de features  pour réduire la dimension (screening)\n",
    "\n",
    "Pour diminuer les temps de calul on peut pré-sélectionner les 100 features les plus discriminants via un critère univarié. \n",
    "\n",
    "> Utiliser le critère  [SelectKBest](http://scikit-learn.org/stable/modules/generated/sklearn.feature_selection.SelectKBest.html) basé sur la F-value (variance inter / variance intra).\n",
    "\n",
    "Attention, cette méthode ne garantit en rien que l'on choisisse ainsi le \"meilleur\" groupe de 100 variables pour le problème de classification."
   ]
  },
  {
   "cell_type": "code",
   "execution_count": 10,
   "metadata": {},
   "outputs": [
    {
     "name": "stdout",
     "output_type": "stream",
     "text": [
      "(2660, 10)\n"
     ]
    }
   ],
   "source": [
    "from sklearn.feature_selection import SelectKBest, f_classif\n",
    "Selec = SelectKBest(score_func=f_classif, k=10)\n",
    "features34 = Selec.fit_transform(features34, activity34)\n",
    "print(shape(features34))"
   ]
  },
  {
   "cell_type": "markdown",
   "metadata": {},
   "source": [
    "# Ajustement et prédiction pour des méthodes classiques de classification \n",
    "\n",
    "> Pour chacune des méthodes de classificiation listées ci-dessous, ajuster un predicteur de l'activité en utilisant comme données d'apprentissage la base (features34,activity34) :      \n",
    "- Classifieur naif bayesien avec la fonction `GaussianNB()`   \n",
    "- Classifieur des k plus proches voisins avec `neighbors.KNeighborsClassifier()` avec 5 plus proches voisins.  \n",
    "- Classifieur par régression logistique avec pénalisation ridge, en utilisant la fonction `linear_model.LogisticRegression() `. Indiquer la pénalité \"l2\" dans les arguments de la fonction et choisir le solveur \"saga\" (voir la doc de la fonction).\n",
    "\n",
    "\n",
    "Une présentation de chacune des ces fonctions est disponible sur cette [page](http://scikit-learn.org/stable/user_guide.html).\n",
    "</p>"
   ]
  },
  {
   "cell_type": "code",
   "execution_count": 11,
   "metadata": {},
   "outputs": [
    {
     "data": {
      "text/html": [
       "<style>#sk-container-id-1 {color: black;}#sk-container-id-1 pre{padding: 0;}#sk-container-id-1 div.sk-toggleable {background-color: white;}#sk-container-id-1 label.sk-toggleable__label {cursor: pointer;display: block;width: 100%;margin-bottom: 0;padding: 0.3em;box-sizing: border-box;text-align: center;}#sk-container-id-1 label.sk-toggleable__label-arrow:before {content: \"▸\";float: left;margin-right: 0.25em;color: #696969;}#sk-container-id-1 label.sk-toggleable__label-arrow:hover:before {color: black;}#sk-container-id-1 div.sk-estimator:hover label.sk-toggleable__label-arrow:before {color: black;}#sk-container-id-1 div.sk-toggleable__content {max-height: 0;max-width: 0;overflow: hidden;text-align: left;background-color: #f0f8ff;}#sk-container-id-1 div.sk-toggleable__content pre {margin: 0.2em;color: black;border-radius: 0.25em;background-color: #f0f8ff;}#sk-container-id-1 input.sk-toggleable__control:checked~div.sk-toggleable__content {max-height: 200px;max-width: 100%;overflow: auto;}#sk-container-id-1 input.sk-toggleable__control:checked~label.sk-toggleable__label-arrow:before {content: \"▾\";}#sk-container-id-1 div.sk-estimator input.sk-toggleable__control:checked~label.sk-toggleable__label {background-color: #d4ebff;}#sk-container-id-1 div.sk-label input.sk-toggleable__control:checked~label.sk-toggleable__label {background-color: #d4ebff;}#sk-container-id-1 input.sk-hidden--visually {border: 0;clip: rect(1px 1px 1px 1px);clip: rect(1px, 1px, 1px, 1px);height: 1px;margin: -1px;overflow: hidden;padding: 0;position: absolute;width: 1px;}#sk-container-id-1 div.sk-estimator {font-family: monospace;background-color: #f0f8ff;border: 1px dotted black;border-radius: 0.25em;box-sizing: border-box;margin-bottom: 0.5em;}#sk-container-id-1 div.sk-estimator:hover {background-color: #d4ebff;}#sk-container-id-1 div.sk-parallel-item::after {content: \"\";width: 100%;border-bottom: 1px solid gray;flex-grow: 1;}#sk-container-id-1 div.sk-label:hover label.sk-toggleable__label {background-color: #d4ebff;}#sk-container-id-1 div.sk-serial::before {content: \"\";position: absolute;border-left: 1px solid gray;box-sizing: border-box;top: 0;bottom: 0;left: 50%;z-index: 0;}#sk-container-id-1 div.sk-serial {display: flex;flex-direction: column;align-items: center;background-color: white;padding-right: 0.2em;padding-left: 0.2em;position: relative;}#sk-container-id-1 div.sk-item {position: relative;z-index: 1;}#sk-container-id-1 div.sk-parallel {display: flex;align-items: stretch;justify-content: center;background-color: white;position: relative;}#sk-container-id-1 div.sk-item::before, #sk-container-id-1 div.sk-parallel-item::before {content: \"\";position: absolute;border-left: 1px solid gray;box-sizing: border-box;top: 0;bottom: 0;left: 50%;z-index: -1;}#sk-container-id-1 div.sk-parallel-item {display: flex;flex-direction: column;z-index: 1;position: relative;background-color: white;}#sk-container-id-1 div.sk-parallel-item:first-child::after {align-self: flex-end;width: 50%;}#sk-container-id-1 div.sk-parallel-item:last-child::after {align-self: flex-start;width: 50%;}#sk-container-id-1 div.sk-parallel-item:only-child::after {width: 0;}#sk-container-id-1 div.sk-dashed-wrapped {border: 1px dashed gray;margin: 0 0.4em 0.5em 0.4em;box-sizing: border-box;padding-bottom: 0.4em;background-color: white;}#sk-container-id-1 div.sk-label label {font-family: monospace;font-weight: bold;display: inline-block;line-height: 1.2em;}#sk-container-id-1 div.sk-label-container {text-align: center;}#sk-container-id-1 div.sk-container {/* jupyter's `normalize.less` sets `[hidden] { display: none; }` but bootstrap.min.css set `[hidden] { display: none !important; }` so we also need the `!important` here to be able to override the default hidden behavior on the sphinx rendered scikit-learn.org. See: https://github.com/scikit-learn/scikit-learn/issues/21755 */display: inline-block !important;position: relative;}#sk-container-id-1 div.sk-text-repr-fallback {display: none;}</style><div id=\"sk-container-id-1\" class=\"sk-top-container\"><div class=\"sk-text-repr-fallback\"><pre>LogisticRegression()</pre><b>In a Jupyter environment, please rerun this cell to show the HTML representation or trust the notebook. <br />On GitHub, the HTML representation is unable to render, please try loading this page with nbviewer.org.</b></div><div class=\"sk-container\" hidden><div class=\"sk-item\"><div class=\"sk-estimator sk-toggleable\"><input class=\"sk-toggleable__control sk-hidden--visually\" id=\"sk-estimator-id-1\" type=\"checkbox\" checked><label for=\"sk-estimator-id-1\" class=\"sk-toggleable__label sk-toggleable__label-arrow\">LogisticRegression</label><div class=\"sk-toggleable__content\"><pre>LogisticRegression()</pre></div></div></div></div></div>"
      ],
      "text/plain": [
       "LogisticRegression()"
      ]
     },
     "execution_count": 11,
     "metadata": {},
     "output_type": "execute_result"
    }
   ],
   "source": [
    "from sklearn.naive_bayes import GaussianNB \n",
    "gnb = GaussianNB()\n",
    "gnb.fit(features34, activity34)\n",
    "\n",
    "\n",
    "from sklearn import neighbors\n",
    "neighbor_plus_proche = 5\n",
    "nn = neighbors.KNeighborsClassifier(neighbor_plus_proche)\n",
    "nn.fit(features34, activity34)\n",
    "\n",
    "\n",
    "from sklearn import linear_model\n",
    "logit =  linear_model.LogisticRegression()\n",
    "logit.fit(features34, activity34)\n"
   ]
  },
  {
   "cell_type": "markdown",
   "metadata": {},
   "source": [
    "Pour chacune de ces méthodes, on peut faire une prédiction grâce à la méthode `predict()`. par exemple pour le classifieur naif bayesien : "
   ]
  },
  {
   "cell_type": "code",
   "execution_count": 12,
   "metadata": {},
   "outputs": [
    {
     "name": "stdout",
     "output_type": "stream",
     "text": [
      "[4 4 4 ... 3 3 3]\n"
     ]
    }
   ],
   "source": [
    "feat_pred_gnb = gnb.predict(features34)\n",
    "print(feat_pred_gnb)\n"
   ]
  },
  {
   "cell_type": "markdown",
   "metadata": {},
   "source": [
    "> Faire de même une prédiction pour le classifieur des plus proches voisins et pour la régression logistique. "
   ]
  },
  {
   "cell_type": "code",
   "execution_count": 13,
   "metadata": {},
   "outputs": [
    {
     "name": "stdout",
     "output_type": "stream",
     "text": [
      "[4 4 4 ... 3 3 3]\n",
      "[4 4 4 ... 3 3 3]\n"
     ]
    }
   ],
   "source": [
    "feat_pred_nn = nn.predict(features34)\n",
    "print(feat_pred_nn)\n",
    "\n",
    "feat_pred_logit = logit.predict(features34)\n",
    "print(feat_pred_logit)"
   ]
  },
  {
   "cell_type": "markdown",
   "metadata": {},
   "source": [
    "> Ces prédictions sont-elles cohérentes entre elles ?"
   ]
  },
  {
   "cell_type": "code",
   "execution_count": 14,
   "metadata": {},
   "outputs": [],
   "source": [
    "# None. Ells ne sont pas absolument même."
   ]
  },
  {
   "cell_type": "markdown",
   "metadata": {},
   "source": [
    "> Pour chaque prédicteur :\n",
    "> - Calculer le taux d'erreur \"à la main\" en comparant les observations et les prédictions.\n",
    "> - Calculer le taux de bon classement avec la méthode `score()` (disponible pour tout predicteur)"
   ]
  },
  {
   "cell_type": "code",
   "execution_count": 15,
   "metadata": {},
   "outputs": [],
   "source": [
    "from sklearn.metrics import accuracy_score\n",
    "# GaussianNB\n",
    "Gau_score = accuracy_score(activity34, feat_pred_gnb)\n",
    "# neighbors\n",
    "Nei_score = accuracy_score(activity34, feat_pred_nn)\n",
    "# logic\n",
    "Log_score = accuracy_score(activity34, feat_pred_logit)"
   ]
  },
  {
   "cell_type": "markdown",
   "metadata": {},
   "source": [
    "Evidemment ce n'est pas pas la bonne façon d'estimer le risque de l'estimateur : estimer de l'erreur de généralisation en évaluant les erreurs sur l'échantillon qui a déjà servi à ajuster le prédicteur conduit la plupart du temps à une estimation trop optimiste."
   ]
  },
  {
   "cell_type": "markdown",
   "metadata": {},
   "source": [
    "# Evaluation de l'erreur par découpage train / test"
   ]
  },
  {
   "cell_type": "markdown",
   "metadata": {},
   "source": [
    "Nous allons maintenant évaluer l'erreur de généralisation en conservant une partie de l'échantillon pour évaluer les erreurs du prédicteur ajusté. Pour cela on découpe aléatoirement l'échantillon initial en deux parties :  \n",
    "\n",
    "- l'ensemble d'apprentissage : utilisé pour ajuster les prédicteurs ;\n",
    "- l'ensemble de test : utilisé pour évaluer les performances des prédicteurs."
   ]
  },
  {
   "cell_type": "markdown",
   "metadata": {},
   "source": [
    "> Utiliser la fonction <code>train_test_split</code> du module [<code>model_selection</code>](http://scikit-learn.org/stable/modules/classes.html#module-sklearn.model_selection) pour construire un échantillon d'apprentissage de taille 60% (et donc 40% réservées aux données de test)"
   ]
  },
  {
   "cell_type": "code",
   "execution_count": 16,
   "metadata": {},
   "outputs": [
    {
     "name": "stdout",
     "output_type": "stream",
     "text": [
      "0.6\n",
      "0.4\n",
      "(1064, 10)\n"
     ]
    }
   ],
   "source": [
    "from sklearn import model_selection\n",
    "\n",
    "features_train, features_test, activity_train, activity_test = model_selection.train_test_split(features34, activity34, test_size=0.4, random_state=42)\n",
    "print(len(activity_train)/ float(len(activity34)))\n",
    "print(len(activity_test)/ float(len(activity34)))\n",
    "print(shape(features_test))"
   ]
  },
  {
   "cell_type": "markdown",
   "metadata": {},
   "source": [
    "> Evaluer le risque d'un classifieur par plus proches voisins (knn) avec 5 voisins sur ce découpage des données : ajuster sur les données d'apprentissage et évaluer les erreurs sur le test.  \n",
    ">\n",
    "> Vérifier que l'estimation de l'erreur ainsi obtenue est plus élevée que l'estimation obtenue précédemment, en ajustant et évaluant l'erreur sur le même échantillon (échantillon complet, sans découpage)"
   ]
  },
  {
   "cell_type": "code",
   "execution_count": 17,
   "metadata": {},
   "outputs": [
    {
     "name": "stdout",
     "output_type": "stream",
     "text": [
      "0.9013157894736842\n"
     ]
    }
   ],
   "source": [
    "# neighbors\n",
    "nn_train = neighbors.KNeighborsClassifier(neighbor_plus_proche)\n",
    "nn_train.fit(features_train, activity_train)\n",
    "nn_train_pred = nn_train.predict(features_test)\n",
    "nn_train_score = accuracy_score(activity_test, nn_train_pred)\n",
    "print(nn_train_score)\n"
   ]
  },
  {
   "cell_type": "markdown",
   "metadata": {},
   "source": [
    "> Reproduire la procédure 100 fois et dresser le boxplot de l'estimation de l'erreur sur ces 100 runs."
   ]
  },
  {
   "cell_type": "code",
   "execution_count": 18,
   "metadata": {},
   "outputs": [
    {
     "data": {
      "image/png": "[encoded data removed]",
      "text/plain": [
       "<Figure size 640x480 with 1 Axes>"
      ]
     },
     "metadata": {},
     "output_type": "display_data"
    }
   ],
   "source": [
    "score_train_test = [] # pour stockage des scores\n",
    "for simu in range(100) :\n",
    "    features_train, features_test, activity_train, activity_test = model_selection.train_test_split(features34, activity34, test_size=0.4, random_state=42)\n",
    "    nn_train_test = neighbors.KNeighborsClassifier(neighbor_plus_proche)\n",
    "    nn_train_test.fit(features_train, activity_train)\n",
    "    score_train_test.append(accuracy_score(activity_test, nn_train_test.predict(features_test)))\n",
    "B = plt.boxplot(score_train_test)"
   ]
  },
  {
   "cell_type": "markdown",
   "metadata": {},
   "source": [
    "> Tracer la courbe d'erreur du classifieur par plus proches voisins en fonction du nombre de voisins utilisés (de 1 à 15), en utilisant cette méthode de découpage train / test répétée 20 fois."
   ]
  },
  {
   "cell_type": "code",
   "execution_count": 19,
   "metadata": {},
   "outputs": [
    {
     "data": {
      "image/png": "[encoded data removed]",
      "text/plain": [
       "<Figure size 640x480 with 1 Axes>"
      ]
     },
     "metadata": {},
     "output_type": "display_data"
    }
   ],
   "source": [
    "score = []\n",
    "k_values = list(range(1, 16))\n",
    "for k in range(1, 16):\n",
    "    score_train_test = [] # pour stockage des scores\n",
    "    for simu in range(20) :\n",
    "        features_train, features_test, activity_train, activity_test = model_selection.train_test_split(features34, activity34, test_size=0.4, random_state=42)\n",
    "        nn_train_test = neighbors.KNeighborsClassifier(k)\n",
    "        nn_train_test.fit(features_train, activity_train)\n",
    "        score_train_test.append(accuracy_score(activity_test, nn_train_test.predict(features_test)))\n",
    "    score.append(score_train_test)\n",
    "\n",
    "B = plt.boxplot(score, labels = k_values)\n",
    "plt.xlabel('K_value')\n",
    "plt.ylabel('accuracy')\n",
    "plt.title('The performance of knn model in different k')\n",
    "plt.show()"
   ]
  },
  {
   "cell_type": "markdown",
   "metadata": {},
   "source": [
    "En réalité, si l'on désire une estimation du modèle sélectionné ainsi, il faut découper l'échantillon disponible non pas en deux mais en trois parties :\n",
    "- l'ensemble d'apprentissage : utilisé pour construire des modèles ;\n",
    "- l'ensemble de validation : utilisé pour choisir un modèle ;\n",
    "- l'ensemble de test : utilisé pour évaluer les performances du modèle\n",
    "  finalement choisi.\n",
    "  \n",
    "Ceci est notamment important lorsque l'on souhaite comparer deux méthodes qui ont toutes les deux fait intervenir un réglage de paramètres (ici le nombre de voisins).\n",
    "\n",
    "> **Question bonus** (finir le tp avant de répondre à cette question) : Mettre en oeuvre cette méthode pour estimer l'erreur de généralisation du prédicteur knn pour lequel le nombre de voisins est choisi via l'échantillon de validation."
   ]
  },
  {
   "cell_type": "code",
   "execution_count": null,
   "metadata": {},
   "outputs": [],
   "source": []
  },
  {
   "cell_type": "markdown",
   "metadata": {},
   "source": [
    "# Estimation du risque par validation croisée \n",
    "\n",
    "On présente ci-dessous la méthode du de validation croisée de type **k-fold**.\n",
    "\n",
    "L'idée principale est de faire jouer à chaque observation à la fois le rôle de donnée d'apprentissage et celui de donnée de validation. \n",
    "\n",
    "Le principe consiste à partitionner aléatoirement les données $D=(\\mathbf{x}_i,y_i)_{1\\leq i\\leq N} $ \n",
    "en $K$ blocs disjoints de tailles comparables :\n",
    "$D^1,\\ldots,D^K$. On prend généralement $K=5$ ou $10$. La méthode du **leave-one-out (Loo)** correspond au choix $K=N$. \n",
    "\n",
    "On estime alors la qualité d'un predicteur $\\hat f$ de la\n",
    "façon suivante :\n",
    "- pour tout $k \\in \\{1,\\dots, K\\}$, on construit un predicteur $\\hat f^k$ (du même type que $\\hat f$) sur l'ensemble d'apprentissage $D^{-k} := D\\setminus D^k$ ;\n",
    "- on estime le risque du prédicteur $\\hat f$ par   \n",
    "$$\n",
    "\\frac{1}{N}\\sum_{k=1}^K\\sum_{\\mathbf{x}_i\\in D^k} \\ell(\\hat f^k(\\mathbf{x}_i),y_i),\n",
    "$$\n",
    "où $\\ell$ est la perte utilisée.\n",
    "\n",
    "On construit donc autant de prédicteurs qu'il y a de blocs dans\n",
    "l'ensemble d'apprentissage. Chaque prédicteur est évalué sur les éléments du\n",
    "bloc qui n'a pas été utilisé pour l'apprentissage (et qui joue donc le rôle d'\n",
    "ensemble de validation). \n",
    "\n",
    "Lorsque l'on souhaite régler un paramètre en utilisant la validation croisée, par exemple le nombre de voisins $k$ pour knn, on procède comme suit :\n",
    "- on évalue les performances des prédicteurs par validation croisée comme expliqué ci-dessus ;\n",
    "- on détermine la valeur optimale du paramètre ;\n",
    "- on construit finalement un predicteur pour le paramètre sélectionné, en utilisant comme base d'apprentissage toutes les données.\n",
    "\n",
    "\n",
    "**Comparaison entre LOO et methodes k folds, quelques repères :** \n",
    "- LOO a un coût computationnel plus élevé que les méthodes k-fold pour k petit (pour k = 5 ou 10 par exemple)\n",
    "- L'estimation de l'erreur fournie par LOO a généralement une variance plus élevée que celles obtenues par un k-fold pour k petit.\n",
    "- En revanche, si l'erreur de classification décroit très rapidement avec $n$, les méthodes k-fold avec k petit peuvent surestimer significativement l'erreur de généralisation.\n",
    "- En général, il est souvent recommandé d'utiliser les méthodes k-fold avec k = 5 ou 10."
   ]
  },
  {
   "cell_type": "markdown",
   "metadata": {},
   "source": [
    "L'ensemble des méthodes de validation croisée disponibles sous `sklearn` sont disponibles dans le module [<code>model_selection</code>](http://scikit-learn.org/stable/modules/classes.html#module-sklearn.model_selection). Voir aussi le [guide](https://scikit-learn.org/stable/modules/cross_validation.html#)."
   ]
  },
  {
   "cell_type": "markdown",
   "metadata": {},
   "source": [
    "##  Estimation de l'erreur par 10-fold :"
   ]
  },
  {
   "cell_type": "code",
   "execution_count": 20,
   "metadata": {},
   "outputs": [
    {
     "name": "stdout",
     "output_type": "stream",
     "text": [
      "[0.95488722 0.82330827 0.88345865 0.79323308 0.90601504 0.87593985\n",
      " 0.87969925 0.94736842 0.87593985 0.80075188]\n",
      "0.8740601503759399\n"
     ]
    }
   ],
   "source": [
    "nn_val_croisee = neighbors.KNeighborsClassifier(n_neighbors = 10)\n",
    "scores = model_selection.cross_val_score(nn_val_croisee, features34, activity34, cv=10)\n",
    "print(scores)\n",
    "print(mean(scores))"
   ]
  },
  {
   "cell_type": "markdown",
   "metadata": {},
   "source": [
    "Attention cependant, avec cette méthode, la fonction `cross_val_score` ne permute pas préalablement les données avant de définir les blocs. Voir cette [note](https://scikit-learn.org/stable/modules/cross_validation.html#a-note-on-shuffling) dans la doc de sklearn."
   ]
  },
  {
   "cell_type": "markdown",
   "metadata": {},
   "source": [
    "> Modifier la procédure pour que les données soient bien initiallement permutées. On utilise pour cela un \"iterateur\" de validation croisée, que l'on définit ici avec la fonction `KFold`, et que l'on fournit en argument de la fonction `cross_val_score`."
   ]
  },
  {
   "cell_type": "code",
   "execution_count": 21,
   "metadata": {},
   "outputs": [],
   "source": [
    "my_kfold = model_selection.KFold(n_splits = 10)\n",
    "\n",
    "nn_val_croisee = neighbors.KNeighborsClassifier(n_neighbors = 10)\n",
    "\n",
    "scores = model_selection.cross_val_score(estimator=nn_val_croisee,\n",
    "                        X=features34,\n",
    "                        y=activity34,\n",
    "                        cv=my_kfold,\n",
    "                        n_jobs=-1) # permet de répartir les calculs sur plusieurs coeurs"
   ]
  },
  {
   "cell_type": "markdown",
   "metadata": {},
   "source": [
    "##  Estimation de l'erreur par Loo\n",
    "\n",
    "\n",
    "> Utiliser la fonction <code>LeaveOneOut</code> de `model_selection` pour évaluer l'erreur du classifieur de plus proches voisin (pour 10 voisins).\n",
    "\n"
   ]
  },
  {
   "cell_type": "code",
   "execution_count": 28,
   "metadata": {},
   "outputs": [
    {
     "name": "stdout",
     "output_type": "stream",
     "text": [
      "The score average is:0.906390977443609\n"
     ]
    }
   ],
   "source": [
    "# creer un objet de leaveOneOut\n",
    "loo = model_selection.LeaveOneOut()\n",
    "# X, Y\n",
    "X = features34\n",
    "Y = activity34\n",
    "scores_knn = []\n",
    "# creer knn\n",
    "knn = neighbors.KNeighborsClassifier(10)\n",
    "# validation croisee en utilisant LeaveOneOut\n",
    "for train_indices, test_index in loo.split(X):\n",
    "    X_train, X_test = [X[i] for i in train_indices], X[test_index[0]]\n",
    "    Y_train, Y_test = [Y[i] for i in train_indices], [Y[test_index[0]]]\n",
    "    knn.fit(X_train, Y_train)\n",
    "    X_test = X_test.reshape(1, -1)  # 将 X_test 转换为 2D 数组\n",
    "    score_knn = accuracy_score(Y_test, knn.predict(X_test))\n",
    "    scores_knn.append(score_knn)\n",
    "\n",
    "# average\n",
    "average_score = sum(scores_knn) / len(scores_knn)\n",
    "print(f\"The score average is:{average_score}\")"
   ]
  },
  {
   "cell_type": "markdown",
   "metadata": {},
   "source": [
    "> La question de la permutation aléatoire initiale des données se pose-t-elle ici aussi ?"
   ]
  },
  {
   "cell_type": "code",
   "execution_count": 29,
   "metadata": {},
   "outputs": [
    {
     "data": {
      "text/plain": [
       "\"\\nCe problème est souvent lié à la segmentation des données et à la stochasticité \\ndans la formation de modèles en apprentissage automatique.\\n\\nLors de la validation croisée et de la formation de modèles, \\ncela implique souvent un partitionnement aléatoire ou des permutations aléatoires des données. \\nEn effet, si l'ensemble de données lui-même a un certain ordre, \\ncela peut conduire à l'introduction de biais lors de la division de l'ensemble de données \\nou de la formation du modèle. Pour réduire ce biais, une disposition aléatoire \\nou un partitionnement aléatoire des données peuvent être utilisés.\\n\\nDans l'apprentissage automatique, les données sont souvent mélangées \\nou disposées de manière aléatoire pour garantir une distribution aléatoire des données. \\nCeci peut être réalisé grâce à des fonctions aléatoires dans les bibliothèques \\nou à des méthodes de fractionnement des données.\\n\\nCette question signifie donc, dans le contexte actuel, \\nsi la disposition aléatoire initiale des données doit être prise en compte \\net si elle a un impact sur la formation du modèle et l'évaluation des performances. \\nDans certains cas, il peut être important de garantir le caractère aléatoire de la distribution des données \\nafin de réduire les biais.\\n\""
      ]
     },
     "execution_count": 29,
     "metadata": {},
     "output_type": "execute_result"
    }
   ],
   "source": [
    "\"\"\"\n",
    "Ce problème est souvent lié à la segmentation des données et à la stochasticité \n",
    "dans la formation de modèles en apprentissage automatique.\n",
    "\n",
    "Lors de la validation croisée et de la formation de modèles, \n",
    "cela implique souvent un partitionnement aléatoire ou des permutations aléatoires des données. \n",
    "En effet, si l'ensemble de données lui-même a un certain ordre, \n",
    "cela peut conduire à l'introduction de biais lors de la division de l'ensemble de données \n",
    "ou de la formation du modèle. Pour réduire ce biais, une disposition aléatoire \n",
    "ou un partitionnement aléatoire des données peuvent être utilisés.\n",
    "\n",
    "Dans l'apprentissage automatique, les données sont souvent mélangées \n",
    "ou disposées de manière aléatoire pour garantir une distribution aléatoire des données. \n",
    "Ceci peut être réalisé grâce à des fonctions aléatoires dans les bibliothèques \n",
    "ou à des méthodes de fractionnement des données.\n",
    "\n",
    "Cette question signifie donc, dans le contexte actuel, \n",
    "si la disposition aléatoire initiale des données doit être prise en compte \n",
    "et si elle a un impact sur la formation du modèle et l'évaluation des performances. \n",
    "Dans certains cas, il peut être important de garantir le caractère aléatoire de la distribution des données \n",
    "afin de réduire les biais.\n",
    "\"\"\""
   ]
  },
  {
   "cell_type": "markdown",
   "metadata": {},
   "source": [
    "## Sélection du nombre de plus proches voisins par validation croisée 10 fold"
   ]
  },
  {
   "cell_type": "markdown",
   "metadata": {},
   "source": [
    "> Selectionner un nombre de voisins pour le classifieur de plus proches voisins par validation croisée 10 fold."
   ]
  },
  {
   "cell_type": "code",
   "execution_count": 30,
   "metadata": {},
   "outputs": [],
   "source": [
    "my_kfold = model_selection.KFold(n_splits = 10)\n",
    "\n",
    "nn_val_croisee = neighbors.KNeighborsClassifier(n_neighbors = 10)\n",
    "\n",
    "scores = model_selection.cross_val_score(estimator=nn_val_croisee,\n",
    "                        X=features34,\n",
    "                        y=activity34,\n",
    "                        cv=my_kfold,\n",
    "                        n_jobs=-1) # permet de répartir les calculs sur plusieurs coeurs"
   ]
  },
  {
   "cell_type": "markdown",
   "metadata": {},
   "source": [
    "## La fonction GridSearchCV\n",
    "\n",
    "En apprentissage statistique, on a très souvent recours à la validation croisée pour régler des paramètres de la méthode utilisée. La fonction [gridSearchCV](https://scikit-learn.org/stable/modules/generated/sklearn.model_selection.GridSearchCV.html) permet d'effectuer cette tâche de façon simple, en répartissant éventuellement les calculs sur plusieurs coeurs (voir plus bas)."
   ]
  },
  {
   "cell_type": "code",
   "execution_count": 31,
   "metadata": {},
   "outputs": [
    {
     "name": "stdout",
     "output_type": "stream",
     "text": [
      "2.0273025035858154 sec\n",
      "{'n_neighbors': 10}\n"
     ]
    }
   ],
   "source": [
    "from sklearn.model_selection import GridSearchCV\n",
    "from time import time\n",
    "\n",
    "# la grille de parametres a regler sont definis dans un dictionnaire (dict)\n",
    "tuned_parameters = {'n_neighbors': range(2,20)}\n",
    "start = time()\n",
    "\n",
    "my_kfold = model_selection.KFold(n_splits=10, shuffle=True, random_state=0)\n",
    "nnGrid = GridSearchCV(neighbors.KNeighborsClassifier(),\n",
    "                      tuned_parameters,\n",
    "                      cv=5)\n",
    "nnGrid.fit(features34, activity34)\n",
    "print(str(time() - start)+ \" sec\")\n",
    "\n",
    "# le meilleur modele \n",
    "print(nnGrid.best_params_)"
   ]
  },
  {
   "cell_type": "markdown",
   "metadata": {},
   "source": [
    "> Si votre machine le permet, utiliser maintenant plusieurs coeurs (argument \"n_jobs= \") et comparer les temps de calcul."
   ]
  },
  {
   "cell_type": "code",
   "execution_count": null,
   "metadata": {},
   "outputs": [],
   "source": [
    "from sklearn.model_selection import GridSearchCV\n",
    "from time import time\n",
    "\n",
    "# la grille de parametres a regler sont definis dans un dictionnaire (dict)\n",
    "tuned_parameters = {'n_neighbors': range(2,20)}\n",
    "start = time()\n",
    "\n",
    "my_kfold = model_selection.KFold(n_splits=10, shuffle=True, random_state=0)\n",
    "nnGrid = GridSearchCV(neighbors.KNeighborsClassifier(),\n",
    "                      tuned_parameters,\n",
    "                      cv=5,\n",
    "                      n_jobs = 2)\n",
    "nnGrid.fit(features34, activity34)\n",
    "print(str(time() - start)+ \" sec\")\n",
    "\n",
    "# le meilleur modele \n",
    "print(nnGrid.best_params_)"
   ]
  },
  {
   "cell_type": "markdown",
   "metadata": {},
   "source": [
    "# Classification multiclasses \n",
    "\n",
    "Pour réduire les temps de calcul (il s'agit d'un TP...) nous appliquons la même stratégie de présélection de features que nous avons utilisé pour la classification binaire."
   ]
  },
  {
   "cell_type": "markdown",
   "metadata": {},
   "source": [
    "## Présélection de features\n",
    "\n",
    "Pour réduire les temps de calcul (il s'agit d'un TP...) nous appliquons la même stratégie de présélection de features que pour le cas à deux classes :"
   ]
  },
  {
   "cell_type": "code",
   "execution_count": 33,
   "metadata": {},
   "outputs": [
    {
     "data": {
      "text/plain": [
       "(7352, 100)"
      ]
     },
     "execution_count": 33,
     "metadata": {},
     "output_type": "execute_result"
    }
   ],
   "source": [
    "Selec = SelectKBest(f_classif, k=100)\n",
    "features_all_activities = Selec.fit_transform(activity_features, activity)\n",
    "shape(features_all_activities)"
   ]
  },
  {
   "cell_type": "markdown",
   "metadata": {},
   "source": [
    "#### Classifieur naif bayesien multiclasses"
   ]
  },
  {
   "cell_type": "code",
   "execution_count": 34,
   "metadata": {},
   "outputs": [
    {
     "name": "stdout",
     "output_type": "stream",
     "text": [
      "[0.77581522 0.78668478 0.78367347 0.76054422 0.75646259 0.79319728\n",
      " 0.76598639 0.80680272 0.79319728 0.76326531]\n",
      "0.778562925170068\n"
     ]
    }
   ],
   "source": [
    "gnb = GaussianNB()\n",
    "scores  = model_selection.cross_val_score(gnb, features_all_activities, activity, cv=my_kfold)\n",
    "print(scores)\n",
    "print(mean(scores))"
   ]
  },
  {
   "cell_type": "markdown",
   "metadata": {},
   "source": [
    "#### Classifieur des k plus proches voisins multiclasses"
   ]
  },
  {
   "cell_type": "code",
   "execution_count": 35,
   "metadata": {},
   "outputs": [
    {
     "name": "stdout",
     "output_type": "stream",
     "text": [
      "[0.94293478 0.95380435 0.95918367 0.9414966  0.9414966  0.94421769\n",
      " 0.94285714 0.94421769 0.93877551 0.94421769]\n",
      "0.9453201715468795\n"
     ]
    }
   ],
   "source": [
    "nn = neighbors.KNeighborsClassifier(n_neighbors = 10)\n",
    "scores  = model_selection.cross_val_score(nn, features_all_activities, activity, cv=my_kfold)\n",
    "print(scores)\n",
    "print(mean(scores))"
   ]
  },
  {
   "cell_type": "markdown",
   "metadata": {},
   "source": [
    "> Effectuer un découpage apprentissage / test des données (avec toutes les classes).\n",
    "> Utiliser la fonction `GridSearchCV` sur l'échantillon d'apprentissage pour choisir le nombre de voisins pour l'estimateur knn. Dresser et afficher la matrice de confusion sur les données de test, voir [ici](https://scikit-learn.org/stable/modules/generated/sklearn.metrics.confusion_matrix.html) et [ici](https://scikit-learn.org/stable/modules/generated/sklearn.metrics.plot_confusion_matrix.html)."
   ]
  },
  {
   "cell_type": "code",
   "execution_count": 38,
   "metadata": {},
   "outputs": [
    {
     "name": "stdout",
     "output_type": "stream",
     "text": [
      "Matrice de confusion :\n",
      "[[236  22]\n",
      " [ 25 249]]\n"
     ]
    }
   ],
   "source": [
    "from sklearn.model_selection import train_test_split\n",
    "from sklearn.model_selection import GridSearchCV\n",
    "from sklearn.neighbors import KNeighborsClassifier\n",
    "from sklearn.metrics import confusion_matrix\n",
    "\n",
    "# Divisez les données en ensembles d'apprentissage et de test\n",
    "X_train, X_test, Y_train, Y_test = train_test_split(X, Y, test_size=0.2, random_state=42)\n",
    "\n",
    "# Créez un classificateur k-NN\n",
    "knn = KNeighborsClassifier()\n",
    "\n",
    "# Définissez la grille des hyperparamètres (nombre de voisins) à explorer\n",
    "param_grid = {'n_neighbors': [3, 5, 7, 9]}\n",
    "\n",
    "# Utilisez GridSearchCV pour trouver le meilleur nombre de voisins\n",
    "grid_search = GridSearchCV(knn, param_grid, cv=5)  # Vous pouvez spécifier le nombre de plis (cv) pour la validation croisée\n",
    "grid_search.fit(X_train, Y_train)\n",
    "\n",
    "# Obtenez le meilleur estimateur\n",
    "best_knn = grid_search.best_estimator_\n",
    "\n",
    "# Dressez la matrice de confusion\n",
    "confusion = confusion_matrix(Y_test, best_knn.predict(X_test))\n",
    "\n",
    "# Affichez la matrice de confusion\n",
    "print(\"Matrice de confusion :\")\n",
    "print(confusion)\n",
    "\n",
    "# # Vous pouvez également afficher la matrice de confusion graphiquement\n",
    "# plot_confusion_matrix(best_knn, X_test, Y_test)\n"
   ]
  }
 ],
 "metadata": {
  "anaconda-cloud": {},
  "kernelspec": {
   "display_name": "Python 3 (ipykernel)",
   "language": "python",
   "name": "python3"
  },
  "language_info": {
   "codemirror_mode": {
    "name": "ipython",
    "version": 3
   },
   "file_extension": ".py",
   "mimetype": "text/x-python",
   "name": "python",
   "nbconvert_exporter": "python",
   "pygments_lexer": "ipython3",
   "version": "3.11.5"
  }
 },
 "nbformat": 4,
 "nbformat_minor": 4
}
