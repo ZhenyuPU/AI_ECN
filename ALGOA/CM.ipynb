{
 "cells": [
  {
   "cell_type": "markdown",
   "metadata": {},
   "source": [
    "# CM1\n",
    "\n",
    "## Invariant de boucle:\n",
    "initial: 循环开始前该变量为真\n",
    "itération：循环过程不断迭代，变量值更改，但是性质保持不变\n",
    "fini：循环终止，该变量能够判断结果是否为真\n",
    "此时该变量为invariant de boucle\n",
    "循环不变式：在循环过程中，迭代前这个式子保持为真，下一次迭代前仍然为真，终止时便可以说明结果为真。\n",
    "比如：插入排序中，子数列A[1,..., n-1]已经排序好，对于初始A[0]为真，排序好；迭代中，下一次前为真；终止时j=n+1，然后A[1,...,n]为(A[j-1])，已经排序好，证明算法正确\n",
    "\n",
    "## PCP问题：不可判定(indécidable)\n",
    "\n",
    "\n",
    "## La machine de Turing\n",
    "\n",
    "## problème de NP, SAT, ILP\n",
    "SAT是指给定一个逻辑表达式，我们可以让其值为true。合取范式：由交连接的子句。\n",
    "k-SAT: k指的是每个子句中包含k个文字\n",
    "SAT属于NP-compete问题\n",
    "\n",
    "\n",
    "\n"
   ]
  }
 ],
 "metadata": {
  "language_info": {
   "name": "python"
  },
  "orig_nbformat": 4
 },
 "nbformat": 4,
 "nbformat_minor": 2
}
