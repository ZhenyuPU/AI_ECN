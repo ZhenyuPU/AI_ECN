{
 "cells": [
  {
   "cell_type": "code",
   "execution_count": 1,
   "id": "696a6e37",
   "metadata": {},
   "outputs": [
    {
     "name": "stdout",
     "output_type": "stream",
     "text": [
      "{'Lea': ['java', 'php', 'cloud'], 'Bobby': ['python', 'java', 'big-data']}\n"
     ]
    }
   ],
   "source": [
    "data =  [{'Lea': 'java', 'Bobby': 'python'},\n",
    "        {'Lea': 'php', 'Bobby': 'java'},\n",
    "        {'Lea': 'cloud', 'Bobby': 'big-data'}]\n",
    "dic = {}\n",
    "for i in range(len(data)):\n",
    "    res = data[i]\n",
    "    keys = res.keys()\n",
    "    for key in keys:\n",
    "        if key not in dic:\n",
    "            dic[key] = []\n",
    "        dic[key].append(res.get(key))\n",
    "print(dic)\n",
    "\n",
    "\n",
    "# res_ = {key:[item[key] for item in data] for key in data[0]}\n",
    "# print(res_)\n"
   ]
  },
  {
   "cell_type": "code",
   "execution_count": 2,
   "id": "a75d8411",
   "metadata": {},
   "outputs": [
    {
     "name": "stdout",
     "output_type": "stream",
     "text": [
      "137\n",
      "plus 10 est ['is', 'better', 'than', 'to', 'the', 'Although', 'be', 'should', 'never', 'of']\n"
     ]
    }
   ],
   "source": [
    "z = open(\"zen.txt\",'r')\n",
    "zen = z.read()\n",
    "with open('zen.txt', 'r', encoding='utf-8') as file:\n",
    "    lines = file.readlines()\n",
    "words = zen.split()\n",
    "print(len(words))\n",
    "dic = {}\n",
    "for i in range(len(words)):\n",
    "    num = 1\n",
    "    for j in range(i+1,len(words)):\n",
    "        if words[i] == words[j] and words[j] != 0:\n",
    "            num += 1\n",
    "            words[j] = 0\n",
    "    dic[words[i]] = num\n",
    "\n",
    "max_items = sorted(dic.items(), key=lambda x: x[1], reverse=True)[:10]\n",
    "\n",
    "max_keys = [item[0] for item in max_items]\n",
    "\n",
    "print(f\"plus 10 est {max_keys}\")"
   ]
  },
  {
   "cell_type": "code",
   "execution_count": 3,
   "id": "045f9da6",
   "metadata": {},
   "outputs": [
    {
     "name": "stdout",
     "output_type": "stream",
     "text": [
      "2.0\n"
     ]
    }
   ],
   "source": [
    "# Ecrire une fonction qui calcule la moyenne d'un nombre inconnu d'arguments.\n",
    "def avgfun(*args, **kwarg):\n",
    "    my_sum, num= 0, 0\n",
    "    for arg in args:\n",
    "        my_sum += arg\n",
    "        num += 1\n",
    "    return my_sum / num\n",
    "\n",
    "print(avgfun(1, 2, 3))\n"
   ]
  },
  {
   "cell_type": "markdown",
   "id": "65f6883e",
   "metadata": {},
   "source": [
    "Ecrire une fonction <code>crier</code> qui transforme un str en majuscules, une seconde <code>chuchoter</code> qui transforme le str en minuscules et enfin une troisième <code>salutations</code> (d'ordre supérieur) qui prend en argument une fonction et l'applique à un texte pré-défini."
   ]
  },
  {
   "cell_type": "code",
   "execution_count": 4,
   "id": "1a38fe8f",
   "metadata": {},
   "outputs": [
    {
     "name": "stdout",
     "output_type": "stream",
     "text": [
      " ASDKJFN AFSL\n",
      "sadf adfdd\n"
     ]
    }
   ],
   "source": [
    "# transforme un str en majuscules \n",
    "def crier(strs: str) -> str:\n",
    "    strs = strs.upper()\n",
    "    print(strs)\n",
    "    return\n",
    "\n",
    "def chuchoter(strs: str) -> str:\n",
    "    strs = strs.lower()\n",
    "    print(strs)\n",
    "    return\n",
    "\n",
    "def salutations(fuc, strs):\n",
    "    fuc(strs)\n",
    "    return\n",
    "\n",
    "strs = \" asdkjfn afsl\"\n",
    "strs_2 = \"SADF adfdd\"\n",
    "salutations(crier, strs)\n",
    "salutations(chuchoter, strs_2)"
   ]
  },
  {
   "cell_type": "markdown",
   "id": "07e41cdf",
   "metadata": {},
   "source": [
    "<div class=\"alert alert-info\" role=\"alert\">\n",
    "    <b> Exercice : </b> Ecrire une fonction décorateur <code>log</code> qui prend en argument une fonction et en extrait le nom, les arguments (positionnels et par mot-clé) ainsi que le résultat pour les afficher. \n",
    "</div>"
   ]
  },
  {
   "cell_type": "code",
   "execution_count": 5,
   "id": "ce4eff71",
   "metadata": {},
   "outputs": [
    {
     "name": "stdout",
     "output_type": "stream",
     "text": [
      "Fonction add appelée avec les arguments positionnels (3.5, 7) et les arguments par mot clé{}. Résultat: 10.5\n"
     ]
    },
    {
     "data": {
      "text/plain": [
       "10.5"
      ]
     },
     "execution_count": 5,
     "metadata": {},
     "output_type": "execute_result"
    }
   ],
   "source": [
    "\n",
    "def log(func):\n",
    "    def wrapper(*args, **kwargs):\n",
    "        print(f\"Fonction {func.__name__} appelée avec les arguments positionnels {args} et les arguments par mot clé{kwargs}. Résultat: {func(*args, **kwargs)}\")\n",
    "        return func(*args, **kwargs)\n",
    "    return wrapper\n",
    "\n",
    "# @log just a short way to say \"add = log(add)\"\n",
    "@log\n",
    "def add(x, y):\n",
    "    return x + y\n",
    "\n",
    "add(3.5, 7)"
   ]
  },
  {
   "cell_type": "code",
   "execution_count": 6,
   "id": "7030a74e",
   "metadata": {},
   "outputs": [],
   "source": [
    "from vecteur import Vecteur"
   ]
  },
  {
   "cell_type": "code",
   "execution_count": 7,
   "id": "997c3580",
   "metadata": {},
   "outputs": [
    {
     "name": "stdout",
     "output_type": "stream",
     "text": [
      "3 4\n",
      "3 4\n",
      "(3.0, 4.0)\n",
      "(3, 4)\n",
      "5.0\n"
     ]
    },
    {
     "data": {
      "text/plain": [
       "Vecteur(3, 4)"
      ]
     },
     "execution_count": 7,
     "metadata": {},
     "output_type": "execute_result"
    }
   ],
   "source": [
    "\n",
    "v1 = Vecteur(3, 4)\n",
    "print(v1.x, v1.y)  #3.0, 4.0 \n",
    "x, y = v1 \n",
    "print(x,y)\n",
    "print(Vecteur(3.0, 4.0)) # (3.0, 4.0)\n",
    "v1_clone = eval(repr(v1))  # la bonne façon de cloner c'est avec copy. Ici on montre l'utilité d'avoir un __repr__ qui écrit l'appel au constructeur de classe combiné avec eval qui evalue un str en python.\n",
    "v1 == v1_clone #True\n",
    "print(v1)   #(3.0, 4.0)\n",
    "print(abs(v1)) #5.0\n",
    "v1 #(3.0, 4.0)"
   ]
  },
  {
   "cell_type": "code",
   "execution_count": 8,
   "id": "141e1bb5",
   "metadata": {},
   "outputs": [
    {
     "name": "stdout",
     "output_type": "stream",
     "text": [
      "(1, 5)\n",
      "(0.7071067811865476, 0.7071067811865476)\n"
     ]
    },
    {
     "data": {
      "text/plain": [
       "Vecteur(0.7071067811865476, 0.7071067811865476)"
      ]
     },
     "execution_count": 8,
     "metadata": {},
     "output_type": "execute_result"
    }
   ],
   "source": [
    "\n",
    "from math import pi\n",
    "v2=Vecteur.from_iterable([1,5])\n",
    "print(v2)\n",
    "v2=Vecteur.from_polar(1,pi/4)\n",
    "print(v2)\n",
    "v2"
   ]
  },
  {
   "cell_type": "code",
   "execution_count": 9,
   "id": "4f0ce455",
   "metadata": {},
   "outputs": [
    {
     "name": "stdout",
     "output_type": "stream",
     "text": [
      "2\n",
      "catching exception: val='1' must be a real\n"
     ]
    }
   ],
   "source": [
    "v3=Vecteur(1,2)\n",
    "print(v3.y)\n",
    "v3.y=1\n",
    "try:\n",
    "    v3.y=\"1\"\n",
    "except Exception as e:\n",
    "    print(\"catching exception:\", e)"
   ]
  },
  {
   "cell_type": "code",
   "execution_count": 10,
   "id": "85be1293",
   "metadata": {},
   "outputs": [
    {
     "name": "stdout",
     "output_type": "stream",
     "text": [
      "(v1==v2)=False\n",
      "(v1==[3,4])=False\n",
      "(v1==Vecteur(3,4))=True\n",
      "\n",
      "Test de l'addition de vecteurs:\n",
      "----------------------\n",
      "Attendu: (3.0, 4.0)+(1.0, 1)=(4.0, 5.0) \n",
      "Calculé: (3, 4)+(1, 1) = (4, 5)\n",
      "\n",
      "[4, 7]\n",
      "Unsupported operand type for +: <class 'str'> and Vecteur\n",
      "(3.7071067811865475, 4.707106781186548)\n",
      "(-3.7071067811865475, -4.707106781186548)\n",
      "1.0\n",
      "-v1=(-3.7071067811865475, -4.707106781186548) (-3.7071067811865475, -4.707106781186548)\n",
      "Vecteur(1,-1)*v2=0.0 (0)\n",
      "math.sqrt(2)*v2=Vecteur(1.0000000000000002, 1.0000000000000002) (1,1)\n"
     ]
    }
   ],
   "source": [
    "import math\n",
    "v1 = Vecteur(3, 4)\n",
    "print(f\"{(v1==v2)=}\")\n",
    "print(f\"{(v1==[3,4])=}\")\n",
    "print(f\"{(v1==Vecteur(3,4))=}\")\n",
    "\n",
    "print(\"\\nTest de l'addition de vecteurs:\\n----------------------\")\n",
    "print(f\"Attendu: (3.0, 4.0)+(1.0, 1)=(4.0, 5.0) \\nCalculé: {v1}+{v3} = {v1+v3}\\n\")\n",
    "print([1,3]+v1)\n",
    "try: \n",
    "    \"v1\"+v1 \n",
    "except Exception as e:\n",
    "    print(e)\n",
    "\n",
    "v1+=v2\n",
    "print(v1)\n",
    "print(-v1)\n",
    "print(v2.norme)\n",
    "\n",
    "## produit (scalaire)\n",
    "print(f\"{-v1=} (-3.7071067811865475, -4.707106781186548)\")\n",
    "print(f\"{Vecteur(1,-1)*v2=} (0)\")\n",
    "print(f\"{math.sqrt(2)*v2=} (1,1)\")"
   ]
  },
  {
   "cell_type": "code",
   "execution_count": 11,
   "id": "f2aade57",
   "metadata": {},
   "outputs": [
    {
     "data": {
      "text/plain": [
       "0.11829166559831755"
      ]
     },
     "execution_count": 11,
     "metadata": {},
     "output_type": "execute_result"
    }
   ],
   "source": [
    "v1.angle(v2)"
   ]
  },
  {
   "cell_type": "code",
   "execution_count": 12,
   "id": "1854000a",
   "metadata": {},
   "outputs": [
    {
     "data": {
      "text/plain": [
       "5.9916187242356855"
      ]
     },
     "execution_count": 12,
     "metadata": {},
     "output_type": "execute_result"
    }
   ],
   "source": [
    "v1.norme"
   ]
  },
  {
   "cell_type": "markdown",
   "id": "58656831",
   "metadata": {},
   "source": [
    "# Héritage de classe"
   ]
  },
  {
   "cell_type": "code",
   "execution_count": 13,
   "id": "4172033c",
   "metadata": {},
   "outputs": [
    {
     "name": "stdout",
     "output_type": "stream",
     "text": [
      "Some formats are incorrect :['B1']\n",
      "Formats: ['A0', 'A1', 'A2', 'A3', 'A4', 'A5'],  cls.base_width=200, \n",
      " cls.devices=['Printer 0']\n"
     ]
    }
   ],
   "source": [
    "from printer import Printer\n",
    "generic_printer=Printer(avail_paper=[\"B1\",\"A4\",\"A0\"])\n",
    "Printer.show_printers_system()"
   ]
  },
  {
   "cell_type": "code",
   "execution_count": 14,
   "id": "bf64c1f3",
   "metadata": {},
   "outputs": [
    {
     "name": "stdout",
     "output_type": "stream",
     "text": [
      "##################################################\n",
      "#  Beautiful is better than ugly.Explicit is be  #\n",
      "#  tter than implicit.Simple is better than com  #\n",
      "#  plex.Complex is better than complicated.Flat  #\n",
      "#   is better than nested.Sparse is better than  #\n",
      "#   dense.Readability counts.Special cases aren  #\n",
      "#  't special enough to break the rules.Althoug  #\n",
      "#  h practicality beats purity.Errors should ne  #\n",
      "#  ver pass silently.Unless explicitly silenced  #\n",
      "#  .In the face of ambiguity, refuse the tempta  #\n",
      "#  tion to guess.There should be one-- and pref  #\n",
      "#  erably only one --obvious way to do it.Altho  #\n",
      "#  ugh that way may not be obvious at first unl  #\n",
      "#  ess you're Dutch.Now is better than never.Al  #\n",
      "#  though never is often better than *right* no  #\n",
      "#  w.If the implementation is hard to explain,   #\n",
      "#  it's a bad idea.If the implementation is eas  #\n",
      "#  y to explain, it may be a good idea.Namespac  #\n",
      "#  es are one honking great idea -- let's do mo  #\n",
      "#  re of those!  #\n",
      "##################################################\n"
     ]
    }
   ],
   "source": [
    "generic_printer.send(zen)\n"
   ]
  },
  {
   "cell_type": "code",
   "execution_count": 15,
   "id": "9a5832b3",
   "metadata": {},
   "outputs": [
    {
     "name": "stdout",
     "output_type": "stream",
     "text": [
      "########################################################################################################################################################################################################\n",
      "#  Beautiful is better than ugly.Explicit is better than implicit.Simple is better than complex.Complex is better than complicated.Flat is better than nested.Sparse is better than dense.Readability  #\n",
      "#   counts.Special cases aren't special enough to break the rules.Although practicality beats purity.Errors should never pass silently.Unless explicitly silenced.In the face of ambiguity, refuse th  #\n",
      "#  e temptation to guess.There should be one-- and preferably only one --obvious way to do it.Although that way may not be obvious at first unless you're Dutch.Now is better than never.Although nev  #\n",
      "#  er is often better than *right* now.If the implementation is hard to explain, it's a bad idea.If the implementation is easy to explain, it may be a good idea.Namespaces are one honking great ide  #\n",
      "#  a -- let's do more of those!  #\n",
      "########################################################################################################################################################################################################\n"
     ]
    }
   ],
   "source": [
    "generic_printer.send(zen,\"A0\")"
   ]
  },
  {
   "cell_type": "code",
   "execution_count": 16,
   "id": "a80db800",
   "metadata": {},
   "outputs": [
    {
     "name": "stdout",
     "output_type": "stream",
     "text": [
      "Some formats are incorrect :['B1']\n",
      "\u001b[34m##################################################\u001b[0m\n",
      "\u001b[34m#  Beautiful is better than ugly.Explicit is be  #\u001b[0m\n",
      "\u001b[34m#  tter than implicit.Simple is better than com  #\u001b[0m\n",
      "\u001b[34m#  plex.Complex is better than complicated.Flat  #\u001b[0m\n",
      "\u001b[34m#   is better than nested.Sparse is better than  #\u001b[0m\n",
      "\u001b[34m#   dense.Readability counts.Special cases aren  #\u001b[0m\n",
      "\u001b[34m#  't special enough to break the rules.Althoug  #\u001b[0m\n",
      "\u001b[34m#  h practicality beats purity.Errors should ne  #\u001b[0m\n",
      "\u001b[34m#  ver pass silently.Unless explicitly silenced  #\u001b[0m\n",
      "\u001b[34m#  .In the face of ambiguity, refuse the tempta  #\u001b[0m\n",
      "\u001b[34m#  tion to guess.There should be one-- and pref  #\u001b[0m\n",
      "\u001b[34m#  erably only one --obvious way to do it.Altho  #\u001b[0m\n",
      "\u001b[34m#  ugh that way may not be obvious at first unl  #\u001b[0m\n",
      "\u001b[34m#  ess you're Dutch.Now is better than never.Al  #\u001b[0m\n",
      "\u001b[34m#  though never is often better than *right* no  #\u001b[0m\n",
      "\u001b[34m#  w.If the implementation is hard to explain,   #\u001b[0m\n",
      "\u001b[34m#  it's a bad idea.If the implementation is eas  #\u001b[0m\n",
      "\u001b[34m#  y to explain, it may be a good idea.Namespac  #\u001b[0m\n",
      "\u001b[34m#  es are one honking great idea -- let's do mo  #\u001b[0m\n",
      "\u001b[34m#  re of those!  #\u001b[0m\n",
      "\u001b[34m##################################################\u001b[0m\n"
     ]
    }
   ],
   "source": [
    "from printer import ColorPrinter\n",
    "fancy_printer=ColorPrinter([\"B1\",\"A4\",\"A0\"], \"Blue printer\", color=\"blue\")\n",
    "fancy_printer.send(zen)"
   ]
  },
  {
   "cell_type": "code",
   "execution_count": null,
   "id": "23939d4a",
   "metadata": {},
   "outputs": [],
   "source": []
  },
  {
   "cell_type": "markdown",
   "id": "10fe93be",
   "metadata": {},
   "source": [
    "# Problème : Affichage du contenu d'un dossier par approche fonctionnelle"
   ]
  },
  {
   "cell_type": "markdown",
   "id": "bcba4347",
   "metadata": {},
   "source": [
    "Exercice : Ecrire une ou des fonction `print_dirtree` qui prend en argument une chemin vers un dossier et imprime de manière récursive l'arborescence. Indice : `os.[listdir, isdir, walk]` ou `pathlib.Path` (la version moderne de `os. yield` et/ou `itertools` peut aussi s'avérer utile.\n",
    "\n",
    "cahier des charges:\n",
    "\n",
    "1. traiter différement les fichiers et dossier `dir_only: bool`\n",
    "2. profondeur max `level: int`\n",
    "3. nombre max de ligne (pour évider de lister tout le système) `length_limit: bool=1000`"
   ]
  },
  {
   "cell_type": "code",
   "execution_count": 21,
   "id": "642d197b",
   "metadata": {},
   "outputs": [
    {
     "name": "stdout",
     "output_type": "stream",
     "text": [
      "STASC/\n",
      "├── CM/\n",
      "│   ├── Classif_standard.pdf\n",
      "│   ├── IntroML.pdf\n",
      "│   ├── IntroSupervisedLearning.pdf\n",
      "│   ├── ReminderStat.pdf\n",
      "│   ├── Tree-Based-Method.pdf\n",
      "│   ├── Tuning_model.pdf\n",
      "├── CM课件/\n",
      "│   ├── 1_IntroApprentissage.pdf\n",
      "│   ├── 2_ReminderStat.pdf\n",
      "│   ├── 3_Classif_standard.pdf\n",
      "│   ├── 4_Tuning_model.pdf\n",
      "│   ├── 5_UnsupervisedLearning.pdf\n",
      "│   ├── 6_Tree-Based-Method.pdf\n",
      "│   ├── 7_IntroDeep.pdf\n",
      "├── Markdown/\n",
      "│   ├── CM 1 Statistique.md\n",
      "│   ├── Machine learning.md\n",
      "├── Syllabus_cours.pdf\n",
      "├── TP/\n",
      "│   ├── Introduction_1.htm\n",
      "│   ├── RegLin_Energy_Efficiency_student (1).ipynb\n",
      "│   ├── TP-StatExplo_student.ipynb\n",
      "│   ├── TP1/\n",
      "│   │   ├── TP-StatExplo_student (1).ipynb\n",
      "│   │   ├── TP0-1-Introduction_student.ipynb\n",
      "│   │   ├── TP0-2-Plotting_student.ipynb\n",
      "│   │   ├── TP0-3-Scientific_computing_student.ipynb\n",
      "│   │   ├── usretechnicalpotential.csv\n",
      "│   ├── TP2/\n",
      "│   │   ├── ENB2012_data.csv\n",
      "│   │   ├── PU_TP2.html\n",
      "│   │   ├── RegLin_Energy_Efficiency_student.ipynb\n",
      "│   │   ├── wind.ipynb\n",
      "│   │   ├── wind_dataset.csv\n",
      "│   ├── TP3/\n",
      "│   │   ├── PU_TP3.html\n",
      "│   │   ├── TP-BasicClassif-NBC-ppv.ipynb\n",
      "│   │   ├── vertebral+column/\n",
      "│   │   │   ├── column_2C.dat\n",
      "│   │   │   ├── column_2C_weka.arff\n",
      "│   │   │   ├── column_3C.dat\n",
      "│   │   │   ├── column_3C_weka.arff\n",
      "│   │   ├── vertebral+column.zip\n",
      "│   ├── TP4/\n",
      "│   │   ├── TP-HumanActivity-Classification.ipynb\n",
      "│   │   ├── UCI-HAR-Dataset/\n",
      "│   │   │   ├── activity_labels.txt\n",
      "│   │   │   ├── features.txt\n",
      "│   │   │   ├── features_info.txt\n",
      "│   │   │   ├── README.txt\n",
      "│   │   │   ├── test/\n",
      "│   │   │   │   ├── Inertial Signals/\n",
      "│   │   │   │   │   ├── body_acc_x_test.txt\n",
      "│   │   │   │   │   ├── body_acc_y_test.txt\n",
      "│   │   │   │   │   ├── body_acc_z_test.txt\n",
      "│   │   │   │   │   ├── body_gyro_x_test.txt\n",
      "│   │   │   │   │   ├── body_gyro_y_test.txt\n",
      "│   │   │   │   │   ├── body_gyro_z_test.txt\n",
      "│   │   │   │   │   ├── total_acc_x_test.txt\n",
      "│   │   │   │   │   ├── total_acc_y_test.txt\n",
      "│   │   │   │   │   ├── total_acc_z_test.txt\n",
      "│   │   │   │   ├── subject_test.txt\n",
      "│   │   │   │   ├── X_test.txt\n",
      "│   │   │   │   ├── y_test.txt\n",
      "│   │   │   ├── train/\n",
      "│   │   │   │   ├── Inertial Signals/\n",
      "│   │   │   │   │   ├── body_acc_x_train.txt\n",
      "│   │   │   │   │   ├── body_acc_y_train.txt\n",
      "│   │   │   │   │   ├── body_acc_z_train.txt\n",
      "│   │   │   │   │   ├── body_gyro_x_train.txt\n",
      "│   │   │   │   │   ├── body_gyro_y_train.txt\n",
      "│   │   │   │   │   ├── body_gyro_z_train.txt\n",
      "│   │   │   │   │   ├── total_acc_x_train.txt\n",
      "│   │   │   │   │   ├── total_acc_y_train.txt\n",
      "│   │   │   │   │   ├── total_acc_z_train.txt\n",
      "│   │   │   │   ├── subject_train.txt\n",
      "│   │   │   │   ├── X_train.txt\n",
      "│   │   │   │   ├── y_train.txt\n",
      "│   │   ├── UCI-HAR-Dataset.zip\n"
     ]
    }
   ],
   "source": [
    "import os\n",
    "import os.path\n",
    "\n",
    "def print_dirtree(path: str, dir_only=False, level = 0, length_limit=1000):\n",
    "    space =  '    '\n",
    "    branch = '│   '\n",
    "    tee =    '├── '\n",
    "    last =   '└── '\n",
    "    if length_limit == 0 or level > length_limit :\n",
    "        return\n",
    "    \n",
    "    if not os.path.exists(path):\n",
    "        return\n",
    "    \n",
    "    if level <= 1:\n",
    "        print(tee * level + os.path.basename(path) + '/')\n",
    "    else:\n",
    "        print(branch * (level-1) + tee + os.path.basename(path) + '/')\n",
    "\n",
    "    for item in os.listdir(path):\n",
    "        item_path = os.path.join(path, item)\n",
    "        if os.path.isdir(item_path):\n",
    "            print_dirtree(item_path, dir_only, level+1, length_limit-1)\n",
    "        else:\n",
    "            print(branch * level + tee + item)\n",
    "    return\n",
    "\n",
    "    \n",
    "    \n",
    "if __name__ == '__main__':\n",
    "    filename = \"E:/Research\"\n",
    "    path = os.path.dirname(os.path.abspath(filename))\n",
    "    # print(os.path.exists(path))\n",
    "    path = \"E:\\Centrale Nantes\\AI\\A2\\STASC\"\n",
    "    print_dirtree(path)"
   ]
  },
  {
   "cell_type": "code",
   "execution_count": 18,
   "id": "73f75a16",
   "metadata": {},
   "outputs": [
    {
     "name": "stdout",
     "output_type": "stream",
     "text": [
      "Line object with equation : 0.7071067811865475x+-0.7071067811865475y+-0.7071067811865475=0\n",
      "with vector:(-0.7071067811865475, -0.7071067811865475) and origin: [1, 0]\n",
      "Line object with equation : 1.0x+0.0y+-0.0=0\n",
      "with vector:(0.0, -1.0) and origin: [0, 0]\n",
      "45.00000000000001\n",
      "[-1.0, -1.0]\n",
      "[1.0, -1.2246467991473532e-16]\n"
     ]
    }
   ],
   "source": [
    "from Line import *\n",
    "L1=line.vec_init([1,1],[1,0])\n",
    "print(L1)\n",
    "\n",
    "L2 = line.point_init([0,0], [1,0])\n",
    "print(L2)\n",
    "\n",
    "print(np.degrees(lines_angle(L1,L2)))\n",
    "\n",
    "print(lines_intersect_point(L1,L2))\n",
    "\n",
    "print(rotate2d(np.pi,[-1,0]))"
   ]
  },
  {
   "cell_type": "markdown",
   "id": "aa1660aa",
   "metadata": {},
   "source": [
    "Exercice : Ecrire un programme orienté objet qui possède la méthode generate qui prend en argument une chemin vers un dossier et imprime de manière récursive l'arborescence.\n",
    "\n",
    "\n",
    "Cahier des charges:\n",
    "\n",
    "traiter différement les fichiers et dossier dir_only: bool\n",
    "profondeur max level: int\n",
    "nombre max de ligne (pour évider de lister tout le système) length_limit: bool=1000"
   ]
  },
  {
   "cell_type": "code",
   "execution_count": 19,
   "id": "ab10b1a9",
   "metadata": {},
   "outputs": [
    {
     "name": "stdout",
     "output_type": "stream",
     "text": [
      "TP2/\n",
      "├── .ipynb_checkpoints/\n",
      "│   ├── PAPY_TP2_eleves-checkpoint.ipynb\n",
      "│   ├── TP2-checkpoint.ipynb\n",
      "├── PAPY_TP2_eleves.html\n",
      "├── PAPY_TP2_eleves.ipynb\n",
      "├── PAPY_TP2_eleves.pdf\n",
      "├── TP2/\n",
      "├── ├── .ipynb_checkpoints/\n",
      "│   │   ├── TP2-checkpoint.ipynb\n",
      "│   ├── generate.py\n",
      "│   ├── Line.py\n",
      "│   ├── printer.py\n",
      "│   ├── result.txt\n",
      "│   ├── shiyan.py\n",
      "│   ├── success.py\n",
      "│   ├── tempCodeRunnerFile.python\n",
      "│   ├── TP2.ipynb\n",
      "│   ├── Untitled-3.py\n",
      "│   ├── uti.txt\n",
      "│   ├── vecteur.py\n",
      "│   ├── zen.txt\n",
      "├── ├── __pycache__/\n",
      "│   │   ├── generate.cpython-39.pyc\n",
      "│   │   ├── Line.cpython-39.pyc\n",
      "│   │   ├── printer.cpython-39.pyc\n",
      "│   │   ├── vecteur.cpython-39.pyc\n",
      "├── TP2.zip\n"
     ]
    }
   ],
   "source": [
    "from generate import Generate\n",
    "if __name__ == '__main__':\n",
    "    path = \"E:\\Centrale Nantes\\AI\\A2\\PAPY\\TP2\"\n",
    "    g = Generate()\n",
    "    g.print_dirtree(path)"
   ]
  },
  {
   "cell_type": "code",
   "execution_count": null,
   "id": "26242867",
   "metadata": {},
   "outputs": [],
   "source": [
    "# Please go to Terminal and enter the file oop.py\n",
    "import argparse\n",
    "from pathlib import Path\n",
    "\n",
    "\n",
    "class Generate:\n",
    "    def __init__(self, path):\n",
    "        self.path = Path(path)\n",
    "        self.branch = '│   '\n",
    "        self.tee = '├── '\n",
    "\n",
    "    def print_dirtree(self, dir_only=False, level=0, length_limit=1000):\n",
    "        if length_limit == 0 or level > length_limit:\n",
    "            return\n",
    "\n",
    "        if not self.path.exists():\n",
    "            return\n",
    "        if level <= 1:\n",
    "            print(self.tee * level + self.path.name + '/')\n",
    "        else:\n",
    "            print(self.branch * (level-1) + self.tee + self.path.name + '/')\n",
    "\n",
    "        for item in self.path.iterdir():\n",
    "            self.path = self.path / item\n",
    "            if self.path.is_dir():\n",
    "                self.print_dirtree(dir_only, level+1, length_limit-1)\n",
    "            else:\n",
    "                print(self.branch * level + self.tee + str(item.name))\n",
    "        return\n",
    "\n",
    "def main():\n",
    "    parser = argparse.ArgumentParser(description=\"Display file tree.\")\n",
    "    parser.add_argument(\"path\", help=\"Path to the directory or file to display.\")\n",
    "    args = parser.parse_args()\n",
    "\n",
    "    file_tree_viewer = Generate(args.path)\n",
    "    file_tree_viewer.print_dirtree()\n",
    "\n",
    "if __name__ == \"__main__\":\n",
    "    main()\n"
   ]
  }
 ],
 "metadata": {
  "kernelspec": {
   "display_name": "Python 3 (ipykernel)",
   "language": "python",
   "name": "python3"
  },
  "language_info": {
   "codemirror_mode": {
    "name": "ipython",
    "version": 3
   },
   "file_extension": ".py",
   "mimetype": "text/x-python",
   "name": "python",
   "nbconvert_exporter": "python",
   "pygments_lexer": "ipython3",
   "version": "3.9.18"
  }
 },
 "nbformat": 4,
 "nbformat_minor": 5
}
