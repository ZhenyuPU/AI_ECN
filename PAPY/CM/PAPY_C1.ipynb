{
 "cells": [
  {
   "cell_type": "raw",
   "id": "33f5004c",
   "metadata": {
    "editable": true,
    "raw_mimetype": "slides",
    "slideshow": {
     "slide_type": "skip"
    },
    "tags": []
   },
   "source": [
    "```Ecole Centrale Nantes\n",
    "Option InfoIA\n",
    "PAPY: Programmation avancée python\n",
    "CM1\n",
    "Année 2022-2023\n",
    "Auteur: Lucas Lestandi\n",
    "lucas.lestandi@ec-nantes.fr\n",
    "V1.0\n",
    "```"
   ]
  },
  {
   "cell_type": "markdown",
   "id": "14641a76",
   "metadata": {
    "editable": true,
    "slideshow": {
     "slide_type": "skip"
    },
    "tags": [],
    "toc": true
   },
   "source": [
    "<h1>Table des matières<span class=\"tocSkip\"></span></h1>\n",
    "<div class=\"toc\"><ul class=\"toc-item\"><li><span><a href=\"#Environnement-de-travail-python\" data-toc-modified-id=\"Environnement-de-travail-python-1\"><span class=\"toc-item-num\">1&nbsp;&nbsp;</span>Environnement de travail python</a></span><ul class=\"toc-item\"><li><span><a href=\"#Versions-python\" data-toc-modified-id=\"Versions-python-1.1\"><span class=\"toc-item-num\">1.1&nbsp;&nbsp;</span>Versions <code>python</code></a></span></li><li><span><a href=\"#Environement-python-:-conda\" data-toc-modified-id=\"Environement-python-:-conda-1.2\"><span class=\"toc-item-num\">1.2&nbsp;&nbsp;</span>Environement python : conda</a></span></li><li><span><a href=\"#IDE-:-VS-Code\" data-toc-modified-id=\"IDE-:-VS-Code-1.3\"><span class=\"toc-item-num\">1.3&nbsp;&nbsp;</span>IDE : VS Code</a></span></li><li><span><a href=\"#Jupyter-et-le-Kernel-Ipython\" data-toc-modified-id=\"Jupyter-et-le-Kernel-Ipython-1.4\"><span class=\"toc-item-num\">1.4&nbsp;&nbsp;</span>Jupyter et le Kernel <code>Ipython</code></a></span></li></ul></li><li><span><a href=\"#Phylosophie-et-syntaxe-python\" data-toc-modified-id=\"Phylosophie-et-syntaxe-python-2\"><span class=\"toc-item-num\">2&nbsp;&nbsp;</span>Phylosophie et syntaxe python</a></span><ul class=\"toc-item\"><li><span><a href=\"#Un-langage-interprété\" data-toc-modified-id=\"Un-langage-interprété-2.1\"><span class=\"toc-item-num\">2.1&nbsp;&nbsp;</span>Un langage interprété</a></span></li><li><span><a href=\"#Types-de-données\" data-toc-modified-id=\"Types-de-données-2.2\"><span class=\"toc-item-num\">2.2&nbsp;&nbsp;</span>Types de données</a></span></li><li><span><a href=\"#Introspection\" data-toc-modified-id=\"Introspection-2.3\"><span class=\"toc-item-num\">2.3&nbsp;&nbsp;</span>Introspection</a></span></li><li><span><a href=\"#Style-et-synthaxe-main-dans-la-main\" data-toc-modified-id=\"Style-et-synthaxe-main-dans-la-main-2.4\"><span class=\"toc-item-num\">2.4&nbsp;&nbsp;</span>Style et synthaxe main dans la main</a></span><ul class=\"toc-item\"><li><span><a href=\"#Rappel-:-syntaxe\" data-toc-modified-id=\"Rappel-:-syntaxe-2.4.1\"><span class=\"toc-item-num\">2.4.1&nbsp;&nbsp;</span>Rappel : syntaxe</a></span></li></ul></li></ul></li><li><span><a href=\"#Bonnes-pratiques-en-programmation-python\" data-toc-modified-id=\"Bonnes-pratiques-en-programmation-python-3\"><span class=\"toc-item-num\">3&nbsp;&nbsp;</span>Bonnes pratiques en programmation python</a></span><ul class=\"toc-item\"><li><span><a href=\"#Python-Enhancement-Proposals-(PEPs)\" data-toc-modified-id=\"Python-Enhancement-Proposals-(PEPs)-3.1\"><span class=\"toc-item-num\">3.1&nbsp;&nbsp;</span>Python Enhancement Proposals (PEPs)</a></span></li><li><span><a href=\"#Documentation-interne\" data-toc-modified-id=\"Documentation-interne-3.2\"><span class=\"toc-item-num\">3.2&nbsp;&nbsp;</span>Documentation interne</a></span></li><li><span><a href=\"#Du-bon-usage-des-commentaires\" data-toc-modified-id=\"Du-bon-usage-des-commentaires-3.3\"><span class=\"toc-item-num\">3.3&nbsp;&nbsp;</span>Du bon usage des commentaires</a></span><ul class=\"toc-item\"><li><span><a href=\"#Planification\" data-toc-modified-id=\"Planification-3.3.1\"><span class=\"toc-item-num\">3.3.1&nbsp;&nbsp;</span>Planification</a></span></li><li><span><a href=\"#Aider-à-la-lecture-d'un-algo-complexe\" data-toc-modified-id=\"Aider-à-la-lecture-d'un-algo-complexe-3.3.2\"><span class=\"toc-item-num\">3.3.2&nbsp;&nbsp;</span>Aider à la lecture d'un algo complexe</a></span></li><li><span><a href=\"#Annotations-classiques\" data-toc-modified-id=\"Annotations-classiques-3.3.3\"><span class=\"toc-item-num\">3.3.3&nbsp;&nbsp;</span>Annotations classiques</a></span></li><li><span><a href=\"#Debugger-avec-les-commentaires\" data-toc-modified-id=\"Debugger-avec-les-commentaires-3.3.4\"><span class=\"toc-item-num\">3.3.4&nbsp;&nbsp;</span>Debugger avec les commentaires</a></span></li></ul></li><li><span><a href=\"#Docstrings\" data-toc-modified-id=\"Docstrings-3.4\"><span class=\"toc-item-num\">3.4&nbsp;&nbsp;</span>Docstrings</a></span><ul class=\"toc-item\"><li><span><a href=\"#Doc-interne\" data-toc-modified-id=\"Doc-interne-3.4.1\"><span class=\"toc-item-num\">3.4.1&nbsp;&nbsp;</span>Doc interne</a></span></li><li><span><a href=\"#Documentation-externe\" data-toc-modified-id=\"Documentation-externe-3.4.2\"><span class=\"toc-item-num\">3.4.2&nbsp;&nbsp;</span>Documentation externe</a></span></li><li><span><a href=\"#Paradigme-de-dévelopement-dirigé-par-la-documentation\" data-toc-modified-id=\"Paradigme-de-dévelopement-dirigé-par-la-documentation-3.4.3\"><span class=\"toc-item-num\">3.4.3&nbsp;&nbsp;</span>Paradigme de dévelopement dirigé par la documentation</a></span></li></ul></li></ul></li><li><span><a href=\"#Conclusion\" data-toc-modified-id=\"Conclusion-4\"><span class=\"toc-item-num\">4&nbsp;&nbsp;</span>Conclusion</a></span></li></ul></div>"
   ]
  },
  {
   "cell_type": "markdown",
   "id": "080bb9e7-714a-4019-a614-220575dc7b39",
   "metadata": {
    "editable": true,
    "slideshow": {
     "slide_type": "slide"
    },
    "tags": []
   },
   "source": [
    "# Chapitre 1. Bien travailler avec python (2h CM, 4h TP)\n",
    "- choisir un environnement de travail: IDE, notebooks jupyter, environnement python (conda,...)\n",
    "- philosophie et syntaxe de python\n",
    "- bonnes pratiques en programmation python (PEP8,...)"
   ]
  },
  {
   "cell_type": "markdown",
   "id": "fab6ddb0",
   "metadata": {
    "editable": true,
    "slideshow": {
     "slide_type": "slide"
    },
    "tags": []
   },
   "source": [
    "## Environnement de travail python"
   ]
  },
  {
   "cell_type": "markdown",
   "id": "91bcaafc",
   "metadata": {
    "editable": true,
    "slideshow": {
     "slide_type": "slide"
    },
    "tags": []
   },
   "source": [
    "### Versions `python`"
   ]
  },
  {
   "cell_type": "markdown",
   "id": "d5544473",
   "metadata": {
    "editable": true,
    "slideshow": {
     "slide_type": "fragment"
    },
    "tags": []
   },
   "source": [
    "- python 2.x\n",
    "- depuis 2010 : python 3.x (3.10 en cours)"
   ]
  },
  {
   "cell_type": "markdown",
   "id": "4891f713",
   "metadata": {
    "editable": true,
    "slideshow": {
     "slide_type": "fragment"
    },
    "tags": []
   },
   "source": [
    "<div class=\"alert alert-danger\" role=\"alert\">\n",
    "<p style=\"color:#000000\";>Attention au python système </p>\n",
    "    \n",
    "<ul>\n",
    "  <li>Noyau python utilisé par l'OS et certains programmes installés -> 💥</li>\n",
    "</ul>\n",
    "</div>\n"
   ]
  },
  {
   "cell_type": "markdown",
   "id": "fb0720d1",
   "metadata": {
    "editable": true,
    "slideshow": {
     "slide_type": "fragment"
    },
    "tags": []
   },
   "source": [
    "**Plusieurs noyaux sur une même machine**\n",
    "> \n",
    "> $\\Longrightarrow$  On va voir comment séparer les usages"
   ]
  },
  {
   "cell_type": "markdown",
   "id": "bd7f71bc",
   "metadata": {
    "editable": true,
    "slideshow": {
     "slide_type": "slide"
    },
    "tags": []
   },
   "source": [
    "### Environement python : conda"
   ]
  },
  {
   "cell_type": "markdown",
   "id": "a7a7728f",
   "metadata": {
    "slideshow": {
     "slide_type": "fragment"
    }
   },
   "source": [
    "  <div style=\"text-align: left; float: left;\">\n",
    "    <img src=\"https://upload.wikimedia.org/wikipedia/en/c/cd/Anaconda_Logo.png\" alt=\"Logo Anaconda\" width=\"400\" height=\"200\">\n",
    "  </div>\n",
    "\n",
    "  <div style=\"text-align: left; float: left;\">\n",
    "    <ul>\n",
    "        <li><b>Anaconda</b> : distribution de python</li>\n",
    "        <li>gestionnaire d'environement</li>\n",
    "        <li> <a src=\"https://www.anaconda.com/products/distribution\">Distribution officielle avec de nombreux paquets pré-installés</a> </li>\n",
    "        <li>miniconda : version minimale</li>\n",
    "        <li><p style=\"color:#FF0000\";> <b>mamba </b>: installation rapide de paquet</p>   </li>\n",
    "    </ul>\n",
    "  </div>"
   ]
  },
  {
   "cell_type": "markdown",
   "id": "b25eece1",
   "metadata": {
    "slideshow": {
     "slide_type": "subslide"
    }
   },
   "source": [
    "**Exemple d'utilisation : installation d'un environement de travail**\n",
    "```shell \n",
    "$ conda create --name TP1\n",
    "Collecting package metadata (current_repodata.json): done\n",
    "Solving environment: done\n",
    "\n",
    "## Package Plan ##\n",
    "\n",
    "  environment location: /home/llestandi/anaconda3/envs/TP1\n",
    "\n",
    "\n",
    "\n",
    "Proceed ([y]/n)? y\n",
    "\n",
    "Preparing transaction: done\n",
    "Verifying transaction: done\n",
    "Executing transaction: done\n",
    "```"
   ]
  },
  {
   "cell_type": "markdown",
   "id": "de49c007",
   "metadata": {
    "slideshow": {
     "slide_type": "fragment"
    }
   },
   "source": [
    "```shell\n",
    "$ conda activate TP1 # active l'environement\n",
    "```\n"
   ]
  },
  {
   "cell_type": "markdown",
   "id": "52d8f415",
   "metadata": {
    "slideshow": {
     "slide_type": "fragment"
    }
   },
   "source": [
    "```shell\n",
    "(TP1) $ which python3 # on teste l'emplacement du python appelé par python3\n",
    "/usr/bin/python3\n",
    "(TP1) $ python3\n",
    "Python 3.8.10 (default, Jun 22 2022, 20:18:18)\n",
    "[GCC 9.4.0] on linux\n",
    "Type \"help\", \"copyright\", \"credits\" or \"license\" for more information.\n",
    ">>>\n",
    "```\n"
   ]
  },
  {
   "cell_type": "markdown",
   "id": "2f4a9c17",
   "metadata": {
    "slideshow": {
     "slide_type": "fragment"
    }
   },
   "source": [
    "😱 Malheur, on utilise toujours le python sytème ! "
   ]
  },
  {
   "cell_type": "markdown",
   "id": "104034c3",
   "metadata": {
    "slideshow": {
     "slide_type": "subslide"
    }
   },
   "source": [
    "On va donc demander à conda d'installer python pour nous\n",
    "```shell\n",
    "(TP1) $ conda install python -y \n",
    "...\n",
    "```\n"
   ]
  },
  {
   "cell_type": "markdown",
   "id": "a8e858ac",
   "metadata": {
    "slideshow": {
     "slide_type": "fragment"
    }
   },
   "source": [
    "Nouveau test\n",
    "```shell\n",
    "(TP1) $ which python\n",
    "/home/llestandi/anaconda3/envs/TP1/bin/python\n",
    "(TP1) $ python --version\n",
    "Python 3.10.4\n",
    "\n",
    "```"
   ]
  },
  {
   "cell_type": "markdown",
   "id": "da9f870d",
   "metadata": {
    "slideshow": {
     "slide_type": "fragment"
    }
   },
   "source": [
    "Maintenant, si on tape `python` dans le shell: \n",
    "```shell\n",
    "(TP1) $ python\n",
    "Python 3.10.4 (main, Mar 31 2022, 08:41:55) [GCC 7.5.0] on linux\n",
    "Type \"help\", \"copyright\", \"credits\" or \"license\" for more information.\n",
    ">>>\n",
    "```"
   ]
  },
  {
   "cell_type": "markdown",
   "id": "86524cfa",
   "metadata": {
    "slideshow": {
     "slide_type": "slide"
    },
    "tags": []
   },
   "source": [
    "### IDE : VS Code"
   ]
  },
  {
   "cell_type": "markdown",
   "id": "49807b0e",
   "metadata": {
    "slideshow": {
     "slide_type": "fragment"
    }
   },
   "source": [
    "> IDE: *Integrated development environment*\n",
    "> - Editeur de texte (fichiers multiples)\n",
    "> - coloration syntaxique\n",
    "> - Debuggage \n",
    "> - Packetage\n",
    ">> *Exemples* : `vim`, `emacs`, `atom`, `spyder`, `codeblock`,...\n",
    "\n",
    "Idéal pour le développement de projets quelqu'en soit la taille."
   ]
  },
  {
   "cell_type": "markdown",
   "id": "8aa3de74",
   "metadata": {
    "slideshow": {
     "slide_type": "fragment"
    }
   },
   "source": [
    "<div style=\"text-align: left; float: left;\">\n",
    "    <img src=\"https://upload.wikimedia.org/wikipedia/commons/e/e9/VS_Code_%28Insiders%29.png\" alt=\"Logo VScode\" width=\"600\" height=\"400\">\n",
    "  </div>\n",
    "\n",
    "  <div style=\"text-align: left; float: left;\">\n",
    "    <ul>\n",
    "        <li>Editeur moderne développé par Microsoft</li>\n",
    "        <li>Multiplateforme</li>\n",
    "        <li>multilangage </li>\n",
    "        <li>débuggage</li>\n",
    "        <li>introspection de code</li>\n",
    "        <li>connection à distance</li>\n",
    "        <li>...</li>\n",
    "        <li> <a src=\"https://visualstudio.microsoft.com/fr/downloads/\">Téléchargmenent</a> </li>\n",
    "    </ul>\n",
    "  </div>"
   ]
  },
  {
   "cell_type": "markdown",
   "id": "97ef244b",
   "metadata": {
    "slideshow": {
     "slide_type": "slide"
    },
    "tags": []
   },
   "source": [
    "### Jupyter et le Kernel `Ipython`"
   ]
  },
  {
   "cell_type": "markdown",
   "id": "2ef7456c",
   "metadata": {
    "slideshow": {
     "slide_type": "fragment"
    }
   },
   "source": [
    "- IDE sous une forme différente (**jupyter lab**)\n",
    "- par navigateur\n",
    "- un \"noyau\" d'exécution (python, julia,...)\n",
    "- intéraction système `! ...`\n",
    "- Compatible avec plusieurs lagages, python en tête\n",
    "- mixe code, markdown (interprété) et cellules \"raw\""
   ]
  },
  {
   "cell_type": "code",
   "execution_count": 2,
   "id": "c4f90cd4",
   "metadata": {
    "slideshow": {
     "slide_type": "fragment"
    }
   },
   "outputs": [
    {
     "name": "stdout",
     "output_type": "stream",
     "text": [
      "[5, 'a', {}, 59]\n"
     ]
    }
   ],
   "source": [
    "a=[5,'a',{},59]\n",
    "print(a)"
   ]
  },
  {
   "cell_type": "markdown",
   "id": "7e498819",
   "metadata": {
    "slideshow": {
     "slide_type": "fragment"
    }
   },
   "source": [
    "Version en ligne : [Google colab](https://colab.research.google.com)"
   ]
  },
  {
   "cell_type": "markdown",
   "id": "f7e8ddeb",
   "metadata": {
    "slideshow": {
     "slide_type": "slide"
    }
   },
   "source": [
    "## Phylosophie et syntaxe python"
   ]
  },
  {
   "cell_type": "markdown",
   "id": "89cfc19e",
   "metadata": {
    "slideshow": {
     "slide_type": "slide"
    }
   },
   "source": [
    "### Un langage interprété"
   ]
  },
  {
   "cell_type": "markdown",
   "id": "3261a2f5",
   "metadata": {
    "slideshow": {
     "slide_type": "fragment"
    }
   },
   "source": [
    "<img src=\"data:image/png;base64,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\" width=\"1299\" height=\"555\" style=\"cursor:pointer;max-width:100%;\" onclick=\"(function(img){if(img.wnd!=null&&!img.wnd.closed){img.wnd.focus();}else{var r=function(evt){if(evt.data=='ready'&&evt.source==img.wnd){img.wnd.postMessage(decodeURIComponent(img.getAttribute('src')),'*');window.removeEventListener('message',r);}};window.addEventListener('message',r);img.wnd=window.open('https://viewer.diagrams.net/?client=1&page=0&edit=_blank');}})(this);\"/>"
   ]
  },
  {
   "cell_type": "markdown",
   "id": "31f87e14",
   "metadata": {
    "slideshow": {
     "slide_type": "slide"
    }
   },
   "source": [
    "### Types de données\n",
    ">  **Typage dynamique :**  il n’est pas nécessaire de déclarer les variables avant de pouvoir leur affecter une valeur. Le type du contenu d’une variable peut donc changer si on change sa valeur."
   ]
  },
  {
   "cell_type": "code",
   "execution_count": 44,
   "id": "1f8ef505",
   "metadata": {
    "slideshow": {
     "slide_type": "fragment"
    }
   },
   "outputs": [
    {
     "name": "stdout",
     "output_type": "stream",
     "text": [
      "1\n",
      "bonjour\n"
     ]
    }
   ],
   "source": [
    "#Par exemple\n",
    "a=1\n",
    "print(a)\n",
    "a='bonjour'\n",
    "print(a)"
   ]
  },
  {
   "cell_type": "markdown",
   "id": "e2cefc56",
   "metadata": {
    "slideshow": {
     "slide_type": "fragment"
    }
   },
   "source": [
    "**Rappel : les types de base en python**\n",
    "- `int` (entier)\n",
    "- `float` (flottant)\n",
    "- `str` (chaîne de caractères)\n",
    "- `bool` (booléen)\n",
    "- `list` (liste)\n",
    "- `tuple` (tuple)\n",
    "- `complex` (complexe)"
   ]
  },
  {
   "cell_type": "markdown",
   "id": "40740182",
   "metadata": {
    "slideshow": {
     "slide_type": "fragment"
    }
   },
   "source": [
    "> **Remarque:** il n'est pas possible de forcer une variable à ne stocker qu'un seul type. Voir [Chap 2](PAPY_C2.ipynb)\n",
    "\n",
    "> Par contre, on peut mettre des garde-fous grace à l'introspection. ."
   ]
  },
  {
   "cell_type": "markdown",
   "id": "08d42156",
   "metadata": {
    "slideshow": {
     "slide_type": "slide"
    }
   },
   "source": [
    "### Introspection"
   ]
  },
  {
   "cell_type": "markdown",
   "id": "cb359ea6",
   "metadata": {
    "slideshow": {
     "slide_type": "fragment"
    }
   },
   "source": [
    "> Python étant dynamique, on peut utiliser ses capacités d'instrospection pour obtenir des informations sur les variables!"
   ]
  },
  {
   "cell_type": "code",
   "execution_count": 3,
   "id": "a89dd995",
   "metadata": {
    "slideshow": {
     "slide_type": "fragment"
    }
   },
   "outputs": [
    {
     "data": {
      "text/plain": [
       "list"
      ]
     },
     "execution_count": 3,
     "metadata": {},
     "output_type": "execute_result"
    }
   ],
   "source": [
    "type(a) # nous renseigne sur le type de la variable"
   ]
  },
  {
   "cell_type": "code",
   "execution_count": 4,
   "id": "42759c64",
   "metadata": {
    "slideshow": {
     "slide_type": "fragment"
    }
   },
   "outputs": [
    {
     "data": {
      "text/plain": [
       "4"
      ]
     },
     "execution_count": 4,
     "metadata": {},
     "output_type": "execute_result"
    }
   ],
   "source": [
    "len(a) # nous donne la taille de l'objet"
   ]
  },
  {
   "cell_type": "code",
   "execution_count": 92,
   "id": "2c0fb859",
   "metadata": {
    "slideshow": {
     "slide_type": "fragment"
    }
   },
   "outputs": [
    {
     "data": {
      "text/plain": [
       "['__add__',\n",
       " '__class__',\n",
       " '__contains__',\n",
       " '__delattr__',\n",
       " '__dir__',\n",
       " '__doc__',\n",
       " '__eq__',\n",
       " '__format__',\n",
       " '__ge__',\n",
       " '__getattribute__',\n",
       " '__getitem__',\n",
       " '__getnewargs__',\n",
       " '__gt__',\n",
       " '__hash__',\n",
       " '__init__',\n",
       " '__init_subclass__',\n",
       " '__iter__',\n",
       " '__le__',\n",
       " '__len__',\n",
       " '__lt__',\n",
       " '__mod__',\n",
       " '__mul__',\n",
       " '__ne__',\n",
       " '__new__',\n",
       " '__reduce__',\n",
       " '__reduce_ex__',\n",
       " '__repr__',\n",
       " '__rmod__',\n",
       " '__rmul__',\n",
       " '__setattr__',\n",
       " '__sizeof__',\n",
       " '__str__',\n",
       " '__subclasshook__',\n",
       " 'capitalize',\n",
       " 'casefold',\n",
       " 'center',\n",
       " 'count',\n",
       " 'encode',\n",
       " 'endswith',\n",
       " 'expandtabs',\n",
       " 'find',\n",
       " 'format',\n",
       " 'format_map',\n",
       " 'index',\n",
       " 'isalnum',\n",
       " 'isalpha',\n",
       " 'isascii',\n",
       " 'isdecimal',\n",
       " 'isdigit',\n",
       " 'isidentifier',\n",
       " 'islower',\n",
       " 'isnumeric',\n",
       " 'isprintable',\n",
       " 'isspace',\n",
       " 'istitle',\n",
       " 'isupper',\n",
       " 'join',\n",
       " 'ljust',\n",
       " 'lower',\n",
       " 'lstrip',\n",
       " 'maketrans',\n",
       " 'partition',\n",
       " 'removeprefix',\n",
       " 'removesuffix',\n",
       " 'replace',\n",
       " 'rfind',\n",
       " 'rindex',\n",
       " 'rjust',\n",
       " 'rpartition',\n",
       " 'rsplit',\n",
       " 'rstrip',\n",
       " 'split',\n",
       " 'splitlines',\n",
       " 'startswith',\n",
       " 'strip',\n",
       " 'swapcase',\n",
       " 'title',\n",
       " 'translate',\n",
       " 'upper',\n",
       " 'zfill']"
      ]
     },
     "execution_count": 92,
     "metadata": {},
     "output_type": "execute_result"
    }
   ],
   "source": [
    "dir(a) # nous donne les méthodes associées"
   ]
  },
  {
   "cell_type": "code",
   "execution_count": 5,
   "id": "0fe8a13f",
   "metadata": {
    "slideshow": {
     "slide_type": "fragment"
    }
   },
   "outputs": [
    {
     "data": {
      "text/plain": [
       "'linux'"
      ]
     },
     "execution_count": 5,
     "metadata": {},
     "output_type": "execute_result"
    }
   ],
   "source": [
    "#a propos du système qui exécute python\n",
    "import sys\n",
    "sys.platform"
   ]
  },
  {
   "cell_type": "code",
   "execution_count": 7,
   "id": "16026bdc",
   "metadata": {
    "slideshow": {
     "slide_type": "fragment"
    }
   },
   "outputs": [
    {
     "data": {
      "text/plain": [
       "'3.9.13 | packaged by conda-forge | (main, May 27 2022, 16:56:21) \\n[GCC 10.3.0]'"
      ]
     },
     "execution_count": 7,
     "metadata": {},
     "output_type": "execute_result"
    }
   ],
   "source": [
    "sys.version"
   ]
  },
  {
   "cell_type": "markdown",
   "id": "59517208-f190-468b-8fb4-962c6f6cc0d5",
   "metadata": {
    "slideshow": {
     "slide_type": "slide"
    }
   },
   "source": [
    "### Style et synthaxe main dans la main"
   ]
  },
  {
   "cell_type": "markdown",
   "id": "6c552895",
   "metadata": {
    "slideshow": {
     "slide_type": "fragment"
    }
   },
   "source": [
    "> *Puisque python est peu contraignant, nous avons besoin de conventions pour faciliter la lecture.*\n",
    "> La plus connue [`PEP8`](https://peps.python.org/pep-0008/)\n",
    "\n",
    "Souvent, on aura\n",
    "- `nom_de_ma_variable` pour les variables, fonctions et méthodes\n",
    "- `NOM_DE_MA_CONSTANTE` pour les constantes\n",
    "- `MaClasse` pour les classes (a.k.a. CamelCase)\n",
    "- `UneExceptionError` pour les exceptions \n",
    "- `nom_de_module` pour les modules et pour tous les autres identificateurs ⚠️ \"\\_\" peut poser des problèmes à l'importattion. A éviter quand on peut"
   ]
  },
  {
   "cell_type": "markdown",
   "id": "a78fbdd4",
   "metadata": {
    "slideshow": {
     "slide_type": "subslide"
    }
   },
   "source": [
    "#### Rappel : syntaxe\n",
    "\n",
    "- pas de `;` en fin de ligne\n",
    "- les blocs sont formés par des espaces (4)\n",
    "> ```python\n",
    "for i in range():\n",
    "    smth(i)\n",
    "instruction() #fin du bloc\n",
    "```\n",
    "- les fonctions (*callable*)\n",
    ">```python\n",
    "def my_func(param):\n",
    "    smth\n",
    "    return result\n",
    "#utilisation\n",
    "my_func(input)\n",
    "```\n",
    "- les **méthodes** s'appliquent à des classes\n",
    "> ```python\n",
    ">>>> ”abracadabra”.upper()\n",
    "”ABRACADABRA”\n",
    "```"
   ]
  },
  {
   "cell_type": "markdown",
   "id": "dc786e9d",
   "metadata": {
    "slideshow": {
     "slide_type": "subslide"
    }
   },
   "source": [
    "**Un exemple complet**"
   ]
  },
  {
   "cell_type": "code",
   "execution_count": 8,
   "id": "761656ed",
   "metadata": {
    "slideshow": {
     "slide_type": "fragment"
    }
   },
   "outputs": [
    {
     "name": "stdout",
     "output_type": "stream",
     "text": [
      "/mnt/c/Users/llestand/Documents/teaching/cours/InfoIA/PAPY_2022\n",
      "/home/llestandi/anaconda3/envs/teaching/lib/python39.zip\n",
      "/home/llestandi/anaconda3/envs/teaching/lib/python3.9\n",
      "/home/llestandi/anaconda3/envs/teaching/lib/python3.9/lib-dynload\n",
      "\n",
      "/home/llestandi/anaconda3/envs/teaching/lib/python3.9/site-packages\n",
      "/mnt/c/Users/llestand/Documents/research/Code/Additive_manufacturing_surrogates\n",
      "/mnt/c/Users/llestand/Documents/research/Code/python-libs/pydecomp\n",
      "/home/llestandi/anaconda3/envs/teaching/lib/python3.9/site-packages/IPython/extensions\n",
      "/home/llestandi/.ipython\n",
      "nobmre d'entrées dans sys.path: 10\n",
      "Unexpected err=AssertionError(), type(err)=<class 'AssertionError'>\n",
      "0\n",
      "63\n"
     ]
    },
    {
     "ename": "AssertionError",
     "evalue": "",
     "output_type": "error",
     "traceback": [
      "\u001b[0;31m---------------------------------------------------------------------------\u001b[0m",
      "\u001b[0;31mAssertionError\u001b[0m                            Traceback (most recent call last)",
      "\u001b[0;32m/tmp/ipykernel_1477/3036533611.py\u001b[0m in \u001b[0;36m<module>\u001b[0;34m\u001b[0m\n\u001b[1;32m     25\u001b[0m \u001b[0mprint\u001b[0m\u001b[0;34m(\u001b[0m\u001b[0mcompte_le_nombre_de_caracteres_safe\u001b[0m\u001b[0;34m(\u001b[0m\u001b[0mall_paths\u001b[0m\u001b[0;34m)\u001b[0m\u001b[0;34m)\u001b[0m\u001b[0;34m\u001b[0m\u001b[0;34m\u001b[0m\u001b[0m\n\u001b[1;32m     26\u001b[0m \u001b[0mprint\u001b[0m\u001b[0;34m(\u001b[0m\u001b[0mcompte_le_nombre_de_caracteres_safe\u001b[0m\u001b[0;34m(\u001b[0m\u001b[0mall_paths\u001b[0m\u001b[0;34m[\u001b[0m\u001b[0;36m0\u001b[0m\u001b[0;34m]\u001b[0m\u001b[0;34m)\u001b[0m\u001b[0;34m)\u001b[0m\u001b[0;34m\u001b[0m\u001b[0;34m\u001b[0m\u001b[0m\n\u001b[0;32m---> 27\u001b[0;31m \u001b[0mprint\u001b[0m\u001b[0;34m(\u001b[0m\u001b[0mcompte_le_nombre_de_caracteres_fatal\u001b[0m\u001b[0;34m(\u001b[0m\u001b[0mall_paths\u001b[0m\u001b[0;34m)\u001b[0m\u001b[0;34m)\u001b[0m\u001b[0;34m\u001b[0m\u001b[0;34m\u001b[0m\u001b[0m\n\u001b[0m",
      "\u001b[0;32m/tmp/ipykernel_1477/3036533611.py\u001b[0m in \u001b[0;36mcompte_le_nombre_de_caracteres_fatal\u001b[0;34m(string)\u001b[0m\n\u001b[1;32m     19\u001b[0m \u001b[0;32mdef\u001b[0m \u001b[0mcompte_le_nombre_de_caracteres_fatal\u001b[0m\u001b[0;34m(\u001b[0m\u001b[0mstring\u001b[0m\u001b[0;34m)\u001b[0m\u001b[0;34m:\u001b[0m\u001b[0;34m\u001b[0m\u001b[0;34m\u001b[0m\u001b[0m\n\u001b[1;32m     20\u001b[0m     \u001b[0;34m\"\"\"Compte le nombre de caractère d'un string. Renvoie une erreur pour les autres types\"\"\"\u001b[0m\u001b[0;34m\u001b[0m\u001b[0;34m\u001b[0m\u001b[0m\n\u001b[0;32m---> 21\u001b[0;31m     \u001b[0;32massert\u001b[0m\u001b[0;34m(\u001b[0m\u001b[0mtype\u001b[0m\u001b[0;34m(\u001b[0m\u001b[0mstring\u001b[0m\u001b[0;34m)\u001b[0m \u001b[0;32mis\u001b[0m \u001b[0mstr\u001b[0m\u001b[0;34m)\u001b[0m\u001b[0;34m\u001b[0m\u001b[0;34m\u001b[0m\u001b[0m\n\u001b[0m\u001b[1;32m     22\u001b[0m     \u001b[0;32mreturn\u001b[0m \u001b[0mlen\u001b[0m\u001b[0;34m(\u001b[0m\u001b[0mstring\u001b[0m\u001b[0;34m)\u001b[0m\u001b[0;34m\u001b[0m\u001b[0;34m\u001b[0m\u001b[0m\n\u001b[1;32m     23\u001b[0m \u001b[0;34m\u001b[0m\u001b[0m\n",
      "\u001b[0;31mAssertionError\u001b[0m: "
     ]
    }
   ],
   "source": [
    "# Commentaire \n",
    "import sys \n",
    "\n",
    "all_paths=sys.path\n",
    "for path in all_paths:\n",
    "    print(path)\n",
    "    \n",
    "print(f\"nobmre d'entrées dans sys.path: {len(all_paths)}\")\n",
    "\n",
    "def compte_le_nombre_de_caracteres_safe(string):\n",
    "    longueur=0\n",
    "    try:\n",
    "        assert(type(string) is str) \n",
    "        longueur=len(string)\n",
    "    except Exception as err:\n",
    "        print(f\"Unexpected {err=}, {type(err)=}\")\n",
    "    return longueur\n",
    "\n",
    "def compte_le_nombre_de_caracteres_fatal(string):\n",
    "    \"\"\"Compte le nombre de caractère d'un string. Renvoie une erreur pour les autres types\"\"\"\n",
    "    assert(type(string) is str)\n",
    "    return len(string)\n",
    "\n",
    "\n",
    "print(compte_le_nombre_de_caracteres_safe(all_paths))\n",
    "print(compte_le_nombre_de_caracteres_safe(all_paths[0]))\n",
    "print(compte_le_nombre_de_caracteres_fatal(all_paths))"
   ]
  },
  {
   "cell_type": "markdown",
   "id": "56471512-e074-47f7-8826-e8155e6af278",
   "metadata": {
    "slideshow": {
     "slide_type": "slide"
    }
   },
   "source": [
    "## Bonnes pratiques en programmation python "
   ]
  },
  {
   "cell_type": "markdown",
   "id": "3a099ab1",
   "metadata": {
    "slideshow": {
     "slide_type": "slide"
    }
   },
   "source": [
    "### Python Enhancement Proposals (PEPs)"
   ]
  },
  {
   "cell_type": "code",
   "execution_count": 23,
   "id": "1591b9e1",
   "metadata": {
    "scrolled": true,
    "slideshow": {
     "slide_type": "fragment"
    }
   },
   "outputs": [
    {
     "data": {
      "text/html": [
       "<iframe src=\"https://peps.python.org/\" width=\"1200\" height=\"800\"></iframe>\n"
      ],
      "text/plain": [
       "<IPython.core.display.HTML object>"
      ]
     },
     "metadata": {},
     "output_type": "display_data"
    }
   ],
   "source": [
    "%%html \n",
    "<iframe src=\"https://peps.python.org/\" width=\"1200\" height=\"800\"></iframe>"
   ]
  },
  {
   "cell_type": "markdown",
   "id": "c76f793e",
   "metadata": {
    "slideshow": {
     "slide_type": "fragment"
    }
   },
   "source": [
    "Queleques PEP à ne pas manquer:\n",
    " - [PEP 8 : Style général ](https://peps.python.org/pep-0008/)\n",
    " - [PEP 20: Zen de python](https://peps.python.org/pep-0020/)\n",
    " - [PEP 257 pour les docstrings](https://peps.python.org/pep-0257/)"
   ]
  },
  {
   "cell_type": "markdown",
   "id": "fce9068a",
   "metadata": {
    "slideshow": {
     "slide_type": "slide"
    }
   },
   "source": [
    "### Documentation interne"
   ]
  },
  {
   "cell_type": "markdown",
   "id": "f202d030",
   "metadata": {
    "slideshow": {
     "slide_type": "fragment"
    }
   },
   "source": [
    "> Un code non documenté à de grandes chances d'être inutile.\n",
    "> - difficile de relire\n",
    "> - difficile à partager\n",
    "> - difficile à maintenir\n",
    "> - une API sans doc est votre pire cauchemar"
   ]
  },
  {
   "cell_type": "markdown",
   "id": "4e79d189",
   "metadata": {
    "slideshow": {
     "slide_type": "fragment"
    }
   },
   "source": [
    "**Exemple:** extrait du code [`deepXDE`](https://github.com/lululxvi/deepxde/blob/master/deepxde/nn/tensorflow/fnn.py) (Lu Lu et al.) de résolution d'EDP par un réseau de neurones (PINN):\n",
    "```python\n",
    "class PFNN(NN):\n",
    "    \"\"\"Parallel fully-connected neural network that uses independent sub-networks for\n",
    "    each network output.\n",
    "    Args:\n",
    "        layer_sizes: A nested list to define the architecture of the neural network (how\n",
    "            the layers are connected). If `layer_sizes[i]` is int, it represent one\n",
    "            layer shared by all the outputs; if `layer_sizes[i]` is list, it represent\n",
    "            `len(layer_sizes[i])` sub-layers, each of which exclusively used by one\n",
    "            output. Note that `len(layer_sizes[i])` should equal to the number of\n",
    "            outputs. Every number specify the number of neurons of that layer.\n",
    "    \"\"\"\n",
    "\n",
    "    def __init__(\n",
    "        self, layer_sizes, activation, kernel_initializer, regularization=None\n",
    "    ):\n",
    "        super().__init__()\n",
    "        activation = activations.get(activation)\n",
    "        initializer = initializers.get(kernel_initializer)\n",
    "        self.regularizer = regularizers.get(regularization)\n",
    "\n",
    "        n_output = layer_sizes[-1]\n",
    "        self.denses = []\n",
    "        # hidden layers\n",
    "        for i in range(1, len(layer_sizes) - 1):\n",
    "            prev_layer_size = layer_sizes[i - 1]\n",
    "            curr_layer_size = layer_sizes[i]\n",
    "            # Non-Shared layers\n",
    "            if isinstance(curr_layer_size, (list, tuple)):\n",
    "                if len(curr_layer_size) != n_output:\n",
    "                    raise ValueError(\n",
    "                        \"number of sub-layers should equal number of network outputs\"\n",
    "                    )\n",
    "                # e.g. [8, 8, 8] -> [16, 16, 16] or 64 -> [8, 8, 8]\n",
    "                self.denses.append(\n",
    "                    [\n",
    "                        tf.keras.layers.Dense(\n",
    "                            units,\n",
    "                            activation=activation,\n",
    "                            kernel_initializer=initializer,\n",
    "                            kernel_regularizer=self.regularizer,\n",
    "                        )\n",
    "                        for units in curr_layer_size\n",
    "                    ]\n",
    "                )\n",
    "            # Shared layers\n",
    "            else:  # e.g. 64 -> 64\n",
    "                if not isinstance(prev_layer_size, int):\n",
    "                    raise ValueError(\n",
    "                        \"cannot rejoin parallel subnetworks after splitting\"\n",
    "                    )\n",
    "                self.denses.append(\n",
    "                    tf.keras.layers.Dense(\n",
    "                        curr_layer_size,\n",
    "                        activation=activation,\n",
    "                        kernel_initializer=initializer,\n",
    "                        kernel_regularizer=self.regularizer,\n",
    "                    )\n",
    "                )\n",
    "\n",
    "        # output layers\n",
    "        if isinstance(layer_sizes[-2], (list, tuple)):  # e.g. [3, 3, 3] -> 3\n",
    "            self.denses.append(\n",
    "                [\n",
    "                    tf.keras.layers.Dense(\n",
    "                        1,\n",
    "                        kernel_initializer=initializer,\n",
    "                        kernel_regularizer=self.regularizer,\n",
    "                    )\n",
    "                    for _ in range(n_output)\n",
    "                ]\n",
    "            )\n",
    "        else:\n",
    "            self.denses.append(\n",
    "                tf.keras.layers.Dense(\n",
    "                    n_output,\n",
    "                    kernel_initializer=initializer,\n",
    "                    kernel_regularizer=self.regularizer,\n",
    "                )\n",
    "            )\n",
    "\n",
    "    def call(self, inputs, training=False):\n",
    "        y = inputs\n",
    "        if self._input_transform is not None:\n",
    "            y = self._input_transform(y)\n",
    "\n",
    "        # hidden layers\n",
    "        for layer in self.denses[:-1]:\n",
    "            if isinstance(layer, list):\n",
    "                if isinstance(y, list):\n",
    "                    y = [f(x, training=training) for f, x in zip(layer, y)]\n",
    "                else:\n",
    "                    y = [f(y, training=training) for f in layer]\n",
    "            else:\n",
    "                y = layer(y, training=training)\n",
    "\n",
    "        # output layers\n",
    "        if isinstance(y, list):\n",
    "            y = [f(x, training=training) for f, x in zip(self.denses[-1], y)]\n",
    "            y = tf.concat(y, 1)\n",
    "        else:\n",
    "            y = self.denses[-1](y, training=training)\n",
    "\n",
    "        if self._output_transform is not None:\n",
    "            y = self._output_transform(inputs, y)\n",
    "        return \n",
    "```"
   ]
  },
  {
   "cell_type": "markdown",
   "id": "6c579455",
   "metadata": {
    "slideshow": {
     "slide_type": "subslide"
    }
   },
   "source": [
    "### Du bon usage des commentaires"
   ]
  },
  {
   "cell_type": "markdown",
   "id": "5a21f903",
   "metadata": {
    "slideshow": {
     "slide_type": "fragment"
    }
   },
   "source": [
    "> *Les commentaires permettent la compréhension d'une complexité algorithmique ou d'annoter le code. Ils sont principalement à destination des contributeurs.*\n",
    "\n",
    "> *“Code tells you how; Comments tell you why.”*\n",
    ">\n",
    "> Jeff Atwood (aka Coding Horror)\n"
   ]
  },
  {
   "cell_type": "markdown",
   "id": "593a752c",
   "metadata": {
    "slideshow": {
     "slide_type": "subslide"
    }
   },
   "source": [
    "#### Planification\n",
    "Pour aider à l'organisation et l'élaboration du code, on peut inserer des commentaires qui décrivent ce qui devra etre codé\n",
    "\n",
    "```python\n",
    "def fonction_compliquée(*args):\n",
    "    #cette fonction doit faire les actions 1,2 et 3 de l'algorithm machin\n",
    "    pass\n",
    "\n",
    "```"
   ]
  },
  {
   "cell_type": "markdown",
   "id": "61d27884",
   "metadata": {
    "slideshow": {
     "slide_type": "subslide"
    }
   },
   "source": [
    "#### Aider à la lecture d'un algo complexe\n",
    "```python\n",
    "# e.g. [8, 8, 8] -> [16, 16, 16] or 64 -> [8, 8, 8]\n",
    "```\n",
    "> ⚠️ un code bien écrit est peu ou pas commenté cf. [code source de scipy](https://github.com/scipy/scipy/blob/main/scipy)\n",
    "> - on choisit des noms de variables et fonctions explicits"
   ]
  },
  {
   "cell_type": "markdown",
   "id": "34d73e1b",
   "metadata": {
    "slideshow": {
     "slide_type": "fragment"
    }
   },
   "source": [
    "Mauvaise pratique:\n",
    "```python\n",
    "v=[1.322,0] # la vitesse horizontale\n",
    "p=[0,0]\n",
    "#nouvelle position après une seconde\n",
    "p+=v*1.\n",
    "```\n",
    "Meilleure pratique\n",
    "```python\n",
    "vitesse=[1.322,0]\n",
    "position=[0,0]\n",
    "dt=1. # interval de temps\n",
    "\n",
    "# la cinématique du point nous donne la nouvelle position\n",
    "position+=vitess*dt\n",
    "```\n",
    "On explicite une fois le sens de `dt` mais cette notation est suffisament standard pour l'utiliser "
   ]
  },
  {
   "cell_type": "markdown",
   "id": "3e46b64d",
   "metadata": {
    "slideshow": {
     "slide_type": "subslide"
    }
   },
   "source": [
    "#### Annotations classiques\n",
    "Chaque projet adope ses conventions, néanmoins on retrouve fréquemment les commentaires suivant. **Certains** IDE permettent un suivit/colorisation de ces notes."
   ]
  },
  {
   "cell_type": "markdown",
   "id": "25953755",
   "metadata": {
    "slideshow": {
     "slide_type": "fragment"
    }
   },
   "source": [
    "- `#TODO` lorsqu'on remarque qu'il faudra changer quelque chose à l'avenir, ajouter un fonctionnalité, etc.\n",
    "```python\n",
    "def complicated_function()\n",
    "    \"\"\"Description\"\"\"\n",
    "    #TODO implement\n",
    "    pass\n",
    "```"
   ]
  },
  {
   "cell_type": "markdown",
   "id": "eb0123f7",
   "metadata": {
    "slideshow": {
     "slide_type": "fragment"
    }
   },
   "source": [
    "- `#FIXME`, quelqu'un à repéré un bug ou un problème mais ne peut pas le résoudre sur le moment\n",
    "```python\n",
    "def complicated_function(*args)\n",
    "    #FIXME api has changed! please update to latest version\n",
    "    call_api(*args)\n",
    "    return \n",
    "```"
   ]
  },
  {
   "cell_type": "markdown",
   "id": "039c3657",
   "metadata": {
    "slideshow": {
     "slide_type": "fragment"
    }
   },
   "source": [
    "- `# hack` parfois, on utilise une \"mauvaise\" solution pour résoudre un problème pressant. On indique donc comment on a procédé pour que le lecteur puisse suivre\n",
    "```python\n",
    "# hack Some trick found on stackoverflow\n",
    "dirty_trick()\n",
    "```"
   ]
  },
  {
   "cell_type": "markdown",
   "id": "fbd8c3a8",
   "metadata": {
    "slideshow": {
     "slide_type": "subslide"
    }
   },
   "source": [
    "#### Debugger avec les commentaires"
   ]
  },
  {
   "cell_type": "markdown",
   "id": "51f434b4",
   "metadata": {
    "slideshow": {
     "slide_type": "fragment"
    }
   },
   "source": [
    "> *On utilisera les commentaire pour facilement isoler les lignes problèmatiques d'un script ou une version bis d'un extrait de code que l'on souhaiterai garder.*"
   ]
  },
  {
   "cell_type": "code",
   "execution_count": 103,
   "id": "953104a2",
   "metadata": {
    "cell_style": "split",
    "slideshow": {
     "slide_type": "fragment"
    }
   },
   "outputs": [
    {
     "ename": "TypeError",
     "evalue": "unsupported operand type(s) for +=: 'int' and 'str'",
     "output_type": "error",
     "traceback": [
      "\u001b[0;31m---------------------------------------------------------------------------\u001b[0m",
      "\u001b[0;31mTypeError\u001b[0m                                 Traceback (most recent call last)",
      "\u001b[0;32m/tmp/ipykernel_21475/1249002370.py\u001b[0m in \u001b[0;36m<module>\u001b[0;34m\u001b[0m\n\u001b[1;32m      4\u001b[0m \u001b[0mc\u001b[0m\u001b[0;34m=\u001b[0m\u001b[0;34m'3'\u001b[0m\u001b[0;34m\u001b[0m\u001b[0;34m\u001b[0m\u001b[0m\n\u001b[1;32m      5\u001b[0m \u001b[0ma\u001b[0m\u001b[0;34m+=\u001b[0m\u001b[0mb\u001b[0m\u001b[0;34m\u001b[0m\u001b[0;34m\u001b[0m\u001b[0m\n\u001b[0;32m----> 6\u001b[0;31m \u001b[0ma\u001b[0m\u001b[0;34m+=\u001b[0m\u001b[0mc\u001b[0m\u001b[0;34m\u001b[0m\u001b[0;34m\u001b[0m\u001b[0m\n\u001b[0m\u001b[1;32m      7\u001b[0m \u001b[0mprint\u001b[0m\u001b[0;34m(\u001b[0m\u001b[0ma\u001b[0m\u001b[0;34m)\u001b[0m\u001b[0;34m\u001b[0m\u001b[0;34m\u001b[0m\u001b[0m\n",
      "\u001b[0;31mTypeError\u001b[0m: unsupported operand type(s) for +=: 'int' and 'str'"
     ]
    }
   ],
   "source": [
    "#Code avec un bug rencontre une erreur\n",
    "a=1\n",
    "b=2\n",
    "c='3'\n",
    "a+=b\n",
    "a+=c\n",
    "print(a)"
   ]
  },
  {
   "cell_type": "code",
   "execution_count": 104,
   "id": "f8d78f3f",
   "metadata": {
    "cell_style": "split",
    "slideshow": {
     "slide_type": "fragment"
    }
   },
   "outputs": [
    {
     "name": "stdout",
     "output_type": "stream",
     "text": [
      "3\n"
     ]
    }
   ],
   "source": [
    "#Code avec un bug commenté\n",
    "a=1\n",
    "b=2\n",
    "c='3'\n",
    "a+=b\n",
    "#a+=c\n",
    "print(a)"
   ]
  },
  {
   "cell_type": "markdown",
   "id": "c100f909",
   "metadata": {
    "cell_style": "center",
    "slideshow": {
     "slide_type": "slide"
    }
   },
   "source": [
    "### Docstrings"
   ]
  },
  {
   "cell_type": "markdown",
   "id": "cd43e909",
   "metadata": {
    "slideshow": {
     "slide_type": "fragment"
    }
   },
   "source": [
    "> *Peut etre plus que pour les autres lagages de programmation, la documentation fait partie du code en python !*"
   ]
  },
  {
   "cell_type": "markdown",
   "id": "00cf42a7",
   "metadata": {
    "slideshow": {
     "slide_type": "fragment"
    }
   },
   "source": [
    "Le `docstring` est une chaine de caractères spéciale (non référencée) qui permet de documenter le code à la fois en\n",
    "- introspection via l'attribut spécial `__doc__` des fonctions, modules et classes\n",
    "- pour la documentation externe grace a des parsers type `reST` $\\longrightarrow$ génération automatique de pdf, html,...\n",
    "- insertion de tests avec le module `doctest`\n",
    "\n",
    "Définition dans le [PEP257](https://peps.python.org/pep-0257)"
   ]
  },
  {
   "cell_type": "markdown",
   "id": "ea539355",
   "metadata": {
    "slideshow": {
     "slide_type": "subslide"
    }
   },
   "source": [
    "#### Doc interne"
   ]
  },
  {
   "cell_type": "code",
   "execution_count": 21,
   "id": "7078384c",
   "metadata": {
    "slideshow": {
     "slide_type": "fragment"
    }
   },
   "outputs": [],
   "source": [
    "def ajout_simple(a,b):\n",
    "    \"\"\"Cette fonction ajout a et b\"\"\" #doctstring sur une ligne\n",
    "    return a+b"
   ]
  },
  {
   "cell_type": "code",
   "execution_count": 22,
   "id": "0e069adb",
   "metadata": {
    "slideshow": {
     "slide_type": "fragment"
    }
   },
   "outputs": [
    {
     "data": {
      "text/plain": [
       "'Cette fonction ajout a et b'"
      ]
     },
     "execution_count": 22,
     "metadata": {},
     "output_type": "execute_result"
    }
   ],
   "source": [
    "ajout_simple.__doc__"
   ]
  },
  {
   "cell_type": "code",
   "execution_count": 114,
   "id": "ad9cdfdf",
   "metadata": {
    "slideshow": {
     "slide_type": "fragment"
    }
   },
   "outputs": [],
   "source": [
    "def ajout_complique(a,b):\n",
    "    \"\"\"Cette fonction multiplie a par 10\n",
    "    puis ajoute la moitié b\n",
    "    \n",
    "    Arguments:\n",
    "    a -- un float\n",
    "    b -- un autre float\n",
    "    \n",
    "    Retourne:\n",
    "    un float\n",
    "    \"\"\"\n",
    "    return 10*a+b/2"
   ]
  },
  {
   "cell_type": "code",
   "execution_count": 115,
   "id": "675390b1",
   "metadata": {
    "slideshow": {
     "slide_type": "fragment"
    }
   },
   "outputs": [
    {
     "name": "stdout",
     "output_type": "stream",
     "text": [
      "Cette fonction multiplie a par 10\n",
      "    puis ajoute la moitié b\n",
      "    \n",
      "    Arguments:\n",
      "    a -- un float\n",
      "    b -- un autre float\n",
      "    \n",
      "    Retourne:\n",
      "    un float\n",
      "    \n"
     ]
    }
   ],
   "source": [
    "print(ajout_complique.__doc__)"
   ]
  },
  {
   "cell_type": "markdown",
   "id": "96d3d0e8",
   "metadata": {
    "slideshow": {
     "slide_type": "fragment"
    }
   },
   "source": [
    "Plusieurs convention d'écriture des arguments des doctstrings existent $\\longrightarrow$ voir les gros projet e.g. `numpy`, `tensorflow`, etc."
   ]
  },
  {
   "cell_type": "markdown",
   "id": "26066ed8",
   "metadata": {
    "slideshow": {
     "slide_type": "fragment"
    }
   },
   "source": [
    "#### Documentation externe\n",
    "\n",
    "> Plusieurs frameworks offrent la possibilité de générer automatiquement des documentations externes\n",
    "> - [`docutils`](https://peps.python.org/pep-0258/) spécifie le format reST et un interpréteur\n",
    "> - [`sphynx`](https://www.sphinx-doc.org/en/master/) est le plus connu pour les pages html -> [Documentation numpy](https://numpy.org/doc/stable/user/index.html#user)"
   ]
  },
  {
   "cell_type": "markdown",
   "id": "ccb3aa50",
   "metadata": {
    "slideshow": {
     "slide_type": "fragment"
    }
   },
   "source": [
    "Ce qui ressemble à ceci dans le code : https://github.com/numpy/numpy/blob/main/numpy/linalg/linalg.py"
   ]
  },
  {
   "cell_type": "markdown",
   "id": "8a044436",
   "metadata": {
    "slideshow": {
     "slide_type": "slide"
    }
   },
   "source": [
    "#### Paradigme de dévelopement dirigé par la documentation"
   ]
  },
  {
   "cell_type": "markdown",
   "id": "e7028725",
   "metadata": {
    "slideshow": {
     "slide_type": "fragment"
    }
   },
   "source": [
    "> *Il est possible d'écrire la documentation avant de rédiger le code ou même de connaitre les détails de l'algo.*"
   ]
  },
  {
   "cell_type": "markdown",
   "id": "e1d2406a",
   "metadata": {
    "slideshow": {
     "slide_type": "subslide"
    }
   },
   "source": [
    "On peut écrire la documentation avant de rédiger le corps de la fonction, avec le niveau de finesse adéquat\n",
    "  - en tant que **spécification** : on sait ce qu'on veut faire mais on a besoin de plusieurs briques"
   ]
  },
  {
   "cell_type": "markdown",
   "id": "8043598a",
   "metadata": {
    "slideshow": {
     "slide_type": "fragment"
    }
   },
   "source": [
    "```python\n",
    "    def solve_navier_stokes(domain,mu):\n",
    "        \"\"\"Solves Navier-Stokes equation on the given doamin with P1-P0 FE.\n",
    "        \"\"\"\n",
    "        #TODO implement\n",
    "        pass\n",
    "```"
   ]
  },
  {
   "cell_type": "markdown",
   "id": "2f53c9d4",
   "metadata": {
    "slideshow": {
     "slide_type": "fragment"
    }
   },
   "source": [
    " -  Comme une **documentation complète** avec un niveau important de détails pour contraindre la forme dans une API"
   ]
  },
  {
   "cell_type": "markdown",
   "id": "ffd959ce",
   "metadata": {
    "slideshow": {
     "slide_type": "fragment"
    }
   },
   "source": [
    "```python\n",
    "    def solve_navier_stokes(domain,mu):\n",
    "        \"\"\"Solves Navier-Stokes equation on the given domain with P1-P0 FE.\n",
    "        \n",
    "        Here we use NS formulation from [some ref].\n",
    "        \n",
    "        Arguments:\n",
    "        =========\n",
    "        domain -- the domain (clsDomain)\n",
    "        mu - the viscosity (real)\n",
    "        \n",
    "        Return:\n",
    "        ========\n",
    "        (u,p) the FE solution containing velocity\n",
    "        \"\"\"\n",
    "        #TODO implement\n",
    "        pass\n",
    "    \n",
    "    if __name__==__main__:\n",
    "        from domain_util import unit_cube_domain\n",
    "        domain=unit_cube_domain()\n",
    "        solution=read_solution(\"reference_solution.dat\")\n",
    "        assert(solve_navier_stokes(domain,mu=1e3)==solution)\n",
    "```"
   ]
  },
  {
   "cell_type": "markdown",
   "id": "9497c23b",
   "metadata": {
    "slideshow": {
     "slide_type": "subslide"
    }
   },
   "source": [
    "- ou y insérer directement les **tests** que la fonction devra vérifier avec `doctest`"
   ]
  },
  {
   "cell_type": "markdown",
   "id": "d61d1aa9",
   "metadata": {
    "slideshow": {
     "slide_type": "fragment"
    }
   },
   "source": [
    "```python\n",
    "    import doctest\n",
    "    def solve_navier_stokes(domain,mu):\n",
    "        \"\"\"Solves Navier-Stokes equation on the given doamin with P1-P0 FE.\n",
    "        \n",
    "        Here we use NS formulation from [some ref].\n",
    "        \n",
    "        Arguments:\n",
    "        =========\n",
    "        domain -- the domain (clsDomain)\n",
    "        mu - the viscosity (real)\n",
    "        \n",
    "        Return:\n",
    "        ========\n",
    "        (u,p) the FE solution containing velocity\n",
    "        \n",
    "        \n",
    "        Example:\n",
    "        ========\n",
    "        >>> from domain_util import unit_cube_domain\n",
    "        >>> domain=unit_cube_domain()\n",
    "        >>> solution=read_solution(\"reference_solution.dat\")\n",
    "        >>> assert(solve_navier_stokes(domain,mu=1e3)==solution)\n",
    "        true\n",
    "        \"\"\"\n",
    "        #TODO implement\n",
    "        pass\n",
    "    \n",
    "    if __name__==__main__:\n",
    "        doctest.testmod()#va exécuter le test et renvoyer une erreur s'il est faux\n",
    "```"
   ]
  },
  {
   "cell_type": "markdown",
   "id": "5fee07a1",
   "metadata": {
    "slideshow": {
     "slide_type": "subslide"
    }
   },
   "source": [
    "Un exemple complet tiré de numpy\n",
    "```python\n",
    "#la fonction eigvals de numpy.linalg avec toute sa documentation embarquée\n",
    "def eigvals(a):\n",
    "    \"\"\"\n",
    "    Compute the eigenvalues of a general matrix.\n",
    "    Main difference between `eigvals` and `eig`: the eigenvectors aren't\n",
    "    returned.\n",
    "    Parameters\n",
    "    ----------\n",
    "    a : (..., M, M) array_like\n",
    "        A complex- or real-valued matrix whose eigenvalues will be computed.\n",
    "    Returns\n",
    "    -------\n",
    "    w : (..., M,) ndarray\n",
    "        The eigenvalues, each repeated according to its multiplicity.\n",
    "        They are not necessarily ordered, nor are they necessarily\n",
    "        real for real matrices.\n",
    "    Raises\n",
    "    ------\n",
    "    LinAlgError\n",
    "        If the eigenvalue computation does not converge.\n",
    "    See Also\n",
    "    --------\n",
    "    eig : eigenvalues and right eigenvectors of general arrays\n",
    "    eigvalsh : eigenvalues of real symmetric or complex Hermitian\n",
    "               (conjugate symmetric) arrays.\n",
    "    eigh : eigenvalues and eigenvectors of real symmetric or complex\n",
    "           Hermitian (conjugate symmetric) arrays.\n",
    "    scipy.linalg.eigvals : Similar function in SciPy.\n",
    "    Notes\n",
    "    -----\n",
    "    .. versionadded:: 1.8.0\n",
    "    Broadcasting rules apply, see the `numpy.linalg` documentation for\n",
    "    details.\n",
    "    This is implemented using the ``_geev`` LAPACK routines which compute\n",
    "    the eigenvalues and eigenvectors of general square arrays.\n",
    "    Examples\n",
    "    --------\n",
    "    Illustration, using the fact that the eigenvalues of a diagonal matrix\n",
    "    are its diagonal elements, that multiplying a matrix on the left\n",
    "    by an orthogonal matrix, `Q`, and on the right by `Q.T` (the transpose\n",
    "    of `Q`), preserves the eigenvalues of the \"middle\" matrix.  In other words,\n",
    "    if `Q` is orthogonal, then ``Q * A * Q.T`` has the same eigenvalues as\n",
    "    ``A``:\n",
    "    >>> from numpy import linalg as LA\n",
    "    >>> x = np.random.random()\n",
    "    >>> Q = np.array([[np.cos(x), -np.sin(x)], [np.sin(x), np.cos(x)]])\n",
    "    >>> LA.norm(Q[0, :]), LA.norm(Q[1, :]), np.dot(Q[0, :],Q[1, :])\n",
    "    (1.0, 1.0, 0.0)\n",
    "    Now multiply a diagonal matrix by ``Q`` on one side and by ``Q.T`` on the other:\n",
    "    >>> D = np.diag((-1,1))\n",
    "    >>> LA.eigvals(D)\n",
    "    array([-1.,  1.])\n",
    "    >>> A = np.dot(Q, D)\n",
    "    >>> A = np.dot(A, Q.T)\n",
    "    >>> LA.eigvals(A)\n",
    "    array([ 1., -1.]) # random\n",
    "    \"\"\"\n",
    "    a, wrap = _makearray(a)\n",
    "    _assert_stacked_2d(a)\n",
    "    _assert_stacked_square(a)\n",
    "    _assert_finite(a)\n",
    "    t, result_t = _commonType(a)\n",
    "\n",
    "    extobj = get_linalg_error_extobj(\n",
    "        _raise_linalgerror_eigenvalues_nonconvergence)\n",
    "    signature = 'D->D' if isComplexType(t) else 'd->D'\n",
    "    w = _umath_linalg.eigvals(a, signature=signature, extobj=extobj)\n",
    "\n",
    "    if not isComplexType(t):\n",
    "        if all(w.imag == 0):\n",
    "            w = w.real\n",
    "            result_t = _realType(result_t)\n",
    "        else:\n",
    "            result_t = _complexType(result_t)\n",
    "\n",
    "    return w.astype(result_t, copy=False)\n",
    "```"
   ]
  },
  {
   "cell_type": "markdown",
   "id": "7b91cf83",
   "metadata": {
    "slideshow": {
     "slide_type": "slide"
    }
   },
   "source": [
    "## Conclusion"
   ]
  },
  {
   "cell_type": "markdown",
   "id": "4c55387a",
   "metadata": {
    "slideshow": {
     "slide_type": "subslide"
    }
   },
   "source": [
    "Nous avons vu :\n",
    " - comment mettre en place un environnement de développement python\n",
    " - un rappel de la syntaxe et de la philosophie python\n",
    " - les bonnes pratiques à appliquer autant que possible"
   ]
  }
 ],
 "metadata": {
  "celltoolbar": "Diaporama",
  "kernelspec": {
   "display_name": "Python 3 (ipykernel)",
   "language": "python",
   "name": "python3"
  },
  "language_info": {
   "codemirror_mode": {
    "name": "ipython",
    "version": 3
   },
   "file_extension": ".py",
   "mimetype": "text/x-python",
   "name": "python",
   "nbconvert_exporter": "python",
   "pygments_lexer": "ipython3",
   "version": "3.11.5"
  },
  "rise": {
   "overlay": "<div class='myheader'><p style='text-align:center;'>Lucas Lestandi, PAPY C1, Option Info IA, ECN, 2022-2023</p><img src='logoCN.png' width='200' height='118' align='right'></div></div>",
   "theme": "solarized"
  },
  "toc": {
   "base_numbering": 1,
   "nav_menu": {
    "height": "501.533px",
    "width": "371.933px"
   },
   "number_sections": true,
   "sideBar": false,
   "skip_h1_title": true,
   "title_cell": "Table des matières",
   "title_sidebar": "Contents",
   "toc_cell": true,
   "toc_position": {
    "height": "100px",
    "left": "1408.03px",
    "top": "0px",
    "width": "287.967px"
   },
   "toc_section_display": true,
   "toc_window_display": true
  },
  "varInspector": {
   "cols": {
    "lenName": 16,
    "lenType": 16,
    "lenVar": 40
   },
   "kernels_config": {
    "python": {
     "delete_cmd_postfix": "",
     "delete_cmd_prefix": "del ",
     "library": "var_list.py",
     "varRefreshCmd": "print(var_dic_list())"
    },
    "r": {
     "delete_cmd_postfix": ") ",
     "delete_cmd_prefix": "rm(",
     "library": "var_list.r",
     "varRefreshCmd": "cat(var_dic_list()) "
    }
   },
   "types_to_exclude": [
    "module",
    "function",
    "builtin_function_or_method",
    "instance",
    "_Feature"
   ],
   "window_display": false
  }
 },
 "nbformat": 4,
 "nbformat_minor": 5
}
