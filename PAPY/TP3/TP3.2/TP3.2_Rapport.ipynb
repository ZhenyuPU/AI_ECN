{
 "cells": [
  {
   "cell_type": "markdown",
   "metadata": {},
   "source": [
    "Pour le fichier **L'avion de Bernard**, il n'y a qu'une fichier python qui est **bernard.py**, \n",
    "\n",
    "csv(Excel): 2 fichiers\n",
    "\n",
    "txt: 2 fichiers\n",
    "\n",
    "Markdown: 1\n",
    "\n",
    "PNG: 2 fichiers\n",
    "\n",
    "File: 1\n",
    "\n",
    "Pour le fichier **Plane-notify**, \n",
    "\n",
    "python: 17 fichiers\n",
    "\n",
    "Yaml: 1\n",
    "\n",
    "file: 3\n",
    "\n",
    "Markdown: 3 fichiers\n",
    "\n",
    "Lock: 1\n",
    "\n",
    "JSON: 1\n",
    "\n",
    "Git ignore: 1\n",
    "\n",
    "Example: 2 fichiers\n",
    "\n",
    "PNG: 6 fichiers"
   ]
  },
  {
   "cell_type": "markdown",
   "metadata": {},
   "source": [
    "On utiliser ces codes pour l'usage personnel"
   ]
  },
  {
   "cell_type": "code",
   "execution_count": null,
   "metadata": {},
   "outputs": [],
   "source": [
    "from laviondebernard.bernard import "
   ]
  }
 ],
 "metadata": {
  "language_info": {
   "name": "python"
  }
 },
 "nbformat": 4,
 "nbformat_minor": 2
}
