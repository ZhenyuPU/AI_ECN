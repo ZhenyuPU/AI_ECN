{
 "cells": [
  {
   "cell_type": "markdown",
   "metadata": {},
   "source": [
    "**Table of contents**<a id='toc0_'></a>    \n",
    "- [Pyshark](#toc1_)    \n",
    "\n",
    "<!-- vscode-jupyter-toc-config\n",
    "\tnumbering=false\n",
    "\tanchor=true\n",
    "\tflat=false\n",
    "\tminLevel=1\n",
    "\tmaxLevel=6\n",
    "\t/vscode-jupyter-toc-config -->\n",
    "<!-- THIS CELL WILL BE REPLACED ON TOC UPDATE. DO NOT WRITE YOUR TEXT IN THIS CELL -->"
   ]
  },
  {
   "cell_type": "markdown",
   "metadata": {},
   "source": [
    "## <a id='toc1_'></a>[Pyshark](#toc0_)\n",
    "\n",
    "    "
   ]
  },
  {
   "cell_type": "code",
   "execution_count": 7,
   "metadata": {},
   "outputs": [
    {
     "name": "stdout",
     "output_type": "stream",
     "text": [
      "The autoreload extension is already loaded. To reload it, use:\n",
      "  %reload_ext autoreload\n"
     ]
    }
   ],
   "source": [
    "%load_ext autoreload\n",
    "%autoreload 2"
   ]
  },
  {
   "cell_type": "code",
   "execution_count": 11,
   "metadata": {},
   "outputs": [
    {
     "name": "stdout",
     "output_type": "stream",
     "text": [
      "IPython autoawait is `on`, and set to use `asyncio`\n"
     ]
    },
    {
     "ename": "RuntimeError",
     "evalue": "Cannot run the event loop while another loop is running",
     "output_type": "error",
     "traceback": [
      "\u001b[1;31m---------------------------------------------------------------------------\u001b[0m",
      "\u001b[1;31mRuntimeError\u001b[0m                              Traceback (most recent call last)",
      "\u001b[1;32me:\\Centrale Nantes\\AI\\A2\\Projet1\\Notes.ipynb Cell 4\u001b[0m line \u001b[0;36m1\n\u001b[0;32m     <a href='vscode-notebook-cell:/e%3A/Centrale%20Nantes/AI/A2/Projet1/Notes.ipynb#W2sZmlsZQ%3D%3D?line=10'>11</a>\u001b[0m \u001b[39m# online packet capture\u001b[39;00m\n\u001b[0;32m     <a href='vscode-notebook-cell:/e%3A/Centrale%20Nantes/AI/A2/Projet1/Notes.ipynb#W2sZmlsZQ%3D%3D?line=11'>12</a>\u001b[0m capture \u001b[39m=\u001b[39m pyshark\u001b[39m.\u001b[39mLiveCapture(interface\u001b[39m=\u001b[39m\u001b[39m'\u001b[39m\u001b[39mWLAN\u001b[39m\u001b[39m'\u001b[39m, tshark_path\u001b[39m=\u001b[39mpath)\n\u001b[1;32m---> <a href='vscode-notebook-cell:/e%3A/Centrale%20Nantes/AI/A2/Projet1/Notes.ipynb#W2sZmlsZQ%3D%3D?line=13'>14</a>\u001b[0m capture\u001b[39m.\u001b[39;49msniff(timeout\u001b[39m=\u001b[39;49m\u001b[39m15\u001b[39;49m) \u001b[39m# timeout: running time (s)\u001b[39;00m\n\u001b[0;32m     <a href='vscode-notebook-cell:/e%3A/Centrale%20Nantes/AI/A2/Projet1/Notes.ipynb#W2sZmlsZQ%3D%3D?line=16'>17</a>\u001b[0m \u001b[39mprint\u001b[39m(capture[\u001b[39m5\u001b[39m])\n\u001b[0;32m     <a href='vscode-notebook-cell:/e%3A/Centrale%20Nantes/AI/A2/Projet1/Notes.ipynb#W2sZmlsZQ%3D%3D?line=18'>19</a>\u001b[0m \u001b[39mfor\u001b[39;00m packet \u001b[39min\u001b[39;00m capture\u001b[39m.\u001b[39msniff_continuously(packet_count\u001b[39m=\u001b[39m\u001b[39m5\u001b[39m):\n",
      "File \u001b[1;32md:\\Anaconda_exe\\lib\\site-packages\\pyshark\\capture\\capture.py:144\u001b[0m, in \u001b[0;36mCapture.load_packets\u001b[1;34m(self, packet_count, timeout)\u001b[0m\n\u001b[0;32m    141\u001b[0m         \u001b[39mraise\u001b[39;00m StopCapture()\n\u001b[0;32m    143\u001b[0m \u001b[39mtry\u001b[39;00m:\n\u001b[1;32m--> 144\u001b[0m     \u001b[39mself\u001b[39;49m\u001b[39m.\u001b[39;49mapply_on_packets(\n\u001b[0;32m    145\u001b[0m         keep_packet, timeout\u001b[39m=\u001b[39;49mtimeout, packet_count\u001b[39m=\u001b[39;49mpacket_count)\n\u001b[0;32m    146\u001b[0m     \u001b[39mself\u001b[39m\u001b[39m.\u001b[39mloaded \u001b[39m=\u001b[39m \u001b[39mTrue\u001b[39;00m\n\u001b[0;32m    147\u001b[0m \u001b[39mexcept\u001b[39;00m asyncTimeoutError:\n",
      "File \u001b[1;32md:\\Anaconda_exe\\lib\\site-packages\\pyshark\\capture\\capture.py:256\u001b[0m, in \u001b[0;36mCapture.apply_on_packets\u001b[1;34m(self, callback, timeout, packet_count)\u001b[0m\n\u001b[0;32m    254\u001b[0m \u001b[39mif\u001b[39;00m timeout \u001b[39mis\u001b[39;00m \u001b[39mnot\u001b[39;00m \u001b[39mNone\u001b[39;00m:\n\u001b[0;32m    255\u001b[0m     coro \u001b[39m=\u001b[39m asyncio\u001b[39m.\u001b[39mwait_for(coro, timeout)\n\u001b[1;32m--> 256\u001b[0m \u001b[39mreturn\u001b[39;00m \u001b[39mself\u001b[39;49m\u001b[39m.\u001b[39;49meventloop\u001b[39m.\u001b[39;49mrun_until_complete(coro)\n",
      "File \u001b[1;32md:\\Anaconda_exe\\lib\\asyncio\\base_events.py:623\u001b[0m, in \u001b[0;36mBaseEventLoop.run_until_complete\u001b[1;34m(self, future)\u001b[0m\n\u001b[0;32m    612\u001b[0m \u001b[39m\u001b[39m\u001b[39m\"\"\"Run until the Future is done.\u001b[39;00m\n\u001b[0;32m    613\u001b[0m \n\u001b[0;32m    614\u001b[0m \u001b[39mIf the argument is a coroutine, it is wrapped in a Task.\u001b[39;00m\n\u001b[1;32m   (...)\u001b[0m\n\u001b[0;32m    620\u001b[0m \u001b[39mReturn the Future's result, or raise its exception.\u001b[39;00m\n\u001b[0;32m    621\u001b[0m \u001b[39m\"\"\"\u001b[39;00m\n\u001b[0;32m    622\u001b[0m \u001b[39mself\u001b[39m\u001b[39m.\u001b[39m_check_closed()\n\u001b[1;32m--> 623\u001b[0m \u001b[39mself\u001b[39;49m\u001b[39m.\u001b[39;49m_check_running()\n\u001b[0;32m    625\u001b[0m new_task \u001b[39m=\u001b[39m \u001b[39mnot\u001b[39;00m futures\u001b[39m.\u001b[39misfuture(future)\n\u001b[0;32m    626\u001b[0m future \u001b[39m=\u001b[39m tasks\u001b[39m.\u001b[39mensure_future(future, loop\u001b[39m=\u001b[39m\u001b[39mself\u001b[39m)\n",
      "File \u001b[1;32md:\\Anaconda_exe\\lib\\asyncio\\base_events.py:585\u001b[0m, in \u001b[0;36mBaseEventLoop._check_running\u001b[1;34m(self)\u001b[0m\n\u001b[0;32m    583\u001b[0m     \u001b[39mraise\u001b[39;00m \u001b[39mRuntimeError\u001b[39;00m(\u001b[39m'\u001b[39m\u001b[39mThis event loop is already running\u001b[39m\u001b[39m'\u001b[39m)\n\u001b[0;32m    584\u001b[0m \u001b[39mif\u001b[39;00m events\u001b[39m.\u001b[39m_get_running_loop() \u001b[39mis\u001b[39;00m \u001b[39mnot\u001b[39;00m \u001b[39mNone\u001b[39;00m:\n\u001b[1;32m--> 585\u001b[0m     \u001b[39mraise\u001b[39;00m \u001b[39mRuntimeError\u001b[39;00m(\n\u001b[0;32m    586\u001b[0m         \u001b[39m'\u001b[39m\u001b[39mCannot run the event loop while another loop is running\u001b[39m\u001b[39m'\u001b[39m)\n",
      "\u001b[1;31mRuntimeError\u001b[0m: Cannot run the event loop while another loop is running"
     ]
    }
   ],
   "source": [
    "%autoawait\n",
    "import pyshark\n",
    "import nest_asyncio\n",
    "nest_asyncio.apply()\n",
    "\n",
    "path = 'D:\\\\Wireshark\\\\tshark.exe'\n",
    "\n",
    "# get a file.pcap\n",
    "capture = pyshark.FileCapture('E:/Centrale Nantes/AI/A2/Projet1/Practice/mycapture.pcap', tshark_path=path)\n",
    "\n",
    "# online packet capture\n",
    "capture = pyshark.LiveCapture(interface='WLAN', tshark_path=path)\n",
    "\n",
    "capture.sniff(timeout=15) # timeout: running time (s)\n",
    "\n",
    "\n",
    "print(capture[5])\n",
    "\n",
    "for packet in capture.sniff_continuously(packet_count=5):\n",
    "    print('Just arrived:', packet)"
   ]
  },
  {
   "cell_type": "code",
   "execution_count": null,
   "metadata": {},
   "outputs": [],
   "source": [
    "# capture = pyshark.RemoteCapture('192.168.1.101', 'WLAN', tshark_path=path)\n",
    "capture.sniff(timeout=10)\n",
    "print(capture)\n",
    "\n",
    "print(capture[0].highest_layer)"
   ]
  }
 ],
 "metadata": {
  "kernelspec": {
   "display_name": "base",
   "language": "python",
   "name": "python3"
  },
  "language_info": {
   "codemirror_mode": {
    "name": "ipython",
    "version": 3
   },
   "file_extension": ".py",
   "mimetype": "text/x-python",
   "name": "python",
   "nbconvert_exporter": "python",
   "pygments_lexer": "ipython3",
   "version": "3.9.18"
  }
 },
 "nbformat": 4,
 "nbformat_minor": 2
}
