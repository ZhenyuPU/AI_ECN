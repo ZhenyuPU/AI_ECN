{
 "cells": [
  {
   "cell_type": "markdown",
   "metadata": {},
   "source": [
    "# Boosting Trees"
   ]
  },
  {
   "cell_type": "code",
   "execution_count": 1,
   "metadata": {
    "scrolled": true
   },
   "outputs": [],
   "source": [
    "%matplotlib inline\n",
    "from pylab import *\n",
    "import pandas as pd\n",
    "from sklearn import preprocessing \n",
    "from sklearn.model_selection import train_test_split"
   ]
  },
  {
   "cell_type": "markdown",
   "metadata": {},
   "source": [
    "## Gradient Boosting "
   ]
  },
  {
   "cell_type": "markdown",
   "metadata": {},
   "source": [
    "Commencons ajuster un regresseur par gradient boosting sur des familles d'arbres."
   ]
  },
  {
   "cell_type": "code",
   "execution_count": 2,
   "metadata": {},
   "outputs": [],
   "source": [
    "from sklearn.tree import DecisionTreeRegressor\n",
    "from sklearn.datasets import fetch_california_housing\n",
    "california_housing = fetch_california_housing(as_frame=True)"
   ]
  },
  {
   "cell_type": "code",
   "execution_count": 3,
   "metadata": {},
   "outputs": [
    {
     "name": "stdout",
     "output_type": "stream",
     "text": [
      ".. _california_housing_dataset:\n",
      "\n",
      "California Housing dataset\n",
      "--------------------------\n",
      "\n",
      "**Data Set Characteristics:**\n",
      "\n",
      "    :Number of Instances: 20640\n",
      "\n",
      "    :Number of Attributes: 8 numeric, predictive attributes and the target\n",
      "\n",
      "    :Attribute Information:\n",
      "        - MedInc        median income in block group\n",
      "        - HouseAge      median house age in block group\n",
      "        - AveRooms      average number of rooms per household\n",
      "        - AveBedrms     average number of bedrooms per household\n",
      "        - Population    block group population\n",
      "        - AveOccup      average number of household members\n",
      "        - Latitude      block group latitude\n",
      "        - Longitude     block group longitude\n",
      "\n",
      "    :Missing Attribute Values: None\n",
      "\n",
      "This dataset was obtained from the StatLib repository.\n",
      "https://www.dcc.fc.up.pt/~ltorgo/Regression/cal_housing.html\n",
      "\n",
      "The target variable is the median house value for California districts,\n",
      "expressed in hundreds of thousands of dollars ($100,000).\n",
      "\n",
      "This dataset was derived from the 1990 U.S. census, using one row per census\n",
      "block group. A block group is the smallest geographical unit for which the U.S.\n",
      "Census Bureau publishes sample data (a block group typically has a population\n",
      "of 600 to 3,000 people).\n",
      "\n",
      "A household is a group of people residing within a home. Since the average\n",
      "number of rooms and bedrooms in this dataset are provided per household, these\n",
      "columns may take surprisingly large values for block groups with few households\n",
      "and many empty houses, such as vacation resorts.\n",
      "\n",
      "It can be downloaded/loaded using the\n",
      ":func:`sklearn.datasets.fetch_california_housing` function.\n",
      "\n",
      ".. topic:: References\n",
      "\n",
      "    - Pace, R. Kelley and Ronald Barry, Sparse Spatial Autoregressions,\n",
      "      Statistics and Probability Letters, 33 (1997) 291-297\n",
      "\n"
     ]
    }
   ],
   "source": [
    "print(california_housing.DESCR)"
   ]
  },
  {
   "cell_type": "code",
   "execution_count": 4,
   "metadata": {},
   "outputs": [
    {
     "data": {
      "text/html": [
       "<div>\n",
       "<style scoped>\n",
       "    .dataframe tbody tr th:only-of-type {\n",
       "        vertical-align: middle;\n",
       "    }\n",
       "\n",
       "    .dataframe tbody tr th {\n",
       "        vertical-align: top;\n",
       "    }\n",
       "\n",
       "    .dataframe thead th {\n",
       "        text-align: right;\n",
       "    }\n",
       "</style>\n",
       "<table border=\"1\" class=\"dataframe\">\n",
       "  <thead>\n",
       "    <tr style=\"text-align: right;\">\n",
       "      <th></th>\n",
       "      <th>MedInc</th>\n",
       "      <th>HouseAge</th>\n",
       "      <th>AveRooms</th>\n",
       "      <th>AveBedrms</th>\n",
       "      <th>Population</th>\n",
       "      <th>AveOccup</th>\n",
       "      <th>Latitude</th>\n",
       "      <th>Longitude</th>\n",
       "      <th>MedHouseVal</th>\n",
       "    </tr>\n",
       "  </thead>\n",
       "  <tbody>\n",
       "    <tr>\n",
       "      <th>0</th>\n",
       "      <td>8.3252</td>\n",
       "      <td>41.0</td>\n",
       "      <td>6.984127</td>\n",
       "      <td>1.023810</td>\n",
       "      <td>322.0</td>\n",
       "      <td>2.555556</td>\n",
       "      <td>37.88</td>\n",
       "      <td>-122.23</td>\n",
       "      <td>4.526</td>\n",
       "    </tr>\n",
       "    <tr>\n",
       "      <th>1</th>\n",
       "      <td>8.3014</td>\n",
       "      <td>21.0</td>\n",
       "      <td>6.238137</td>\n",
       "      <td>0.971880</td>\n",
       "      <td>2401.0</td>\n",
       "      <td>2.109842</td>\n",
       "      <td>37.86</td>\n",
       "      <td>-122.22</td>\n",
       "      <td>3.585</td>\n",
       "    </tr>\n",
       "    <tr>\n",
       "      <th>2</th>\n",
       "      <td>7.2574</td>\n",
       "      <td>52.0</td>\n",
       "      <td>8.288136</td>\n",
       "      <td>1.073446</td>\n",
       "      <td>496.0</td>\n",
       "      <td>2.802260</td>\n",
       "      <td>37.85</td>\n",
       "      <td>-122.24</td>\n",
       "      <td>3.521</td>\n",
       "    </tr>\n",
       "    <tr>\n",
       "      <th>3</th>\n",
       "      <td>5.6431</td>\n",
       "      <td>52.0</td>\n",
       "      <td>5.817352</td>\n",
       "      <td>1.073059</td>\n",
       "      <td>558.0</td>\n",
       "      <td>2.547945</td>\n",
       "      <td>37.85</td>\n",
       "      <td>-122.25</td>\n",
       "      <td>3.413</td>\n",
       "    </tr>\n",
       "    <tr>\n",
       "      <th>4</th>\n",
       "      <td>3.8462</td>\n",
       "      <td>52.0</td>\n",
       "      <td>6.281853</td>\n",
       "      <td>1.081081</td>\n",
       "      <td>565.0</td>\n",
       "      <td>2.181467</td>\n",
       "      <td>37.85</td>\n",
       "      <td>-122.25</td>\n",
       "      <td>3.422</td>\n",
       "    </tr>\n",
       "  </tbody>\n",
       "</table>\n",
       "</div>"
      ],
      "text/plain": [
       "   MedInc  HouseAge  AveRooms  AveBedrms  Population  AveOccup  Latitude  \\\n",
       "0  8.3252      41.0  6.984127   1.023810       322.0  2.555556     37.88   \n",
       "1  8.3014      21.0  6.238137   0.971880      2401.0  2.109842     37.86   \n",
       "2  7.2574      52.0  8.288136   1.073446       496.0  2.802260     37.85   \n",
       "3  5.6431      52.0  5.817352   1.073059       558.0  2.547945     37.85   \n",
       "4  3.8462      52.0  6.281853   1.081081       565.0  2.181467     37.85   \n",
       "\n",
       "   Longitude  MedHouseVal  \n",
       "0    -122.23        4.526  \n",
       "1    -122.22        3.585  \n",
       "2    -122.24        3.521  \n",
       "3    -122.25        3.413  \n",
       "4    -122.25        3.422  "
      ]
     },
     "execution_count": 4,
     "metadata": {},
     "output_type": "execute_result"
    }
   ],
   "source": [
    "california_housing.frame.head()"
   ]
  },
  {
   "cell_type": "markdown",
   "metadata": {},
   "source": [
    "####  Préparation des données Housing"
   ]
  },
  {
   "cell_type": "code",
   "execution_count": 5,
   "metadata": {
    "scrolled": true
   },
   "outputs": [
    {
     "name": "stdout",
     "output_type": "stream",
     "text": [
      "(20640, 8)\n"
     ]
    }
   ],
   "source": [
    "X_housing = california_housing.data\n",
    "Y_housing = california_housing.target\n",
    "print(shape(X_housing))"
   ]
  },
  {
   "cell_type": "markdown",
   "metadata": {},
   "source": [
    "Pour éviter que les temps de calcul soient trop longs, nous allons travailler avec un sous échantillon:"
   ]
  },
  {
   "cell_type": "code",
   "execution_count": 6,
   "metadata": {},
   "outputs": [],
   "source": [
    "from sklearn.utils import resample\n",
    "X_housing, Y_housing  = resample(X_housing,Y_housing, n_samples = 2000, replace = False)"
   ]
  },
  {
   "cell_type": "markdown",
   "metadata": {},
   "source": [
    "Découpage train / test :"
   ]
  },
  {
   "cell_type": "code",
   "execution_count": 7,
   "metadata": {
    "scrolled": true
   },
   "outputs": [],
   "source": [
    "X_housing_train, X_housing_test, y_housing_train, y_housing_test = \\\n",
    "train_test_split(X_housing,Y_housing,test_size=0.5)"
   ]
  },
  {
   "cell_type": "markdown",
   "metadata": {},
   "source": [
    "Importation des fonctions Gradient Boosting de sckit-learn et de la fonction `mean_squared_error` pour le calcul des erreurs quadratique moyennes."
   ]
  },
  {
   "cell_type": "code",
   "execution_count": 8,
   "metadata": {},
   "outputs": [],
   "source": [
    "from sklearn.ensemble import GradientBoostingRegressor\n",
    "from sklearn.metrics import mean_squared_error"
   ]
  },
  {
   "cell_type": "markdown",
   "metadata": {},
   "source": [
    "Nous ajustons maintenant un modèle GBM avec les paramètres proposés ci-dessous.\n",
    "\n",
    "> Retrouver la signification de chacun des paramètres."
   ]
  },
  {
   "cell_type": "code",
   "execution_count": 9,
   "metadata": {},
   "outputs": [
    {
     "name": "stdout",
     "output_type": "stream",
     "text": [
      "GradientBoostingRegressor(max_depth=8, min_samples_split=4, n_estimators=500)\n"
     ]
    }
   ],
   "source": [
    "GBM = GradientBoostingRegressor(n_estimators=500,\n",
    "                                         max_depth=8,\n",
    "                                         min_samples_split= 4,\n",
    "                                         learning_rate=0.1,\n",
    "                                         loss='squared_error')\n",
    "print(GBM)"
   ]
  },
  {
   "cell_type": "markdown",
   "metadata": {},
   "source": []
  },
  {
   "cell_type": "markdown",
   "metadata": {},
   "source": [
    "Pour calculer l'erreur mse sur le test (aussi appelée deviance dans la doc) :"
   ]
  },
  {
   "cell_type": "code",
   "execution_count": 10,
   "metadata": {},
   "outputs": [
    {
     "name": "stdout",
     "output_type": "stream",
     "text": [
      "0.37198004380355426\n"
     ]
    }
   ],
   "source": [
    "GBM.fit(X_housing_train, y_housing_train)\n",
    "mse = mean_squared_error(y_housing_test,\n",
    "                         GBM.predict(X_housing_test))\n",
    "print(mse)"
   ]
  },
  {
   "cell_type": "markdown",
   "metadata": {},
   "source": [
    "Attention : le score renvoyé ci-dessous est un $R^2$ i.e. variance expliquée par le prédicteur / variance totale de $Y$, voir [ici](https://scikit-learn.org/stable/modules/model_evaluation.html#r2-score-the-coefficient-of-determination)."
   ]
  },
  {
   "cell_type": "code",
   "execution_count": 11,
   "metadata": {},
   "outputs": [
    {
     "name": "stdout",
     "output_type": "stream",
     "text": [
      "0.7024730681524294\n"
     ]
    }
   ],
   "source": [
    "print(GBM.score(X_housing_test, y_housing_test))"
   ]
  },
  {
   "cell_type": "markdown",
   "metadata": {},
   "source": [
    "Quelques principes à retenir:\n",
    "+ Plus on ajuste d'arbres, plus le cout computationnel est élevé.\n",
    "+ le nombre d'arbres correspond au nombre d'itérations.\n",
    "+ Un taux d'apprentissage petit nécessitera plus d'arbres.\n",
    "+ Un taux d'apprentissage trop élevé fera des sauts de gradients potentiellement trop grands, et au bout d'un certain nombre d'itérations il sera  difficile d'améliorer les scores.\n",
    "+ Une bonne pratique consiste à choisir d'abord un taux d'apprentissage pas trop faible (pour ne pas faire exploser le nombre d'arbres) et à le diminuer ensuite, une fois ajustés les autres paramètres (nb de noeuds, profondeur ...)."
   ]
  },
  {
   "cell_type": "markdown",
   "metadata": {},
   "source": [
    "#### Etude des erreurs le long des itérations -  learning rate"
   ]
  },
  {
   "cell_type": "markdown",
   "metadata": {},
   "source": [
    "Nous allons maintenant étudier l'évolution de la perte en fonction du nombre d'itérations.\n",
    "\n",
    "Noter que l'erreur d'apprentissage est accessible dans GBM:"
   ]
  },
  {
   "cell_type": "code",
   "execution_count": 12,
   "metadata": {},
   "outputs": [
    {
     "name": "stdout",
     "output_type": "stream",
     "text": [
      "[9.98800871e-01 8.32756257e-01 7.00678173e-01 5.89454554e-01\n",
      " 4.99655592e-01 4.25766607e-01 3.62402028e-01 3.07614551e-01\n",
      " 2.63302177e-01 2.27231584e-01 1.96063681e-01 1.68257415e-01\n",
      " 1.45203081e-01 1.27769578e-01 1.12403300e-01 9.88312420e-02\n",
      " 8.62434763e-02 7.47592245e-02 6.54587408e-02 5.81893319e-02\n",
      " 5.19681092e-02 4.61716953e-02 4.19948002e-02 3.83354419e-02\n",
      " 3.40448349e-02 3.10765735e-02 2.81771390e-02 2.61294458e-02\n",
      " 2.43986724e-02 2.25434594e-02 2.08336507e-02 1.89734146e-02\n",
      " 1.75007502e-02 1.60095252e-02 1.51535354e-02 1.40729983e-02\n",
      " 1.29745174e-02 1.20123662e-02 1.10218114e-02 1.00308149e-02\n",
      " 9.33141931e-03 8.65698817e-03 8.14626321e-03 7.71237489e-03\n",
      " 7.20306393e-03 6.67077020e-03 6.41963025e-03 6.09436729e-03\n",
      " 5.75220700e-03 5.46722884e-03 5.09115929e-03 4.78581734e-03\n",
      " 4.47837076e-03 4.28110797e-03 4.06073185e-03 3.83139798e-03\n",
      " 3.54546484e-03 3.41889902e-03 3.21130183e-03 3.03306823e-03\n",
      " 2.88601681e-03 2.83037869e-03 2.67286302e-03 2.54633529e-03\n",
      " 2.48247250e-03 2.38547478e-03 2.28234357e-03 2.13466770e-03\n",
      " 2.04014288e-03 2.00249472e-03 1.95825939e-03 1.84502984e-03\n",
      " 1.77852782e-03 1.71943973e-03 1.61445752e-03 1.59129179e-03\n",
      " 1.58042125e-03 1.49360743e-03 1.43839104e-03 1.41545759e-03\n",
      " 1.35878219e-03 1.31148717e-03 1.25440576e-03 1.20909530e-03\n",
      " 1.17941307e-03 1.11581034e-03 1.08612606e-03 1.04033291e-03\n",
      " 1.02779024e-03 9.83719599e-04 9.63248043e-04 9.13778252e-04\n",
      " 8.48658603e-04 8.12219801e-04 7.84274978e-04 7.34001728e-04\n",
      " 7.07847402e-04 6.90595076e-04 6.85287959e-04 6.47188956e-04\n",
      " 6.13106715e-04 5.97678990e-04 5.77432634e-04 5.50241329e-04\n",
      " 5.23074900e-04 5.00303348e-04 4.77019092e-04 4.54434040e-04\n",
      " 4.34032290e-04 4.12556356e-04 3.94632668e-04 3.92429227e-04\n",
      " 3.84505192e-04 3.75530818e-04 3.66839660e-04 3.56015537e-04\n",
      " 3.52663105e-04 3.50717541e-04 3.46290472e-04 3.38703066e-04\n",
      " 3.29597872e-04 3.13196272e-04 3.06460798e-04 2.87633825e-04\n",
      " 2.74531557e-04 2.69199262e-04 2.58586418e-04 2.57216786e-04\n",
      " 2.54743877e-04 2.52362716e-04 2.47383829e-04 2.29751043e-04\n",
      " 2.22705384e-04 2.15413346e-04 2.11483567e-04 2.05768320e-04\n",
      " 1.97754556e-04 1.92336274e-04 1.87092244e-04 1.84480567e-04\n",
      " 1.83772127e-04 1.82544693e-04 1.81714895e-04 1.79992264e-04\n",
      " 1.76228095e-04 1.69611745e-04 1.65649033e-04 1.60023993e-04\n",
      " 1.57602151e-04 1.47890539e-04 1.44569810e-04 1.42942588e-04\n",
      " 1.39029923e-04 1.32615227e-04 1.24060681e-04 1.18248049e-04\n",
      " 1.12588599e-04 1.07499629e-04 9.98368639e-05 9.39494214e-05\n",
      " 9.30618665e-05 8.85533907e-05 8.40901880e-05 8.17471300e-05\n",
      " 7.75752296e-05 7.53872300e-05 7.38413561e-05 7.25811440e-05\n",
      " 7.17489561e-05 7.12910192e-05 7.02240121e-05 6.81289890e-05\n",
      " 6.61863027e-05 6.34601487e-05 6.00789234e-05 5.74265159e-05\n",
      " 5.62526945e-05 5.57260212e-05 5.33311512e-05 5.12623312e-05\n",
      " 4.99912652e-05 4.95898552e-05 4.80528452e-05 4.59558852e-05\n",
      " 4.51443685e-05 4.44094288e-05 4.35452309e-05 4.27946518e-05\n",
      " 4.10394460e-05 3.89250993e-05 3.80299904e-05 3.64220837e-05\n",
      " 3.57544755e-05 3.48952159e-05 3.30835615e-05 3.19252247e-05\n",
      " 2.99376012e-05 2.97192103e-05 2.86666795e-05 2.75653426e-05\n",
      " 2.73871439e-05 2.56844068e-05 2.48556495e-05 2.44276740e-05\n",
      " 2.38465952e-05 2.36419387e-05 2.28620042e-05 2.25736081e-05\n",
      " 2.23014958e-05 2.18393483e-05 2.14335480e-05 2.05119094e-05\n",
      " 2.03008803e-05 1.93260108e-05 1.90402803e-05 1.89207184e-05\n",
      " 1.83105752e-05 1.80628374e-05 1.73869266e-05 1.65947105e-05\n",
      " 1.64153132e-05 1.62449636e-05 1.60374969e-05 1.55322297e-05\n",
      " 1.51500503e-05 1.42061421e-05 1.40213014e-05 1.35746710e-05\n",
      " 1.31732015e-05 1.25916602e-05 1.22036020e-05 1.19196956e-05\n",
      " 1.13522284e-05 1.06554311e-05 1.04018537e-05 1.02661985e-05\n",
      " 9.74170103e-06 9.60788304e-06 9.22682431e-06 8.87690361e-06\n",
      " 8.77216869e-06 8.64651992e-06 8.18285738e-06 7.95346904e-06\n",
      " 7.78600645e-06 7.66218759e-06 7.57259636e-06 7.18888641e-06\n",
      " 6.92980229e-06 6.82339581e-06 6.50697154e-06 6.31931716e-06\n",
      " 6.26666685e-06 6.15151082e-06 5.99874171e-06 5.87296445e-06\n",
      " 5.82459204e-06 5.57749919e-06 5.39202417e-06 5.13768081e-06\n",
      " 5.03120070e-06 4.86952163e-06 4.80326954e-06 4.58395462e-06\n",
      " 4.48347285e-06 4.41927259e-06 4.38338621e-06 4.27883602e-06\n",
      " 4.19603251e-06 3.94962759e-06 3.85629352e-06 3.70968049e-06\n",
      " 3.66654174e-06 3.58006541e-06 3.54952180e-06 3.38857075e-06\n",
      " 3.32179390e-06 3.18385110e-06 3.11667450e-06 3.05417560e-06\n",
      " 3.01594726e-06 2.92656645e-06 2.89521445e-06 2.85884253e-06\n",
      " 2.71691816e-06 2.63310206e-06 2.56768217e-06 2.54186911e-06\n",
      " 2.46482696e-06 2.37967337e-06 2.32274549e-06 2.21164583e-06\n",
      " 2.19080423e-06 2.02455020e-06 1.94562387e-06 1.84736481e-06\n",
      " 1.75650631e-06 1.72945584e-06 1.71668540e-06 1.65996640e-06\n",
      " 1.62632815e-06 1.55862357e-06 1.54259803e-06 1.49126601e-06\n",
      " 1.41606374e-06 1.40509060e-06 1.38621514e-06 1.34013280e-06\n",
      " 1.28053911e-06 1.27308590e-06 1.21356627e-06 1.18172757e-06\n",
      " 1.12721389e-06 1.07754580e-06 1.06678280e-06 1.06047961e-06\n",
      " 9.92036948e-07 9.63676915e-07 9.30936812e-07 8.91120238e-07\n",
      " 8.65430202e-07 8.37341093e-07 7.96490993e-07 7.75026205e-07\n",
      " 7.70606238e-07 7.54007983e-07 7.21833080e-07 7.02387424e-07\n",
      " 6.72837530e-07 6.36009989e-07 6.21644789e-07 5.91533360e-07\n",
      " 5.68766348e-07 5.51227430e-07 5.43242678e-07 5.36977160e-07\n",
      " 5.30938420e-07 5.21929743e-07 5.09592236e-07 4.89802976e-07\n",
      " 4.82335481e-07 4.48980388e-07 4.28013555e-07 4.11145737e-07\n",
      " 4.04825019e-07 3.93900691e-07 3.83336605e-07 3.78327080e-07\n",
      " 3.69543125e-07 3.56476131e-07 3.44459553e-07 3.28985112e-07\n",
      " 3.23854915e-07 3.20966501e-07 3.16321531e-07 3.09190929e-07\n",
      " 3.00171701e-07 2.94127014e-07 2.90041040e-07 2.86009444e-07\n",
      " 2.76167955e-07 2.68911445e-07 2.65388047e-07 2.53848281e-07\n",
      " 2.47186690e-07 2.39060721e-07 2.29403355e-07 2.24984792e-07\n",
      " 2.12517409e-07 2.07124688e-07 2.04954435e-07 2.00197054e-07\n",
      " 1.95420866e-07 1.89426457e-07 1.87137257e-07 1.75549128e-07\n",
      " 1.71468679e-07 1.65614688e-07 1.63430708e-07 1.56483896e-07\n",
      " 1.51529519e-07 1.45404580e-07 1.40471832e-07 1.33265240e-07\n",
      " 1.32076271e-07 1.25482104e-07 1.23625512e-07 1.18711849e-07\n",
      " 1.16802728e-07 1.12692987e-07 1.09014320e-07 1.07463456e-07\n",
      " 1.04992968e-07 1.02873910e-07 9.88529673e-08 9.61255234e-08\n",
      " 9.37961367e-08 9.27615711e-08 8.98441208e-08 8.59610157e-08\n",
      " 8.18876430e-08 7.96412085e-08 7.84944217e-08 7.71315039e-08\n",
      " 7.44611302e-08 7.28721298e-08 7.19884325e-08 7.08684695e-08\n",
      " 6.72382984e-08 6.52547796e-08 6.38724387e-08 6.00341658e-08\n",
      " 5.61782621e-08 5.39656088e-08 5.22554803e-08 5.02515378e-08\n",
      " 4.96419121e-08 4.92067926e-08 4.90239632e-08 4.74877724e-08\n",
      " 4.65953086e-08 4.49605198e-08 4.37719626e-08 4.15502844e-08\n",
      " 4.06425205e-08 3.84204176e-08 3.75462033e-08 3.66587021e-08\n",
      " 3.60014794e-08 3.54060634e-08 3.51633371e-08 3.44692247e-08\n",
      " 3.43725758e-08 3.38256723e-08 3.26459154e-08 3.16569498e-08\n",
      " 3.03439469e-08 2.93519874e-08 2.88714001e-08 2.82791251e-08\n",
      " 2.72318425e-08 2.70981466e-08 2.59598225e-08 2.55234293e-08\n",
      " 2.50057137e-08 2.48209024e-08 2.35988521e-08 2.27526708e-08\n",
      " 2.19578742e-08 2.12024205e-08 2.08593738e-08 2.06485803e-08\n",
      " 2.03003437e-08 1.95318620e-08 1.92176647e-08 1.90439471e-08\n",
      " 1.83849723e-08 1.81754346e-08 1.73311031e-08 1.70948625e-08\n",
      " 1.61637067e-08 1.58858086e-08 1.56036234e-08 1.50857444e-08\n",
      " 1.45495591e-08 1.39572741e-08 1.35476723e-08 1.33436331e-08\n",
      " 1.30396803e-08 1.23515660e-08 1.18629590e-08 1.13512819e-08\n",
      " 1.10977042e-08 1.06906614e-08 1.03205599e-08 1.00210952e-08\n",
      " 9.77183533e-09 9.47199109e-09 9.11269924e-09 8.69205888e-09\n",
      " 8.45978157e-09 8.21031388e-09 8.04024022e-09 7.86964342e-09\n",
      " 7.51592326e-09 7.05480371e-09 6.95652803e-09 6.86688855e-09\n",
      " 6.70142910e-09 6.47608347e-09 6.09926827e-09 5.89060888e-09\n",
      " 5.67194185e-09 5.56262786e-09 5.42192485e-09 5.29847195e-09\n",
      " 5.06833568e-09 4.91691853e-09 4.84595184e-09 4.72377018e-09]\n"
     ]
    }
   ],
   "source": [
    "print(GBM.train_score_)"
   ]
  },
  {
   "cell_type": "markdown",
   "metadata": {},
   "source": [
    "Nous pouvons aussi tracer l'évolution de l'erreur de test mse (ou bien le score $R^2$) le long des itérations. En effet, pour retrouver tous les estimateurs temporaires à chaque de l'étape de l'algo, il suffit de considérer la somme tronquée du prédicteur boosting final. \n",
    "> Utiliser les méthodes `staged_predict()` et `loss_()` de la classe `GradientBoostingRegressor` pour afficher l'erreur de test en fonction du nombre d'itérations. Comparer avec l'erreur sur le train. \n"
   ]
  },
  {
   "cell_type": "code",
   "execution_count": 26,
   "metadata": {},
   "outputs": [
    {
     "data": {
      "text/plain": [
       "500"
      ]
     },
     "execution_count": 26,
     "metadata": {},
     "output_type": "execute_result"
    }
   ],
   "source": []
  },
  {
   "cell_type": "code",
   "execution_count": null,
   "metadata": {},
   "outputs": [],
   "source": [
    "target_pred = GBM.staged_predict(X = X_housing_test)\n",
    "loss = []\n",
    "# for i in target_pred:\n",
    "#     loss.append(GBM.loss_(y = y_housing_test, raw_predictions = target_pred))\n",
    "\n",
    "plt.figure(figsize=(4,4))\n",
    "plt.plot(range(GBM.n_estimators_), GBM.train_score_, 'b-', label = 'Training score')\n",
    "plt.plot(range(GBM.n_estimators_), loss, 'r-', label = 'Test MSE')\n",
    "plt.legend()\n",
    "plt.show()"
   ]
  },
  {
   "cell_type": "markdown",
   "metadata": {},
   "source": [
    "> Est il nécessaire ici de faire du \"early stopping\" i.e. considérer une somme tronquée du prédicteur boosting pour contrôler le sur-apprentissage ?"
   ]
  },
  {
   "cell_type": "code",
   "execution_count": null,
   "metadata": {},
   "outputs": [],
   "source": [
    "# Early stopping support in Gradient Boosting enables us to find the least number of iterations\n",
    "# which is sufficient to build a model that generalizes well to unseen data.\n",
    "\n",
    "# The concept of early stopping is simple. \n",
    "# We specify a validation_fraction which denotes the fraction of the whole dataset \n",
    "# that will be kept aside from training to assess the validation loss of the model. \n",
    "# The gradient boosting model is trained using the training set and evaluated using the validation set. \n",
    "# When each additional stage of regression tree is added, the validation set is used to score the model. \n",
    "# This is continued until the scores of the model in the last n_iter_no_change stages \n",
    "# do not improve by at least tol. After that the model is considered to have converged \n",
    "# and further addition of stages is “stopped early”."
   ]
  },
  {
   "cell_type": "markdown",
   "metadata": {},
   "source": [
    "> Superposer quelques trajectoires pour plusieurs valeurs du learning rate."
   ]
  },
  {
   "cell_type": "code",
   "execution_count": 33,
   "metadata": {},
   "outputs": [
    {
     "data": {
      "image/png": "[encoded data removed]",
      "text/plain": [
       "<Figure size 640x480 with 1 Axes>"
      ]
     },
     "metadata": {},
     "output_type": "display_data"
    }
   ],
   "source": [
    "learning_rate = [0.005, 0.01, 0.1, 0.7]\n",
    "mse_i = []\n",
    "for i in learning_rate:\n",
    "    GBM_i = GradientBoostingRegressor(n_estimators=500,\n",
    "                                      learning_rate=i,\n",
    "                                      max_depth=8,\n",
    "                                      min_samples_split=4,\n",
    "                                      loss='squared_error')\n",
    "    GBM_i.fit(X_housing_train, y_housing_train)\n",
    "    plt.plot(range(GBM_i.n_estimators_), GBM_i.train_score_, label = i)\n",
    "    # plt.plot(range(GBM_i.n_estimators_), GBM_i.staged_predict)\n",
    "plt.xlabel(\"Number of iterations\")\n",
    "plt.ylabel(\"errors\")\n",
    "plt.legend(learning_rate)\n",
    "plt.show()"
   ]
  },
  {
   "cell_type": "markdown",
   "metadata": {},
   "source": [
    "#### Choix des paramètres du GBM"
   ]
  },
  {
   "cell_type": "markdown",
   "metadata": {},
   "source": [
    "> Pour `n_estimators=300` et `learning_rate=0.1`, effectuer une recherche avec par `GridSearch()` pour choisir `max_depth` et  `min_samples_split`. Faire cette recherche en \"cross validant\" uniquement l'échantillon d'apprentissage de façon à garder des données pour évaluer les performances du modèle finalement sélectionné."
   ]
  },
  {
   "cell_type": "code",
   "execution_count": 40,
   "metadata": {},
   "outputs": [],
   "source": [
    "from sklearn.model_selection import GridSearchCV\n",
    "GBM_300 = GradientBoostingRegressor(n_estimators=300,\n",
    "                                    learning_rate=0.1,\n",
    "                                    loss = 'squared_error')\n",
    "param = {'max_depth': [2, 4, 6, 8], 'min_samples_split': [2, 3, 4]}\n",
    "gridcv = GridSearchCV(estimator=GBM_300,\n",
    "                  param_grid=param,\n",
    "                  cv = 5)\n",
    "gridcv.fit(X_housing_train, y_housing_train)\n",
    "\n",
    "max_depth = gridcv.best_params_['max_depth']\n",
    "min_samples_split = gridcv.best_params_['min_samples_split']"
   ]
  },
  {
   "cell_type": "markdown",
   "metadata": {},
   "source": [
    "> Une fois ces valeurs choisies, diminuer le learning rate et augmenter le nombre d'itérations pour essayer d'améliorer encore les performances."
   ]
  },
  {
   "cell_type": "code",
   "execution_count": 41,
   "metadata": {},
   "outputs": [
    {
     "name": "stdout",
     "output_type": "stream",
     "text": [
      "4\n",
      "3\n"
     ]
    }
   ],
   "source": [
    "print(max_depth)\n",
    "\n",
    "print(min_samples_split)\n"
   ]
  },
  {
   "cell_type": "markdown",
   "metadata": {},
   "source": [
    "> Calculer le $R^2$ et l'erreur de test pour le modèle final"
   ]
  },
  {
   "cell_type": "code",
   "execution_count": 42,
   "metadata": {},
   "outputs": [],
   "source": [
    "from sklearn.metrics import r2_score\n",
    "GBM_new = GradientBoostingRegressor(n_estimators=500,\n",
    "                                    max_depth=max_depth,\n",
    "                                    min_samples_split=min_samples_split,\n",
    "                                    learning_rate=0.05,\n",
    "                                    loss = 'squared_error')\n",
    "\n",
    "GBM_new.fit(X_housing_train, y_housing_train)\n",
    "mse = mean_squared_error(y_housing_test, GBM_new.predict(X_housing_test))\n",
    "r2 = 1 - mse /np.var(y_housing_test)\n",
    "r2_ = r2_score(y_housing_test, GBM_new.predict(X_housing_test))\n"
   ]
  },
  {
   "cell_type": "markdown",
   "metadata": {},
   "source": [
    "#### Indices d'importance"
   ]
  },
  {
   "cell_type": "markdown",
   "metadata": {},
   "source": [
    "> Il est aussi possible de calculer des indices d'importances pour les GMB avec la méthode `feature_importances_`.  "
   ]
  },
  {
   "cell_type": "code",
   "execution_count": 44,
   "metadata": {},
   "outputs": [
    {
     "data": {
      "text/plain": [
       "array([0.53447541, 0.0558966 , 0.0629135 , 0.02169894, 0.0343678 ,\n",
       "       0.14137264, 0.07291823, 0.07635688])"
      ]
     },
     "execution_count": 44,
     "metadata": {},
     "output_type": "execute_result"
    }
   ],
   "source": [
    "GBM_new.feature_importances_"
   ]
  },
  {
   "cell_type": "markdown",
   "metadata": {},
   "source": [
    "##  XGboost"
   ]
  },
  {
   "cell_type": "markdown",
   "metadata": {},
   "source": [
    "Si nécessaire, installer la librairie `xgboost`. Importer cette librairie."
   ]
  },
  {
   "cell_type": "code",
   "execution_count": 45,
   "metadata": {},
   "outputs": [],
   "source": [
    "from xgboost import XGBRegressor"
   ]
  },
  {
   "cell_type": "markdown",
   "metadata": {},
   "source": [
    "Nous allons utilser Xgboost avec pour classifieurs faibles des arbres (on pourait aussi utiliser aussi des modèles linéaires basés sur peu de variabes)."
   ]
  },
  {
   "cell_type": "markdown",
   "metadata": {},
   "source": [
    "Les paramètres de Xgboost, notamment pour les fonctions `XGBRegressor()` et `XGBClassifier()`, sont décrits dans [cette page](http://xgboost.readthedocs.io/en/latest/python/python_api.html#module-xgboost.sklearn). Elles sont similaires aux commdandes des fonctions de sckit-learn."
   ]
  },
  {
   "cell_type": "code",
   "execution_count": 46,
   "metadata": {},
   "outputs": [
    {
     "data": {
      "text/html": [
       "<style>#sk-container-id-1 {color: black;}#sk-container-id-1 pre{padding: 0;}#sk-container-id-1 div.sk-toggleable {background-color: white;}#sk-container-id-1 label.sk-toggleable__label {cursor: pointer;display: block;width: 100%;margin-bottom: 0;padding: 0.3em;box-sizing: border-box;text-align: center;}#sk-container-id-1 label.sk-toggleable__label-arrow:before {content: \"▸\";float: left;margin-right: 0.25em;color: #696969;}#sk-container-id-1 label.sk-toggleable__label-arrow:hover:before {color: black;}#sk-container-id-1 div.sk-estimator:hover label.sk-toggleable__label-arrow:before {color: black;}#sk-container-id-1 div.sk-toggleable__content {max-height: 0;max-width: 0;overflow: hidden;text-align: left;background-color: #f0f8ff;}#sk-container-id-1 div.sk-toggleable__content pre {margin: 0.2em;color: black;border-radius: 0.25em;background-color: #f0f8ff;}#sk-container-id-1 input.sk-toggleable__control:checked~div.sk-toggleable__content {max-height: 200px;max-width: 100%;overflow: auto;}#sk-container-id-1 input.sk-toggleable__control:checked~label.sk-toggleable__label-arrow:before {content: \"▾\";}#sk-container-id-1 div.sk-estimator input.sk-toggleable__control:checked~label.sk-toggleable__label {background-color: #d4ebff;}#sk-container-id-1 div.sk-label input.sk-toggleable__control:checked~label.sk-toggleable__label {background-color: #d4ebff;}#sk-container-id-1 input.sk-hidden--visually {border: 0;clip: rect(1px 1px 1px 1px);clip: rect(1px, 1px, 1px, 1px);height: 1px;margin: -1px;overflow: hidden;padding: 0;position: absolute;width: 1px;}#sk-container-id-1 div.sk-estimator {font-family: monospace;background-color: #f0f8ff;border: 1px dotted black;border-radius: 0.25em;box-sizing: border-box;margin-bottom: 0.5em;}#sk-container-id-1 div.sk-estimator:hover {background-color: #d4ebff;}#sk-container-id-1 div.sk-parallel-item::after {content: \"\";width: 100%;border-bottom: 1px solid gray;flex-grow: 1;}#sk-container-id-1 div.sk-label:hover label.sk-toggleable__label {background-color: #d4ebff;}#sk-container-id-1 div.sk-serial::before {content: \"\";position: absolute;border-left: 1px solid gray;box-sizing: border-box;top: 0;bottom: 0;left: 50%;z-index: 0;}#sk-container-id-1 div.sk-serial {display: flex;flex-direction: column;align-items: center;background-color: white;padding-right: 0.2em;padding-left: 0.2em;position: relative;}#sk-container-id-1 div.sk-item {position: relative;z-index: 1;}#sk-container-id-1 div.sk-parallel {display: flex;align-items: stretch;justify-content: center;background-color: white;position: relative;}#sk-container-id-1 div.sk-item::before, #sk-container-id-1 div.sk-parallel-item::before {content: \"\";position: absolute;border-left: 1px solid gray;box-sizing: border-box;top: 0;bottom: 0;left: 50%;z-index: -1;}#sk-container-id-1 div.sk-parallel-item {display: flex;flex-direction: column;z-index: 1;position: relative;background-color: white;}#sk-container-id-1 div.sk-parallel-item:first-child::after {align-self: flex-end;width: 50%;}#sk-container-id-1 div.sk-parallel-item:last-child::after {align-self: flex-start;width: 50%;}#sk-container-id-1 div.sk-parallel-item:only-child::after {width: 0;}#sk-container-id-1 div.sk-dashed-wrapped {border: 1px dashed gray;margin: 0 0.4em 0.5em 0.4em;box-sizing: border-box;padding-bottom: 0.4em;background-color: white;}#sk-container-id-1 div.sk-label label {font-family: monospace;font-weight: bold;display: inline-block;line-height: 1.2em;}#sk-container-id-1 div.sk-label-container {text-align: center;}#sk-container-id-1 div.sk-container {/* jupyter's `normalize.less` sets `[hidden] { display: none; }` but bootstrap.min.css set `[hidden] { display: none !important; }` so we also need the `!important` here to be able to override the default hidden behavior on the sphinx rendered scikit-learn.org. See: https://github.com/scikit-learn/scikit-learn/issues/21755 */display: inline-block !important;position: relative;}#sk-container-id-1 div.sk-text-repr-fallback {display: none;}</style><div id=\"sk-container-id-1\" class=\"sk-top-container\"><div class=\"sk-text-repr-fallback\"><pre>XGBRegressor(base_score=None, booster=None, callbacks=None,\n",
       "             colsample_bylevel=None, colsample_bynode=None,\n",
       "             colsample_bytree=None, device=None, early_stopping_rounds=None,\n",
       "             enable_categorical=False, eval_metric=None, feature_types=None,\n",
       "             gamma=None, grow_policy=None, importance_type=None,\n",
       "             interaction_constraints=None, learning_rate=None, max_bin=None,\n",
       "             max_cat_threshold=None, max_cat_to_onehot=None,\n",
       "             max_delta_step=None, max_depth=None, max_leaves=None,\n",
       "             min_child_weight=None, missing=nan, monotone_constraints=None,\n",
       "             multi_strategy=None, n_estimators=None, n_jobs=None,\n",
       "             num_parallel_tree=None, random_state=None, ...)</pre><b>In a Jupyter environment, please rerun this cell to show the HTML representation or trust the notebook. <br />On GitHub, the HTML representation is unable to render, please try loading this page with nbviewer.org.</b></div><div class=\"sk-container\" hidden><div class=\"sk-item\"><div class=\"sk-estimator sk-toggleable\"><input class=\"sk-toggleable__control sk-hidden--visually\" id=\"sk-estimator-id-1\" type=\"checkbox\" checked><label for=\"sk-estimator-id-1\" class=\"sk-toggleable__label sk-toggleable__label-arrow\">XGBRegressor</label><div class=\"sk-toggleable__content\"><pre>XGBRegressor(base_score=None, booster=None, callbacks=None,\n",
       "             colsample_bylevel=None, colsample_bynode=None,\n",
       "             colsample_bytree=None, device=None, early_stopping_rounds=None,\n",
       "             enable_categorical=False, eval_metric=None, feature_types=None,\n",
       "             gamma=None, grow_policy=None, importance_type=None,\n",
       "             interaction_constraints=None, learning_rate=None, max_bin=None,\n",
       "             max_cat_threshold=None, max_cat_to_onehot=None,\n",
       "             max_delta_step=None, max_depth=None, max_leaves=None,\n",
       "             min_child_weight=None, missing=nan, monotone_constraints=None,\n",
       "             multi_strategy=None, n_estimators=None, n_jobs=None,\n",
       "             num_parallel_tree=None, random_state=None, ...)</pre></div></div></div></div></div>"
      ],
      "text/plain": [
       "XGBRegressor(base_score=None, booster=None, callbacks=None,\n",
       "             colsample_bylevel=None, colsample_bynode=None,\n",
       "             colsample_bytree=None, device=None, early_stopping_rounds=None,\n",
       "             enable_categorical=False, eval_metric=None, feature_types=None,\n",
       "             gamma=None, grow_policy=None, importance_type=None,\n",
       "             interaction_constraints=None, learning_rate=None, max_bin=None,\n",
       "             max_cat_threshold=None, max_cat_to_onehot=None,\n",
       "             max_delta_step=None, max_depth=None, max_leaves=None,\n",
       "             min_child_weight=None, missing=nan, monotone_constraints=None,\n",
       "             multi_strategy=None, n_estimators=None, n_jobs=None,\n",
       "             num_parallel_tree=None, random_state=None, ...)"
      ]
     },
     "execution_count": 46,
     "metadata": {},
     "output_type": "execute_result"
    }
   ],
   "source": [
    "XGBR = XGBRegressor()\n",
    "XGBR.fit(X_housing_train, y_housing_train)\n",
    "y_pred = XGBR.predict(X_housing_test)\n",
    "XGBR"
   ]
  },
  {
   "cell_type": "markdown",
   "metadata": {},
   "source": [
    "> Donner le score $R^2$ et l'erreur mse. Comparer avec GBM."
   ]
  },
  {
   "cell_type": "code",
   "execution_count": 56,
   "metadata": {},
   "outputs": [],
   "source": [
    "r2_xgb = r2_score(y_housing_test, y_pred)\n",
    "mse = mean_squared_error(y_housing_test, y_pred)\n"
   ]
  },
  {
   "cell_type": "markdown",
   "metadata": {},
   "source": [
    "Les remarques précedentes sur les reglages des paramètres de GBM sont encore vraies pour Xgboost. Il faut en plus ajuster les paramètres `alpha`  et `lambda` des termes de régularisation."
   ]
  },
  {
   "cell_type": "markdown",
   "metadata": {},
   "source": [
    "> Choisir les paramètres de Xgboost."
   ]
  },
  {
   "cell_type": "code",
   "execution_count": 58,
   "metadata": {},
   "outputs": [
    {
     "name": "stdout",
     "output_type": "stream",
     "text": [
      "reg_alpha_best = 1\n",
      "reg_lambda_best = 1\n",
      "max_depth_best = 4\n",
      "\n"
     ]
    }
   ],
   "source": [
    "params = {'reg_alpha': [0, 0.01, 0.1, 1],\n",
    "          'reg_lambda': [0, 0.01, 0.1, 1],\n",
    "          'max_depth': [2, 4, 6, 8]}\n",
    "\n",
    "gridcv_XGB = GridSearchCV(estimator=XGBR,\n",
    "                          param_grid=params,\n",
    "                          cv = 5)\n",
    "gridcv_XGB.fit(X_housing_train, y_housing_train)\n",
    "\n",
    "reg_alpha_best = gridcv_XGB.best_params_['reg_alpha']\n",
    "reg_lambda_best = gridcv_XGB.best_params_['reg_lambda']\n",
    "max_depth_best = gridcv_XGB.best_params_['max_depth']\n",
    "\n",
    "print(f\"reg_alpha_best = {reg_alpha_best}\\n\"\n",
    "      f\"reg_lambda_best = {reg_lambda_best}\\n\"\n",
    "      f\"max_depth_best = {max_depth_best}\\n\")"
   ]
  },
  {
   "cell_type": "markdown",
   "metadata": {},
   "source": [
    "## Comparaison des algorithmes (Bonus)"
   ]
  },
  {
   "cell_type": "markdown",
   "metadata": {},
   "source": [
    "Adaboost est implémenté en sklearn par la fonction [`AdaBoostClassifier()`](http://scikit-learn.org/stable/modules/generated/sklearn.ensemble.AdaBoostClassifier.html).\n",
    "\n",
    "> Comparer les performances des algos AdaBoost, GBM et XGBoost sur les données Spam pour un nombre d'arbres variant entre 10 et 1000 (ne pas considérer tous les entiers). Vous pourrez notamment comparer vos résultats avec les résultats anoncées dans [EOSL p.589]"
   ]
  },
  {
   "cell_type": "code",
   "execution_count": null,
   "metadata": {},
   "outputs": [],
   "source": []
  },
  {
   "cell_type": "markdown",
   "metadata": {},
   "source": [
    "## Implémentation du Boosting Regressor  (Bonus) \n",
    "\n",
    "> Implémenter votre propore fonction Tree Boosting Regressor, on considérant la perte $\\ell_2$. On pourra pour cela, à chaque itération, \n",
    "ajuster un arbre de régression (de faible prodondeur) sur les résidus courants, à l'aide de la fonction `tree.DecisionTreeRegressor()` . L'étape 5 de l'Algorithme 6 \"Gradient Tree Boosting Regressor Algorithm\" donné en cours est-elle nécessaire dans ce contexte ? \n"
   ]
  },
  {
   "cell_type": "code",
   "execution_count": null,
   "metadata": {},
   "outputs": [],
   "source": [
    "### TO DO ###"
   ]
  }
 ],
 "metadata": {
  "kernelspec": {
   "display_name": "Python 3 (ipykernel)",
   "language": "python",
   "name": "python3"
  },
  "language_info": {
   "codemirror_mode": {
    "name": "ipython",
    "version": 3
   },
   "file_extension": ".py",
   "mimetype": "text/x-python",
   "name": "python",
   "nbconvert_exporter": "python",
   "pygments_lexer": "ipython3",
   "version": "3.8.13"
  }
 },
 "nbformat": 4,
 "nbformat_minor": 4
}
